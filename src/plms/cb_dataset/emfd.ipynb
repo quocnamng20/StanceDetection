{
 "cells": [
  {
   "cell_type": "code",
   "execution_count": 103,
   "id": "4fb9676b-8f77-4b72-bd1a-78bc62acb897",
   "metadata": {},
   "outputs": [
    {
     "name": "stdout",
     "output_type": "stream",
     "text": [
      "Requirement already satisfied: pandas in /opt/conda/lib/python3.10/site-packages (2.2.0)\n",
      "Requirement already satisfied: numpy<2,>=1.22.4 in /opt/conda/lib/python3.10/site-packages (from pandas) (1.26.3)\n",
      "Requirement already satisfied: python-dateutil>=2.8.2 in /opt/conda/lib/python3.10/site-packages (from pandas) (2.8.2)\n",
      "Requirement already satisfied: pytz>=2020.1 in /opt/conda/lib/python3.10/site-packages (from pandas) (2023.3.post1)\n",
      "Requirement already satisfied: tzdata>=2022.7 in /opt/conda/lib/python3.10/site-packages (from pandas) (2024.1)\n",
      "Requirement already satisfied: six>=1.5 in /opt/conda/lib/python3.10/site-packages (from python-dateutil>=2.8.2->pandas) (1.16.0)\n",
      "Requirement already satisfied: transformers in /opt/conda/lib/python3.10/site-packages (4.37.2)\n",
      "Requirement already satisfied: filelock in /opt/conda/lib/python3.10/site-packages (from transformers) (3.13.1)\n",
      "Requirement already satisfied: huggingface-hub<1.0,>=0.19.3 in /opt/conda/lib/python3.10/site-packages (from transformers) (0.20.3)\n",
      "Requirement already satisfied: numpy>=1.17 in /opt/conda/lib/python3.10/site-packages (from transformers) (1.26.3)\n",
      "Requirement already satisfied: packaging>=20.0 in /opt/conda/lib/python3.10/site-packages (from transformers) (23.1)\n",
      "Requirement already satisfied: pyyaml>=5.1 in /opt/conda/lib/python3.10/site-packages (from transformers) (6.0.1)\n",
      "Requirement already satisfied: regex!=2019.12.17 in /opt/conda/lib/python3.10/site-packages (from transformers) (2023.12.25)\n",
      "Requirement already satisfied: requests in /opt/conda/lib/python3.10/site-packages (from transformers) (2.31.0)\n",
      "Requirement already satisfied: tokenizers<0.19,>=0.14 in /opt/conda/lib/python3.10/site-packages (from transformers) (0.15.2)\n",
      "Requirement already satisfied: safetensors>=0.4.1 in /opt/conda/lib/python3.10/site-packages (from transformers) (0.4.2)\n",
      "Requirement already satisfied: tqdm>=4.27 in /opt/conda/lib/python3.10/site-packages (from transformers) (4.65.0)\n",
      "Requirement already satisfied: fsspec>=2023.5.0 in /opt/conda/lib/python3.10/site-packages (from huggingface-hub<1.0,>=0.19.3->transformers) (2023.10.0)\n",
      "Requirement already satisfied: typing-extensions>=3.7.4.3 in /opt/conda/lib/python3.10/site-packages (from huggingface-hub<1.0,>=0.19.3->transformers) (4.9.0)\n",
      "Requirement already satisfied: charset-normalizer<4,>=2 in /opt/conda/lib/python3.10/site-packages (from requests->transformers) (2.0.4)\n",
      "Requirement already satisfied: idna<4,>=2.5 in /opt/conda/lib/python3.10/site-packages (from requests->transformers) (3.4)\n",
      "Requirement already satisfied: urllib3<3,>=1.21.1 in /opt/conda/lib/python3.10/site-packages (from requests->transformers) (1.26.18)\n",
      "Requirement already satisfied: certifi>=2017.4.17 in /opt/conda/lib/python3.10/site-packages (from requests->transformers) (2023.11.17)\n",
      "Requirement already satisfied: numpy in /opt/conda/lib/python3.10/site-packages (1.26.3)\n",
      "Requirement already satisfied: torch in /opt/conda/lib/python3.10/site-packages (2.2.0)\n",
      "Requirement already satisfied: filelock in /opt/conda/lib/python3.10/site-packages (from torch) (3.13.1)\n",
      "Requirement already satisfied: typing-extensions>=4.8.0 in /opt/conda/lib/python3.10/site-packages (from torch) (4.9.0)\n",
      "Requirement already satisfied: sympy in /opt/conda/lib/python3.10/site-packages (from torch) (1.12)\n",
      "Requirement already satisfied: networkx in /opt/conda/lib/python3.10/site-packages (from torch) (3.1)\n",
      "Requirement already satisfied: jinja2 in /opt/conda/lib/python3.10/site-packages (from torch) (3.1.2)\n",
      "Requirement already satisfied: fsspec in /opt/conda/lib/python3.10/site-packages (from torch) (2023.10.0)\n",
      "Requirement already satisfied: MarkupSafe>=2.0 in /opt/conda/lib/python3.10/site-packages (from jinja2->torch) (2.1.3)\n",
      "Requirement already satisfied: mpmath>=0.19 in /opt/conda/lib/python3.10/site-packages (from sympy->torch) (1.3.0)\n",
      "Requirement already satisfied: tqdm in /opt/conda/lib/python3.10/site-packages (4.65.0)\n",
      "Requirement already satisfied: scikit-learn in /opt/conda/lib/python3.10/site-packages (1.4.0)\n",
      "Requirement already satisfied: numpy<2.0,>=1.19.5 in /opt/conda/lib/python3.10/site-packages (from scikit-learn) (1.26.3)\n",
      "Requirement already satisfied: scipy>=1.6.0 in /opt/conda/lib/python3.10/site-packages (from scikit-learn) (1.12.0)\n",
      "Requirement already satisfied: joblib>=1.2.0 in /opt/conda/lib/python3.10/site-packages (from scikit-learn) (1.3.2)\n",
      "Requirement already satisfied: threadpoolctl>=2.0.0 in /opt/conda/lib/python3.10/site-packages (from scikit-learn) (3.2.0)\n",
      "Requirement already satisfied: gdown in /opt/conda/lib/python3.10/site-packages (5.1.0)\n",
      "Requirement already satisfied: beautifulsoup4 in /opt/conda/lib/python3.10/site-packages (from gdown) (4.12.2)\n",
      "Requirement already satisfied: filelock in /opt/conda/lib/python3.10/site-packages (from gdown) (3.13.1)\n",
      "Requirement already satisfied: requests[socks] in /opt/conda/lib/python3.10/site-packages (from gdown) (2.31.0)\n",
      "Requirement already satisfied: tqdm in /opt/conda/lib/python3.10/site-packages (from gdown) (4.65.0)\n",
      "Requirement already satisfied: soupsieve>1.2 in /opt/conda/lib/python3.10/site-packages (from beautifulsoup4->gdown) (2.5)\n",
      "Requirement already satisfied: charset-normalizer<4,>=2 in /opt/conda/lib/python3.10/site-packages (from requests[socks]->gdown) (2.0.4)\n",
      "Requirement already satisfied: idna<4,>=2.5 in /opt/conda/lib/python3.10/site-packages (from requests[socks]->gdown) (3.4)\n",
      "Requirement already satisfied: urllib3<3,>=1.21.1 in /opt/conda/lib/python3.10/site-packages (from requests[socks]->gdown) (1.26.18)\n",
      "Requirement already satisfied: certifi>=2017.4.17 in /opt/conda/lib/python3.10/site-packages (from requests[socks]->gdown) (2023.11.17)\n",
      "Requirement already satisfied: PySocks!=1.5.7,>=1.5.6 in /opt/conda/lib/python3.10/site-packages (from requests[socks]->gdown) (1.7.1)\n"
     ]
    }
   ],
   "source": [
    "!pip install --root-user-action=ignore pandas\n",
    "!pip install --root-user-action=ignore transformers\n",
    "!pip install --root-user-action=ignore numpy\n",
    "!pip install --root-user-action=ignore torch\n",
    "!pip install --root-user-action=ignore tqdm\n",
    "!pip install --root-user-action=ignore scikit-learn\n",
    "!pip install --root-user-action=ignore gdown"
   ]
  },
  {
   "cell_type": "code",
   "execution_count": 118,
   "id": "88335971-cf0b-4a41-922d-32cd864455a9",
   "metadata": {},
   "outputs": [],
   "source": [
    "import pandas as pd\n",
    "import torch\n",
    "from tqdm import tqdm\n",
    "from torch import nn, optim\n",
    "from torch.utils.data import DataLoader, TensorDataset\n",
    "from transformers import AutoTokenizer, AutoModel\n",
    "from sklearn.model_selection import train_test_split\n",
    "from sklearn.preprocessing import StandardScaler\n",
    "from sklearn.metrics import accuracy_score, precision_recall_fscore_support"
   ]
  },
  {
   "cell_type": "code",
   "execution_count": 105,
   "id": "06701596-5185-4d3b-a9b7-bcab149056da",
   "metadata": {},
   "outputs": [],
   "source": [
    "# !mkdir ./prediction"
   ]
  },
  {
   "cell_type": "code",
   "execution_count": 106,
   "id": "85e493d1-780f-4a6f-b4f4-d2ee298b0d79",
   "metadata": {},
   "outputs": [
    {
     "name": "stderr",
     "output_type": "stream",
     "text": [
      "emoji is not installed, thus not converting emoticons or emojis into text. Install emoji: pip3 install emoji==0.6.0\n"
     ]
    }
   ],
   "source": [
    "device = torch.device(\"cuda\" if torch.cuda.is_available() else \"cpu\")\n",
    "tokenizer = AutoTokenizer.from_pretrained(\"vinai/bertweet-base\", use_fast=False)\n",
    "model_bertweet = AutoModel.from_pretrained(\"vinai/bertweet-base\").to(device)"
   ]
  },
  {
   "cell_type": "code",
   "execution_count": 107,
   "id": "0395d76b-06d4-472e-b39d-3abd5af1e759",
   "metadata": {},
   "outputs": [
    {
     "name": "stdout",
     "output_type": "stream",
     "text": [
      "UserStanceClassifier(\n",
      "  (linear): Linear(in_features=779, out_features=2, bias=True)\n",
      ")\n"
     ]
    }
   ],
   "source": [
    "model = UserStanceClassifier(input_dim=input_dim).to(device)\n",
    "print(model)"
   ]
  },
  {
   "cell_type": "code",
   "execution_count": 114,
   "id": "6140f3f9-183d-4f5f-adfe-f64f8bff270a",
   "metadata": {},
   "outputs": [],
   "source": [
    "class UserStanceClassifier(nn.Module):\n",
    "    def __init__(self, input_dim):\n",
    "        super(UserStanceClassifier, self).__init__()\n",
    "        self.linear = nn.Linear(input_dim, 2)  # Assuming binary classification\n",
    "\n",
    "    def forward(self, x):\n",
    "        return self.linear(x)\n",
    "\n",
    "def tokenize_and_embed(tweets, tokenizer, model, batch_size=32):\n",
    "    model.to(device)  # Ensure the model is on the correct device\n",
    "    all_embeddings = torch.empty((0, model.config.hidden_size), device=device)\n",
    "    \n",
    "    num_batches = len(tweets) // batch_size + (0 if len(tweets) % batch_size == 0 else 1)\n",
    "    \n",
    "    for i in tqdm(range(num_batches), desc=\"Generating embeddings\"):\n",
    "        batch_tweets = tweets[i*batch_size:(i+1)*batch_size]\n",
    "        inputs = tokenizer(batch_tweets, return_tensors=\"pt\", padding=True, truncation=True, max_length=128).to(device)\n",
    "        with torch.no_grad():\n",
    "            outputs = model(**inputs)\n",
    "        batch_embeddings = outputs.last_hidden_state.mean(1)\n",
    "        all_embeddings = torch.cat((all_embeddings, batch_embeddings), dim=0)\n",
    "    \n",
    "    return all_embeddings.cpu()  # Move embeddings back to CPU for further processing or storage\n",
    "\n",
    "\n",
    "def ensure_numeric(df, start_col=3, fillna_value=0):\n",
    "    for col in df.columns[start_col:]:\n",
    "        df[col] = pd.to_numeric(df[col], errors='coerce').fillna(fillna_value)\n",
    "    return df\n",
    "\n",
    "def standard_scale_embeddings(embeddings):\n",
    "    # Assuming embeddings is a 2D PyTorch tensor\n",
    "    scaler = StandardScaler()\n",
    "    scaled_embeddings = scaler.fit_transform(embeddings.cpu().numpy())\n",
    "    return torch.tensor(scaled_embeddings, dtype=torch.float).to(embeddings.device)\n",
    "\n",
    "def prepare_data(data, tokenizer, model, version='none', batch_size=32, device=None, emfd_embeddings=None, frameaxis_embeddings=None):\n",
    "    if device is None:\n",
    "        device = torch.device(\"cuda\" if torch.cuda.is_available() else \"cpu\")\n",
    "    \n",
    "    tweets = data['tweet'].tolist()\n",
    "    bertweet_embeddings = tokenize_and_embed(tweets, tokenizer, model, batch_size).to(device)\n",
    "    bertweet_embeddings = standard_scale_embeddings(bertweet_embeddings)\n",
    "    \n",
    "    final_embeddings = bertweet_embeddings\n",
    "\n",
    "    if version == 'emfd' and emfd_embeddings is not None:\n",
    "        emfd_embeddings_processed = ensure_numeric(emfd_embeddings)\n",
    "        emfd_values = emfd_embeddings_processed.iloc[:bertweet_embeddings.size(0), 3:].values\n",
    "        emfd_tensor = torch.tensor(emfd_values, dtype=torch.float).to(device)\n",
    "        emfd_tensor = standard_scale_embeddings(emfd_tensor)\n",
    "        final_embeddings = torch.cat((final_embeddings, emfd_tensor), dim=1)\n",
    "    elif version == 'frameaxis' and frameaxis_embeddings is not None:\n",
    "        frameaxis_embeddings_processed = ensure_numeric(frameaxis_embeddings)\n",
    "        frameaxis_values = frameaxis_embeddings_processed.iloc[:bertweet_embeddings.size(0), 3:].values\n",
    "        frameaxis_tensor = torch.tensor(frameaxis_values, dtype=torch.float).to(device)\n",
    "        frameaxis_tensor = standard_scale_embeddings(frameaxis_tensor)\n",
    "        final_embeddings = torch.cat((final_embeddings, frameaxis_tensor), dim=1)\n",
    "\n",
    "    labels = torch.tensor(data['stance'].iloc[:final_embeddings.size(0)].values, dtype=torch.long).to(device)\n",
    "    \n",
    "    dataset = TensorDataset(final_embeddings, labels)\n",
    "    dataloader = DataLoader(dataset, batch_size=batch_size, shuffle=True)\n",
    "    \n",
    "    return dataloader"
   ]
  },
  {
   "cell_type": "code",
   "execution_count": 115,
   "id": "41480427-54d9-4a57-a2ab-405625044ecc",
   "metadata": {},
   "outputs": [],
   "source": [
    "def train_model(dataloader, input_dim, learning_rate=2e-5, epochs=50, patience=5):\n",
    "    device = torch.device(\"cuda\" if torch.cuda.is_available() else \"cpu\")\n",
    "    model = UserStanceClassifier(input_dim=input_dim).to(device)\n",
    "    optimizer = optim.Adam(model.parameters(), lr=learning_rate)\n",
    "    loss_fn = nn.CrossEntropyLoss()\n",
    "    # print(input_dim)\n",
    "    best_loss = float('inf')\n",
    "    no_improvement = 0\n",
    "\n",
    "    for epoch in range(epochs):\n",
    "        model.train()\n",
    "        epoch_loss = 0\n",
    "        for batch in tqdm(dataloader, desc=f\"Epoch {epoch+1}/{epochs}\"):\n",
    "            inputs, labels = [b.to(device) for b in batch]\n",
    "            # print(f\"Input shape: {inputs.shape}\")\n",
    "            optimizer.zero_grad()\n",
    "            outputs = model(inputs)\n",
    "            loss = loss_fn(outputs, labels)\n",
    "            loss.backward()\n",
    "            optimizer.step()\n",
    "            epoch_loss += loss.item()\n",
    "\n",
    "        avg_loss = epoch_loss / len(dataloader)\n",
    "        print(f\"Average Loss: {avg_loss}\")\n",
    "\n",
    "        if avg_loss < best_loss:\n",
    "            best_loss = avg_loss\n",
    "            no_improvement = 0\n",
    "        else:\n",
    "            no_improvement += 1\n",
    "        \n",
    "        if no_improvement >= patience:\n",
    "            print(\"Early stopping triggered.\")\n",
    "            break\n",
    "\n",
    "    return model\n",
    "\n",
    "def predict(model, dataloader):\n",
    "    device = torch.device(\"cuda\" if torch.cuda.is_available() else \"cpu\")\n",
    "    model = model.to(device)\n",
    "    model.eval()\n",
    "    predictions = []\n",
    "    with torch.no_grad():\n",
    "        for inputs in tqdm(dataloader):\n",
    "            inputs = inputs[0].to(device)  # Assuming inputs are the first element\n",
    "            outputs = model(inputs)\n",
    "            _, predicted = torch.max(outputs, dim=1)\n",
    "            predictions.extend(predicted.cpu().tolist())  # Move predictions to CPU\n",
    "    return predictions"
   ]
  },
  {
   "cell_type": "code",
   "execution_count": 116,
   "id": "bc5ea44a-a03d-4e17-89f4-f3894f68305b",
   "metadata": {},
   "outputs": [],
   "source": [
    "def evaluate_model(model, dataloader, device=None, save_predictions_to=None):\n",
    "    if device is None:\n",
    "        device = torch.device(\"cuda\" if torch.cuda.is_available() else \"cpu\")\n",
    "    model = model.to(device)\n",
    "    model.eval()  # Set the model to evaluation mode\n",
    "    true_labels = []\n",
    "    predictions = []\n",
    "\n",
    "    with torch.no_grad():\n",
    "        for batch in tqdm(dataloader, desc=\"Evaluating model\"):\n",
    "            inputs, labels = [b.to(device) for b in batch]\n",
    "            outputs = model(inputs)\n",
    "            _, preds = torch.max(outputs, dim=1)\n",
    "            true_labels.extend(labels.cpu().numpy())\n",
    "            predictions.extend(preds.cpu().tolist())\n",
    "\n",
    "    # Compute evaluation metrics\n",
    "    accuracy = accuracy_score(true_labels, predictions)\n",
    "    precision, recall, f1, _ = precision_recall_fscore_support(true_labels, predictions, average='binary')\n",
    "\n",
    "    # Save predictions to CSV if a filename is provided\n",
    "    if save_predictions_to:\n",
    "        prediction_df = pd.DataFrame({'True Labels': true_labels, 'Predictions': predictions})\n",
    "        prediction_df.to_csv(save_predictions_to, index=False)\n",
    "\n",
    "    return accuracy, precision, recall, f1\n",
    "\n",
    "def evaluate_multiple_times(model, dataloader, target, mode, device=None, iterations=5):\n",
    "    accuracies = []\n",
    "    precisions = []\n",
    "    recalls = []\n",
    "    f1_scores = []\n",
    "\n",
    "    for i in tqdm(range(iterations), desc=\"Evaluations\"):\n",
    "        # Generate a unique filename for this iteration's predictions\n",
    "        predictions_filename = f'./prediction/{target}_{mode}_predictions_iteration_{i+1}.csv'\n",
    "        accuracy, precision, recall, f1 = evaluate_model(model, dataloader, device, save_predictions_to=predictions_filename)\n",
    "        accuracies.append(accuracy)\n",
    "        precisions.append(precision)\n",
    "        recalls.append(recall)\n",
    "        f1_scores.append(f1)\n",
    "\n",
    "    # Calculate the average of each metric\n",
    "    avg_accuracy = sum(accuracies) / len(accuracies)\n",
    "    avg_precision = sum(precisions) / len(precisions)\n",
    "    avg_recall = sum(recalls) / len(recalls)\n",
    "    avg_f1_score = sum(f1_scores) / len(f1_scores)\n",
    "\n",
    "    return avg_accuracy, avg_precision, avg_recall, avg_f1_score"
   ]
  },
  {
   "cell_type": "code",
   "execution_count": null,
   "id": "16efce7a-aff8-4323-99d7-db800898da60",
   "metadata": {
    "scrolled": true
   },
   "outputs": [
    {
     "name": "stderr",
     "output_type": "stream",
     "text": [
      "Generating embeddings: 100%|██████████| 6896/6896 [06:35<00:00, 17.42it/s]\n",
      "Epoch 1/50: 100%|██████████| 6896/6896 [00:07<00:00, 885.78it/s] \n"
     ]
    },
    {
     "name": "stdout",
     "output_type": "stream",
     "text": [
      "Average Loss: 0.5919445250010477\n"
     ]
    },
    {
     "name": "stderr",
     "output_type": "stream",
     "text": [
      "Epoch 2/50: 100%|██████████| 6896/6896 [00:07<00:00, 931.96it/s] \n"
     ]
    },
    {
     "name": "stdout",
     "output_type": "stream",
     "text": [
      "Average Loss: 0.5061422259548978\n"
     ]
    },
    {
     "name": "stderr",
     "output_type": "stream",
     "text": [
      "Epoch 3/50: 100%|██████████| 6896/6896 [00:07<00:00, 958.00it/s] \n"
     ]
    },
    {
     "name": "stdout",
     "output_type": "stream",
     "text": [
      "Average Loss: 0.4609923602520486\n"
     ]
    },
    {
     "name": "stderr",
     "output_type": "stream",
     "text": [
      "Epoch 4/50: 100%|██████████| 6896/6896 [00:07<00:00, 971.32it/s] \n"
     ]
    },
    {
     "name": "stdout",
     "output_type": "stream",
     "text": [
      "Average Loss: 0.4322049840917409\n"
     ]
    },
    {
     "name": "stderr",
     "output_type": "stream",
     "text": [
      "Epoch 5/50: 100%|██████████| 6896/6896 [00:07<00:00, 944.86it/s] \n"
     ]
    },
    {
     "name": "stdout",
     "output_type": "stream",
     "text": [
      "Average Loss: 0.4145498453853371\n"
     ]
    },
    {
     "name": "stderr",
     "output_type": "stream",
     "text": [
      "Epoch 6/50: 100%|██████████| 6896/6896 [00:07<00:00, 907.68it/s] \n"
     ]
    },
    {
     "name": "stdout",
     "output_type": "stream",
     "text": [
      "Average Loss: 0.4042927739329273\n"
     ]
    },
    {
     "name": "stderr",
     "output_type": "stream",
     "text": [
      "Epoch 7/50: 100%|██████████| 6896/6896 [00:07<00:00, 918.83it/s] \n"
     ]
    },
    {
     "name": "stdout",
     "output_type": "stream",
     "text": [
      "Average Loss: 0.3982176603425268\n"
     ]
    },
    {
     "name": "stderr",
     "output_type": "stream",
     "text": [
      "Epoch 8/50: 100%|██████████| 6896/6896 [00:07<00:00, 872.77it/s] \n"
     ]
    },
    {
     "name": "stdout",
     "output_type": "stream",
     "text": [
      "Average Loss: 0.39428096436603716\n"
     ]
    },
    {
     "name": "stderr",
     "output_type": "stream",
     "text": [
      "Epoch 9/50: 100%|██████████| 6896/6896 [00:08<00:00, 853.15it/s] \n"
     ]
    },
    {
     "name": "stdout",
     "output_type": "stream",
     "text": [
      "Average Loss: 0.39160955715881285\n"
     ]
    },
    {
     "name": "stderr",
     "output_type": "stream",
     "text": [
      "Epoch 10/50: 100%|██████████| 6896/6896 [00:07<00:00, 919.74it/s] \n"
     ]
    },
    {
     "name": "stdout",
     "output_type": "stream",
     "text": [
      "Average Loss: 0.3895700891694516\n"
     ]
    },
    {
     "name": "stderr",
     "output_type": "stream",
     "text": [
      "Epoch 11/50: 100%|██████████| 6896/6896 [00:07<00:00, 921.54it/s] \n"
     ]
    },
    {
     "name": "stdout",
     "output_type": "stream",
     "text": [
      "Average Loss: 0.387995181330793\n"
     ]
    },
    {
     "name": "stderr",
     "output_type": "stream",
     "text": [
      "Epoch 12/50: 100%|██████████| 6896/6896 [00:07<00:00, 907.01it/s] \n"
     ]
    },
    {
     "name": "stdout",
     "output_type": "stream",
     "text": [
      "Average Loss: 0.38668100622087165\n"
     ]
    },
    {
     "name": "stderr",
     "output_type": "stream",
     "text": [
      "Epoch 13/50: 100%|██████████| 6896/6896 [00:07<00:00, 917.51it/s] \n"
     ]
    },
    {
     "name": "stdout",
     "output_type": "stream",
     "text": [
      "Average Loss: 0.3856185124841305\n"
     ]
    },
    {
     "name": "stderr",
     "output_type": "stream",
     "text": [
      "Epoch 14/50: 100%|██████████| 6896/6896 [00:08<00:00, 853.25it/s] \n"
     ]
    },
    {
     "name": "stdout",
     "output_type": "stream",
     "text": [
      "Average Loss: 0.3846731887408586\n"
     ]
    },
    {
     "name": "stderr",
     "output_type": "stream",
     "text": [
      "Epoch 15/50: 100%|██████████| 6896/6896 [00:07<00:00, 896.59it/s] \n"
     ]
    },
    {
     "name": "stdout",
     "output_type": "stream",
     "text": [
      "Average Loss: 0.38389986630295797\n"
     ]
    },
    {
     "name": "stderr",
     "output_type": "stream",
     "text": [
      "Epoch 16/50: 100%|██████████| 6896/6896 [00:07<00:00, 957.25it/s] \n"
     ]
    },
    {
     "name": "stdout",
     "output_type": "stream",
     "text": [
      "Average Loss: 0.3832405989410533\n"
     ]
    },
    {
     "name": "stderr",
     "output_type": "stream",
     "text": [
      "Epoch 17/50: 100%|██████████| 6896/6896 [00:07<00:00, 908.03it/s] \n"
     ]
    },
    {
     "name": "stdout",
     "output_type": "stream",
     "text": [
      "Average Loss: 0.38259992220281275\n"
     ]
    },
    {
     "name": "stderr",
     "output_type": "stream",
     "text": [
      "Epoch 18/50: 100%|██████████| 6896/6896 [00:07<00:00, 931.54it/s] \n"
     ]
    },
    {
     "name": "stdout",
     "output_type": "stream",
     "text": [
      "Average Loss: 0.38205239486506776\n"
     ]
    },
    {
     "name": "stderr",
     "output_type": "stream",
     "text": [
      "Epoch 19/50: 100%|██████████| 6896/6896 [00:07<00:00, 863.15it/s] \n"
     ]
    },
    {
     "name": "stdout",
     "output_type": "stream",
     "text": [
      "Average Loss: 0.3815475641955079\n"
     ]
    },
    {
     "name": "stderr",
     "output_type": "stream",
     "text": [
      "Epoch 20/50: 100%|██████████| 6896/6896 [00:07<00:00, 907.68it/s] \n"
     ]
    },
    {
     "name": "stdout",
     "output_type": "stream",
     "text": [
      "Average Loss: 0.38113186088997847\n"
     ]
    },
    {
     "name": "stderr",
     "output_type": "stream",
     "text": [
      "Epoch 21/50: 100%|██████████| 6896/6896 [00:08<00:00, 861.61it/s] \n"
     ]
    },
    {
     "name": "stdout",
     "output_type": "stream",
     "text": [
      "Average Loss: 0.38074740190534334\n"
     ]
    },
    {
     "name": "stderr",
     "output_type": "stream",
     "text": [
      "Epoch 22/50: 100%|██████████| 6896/6896 [00:07<00:00, 919.33it/s] \n"
     ]
    },
    {
     "name": "stdout",
     "output_type": "stream",
     "text": [
      "Average Loss: 0.3803349935175233\n"
     ]
    },
    {
     "name": "stderr",
     "output_type": "stream",
     "text": [
      "Epoch 23/50: 100%|██████████| 6896/6896 [00:07<00:00, 931.75it/s] \n"
     ]
    },
    {
     "name": "stdout",
     "output_type": "stream",
     "text": [
      "Average Loss: 0.37996726862982505\n"
     ]
    },
    {
     "name": "stderr",
     "output_type": "stream",
     "text": [
      "Epoch 24/50: 100%|██████████| 6896/6896 [00:07<00:00, 970.34it/s] \n"
     ]
    },
    {
     "name": "stdout",
     "output_type": "stream",
     "text": [
      "Average Loss: 0.3796678695248617\n"
     ]
    },
    {
     "name": "stderr",
     "output_type": "stream",
     "text": [
      "Epoch 25/50: 100%|██████████| 6896/6896 [00:07<00:00, 872.27it/s] \n"
     ]
    },
    {
     "name": "stdout",
     "output_type": "stream",
     "text": [
      "Average Loss: 0.3793581671615211\n"
     ]
    },
    {
     "name": "stderr",
     "output_type": "stream",
     "text": [
      "Epoch 26/50: 100%|██████████| 6896/6896 [00:07<00:00, 905.36it/s] \n"
     ]
    },
    {
     "name": "stdout",
     "output_type": "stream",
     "text": [
      "Average Loss: 0.37907777051603436\n"
     ]
    },
    {
     "name": "stderr",
     "output_type": "stream",
     "text": [
      "Epoch 27/50: 100%|██████████| 6896/6896 [00:07<00:00, 910.76it/s] \n"
     ]
    },
    {
     "name": "stdout",
     "output_type": "stream",
     "text": [
      "Average Loss: 0.3788337095428837\n"
     ]
    },
    {
     "name": "stderr",
     "output_type": "stream",
     "text": [
      "Epoch 28/50: 100%|██████████| 6896/6896 [00:07<00:00, 945.27it/s] \n"
     ]
    },
    {
     "name": "stdout",
     "output_type": "stream",
     "text": [
      "Average Loss: 0.37859043123939545\n"
     ]
    },
    {
     "name": "stderr",
     "output_type": "stream",
     "text": [
      "Epoch 29/50: 100%|██████████| 6896/6896 [00:07<00:00, 932.10it/s] \n"
     ]
    },
    {
     "name": "stdout",
     "output_type": "stream",
     "text": [
      "Average Loss: 0.37832512148480923\n"
     ]
    },
    {
     "name": "stderr",
     "output_type": "stream",
     "text": [
      "Epoch 30/50: 100%|██████████| 6896/6896 [00:07<00:00, 920.06it/s] \n"
     ]
    },
    {
     "name": "stdout",
     "output_type": "stream",
     "text": [
      "Average Loss: 0.37810838432213306\n"
     ]
    },
    {
     "name": "stderr",
     "output_type": "stream",
     "text": [
      "Epoch 31/50: 100%|██████████| 6896/6896 [00:07<00:00, 930.94it/s] \n"
     ]
    },
    {
     "name": "stdout",
     "output_type": "stream",
     "text": [
      "Average Loss: 0.377937667232802\n"
     ]
    },
    {
     "name": "stderr",
     "output_type": "stream",
     "text": [
      "Epoch 32/50: 100%|██████████| 6896/6896 [00:07<00:00, 906.36it/s] \n"
     ]
    },
    {
     "name": "stdout",
     "output_type": "stream",
     "text": [
      "Average Loss: 0.37771817821935855\n"
     ]
    },
    {
     "name": "stderr",
     "output_type": "stream",
     "text": [
      "Epoch 33/50: 100%|██████████| 6896/6896 [00:07<00:00, 947.51it/s] \n"
     ]
    },
    {
     "name": "stdout",
     "output_type": "stream",
     "text": [
      "Average Loss: 0.37756158378874133\n"
     ]
    },
    {
     "name": "stderr",
     "output_type": "stream",
     "text": [
      "Epoch 34/50: 100%|██████████| 6896/6896 [00:07<00:00, 907.22it/s] \n"
     ]
    },
    {
     "name": "stdout",
     "output_type": "stream",
     "text": [
      "Average Loss: 0.37740492128082087\n"
     ]
    },
    {
     "name": "stderr",
     "output_type": "stream",
     "text": [
      "Epoch 35/50: 100%|██████████| 6896/6896 [00:07<00:00, 932.84it/s] \n"
     ]
    },
    {
     "name": "stdout",
     "output_type": "stream",
     "text": [
      "Average Loss: 0.37718499764981583\n"
     ]
    },
    {
     "name": "stderr",
     "output_type": "stream",
     "text": [
      "Epoch 36/50: 100%|██████████| 6896/6896 [00:07<00:00, 945.10it/s] \n"
     ]
    },
    {
     "name": "stdout",
     "output_type": "stream",
     "text": [
      "Average Loss: 0.3770463197684378\n"
     ]
    },
    {
     "name": "stderr",
     "output_type": "stream",
     "text": [
      "Epoch 37/50: 100%|██████████| 6896/6896 [00:07<00:00, 862.76it/s] \n"
     ]
    },
    {
     "name": "stdout",
     "output_type": "stream",
     "text": [
      "Average Loss: 0.3769083197245897\n"
     ]
    },
    {
     "name": "stderr",
     "output_type": "stream",
     "text": [
      "Epoch 38/50: 100%|██████████| 6896/6896 [00:08<00:00, 851.68it/s] \n"
     ]
    },
    {
     "name": "stdout",
     "output_type": "stream",
     "text": [
      "Average Loss: 0.3767501512918353\n"
     ]
    },
    {
     "name": "stderr",
     "output_type": "stream",
     "text": [
      "Epoch 39/50: 100%|██████████| 6896/6896 [00:07<00:00, 918.92it/s] \n"
     ]
    },
    {
     "name": "stdout",
     "output_type": "stream",
     "text": [
      "Average Loss: 0.376595944832803\n"
     ]
    },
    {
     "name": "stderr",
     "output_type": "stream",
     "text": [
      "Epoch 40/50: 100%|██████████| 6896/6896 [00:07<00:00, 920.04it/s] \n"
     ]
    },
    {
     "name": "stdout",
     "output_type": "stream",
     "text": [
      "Average Loss: 0.37649288109726253\n"
     ]
    },
    {
     "name": "stderr",
     "output_type": "stream",
     "text": [
      "Epoch 41/50: 100%|██████████| 6896/6896 [00:07<00:00, 918.56it/s] \n"
     ]
    },
    {
     "name": "stdout",
     "output_type": "stream",
     "text": [
      "Average Loss: 0.37633563664778547\n"
     ]
    },
    {
     "name": "stderr",
     "output_type": "stream",
     "text": [
      "Epoch 42/50: 100%|██████████| 6896/6896 [00:07<00:00, 908.45it/s] \n"
     ]
    },
    {
     "name": "stdout",
     "output_type": "stream",
     "text": [
      "Average Loss: 0.37618114161704885\n"
     ]
    },
    {
     "name": "stderr",
     "output_type": "stream",
     "text": [
      "Epoch 43/50: 100%|██████████| 6896/6896 [00:07<00:00, 906.84it/s] \n"
     ]
    },
    {
     "name": "stdout",
     "output_type": "stream",
     "text": [
      "Average Loss: 0.37608849486171886\n"
     ]
    },
    {
     "name": "stderr",
     "output_type": "stream",
     "text": [
      "Epoch 44/50: 100%|██████████| 6896/6896 [00:07<00:00, 908.15it/s] \n"
     ]
    },
    {
     "name": "stdout",
     "output_type": "stream",
     "text": [
      "Average Loss: 0.37598455878376547\n"
     ]
    },
    {
     "name": "stderr",
     "output_type": "stream",
     "text": [
      "Epoch 45/50: 100%|██████████| 6896/6896 [00:07<00:00, 884.50it/s] \n"
     ]
    },
    {
     "name": "stdout",
     "output_type": "stream",
     "text": [
      "Average Loss: 0.375838637165077\n"
     ]
    },
    {
     "name": "stderr",
     "output_type": "stream",
     "text": [
      "Epoch 46/50: 100%|██████████| 6896/6896 [00:07<00:00, 944.54it/s] \n"
     ]
    },
    {
     "name": "stdout",
     "output_type": "stream",
     "text": [
      "Average Loss: 0.3757895344755939\n"
     ]
    },
    {
     "name": "stderr",
     "output_type": "stream",
     "text": [
      "Epoch 47/50: 100%|██████████| 6896/6896 [00:08<00:00, 860.97it/s]\n"
     ]
    },
    {
     "name": "stdout",
     "output_type": "stream",
     "text": [
      "Average Loss: 0.37569503435268653\n"
     ]
    },
    {
     "name": "stderr",
     "output_type": "stream",
     "text": [
      "Epoch 48/50: 100%|██████████| 6896/6896 [00:07<00:00, 908.65it/s] \n"
     ]
    },
    {
     "name": "stdout",
     "output_type": "stream",
     "text": [
      "Average Loss: 0.3755619326226085\n"
     ]
    },
    {
     "name": "stderr",
     "output_type": "stream",
     "text": [
      "Epoch 49/50: 100%|██████████| 6896/6896 [00:14<00:00, 485.64it/s] \n"
     ]
    },
    {
     "name": "stdout",
     "output_type": "stream",
     "text": [
      "Average Loss: 0.37546446580081105\n"
     ]
    },
    {
     "name": "stderr",
     "output_type": "stream",
     "text": [
      "Epoch 50/50: 100%|██████████| 6896/6896 [00:17<00:00, 396.74it/s]\n"
     ]
    },
    {
     "name": "stdout",
     "output_type": "stream",
     "text": [
      "Average Loss: 0.37536974151223346\n"
     ]
    },
    {
     "name": "stderr",
     "output_type": "stream",
     "text": [
      "Generating embeddings: 100%|██████████| 6307/6307 [05:46<00:00, 18.20it/s]\n",
      "Evaluations:   0%|          | 0/5 [00:00<?, ?it/s]\n",
      "Evaluating model:   0%|          | 0/6307 [00:00<?, ?it/s]\u001b[A\n",
      "Evaluating model:   0%|          | 17/6307 [00:00<00:37, 169.83it/s]\u001b[A\n",
      "Evaluating model:   1%|          | 47/6307 [00:00<00:25, 245.72it/s]\u001b[A\n",
      "Evaluating model:   4%|▍         | 252/6307 [00:00<00:05, 1067.83it/s]\u001b[A\n",
      "Evaluating model:   7%|▋         | 462/6307 [00:00<00:03, 1472.64it/s]\u001b[A\n",
      "Evaluating model:  11%|█         | 673/6307 [00:00<00:03, 1700.33it/s]\u001b[A\n",
      "Evaluating model:  14%|█▍        | 879/6307 [00:00<00:02, 1820.51it/s]\u001b[A\n",
      "Evaluating model:  17%|█▋        | 1069/6307 [00:00<00:02, 1845.26it/s]\u001b[A\n",
      "Evaluating model:  20%|█▉        | 1254/6307 [00:00<00:02, 1820.93it/s]\u001b[A\n",
      "Evaluating model:  23%|██▎       | 1437/6307 [00:01<00:03, 1258.75it/s]\u001b[A\n",
      "Evaluating model:  27%|██▋       | 1687/6307 [00:01<00:02, 1547.95it/s]\u001b[A\n",
      "Evaluating model:  31%|███       | 1938/6307 [00:01<00:02, 1787.11it/s]\u001b[A\n",
      "Evaluating model:  35%|███▍      | 2189/6307 [00:01<00:02, 1975.97it/s]\u001b[A\n",
      "Evaluating model:  39%|███▊      | 2438/6307 [00:01<00:01, 2114.35it/s]\u001b[A\n",
      "Evaluating model:  43%|████▎     | 2689/6307 [00:01<00:01, 2224.90it/s]\u001b[A\n",
      "Evaluating model:  47%|████▋     | 2940/6307 [00:01<00:01, 2305.92it/s]\u001b[A\n",
      "Evaluating model:  50%|█████     | 3179/6307 [00:01<00:01, 1574.53it/s]\u001b[A\n",
      "Evaluating model:  54%|█████▎    | 3388/6307 [00:02<00:01, 1686.51it/s]\u001b[A\n",
      "Evaluating model:  57%|█████▋    | 3601/6307 [00:02<00:01, 1791.43it/s]\u001b[A\n",
      "Evaluating model:  60%|██████    | 3815/6307 [00:02<00:01, 1879.56it/s]\u001b[A\n",
      "Evaluating model:  64%|██████▍   | 4031/6307 [00:02<00:01, 1952.30it/s]\u001b[A\n",
      "Evaluating model:  67%|██████▋   | 4246/6307 [00:02<00:01, 2005.34it/s]\u001b[A\n",
      "Evaluating model:  71%|███████   | 4460/6307 [00:02<00:00, 2040.98it/s]\u001b[A\n",
      "Evaluating model:  74%|███████▍  | 4672/6307 [00:02<00:00, 2054.02it/s]\u001b[A\n",
      "Evaluating model:  78%|███████▊  | 4888/6307 [00:02<00:00, 2082.36it/s]\u001b[A\n",
      "Evaluating model:  81%|████████  | 5100/6307 [00:02<00:00, 2084.22it/s]\u001b[A\n",
      "Evaluating model:  84%|████████▍ | 5320/6307 [00:02<00:00, 2117.70it/s]\u001b[A\n",
      "Evaluating model:  88%|████████▊ | 5534/6307 [00:03<00:00, 2108.17it/s]\u001b[A\n",
      "Evaluating model:  91%|█████████ | 5747/6307 [00:03<00:00, 2109.74it/s]\u001b[A\n",
      "Evaluating model:  94%|█████████▍| 5959/6307 [00:03<00:00, 2097.86it/s]\u001b[A\n",
      "Evaluating model: 100%|██████████| 6307/6307 [00:03<00:00, 1750.98it/s]\u001b[A\n",
      "Evaluations:  20%|██        | 1/5 [00:04<00:17,  4.36s/it]\n",
      "Evaluating model:   0%|          | 0/6307 [00:00<?, ?it/s]\u001b[A\n",
      "Evaluating model:   0%|          | 1/6307 [00:00<13:04,  8.04it/s]\u001b[A\n",
      "Evaluating model:   1%|          | 48/6307 [00:00<00:24, 255.01it/s]\u001b[A\n",
      "Evaluating model:   4%|▍         | 262/6307 [00:00<00:05, 1070.33it/s]\u001b[A\n",
      "Evaluating model:   8%|▊         | 479/6307 [00:00<00:03, 1488.36it/s]\u001b[A\n",
      "Evaluating model:  11%|█         | 698/6307 [00:00<00:03, 1734.67it/s]\u001b[A\n",
      "Evaluating model:  14%|█▍        | 911/6307 [00:00<00:02, 1866.14it/s]\u001b[A\n",
      "Evaluating model:  18%|█▊        | 1119/6307 [00:00<00:02, 1934.83it/s]\u001b[A\n",
      "Evaluating model:  21%|██        | 1315/6307 [00:01<00:04, 1195.89it/s]\u001b[A\n",
      "Evaluating model:  25%|██▍       | 1551/6307 [00:01<00:03, 1449.00it/s]\u001b[A\n",
      "Evaluating model:  29%|██▊       | 1800/6307 [00:01<00:02, 1694.52it/s]\u001b[A\n",
      "Evaluating model:  32%|███▏      | 2049/6307 [00:01<00:02, 1894.35it/s]\u001b[A\n",
      "Evaluating model:  36%|███▋      | 2299/6307 [00:01<00:01, 2054.08it/s]\u001b[A\n",
      "Evaluating model:  40%|████      | 2550/6307 [00:01<00:01, 2177.97it/s]\u001b[A\n",
      "Evaluating model:  44%|████▍     | 2799/6307 [00:01<00:01, 2264.61it/s]\u001b[A\n",
      "Evaluating model:  48%|████▊     | 3037/6307 [00:01<00:01, 2223.31it/s]\u001b[A\n",
      "Evaluating model:  52%|█████▏    | 3268/6307 [00:02<00:02, 1516.51it/s]\u001b[A\n",
      "Evaluating model:  55%|█████▌    | 3482/6307 [00:02<00:01, 1649.72it/s]\u001b[A\n",
      "Evaluating model:  59%|█████▊    | 3692/6307 [00:02<00:01, 1754.84it/s]\u001b[A\n",
      "Evaluating model:  62%|██████▏   | 3905/6307 [00:02<00:01, 1847.47it/s]\u001b[A\n",
      "Evaluating model:  65%|██████▌   | 4115/6307 [00:02<00:01, 1913.90it/s]\u001b[A\n",
      "Evaluating model:  69%|██████▊   | 4326/6307 [00:02<00:01, 1965.20it/s]\u001b[A\n",
      "Evaluating model:  72%|███████▏  | 4538/6307 [00:02<00:00, 2007.78it/s]\u001b[A\n",
      "Evaluating model:  75%|███████▌  | 4748/6307 [00:02<00:00, 2031.76it/s]\u001b[A\n",
      "Evaluating model:  79%|███████▊  | 4960/6307 [00:02<00:00, 2057.33it/s]\u001b[A\n",
      "Evaluating model:  82%|████████▏ | 5170/6307 [00:02<00:00, 2066.53it/s]\u001b[A\n",
      "Evaluating model:  85%|████████▌ | 5380/6307 [00:03<00:00, 2074.28it/s]\u001b[A\n",
      "Evaluating model:  89%|████████▊ | 5590/6307 [00:03<00:00, 2077.48it/s]\u001b[A\n",
      "Evaluating model:  92%|█████████▏| 5802/6307 [00:03<00:00, 2087.98it/s]\u001b[A\n",
      "Evaluating model:  95%|█████████▌| 6012/6307 [00:03<00:00, 2088.06it/s]\u001b[A\n",
      "Evaluating model: 100%|██████████| 6307/6307 [00:03<00:00, 1782.42it/s]\u001b[A\n",
      "Evaluations:  40%|████      | 2/5 [00:08<00:13,  4.38s/it]\n",
      "Evaluating model:   0%|          | 0/6307 [00:00<?, ?it/s]\u001b[A\n",
      "Evaluating model:   1%|          | 35/6307 [00:00<00:23, 268.45it/s]\u001b[A\n",
      "Evaluating model:   1%|          | 69/6307 [00:00<00:20, 305.19it/s]\u001b[A\n",
      "Evaluating model:   4%|▍         | 279/6307 [00:00<00:05, 1070.40it/s]\u001b[A\n",
      "Evaluating model:   8%|▊         | 482/6307 [00:00<00:04, 1433.10it/s]\u001b[A\n",
      "Evaluating model:  11%|█         | 692/6307 [00:00<00:03, 1666.19it/s]\u001b[A\n",
      "Evaluating model:  14%|█▍        | 890/6307 [00:00<00:03, 1769.22it/s]\u001b[A\n",
      "Evaluating model:  18%|█▊        | 1105/6307 [00:00<00:02, 1889.63it/s]\u001b[A\n",
      "Evaluating model:  21%|██        | 1296/6307 [00:00<00:03, 1318.83it/s]\u001b[A\n",
      "Evaluating model:  24%|██▍       | 1542/6307 [00:01<00:02, 1590.33it/s]\u001b[A\n",
      "Evaluating model:  28%|██▊       | 1784/6307 [00:01<00:02, 1799.93it/s]\u001b[A\n",
      "Evaluating model:  32%|███▏      | 2024/6307 [00:01<00:02, 1958.31it/s]\u001b[A\n",
      "Evaluating model:  36%|███▌      | 2269/6307 [00:01<00:01, 2092.91it/s]\u001b[A\n",
      "Evaluating model:  40%|███▉      | 2518/6307 [00:01<00:01, 2203.86it/s]\u001b[A\n",
      "Evaluating model:  44%|████▍     | 2764/6307 [00:01<00:01, 2276.38it/s]\u001b[A\n",
      "Evaluating model:  48%|████▊     | 3006/6307 [00:01<00:01, 2317.87it/s]\u001b[A\n",
      "Evaluating model:  51%|█████▏    | 3244/6307 [00:01<00:01, 2260.55it/s]\u001b[A\n",
      "Evaluating model:  55%|█████▌    | 3493/6307 [00:01<00:01, 2325.17it/s]\u001b[A\n",
      "Evaluating model:  59%|█████▉    | 3742/6307 [00:01<00:01, 2371.48it/s]\u001b[A\n",
      "Evaluating model:  63%|██████▎   | 3991/6307 [00:02<00:00, 2404.03it/s]\u001b[A\n",
      "Evaluating model:  67%|██████▋   | 4240/6307 [00:02<00:00, 2428.39it/s]\u001b[A\n",
      "Evaluating model:  71%|███████   | 4485/6307 [00:02<00:00, 2404.21it/s]\u001b[A\n",
      "Evaluating model:  75%|███████▌  | 4734/6307 [00:02<00:00, 2429.17it/s]\u001b[A\n",
      "Evaluating model:  79%|███████▉  | 4984/6307 [00:02<00:00, 2447.94it/s]\u001b[A\n",
      "Evaluating model:  83%|████████▎ | 5230/6307 [00:02<00:00, 2433.73it/s]\u001b[A\n",
      "Evaluating model:  87%|████████▋ | 5479/6307 [00:02<00:00, 2449.42it/s]\u001b[A\n",
      "Evaluating model:  91%|█████████ | 5725/6307 [00:02<00:00, 2430.85it/s]\u001b[A\n",
      "Evaluating model:  95%|█████████▍| 5975/6307 [00:02<00:00, 2451.06it/s]\u001b[A\n",
      "Evaluating model: 100%|██████████| 6307/6307 [00:03<00:00, 1950.22it/s]\u001b[A\n",
      "Evaluations:  60%|██████    | 3/5 [00:12<00:08,  4.20s/it]\n",
      "Evaluating model:   0%|          | 0/6307 [00:00<?, ?it/s]\u001b[A\n",
      "Evaluating model:   0%|          | 25/6307 [00:00<00:33, 189.57it/s]\u001b[A\n",
      "Evaluating model:   1%|          | 65/6307 [00:00<00:20, 298.65it/s]\u001b[A\n",
      "Evaluating model:   5%|▍         | 312/6307 [00:00<00:04, 1221.93it/s]\u001b[A\n",
      "Evaluating model:   8%|▊         | 534/6307 [00:00<00:03, 1597.90it/s]\u001b[A\n",
      "Evaluating model:  11%|█▏        | 711/6307 [00:00<00:03, 1648.20it/s]\u001b[A\n",
      "Evaluating model:  14%|█▍        | 880/6307 [00:00<00:03, 1502.16it/s]\u001b[A\n",
      "Evaluating model:  16%|█▋        | 1035/6307 [00:00<00:03, 1418.15it/s]\u001b[A\n",
      "Evaluating model:  19%|█▉        | 1196/6307 [00:00<00:03, 1464.79it/s]\u001b[A\n",
      "Evaluating model:  22%|██▏       | 1375/6307 [00:00<00:03, 1550.56it/s]\u001b[A\n",
      "Evaluating model:  24%|██▍       | 1533/6307 [00:01<00:03, 1368.18it/s]\u001b[A\n",
      "Evaluating model:  28%|██▊       | 1752/6307 [00:01<00:02, 1583.77it/s]\u001b[A\n",
      "Evaluating model:  30%|███       | 1917/6307 [00:01<00:03, 1140.02it/s]\u001b[A\n",
      "Evaluating model:  34%|███▍      | 2145/6307 [00:01<00:02, 1387.67it/s]\u001b[A\n",
      "Evaluating model:  37%|███▋      | 2308/6307 [00:01<00:03, 1183.50it/s]\u001b[A\n",
      "Evaluating model:  39%|███▉      | 2448/6307 [00:01<00:03, 1133.05it/s]\u001b[A\n",
      "Evaluating model:  41%|████      | 2590/6307 [00:02<00:03, 1196.33it/s]\u001b[A\n",
      "Evaluating model:  44%|████▍     | 2786/6307 [00:02<00:02, 1373.99it/s]\u001b[A\n",
      "Evaluating model:  47%|████▋     | 2944/6307 [00:02<00:02, 1426.29it/s]\u001b[A\n",
      "Evaluating model:  50%|████▉     | 3130/6307 [00:02<00:02, 1541.05it/s]\u001b[A\n",
      "Evaluating model:  54%|█████▎    | 3381/6307 [00:02<00:01, 1807.05it/s]\u001b[A\n",
      "Evaluating model:  57%|█████▋    | 3571/6307 [00:02<00:01, 1832.36it/s]\u001b[A\n",
      "Evaluating model:  60%|█████▉    | 3760/6307 [00:02<00:01, 1628.13it/s]\u001b[A\n",
      "Evaluating model:  64%|██████▎   | 4014/6307 [00:02<00:01, 1869.31it/s]\u001b[A\n",
      "Evaluating model:  67%|██████▋   | 4210/6307 [00:02<00:01, 1633.07it/s]\u001b[A\n",
      "Evaluating model:  71%|███████   | 4462/6307 [00:03<00:00, 1857.35it/s]\u001b[A\n",
      "Evaluating model:  74%|███████▍  | 4660/6307 [00:03<00:01, 1639.47it/s]\u001b[A\n",
      "Evaluating model:  77%|███████▋  | 4847/6307 [00:03<00:00, 1696.49it/s]\u001b[A\n",
      "Evaluating model:  80%|███████▉  | 5027/6307 [00:03<00:00, 1602.80it/s]\u001b[A\n",
      "Evaluating model:  82%|████████▏ | 5195/6307 [00:03<00:00, 1507.70it/s]\u001b[A\n",
      "Evaluating model:  86%|████████▌ | 5409/6307 [00:03<00:00, 1667.20it/s]\u001b[A\n",
      "Evaluating model:  89%|████████▉ | 5600/6307 [00:03<00:00, 1730.84it/s]\u001b[A\n",
      "Evaluating model:  92%|█████████▏| 5790/6307 [00:03<00:00, 1775.23it/s]\u001b[A\n",
      "Evaluating model:  95%|█████████▌| 6010/6307 [00:03<00:00, 1888.62it/s]\u001b[A\n",
      "Evaluating model: 100%|██████████| 6307/6307 [00:04<00:00, 1485.26it/s]\u001b[A\n",
      "Evaluations:  80%|████████  | 4/5 [00:17<00:04,  4.56s/it]\n",
      "Evaluating model:   0%|          | 0/6307 [00:00<?, ?it/s]\u001b[A\n",
      "Evaluating model:   0%|          | 29/6307 [00:00<00:25, 247.01it/s]\u001b[A\n",
      "Evaluating model:   1%|          | 59/6307 [00:00<00:22, 274.43it/s]\u001b[A\n",
      "Evaluating model:   4%|▍         | 241/6307 [00:00<00:06, 949.82it/s]\u001b[A\n",
      "Evaluating model:   7%|▋         | 428/6307 [00:00<00:04, 1301.95it/s]\u001b[A\n",
      "Evaluating model:  10%|▉         | 614/6307 [00:00<00:03, 1498.42it/s]\u001b[A\n",
      "Evaluating model:  13%|█▎        | 831/6307 [00:00<00:03, 1719.85it/s]\u001b[A\n",
      "Evaluating model:  16%|█▋        | 1031/6307 [00:00<00:02, 1808.78it/s]\u001b[A\n",
      "Evaluating model:  20%|██        | 1282/6307 [00:00<00:02, 2029.41it/s]\u001b[A\n",
      "Evaluating model:  24%|██▎       | 1486/6307 [00:00<00:02, 1987.79it/s]\u001b[A\n",
      "Evaluating model:  28%|██▊       | 1737/6307 [00:01<00:02, 2144.34it/s]\u001b[A\n",
      "Evaluating model:  31%|███       | 1953/6307 [00:01<00:02, 1599.18it/s]\u001b[A\n",
      "Evaluating model:  34%|███▍      | 2134/6307 [00:01<00:02, 1516.45it/s]\u001b[A\n",
      "Evaluating model:  36%|███▋      | 2300/6307 [00:01<00:02, 1402.10it/s]\u001b[A\n",
      "Evaluating model:  40%|████      | 2551/6307 [00:01<00:02, 1664.69it/s]\u001b[A\n",
      "Evaluating model:  43%|████▎     | 2732/6307 [00:01<00:03, 1038.77it/s]\u001b[A\n",
      "Evaluating model:  46%|████▌     | 2874/6307 [00:02<00:03, 1063.95it/s]\u001b[A\n",
      "Evaluating model:  48%|████▊     | 3008/6307 [00:02<00:03, 1077.27it/s]\u001b[A\n",
      "Evaluating model:  50%|████▉     | 3136/6307 [00:02<00:02, 1072.85it/s]\u001b[A\n",
      "Evaluating model:  53%|█████▎    | 3328/6307 [00:02<00:02, 1263.04it/s]\u001b[A\n",
      "Evaluating model:  55%|█████▌    | 3487/6307 [00:02<00:02, 1339.22it/s]\u001b[A\n",
      "Evaluating model:  58%|█████▊    | 3634/6307 [00:02<00:02, 1251.90it/s]\u001b[A\n",
      "Evaluating model:  61%|██████    | 3818/6307 [00:02<00:01, 1399.04it/s]\u001b[A\n",
      "Evaluating model:  64%|██████▎   | 4006/6307 [00:02<00:01, 1525.79it/s]\u001b[A\n",
      "Evaluating model:  66%|██████▌   | 4167/6307 [00:02<00:01, 1523.04it/s]\u001b[A\n",
      "Evaluating model:  70%|███████   | 4417/6307 [00:03<00:01, 1794.59it/s]\u001b[A\n",
      "Evaluating model:  74%|███████▍  | 4668/6307 [00:03<00:00, 1997.18it/s]\u001b[A\n",
      "Evaluating model:  77%|███████▋  | 4874/6307 [00:03<00:01, 1327.19it/s]\u001b[A\n",
      "Evaluating model:  81%|████████▏ | 5127/6307 [00:03<00:00, 1582.97it/s]\u001b[A\n",
      "Evaluating model:  85%|████████▌ | 5381/6307 [00:03<00:00, 1805.92it/s]\u001b[A\n",
      "Evaluating model:  89%|████████▊ | 5592/6307 [00:03<00:00, 1568.51it/s]\u001b[A\n",
      "Evaluating model:  92%|█████████▏| 5787/6307 [00:03<00:00, 1654.98it/s]\u001b[A\n",
      "Evaluating model:  95%|█████████▍| 5976/6307 [00:04<00:00, 1711.93it/s]\u001b[A\n",
      "Evaluating model: 100%|██████████| 6307/6307 [00:04<00:00, 1426.85it/s]\u001b[A\n",
      "Evaluations: 100%|██████████| 5/5 [00:23<00:00,  4.61s/it]\n"
     ]
    },
    {
     "name": "stdout",
     "output_type": "stream",
     "text": [
      "CB-emfd-trump:\n",
      "Accuracy: 0.8084289289165284, Precision: 0.8367451757282266, Recall: 0.9196279769904845, F1-Score: 0.8762309672296993\n"
     ]
    },
    {
     "name": "stderr",
     "output_type": "stream",
     "text": [
      "Generating embeddings: 100%|██████████| 3582/3582 [03:28<00:00, 17.17it/s]\n",
      "Epoch 1/50: 100%|██████████| 3582/3582 [00:06<00:00, 551.02it/s]\n"
     ]
    },
    {
     "name": "stdout",
     "output_type": "stream",
     "text": [
      "Average Loss: 0.640824822599764\n"
     ]
    },
    {
     "name": "stderr",
     "output_type": "stream",
     "text": [
      "Epoch 2/50: 100%|██████████| 3582/3582 [00:06<00:00, 559.35it/s]\n"
     ]
    },
    {
     "name": "stdout",
     "output_type": "stream",
     "text": [
      "Average Loss: 0.591262727118883\n"
     ]
    },
    {
     "name": "stderr",
     "output_type": "stream",
     "text": [
      "Epoch 3/50: 100%|██████████| 3582/3582 [00:06<00:00, 542.37it/s]\n"
     ]
    },
    {
     "name": "stdout",
     "output_type": "stream",
     "text": [
      "Average Loss: 0.5752771818175254\n"
     ]
    },
    {
     "name": "stderr",
     "output_type": "stream",
     "text": [
      "Epoch 4/50: 100%|██████████| 3582/3582 [00:06<00:00, 569.44it/s] \n"
     ]
    },
    {
     "name": "stdout",
     "output_type": "stream",
     "text": [
      "Average Loss: 0.5656239310501009\n"
     ]
    },
    {
     "name": "stderr",
     "output_type": "stream",
     "text": [
      "Epoch 5/50: 100%|██████████| 3582/3582 [00:04<00:00, 831.83it/s]\n"
     ]
    },
    {
     "name": "stdout",
     "output_type": "stream",
     "text": [
      "Average Loss: 0.5595203905565521\n"
     ]
    },
    {
     "name": "stderr",
     "output_type": "stream",
     "text": [
      "Epoch 6/50: 100%|██████████| 3582/3582 [00:04<00:00, 852.82it/s] \n"
     ]
    },
    {
     "name": "stdout",
     "output_type": "stream",
     "text": [
      "Average Loss: 0.5555215074089503\n"
     ]
    },
    {
     "name": "stderr",
     "output_type": "stream",
     "text": [
      "Epoch 7/50: 100%|██████████| 3582/3582 [00:03<00:00, 919.05it/s] \n"
     ]
    },
    {
     "name": "stdout",
     "output_type": "stream",
     "text": [
      "Average Loss: 0.5529085384741101\n"
     ]
    },
    {
     "name": "stderr",
     "output_type": "stream",
     "text": [
      "Epoch 8/50: 100%|██████████| 3582/3582 [00:04<00:00, 872.88it/s] \n"
     ]
    },
    {
     "name": "stdout",
     "output_type": "stream",
     "text": [
      "Average Loss: 0.5509835460427618\n"
     ]
    },
    {
     "name": "stderr",
     "output_type": "stream",
     "text": [
      "Epoch 9/50: 100%|██████████| 3582/3582 [00:04<00:00, 872.24it/s] \n"
     ]
    },
    {
     "name": "stdout",
     "output_type": "stream",
     "text": [
      "Average Loss: 0.54969837064353\n"
     ]
    },
    {
     "name": "stderr",
     "output_type": "stream",
     "text": [
      "Epoch 10/50: 100%|██████████| 3582/3582 [00:03<00:00, 901.02it/s] \n"
     ]
    },
    {
     "name": "stdout",
     "output_type": "stream",
     "text": [
      "Average Loss: 0.5486823583218321\n"
     ]
    },
    {
     "name": "stderr",
     "output_type": "stream",
     "text": [
      "Epoch 11/50: 100%|██████████| 3582/3582 [00:04<00:00, 812.93it/s] \n"
     ]
    },
    {
     "name": "stdout",
     "output_type": "stream",
     "text": [
      "Average Loss: 0.5479214251840134\n"
     ]
    },
    {
     "name": "stderr",
     "output_type": "stream",
     "text": [
      "Epoch 12/50: 100%|██████████| 3582/3582 [00:04<00:00, 852.55it/s] \n"
     ]
    },
    {
     "name": "stdout",
     "output_type": "stream",
     "text": [
      "Average Loss: 0.5472559641104447\n"
     ]
    },
    {
     "name": "stderr",
     "output_type": "stream",
     "text": [
      "Epoch 13/50: 100%|██████████| 3582/3582 [00:04<00:00, 873.90it/s] \n"
     ]
    },
    {
     "name": "stdout",
     "output_type": "stream",
     "text": [
      "Average Loss: 0.5466439494502271\n"
     ]
    },
    {
     "name": "stderr",
     "output_type": "stream",
     "text": [
      "Epoch 14/50: 100%|██████████| 3582/3582 [00:04<00:00, 876.56it/s] \n"
     ]
    },
    {
     "name": "stdout",
     "output_type": "stream",
     "text": [
      "Average Loss: 0.5460938783513308\n"
     ]
    },
    {
     "name": "stderr",
     "output_type": "stream",
     "text": [
      "Epoch 15/50: 100%|██████████| 3582/3582 [00:04<00:00, 873.02it/s] \n"
     ]
    },
    {
     "name": "stdout",
     "output_type": "stream",
     "text": [
      "Average Loss: 0.5457765338042806\n"
     ]
    },
    {
     "name": "stderr",
     "output_type": "stream",
     "text": [
      "Epoch 16/50: 100%|██████████| 3582/3582 [00:03<00:00, 946.82it/s] \n"
     ]
    },
    {
     "name": "stdout",
     "output_type": "stream",
     "text": [
      "Average Loss: 0.5453576867321495\n"
     ]
    },
    {
     "name": "stderr",
     "output_type": "stream",
     "text": [
      "Epoch 17/50: 100%|██████████| 3582/3582 [00:04<00:00, 850.22it/s] \n"
     ]
    },
    {
     "name": "stdout",
     "output_type": "stream",
     "text": [
      "Average Loss: 0.5450228379799094\n"
     ]
    },
    {
     "name": "stderr",
     "output_type": "stream",
     "text": [
      "Epoch 18/50: 100%|██████████| 3582/3582 [00:04<00:00, 855.56it/s] \n"
     ]
    },
    {
     "name": "stdout",
     "output_type": "stream",
     "text": [
      "Average Loss: 0.5446683864464379\n"
     ]
    },
    {
     "name": "stderr",
     "output_type": "stream",
     "text": [
      "Epoch 19/50: 100%|██████████| 3582/3582 [00:04<00:00, 832.47it/s]\n"
     ]
    },
    {
     "name": "stdout",
     "output_type": "stream",
     "text": [
      "Average Loss: 0.5444620886390134\n"
     ]
    },
    {
     "name": "stderr",
     "output_type": "stream",
     "text": [
      "Epoch 20/50: 100%|██████████| 3582/3582 [00:04<00:00, 873.49it/s] \n"
     ]
    },
    {
     "name": "stdout",
     "output_type": "stream",
     "text": [
      "Average Loss: 0.544054362600506\n"
     ]
    },
    {
     "name": "stderr",
     "output_type": "stream",
     "text": [
      "Epoch 21/50: 100%|██████████| 3582/3582 [00:03<00:00, 918.31it/s] \n"
     ]
    },
    {
     "name": "stdout",
     "output_type": "stream",
     "text": [
      "Average Loss: 0.5438540343929442\n"
     ]
    },
    {
     "name": "stderr",
     "output_type": "stream",
     "text": [
      "Epoch 22/50: 100%|██████████| 3582/3582 [00:04<00:00, 831.91it/s] \n"
     ]
    },
    {
     "name": "stdout",
     "output_type": "stream",
     "text": [
      "Average Loss: 0.5436728945462681\n"
     ]
    },
    {
     "name": "stderr",
     "output_type": "stream",
     "text": [
      "Epoch 23/50: 100%|██████████| 3582/3582 [00:04<00:00, 832.59it/s] \n"
     ]
    },
    {
     "name": "stdout",
     "output_type": "stream",
     "text": [
      "Average Loss: 0.5434322921691295\n"
     ]
    },
    {
     "name": "stderr",
     "output_type": "stream",
     "text": [
      "Epoch 24/50: 100%|██████████| 3582/3582 [00:04<00:00, 852.45it/s] \n"
     ]
    },
    {
     "name": "stdout",
     "output_type": "stream",
     "text": [
      "Average Loss: 0.5432140397865768\n"
     ]
    },
    {
     "name": "stderr",
     "output_type": "stream",
     "text": [
      "Epoch 25/50: 100%|██████████| 3582/3582 [00:03<00:00, 912.75it/s] \n"
     ]
    },
    {
     "name": "stdout",
     "output_type": "stream",
     "text": [
      "Average Loss: 0.543050715754912\n"
     ]
    },
    {
     "name": "stderr",
     "output_type": "stream",
     "text": [
      "Epoch 26/50: 100%|██████████| 3582/3582 [00:04<00:00, 892.12it/s] \n"
     ]
    },
    {
     "name": "stdout",
     "output_type": "stream",
     "text": [
      "Average Loss: 0.5428872959181824\n"
     ]
    },
    {
     "name": "stderr",
     "output_type": "stream",
     "text": [
      "Epoch 27/50: 100%|██████████| 3582/3582 [00:03<00:00, 1010.74it/s]\n"
     ]
    },
    {
     "name": "stdout",
     "output_type": "stream",
     "text": [
      "Average Loss: 0.5427083771931666\n"
     ]
    },
    {
     "name": "stderr",
     "output_type": "stream",
     "text": [
      "Epoch 28/50: 100%|██████████| 3582/3582 [00:05<00:00, 708.25it/s]\n"
     ]
    },
    {
     "name": "stdout",
     "output_type": "stream",
     "text": [
      "Average Loss: 0.5425747911451516\n"
     ]
    },
    {
     "name": "stderr",
     "output_type": "stream",
     "text": [
      "Epoch 29/50: 100%|██████████| 3582/3582 [00:03<00:00, 907.41it/s]\n"
     ]
    },
    {
     "name": "stdout",
     "output_type": "stream",
     "text": [
      "Average Loss: 0.5424749593638895\n"
     ]
    },
    {
     "name": "stderr",
     "output_type": "stream",
     "text": [
      "Epoch 30/50: 100%|██████████| 3582/3582 [00:04<00:00, 813.54it/s] \n"
     ]
    },
    {
     "name": "stdout",
     "output_type": "stream",
     "text": [
      "Average Loss: 0.5422885794086473\n"
     ]
    },
    {
     "name": "stderr",
     "output_type": "stream",
     "text": [
      "Epoch 31/50: 100%|██████████| 3582/3582 [00:03<00:00, 919.73it/s] \n"
     ]
    },
    {
     "name": "stdout",
     "output_type": "stream",
     "text": [
      "Average Loss: 0.5421589117087444\n"
     ]
    },
    {
     "name": "stderr",
     "output_type": "stream",
     "text": [
      "Epoch 32/50: 100%|██████████| 3582/3582 [00:04<00:00, 832.98it/s]\n"
     ]
    },
    {
     "name": "stdout",
     "output_type": "stream",
     "text": [
      "Average Loss: 0.5420498811270125\n"
     ]
    },
    {
     "name": "stderr",
     "output_type": "stream",
     "text": [
      "Epoch 33/50: 100%|██████████| 3582/3582 [00:04<00:00, 728.75it/s]\n"
     ]
    },
    {
     "name": "stdout",
     "output_type": "stream",
     "text": [
      "Average Loss: 0.5418815491570234\n"
     ]
    },
    {
     "name": "stderr",
     "output_type": "stream",
     "text": [
      "Epoch 34/50: 100%|██████████| 3582/3582 [00:04<00:00, 731.35it/s]\n"
     ]
    },
    {
     "name": "stdout",
     "output_type": "stream",
     "text": [
      "Average Loss: 0.5418070078037559\n"
     ]
    },
    {
     "name": "stderr",
     "output_type": "stream",
     "text": [
      "Epoch 35/50: 100%|██████████| 3582/3582 [00:04<00:00, 778.41it/s]\n"
     ]
    },
    {
     "name": "stdout",
     "output_type": "stream",
     "text": [
      "Average Loss: 0.5417211603296329\n"
     ]
    },
    {
     "name": "stderr",
     "output_type": "stream",
     "text": [
      "Epoch 36/50: 100%|██████████| 3582/3582 [00:04<00:00, 853.15it/s] \n"
     ]
    },
    {
     "name": "stdout",
     "output_type": "stream",
     "text": [
      "Average Loss: 0.5415908579034955\n"
     ]
    },
    {
     "name": "stderr",
     "output_type": "stream",
     "text": [
      "Epoch 37/50: 100%|██████████| 3582/3582 [00:04<00:00, 832.33it/s] \n"
     ]
    },
    {
     "name": "stdout",
     "output_type": "stream",
     "text": [
      "Average Loss: 0.541469928349349\n"
     ]
    },
    {
     "name": "stderr",
     "output_type": "stream",
     "text": [
      "Epoch 38/50: 100%|██████████| 3582/3582 [00:05<00:00, 715.32it/s]\n"
     ]
    },
    {
     "name": "stdout",
     "output_type": "stream",
     "text": [
      "Average Loss: 0.5414186793372726\n"
     ]
    },
    {
     "name": "stderr",
     "output_type": "stream",
     "text": [
      "Epoch 39/50: 100%|██████████| 3582/3582 [00:04<00:00, 830.74it/s]\n"
     ]
    },
    {
     "name": "stdout",
     "output_type": "stream",
     "text": [
      "Average Loss: 0.5412863976858237\n"
     ]
    },
    {
     "name": "stderr",
     "output_type": "stream",
     "text": [
      "Epoch 40/50: 100%|██████████| 3582/3582 [00:05<00:00, 702.45it/s]\n"
     ]
    },
    {
     "name": "stdout",
     "output_type": "stream",
     "text": [
      "Average Loss: 0.541211086526588\n"
     ]
    },
    {
     "name": "stderr",
     "output_type": "stream",
     "text": [
      "Epoch 41/50: 100%|██████████| 3582/3582 [00:04<00:00, 874.07it/s] \n"
     ]
    },
    {
     "name": "stdout",
     "output_type": "stream",
     "text": [
      "Average Loss: 0.5410977062035512\n"
     ]
    },
    {
     "name": "stderr",
     "output_type": "stream",
     "text": [
      "Epoch 42/50: 100%|██████████| 3582/3582 [00:03<00:00, 998.51it/s] \n"
     ]
    },
    {
     "name": "stdout",
     "output_type": "stream",
     "text": [
      "Average Loss: 0.5410338872757655\n"
     ]
    },
    {
     "name": "stderr",
     "output_type": "stream",
     "text": [
      "Epoch 43/50: 100%|██████████| 3582/3582 [00:04<00:00, 870.62it/s] \n"
     ]
    },
    {
     "name": "stdout",
     "output_type": "stream",
     "text": [
      "Average Loss: 0.5409720729826416\n"
     ]
    },
    {
     "name": "stderr",
     "output_type": "stream",
     "text": [
      "Epoch 44/50: 100%|██████████| 3582/3582 [00:04<00:00, 874.11it/s] \n"
     ]
    },
    {
     "name": "stdout",
     "output_type": "stream",
     "text": [
      "Average Loss: 0.540899191935724\n"
     ]
    },
    {
     "name": "stderr",
     "output_type": "stream",
     "text": [
      "Epoch 45/50: 100%|██████████| 3582/3582 [00:04<00:00, 745.25it/s]\n"
     ]
    },
    {
     "name": "stdout",
     "output_type": "stream",
     "text": [
      "Average Loss: 0.5408204812400504\n"
     ]
    },
    {
     "name": "stderr",
     "output_type": "stream",
     "text": [
      "Epoch 46/50: 100%|██████████| 3582/3582 [00:04<00:00, 893.68it/s] \n"
     ]
    },
    {
     "name": "stdout",
     "output_type": "stream",
     "text": [
      "Average Loss: 0.5407619680408523\n"
     ]
    },
    {
     "name": "stderr",
     "output_type": "stream",
     "text": [
      "Epoch 47/50: 100%|██████████| 3582/3582 [00:03<00:00, 898.89it/s] \n"
     ]
    },
    {
     "name": "stdout",
     "output_type": "stream",
     "text": [
      "Average Loss: 0.5406660532265785\n"
     ]
    },
    {
     "name": "stderr",
     "output_type": "stream",
     "text": [
      "Epoch 48/50: 100%|██████████| 3582/3582 [00:04<00:00, 873.79it/s] \n"
     ]
    },
    {
     "name": "stdout",
     "output_type": "stream",
     "text": [
      "Average Loss: 0.5406430991151225\n"
     ]
    },
    {
     "name": "stderr",
     "output_type": "stream",
     "text": [
      "Epoch 49/50: 100%|██████████| 3582/3582 [00:03<00:00, 917.93it/s] \n"
     ]
    },
    {
     "name": "stdout",
     "output_type": "stream",
     "text": [
      "Average Loss: 0.5405743658991914\n"
     ]
    },
    {
     "name": "stderr",
     "output_type": "stream",
     "text": [
      "Epoch 50/50: 100%|██████████| 3582/3582 [00:03<00:00, 918.52it/s] \n"
     ]
    },
    {
     "name": "stdout",
     "output_type": "stream",
     "text": [
      "Average Loss: 0.5405106106861419\n"
     ]
    },
    {
     "name": "stderr",
     "output_type": "stream",
     "text": [
      "Generating embeddings: 100%|██████████| 3071/3071 [02:55<00:00, 17.54it/s]\n",
      "Evaluations:   0%|          | 0/5 [00:00<?, ?it/s]\n",
      "Evaluating model:   0%|          | 0/3071 [00:00<?, ?it/s]\u001b[A\n",
      "Evaluating model:   0%|          | 1/3071 [00:00<05:11,  9.86it/s]\u001b[A\n",
      "Evaluating model:   0%|          | 10/3071 [00:00<00:54, 56.02it/s]\u001b[A\n",
      "Evaluating model:   2%|▏         | 57/3071 [00:00<00:12, 241.40it/s]\u001b[A\n",
      "Evaluating model:   3%|▎         | 103/3071 [00:00<00:09, 325.67it/s]\u001b[A\n",
      "Evaluating model:   6%|▌         | 179/3071 [00:00<00:06, 480.87it/s]\u001b[A\n",
      "Evaluating model:   8%|▊         | 256/3071 [00:00<00:04, 575.45it/s]\u001b[A\n",
      "Evaluating model:  10%|█         | 314/3071 [00:00<00:05, 512.64it/s]\u001b[A\n",
      "Evaluating model:  12%|█▏        | 367/3071 [00:00<00:05, 489.99it/s]\u001b[A\n",
      "Evaluating model:  14%|█▎        | 417/3071 [00:00<00:05, 491.94it/s]\u001b[A\n",
      "Evaluating model:  15%|█▌        | 467/3071 [00:01<00:05, 479.99it/s]\u001b[A\n",
      "Evaluating model:  17%|█▋        | 516/3071 [00:01<00:05, 471.14it/s]\u001b[A\n",
      "Evaluating model:  18%|█▊        | 564/3071 [00:01<00:05, 452.61it/s]\u001b[A\n",
      "Evaluating model:  20%|█▉        | 610/3071 [00:01<00:05, 451.51it/s]\u001b[A\n",
      "Evaluating model:  21%|██▏       | 656/3071 [00:01<00:05, 446.88it/s]\u001b[A\n",
      "Evaluating model:  23%|██▎       | 702/3071 [00:01<00:05, 448.03it/s]\u001b[A\n",
      "Evaluating model:  27%|██▋       | 826/3071 [00:01<00:03, 675.68it/s]\u001b[A\n",
      "Evaluating model:  34%|███▍      | 1057/3071 [00:01<00:01, 1148.25it/s]\u001b[A\n",
      "Evaluating model:  38%|███▊      | 1174/3071 [00:02<00:02, 773.07it/s] \u001b[A\n",
      "Evaluating model:  41%|████▏     | 1269/3071 [00:02<00:02, 650.58it/s]\u001b[A\n",
      "Evaluating model:  44%|████▍     | 1349/3071 [00:02<00:02, 586.39it/s]\u001b[A\n",
      "Evaluating model:  46%|████▌     | 1419/3071 [00:02<00:03, 535.15it/s]\u001b[A\n",
      "Evaluating model:  48%|████▊     | 1480/3071 [00:02<00:03, 508.14it/s]\u001b[A\n",
      "Evaluating model:  50%|█████     | 1536/3071 [00:02<00:03, 490.22it/s]\u001b[A\n",
      "Evaluating model:  52%|█████▏    | 1589/3071 [00:03<00:02, 497.28it/s]\u001b[A\n",
      "Evaluating model:  53%|█████▎    | 1642/3071 [00:03<00:02, 482.71it/s]\u001b[A\n",
      "Evaluating model:  55%|█████▌    | 1692/3071 [00:03<00:02, 464.27it/s]\u001b[A\n",
      "Evaluating model:  57%|█████▋    | 1740/3071 [00:03<00:02, 456.03it/s]\u001b[A\n",
      "Evaluating model:  58%|█████▊    | 1787/3071 [00:03<00:02, 441.47it/s]\u001b[A\n",
      "Evaluating model:  60%|█████▉    | 1841/3071 [00:03<00:02, 465.36it/s]\u001b[A\n",
      "Evaluating model:  62%|██████▏   | 1911/3071 [00:03<00:02, 527.26it/s]\u001b[A\n",
      "Evaluating model:  64%|██████▍   | 1965/3071 [00:03<00:02, 516.51it/s]\u001b[A\n",
      "Evaluating model:  66%|██████▌   | 2018/3071 [00:03<00:02, 490.39it/s]\u001b[A\n",
      "Evaluating model:  67%|██████▋   | 2068/3071 [00:04<00:02, 476.50it/s]\u001b[A\n",
      "Evaluating model:  69%|██████▉   | 2117/3071 [00:04<00:02, 452.33it/s]\u001b[A\n",
      "Evaluating model:  74%|███████▍  | 2268/3071 [00:04<00:01, 736.96it/s]\u001b[A\n",
      "Evaluating model:  76%|███████▋  | 2346/3071 [00:04<00:01, 630.83it/s]\u001b[A\n",
      "Evaluating model:  79%|███████▊  | 2415/3071 [00:04<00:01, 564.33it/s]\u001b[A\n",
      "Evaluating model:  81%|████████  | 2476/3071 [00:04<00:01, 527.81it/s]\u001b[A\n",
      "Evaluating model:  82%|████████▏ | 2532/3071 [00:04<00:01, 510.11it/s]\u001b[A\n",
      "Evaluating model:  85%|████████▍ | 2609/3071 [00:04<00:00, 572.51it/s]\u001b[A\n",
      "Evaluating model:  87%|████████▋ | 2676/3071 [00:05<00:00, 597.55it/s]\u001b[A\n",
      "Evaluating model:  89%|████████▉ | 2739/3071 [00:05<00:00, 543.63it/s]\u001b[A\n",
      "Evaluating model:  91%|█████████ | 2796/3071 [00:05<00:00, 507.68it/s]\u001b[A\n",
      "Evaluating model:  93%|█████████▎| 2849/3071 [00:05<00:00, 488.03it/s]\u001b[A\n",
      "Evaluating model:  96%|█████████▌| 2935/3071 [00:05<00:00, 579.94it/s]\u001b[A\n",
      "Evaluating model: 100%|██████████| 3071/3071 [00:05<00:00, 540.32it/s]\u001b[A\n",
      "Evaluations:  20%|██        | 1/5 [00:06<00:24,  6.20s/it]\n",
      "Evaluating model:   0%|          | 0/3071 [00:00<?, ?it/s]\u001b[A\n",
      "Evaluating model:   0%|          | 1/3071 [00:00<05:36,  9.13it/s]\u001b[A\n",
      "Evaluating model:   0%|          | 7/3071 [00:00<01:20, 37.87it/s]\u001b[A\n",
      "Evaluating model:   2%|▏         | 54/3071 [00:00<00:13, 230.17it/s]\u001b[A\n",
      "Evaluating model:   6%|▌         | 172/3071 [00:00<00:04, 596.55it/s]\u001b[A\n",
      "Evaluating model:   8%|▊         | 233/3071 [00:00<00:05, 501.41it/s]\u001b[A\n",
      "Evaluating model:  10%|▉         | 292/3071 [00:00<00:05, 527.23it/s]\u001b[A\n",
      "Evaluating model:  12%|█▏        | 372/3071 [00:00<00:04, 605.95it/s]\u001b[A\n",
      "Evaluating model:  14%|█▍        | 435/3071 [00:00<00:04, 542.65it/s]\u001b[A\n",
      "Evaluating model:  18%|█▊        | 555/3071 [00:01<00:03, 721.17it/s]\u001b[A\n",
      "Evaluating model:  21%|██        | 632/3071 [00:01<00:03, 612.77it/s]\u001b[A\n",
      "Evaluating model:  23%|██▎       | 699/3071 [00:01<00:04, 541.41it/s]\u001b[A\n",
      "Evaluating model:  25%|██▍       | 758/3071 [00:01<00:04, 511.92it/s]\u001b[A\n",
      "Evaluating model:  26%|██▋       | 813/3071 [00:01<00:04, 507.02it/s]\u001b[A\n",
      "Evaluating model:  29%|██▉       | 893/3071 [00:01<00:03, 577.62it/s]\u001b[A\n",
      "Evaluating model:  31%|███       | 954/3071 [00:01<00:03, 532.05it/s]\u001b[A\n",
      "Evaluating model:  33%|███▎      | 1010/3071 [00:01<00:04, 485.85it/s]\u001b[A\n",
      "Evaluating model:  35%|███▌      | 1086/3071 [00:02<00:03, 552.55it/s]\u001b[A\n",
      "Evaluating model:  37%|███▋      | 1145/3071 [00:02<00:03, 523.53it/s]\u001b[A\n",
      "Evaluating model:  40%|████      | 1232/3071 [00:02<00:03, 609.51it/s]\u001b[A\n",
      "Evaluating model:  42%|████▏     | 1296/3071 [00:02<00:03, 545.10it/s]\u001b[A\n",
      "Evaluating model:  44%|████▍     | 1354/3071 [00:02<00:03, 516.18it/s]\u001b[A\n",
      "Evaluating model:  46%|████▌     | 1408/3071 [00:02<00:03, 517.42it/s]\u001b[A\n",
      "Evaluating model:  48%|████▊     | 1462/3071 [00:02<00:03, 519.65it/s]\u001b[A\n",
      "Evaluating model:  49%|████▉     | 1516/3071 [00:02<00:03, 495.39it/s]\u001b[A\n",
      "Evaluating model:  51%|█████     | 1567/3071 [00:03<00:03, 477.48it/s]\u001b[A\n",
      "Evaluating model:  53%|█████▎    | 1616/3071 [00:03<00:03, 467.47it/s]\u001b[A\n",
      "Evaluating model:  54%|█████▍    | 1670/3071 [00:03<00:02, 486.92it/s]\u001b[A\n",
      "Evaluating model:  57%|█████▋    | 1741/3071 [00:03<00:02, 545.56it/s]\u001b[A\n",
      "Evaluating model:  59%|█████▊    | 1797/3071 [00:03<00:02, 497.11it/s]\u001b[A\n",
      "Evaluating model:  60%|██████    | 1848/3071 [00:03<00:02, 479.19it/s]\u001b[A\n",
      "Evaluating model:  62%|██████▏   | 1917/3071 [00:03<00:02, 535.48it/s]\u001b[A\n",
      "Evaluating model:  68%|██████▊   | 2089/3071 [00:03<00:01, 863.16it/s]\u001b[A\n",
      "Evaluating model:  71%|███████   | 2179/3071 [00:03<00:01, 732.82it/s]\u001b[A\n",
      "Evaluating model:  74%|███████▎  | 2258/3071 [00:04<00:01, 608.44it/s]\u001b[A\n",
      "Evaluating model:  76%|███████▌  | 2326/3071 [00:04<00:01, 555.66it/s]\u001b[A\n",
      "Evaluating model:  78%|███████▊  | 2387/3071 [00:04<00:01, 523.58it/s]\u001b[A\n",
      "Evaluating model:  80%|███████▉  | 2443/3071 [00:04<00:01, 499.98it/s]\u001b[A\n",
      "Evaluating model:  81%|████████▏ | 2496/3071 [00:04<00:01, 481.03it/s]\u001b[A\n",
      "Evaluating model:  83%|████████▎ | 2546/3071 [00:04<00:01, 453.07it/s]\u001b[A\n",
      "Evaluating model:  85%|████████▍ | 2595/3071 [00:04<00:01, 460.64it/s]\u001b[A\n",
      "Evaluating model:  86%|████████▌ | 2642/3071 [00:05<00:00, 456.05it/s]\u001b[A\n",
      "Evaluating model:  88%|████████▊ | 2689/3071 [00:05<00:00, 455.27it/s]\u001b[A\n",
      "Evaluating model:  91%|█████████ | 2792/3071 [00:05<00:00, 610.08it/s]\u001b[A\n",
      "Evaluating model:  93%|█████████▎| 2855/3071 [00:05<00:00, 552.56it/s]\u001b[A\n",
      "Evaluating model:  95%|█████████▍| 2913/3071 [00:05<00:00, 496.33it/s]\u001b[A\n",
      "Evaluating model:  97%|█████████▋| 2965/3071 [00:05<00:00, 481.26it/s]\u001b[A\n",
      "Evaluating model:  98%|█████████▊| 3015/3071 [00:05<00:00, 468.14it/s]\u001b[A\n",
      "Evaluating model: 100%|██████████| 3071/3071 [00:06<00:00, 511.65it/s]\u001b[A\n",
      "Evaluations:  40%|████      | 2/5 [00:12<00:19,  6.34s/it]\n",
      "Evaluating model:   0%|          | 0/3071 [00:00<?, ?it/s]\u001b[A\n",
      "Evaluating model:   0%|          | 8/3071 [00:00<00:59, 51.10it/s]\u001b[A\n",
      "Evaluating model:   0%|          | 15/3071 [00:00<00:50, 59.93it/s]\u001b[A\n",
      "Evaluating model:   5%|▌         | 157/3071 [00:00<00:04, 609.35it/s]\u001b[A\n",
      "Evaluating model:   9%|▉         | 278/3071 [00:00<00:03, 828.32it/s]\u001b[A\n",
      "Evaluating model:  12%|█▏        | 367/3071 [00:00<00:03, 750.32it/s]\u001b[A\n",
      "Evaluating model:  15%|█▍        | 447/3071 [00:00<00:04, 619.20it/s]\u001b[A\n",
      "Evaluating model:  17%|█▋        | 516/3071 [00:00<00:04, 609.86it/s]\u001b[A\n",
      "Evaluating model:  19%|█▉        | 598/3071 [00:00<00:03, 660.95it/s]\u001b[A\n",
      "Evaluating model:  22%|██▏       | 668/3071 [00:01<00:04, 578.18it/s]\u001b[A\n",
      "Evaluating model:  24%|██▍       | 730/3071 [00:01<00:04, 533.47it/s]\u001b[A\n",
      "Evaluating model:  26%|██▌       | 787/3071 [00:01<00:04, 508.85it/s]\u001b[A\n",
      "Evaluating model:  27%|██▋       | 840/3071 [00:01<00:04, 491.31it/s]\u001b[A\n",
      "Evaluating model:  29%|██▉       | 891/3071 [00:01<00:04, 447.92it/s]\u001b[A\n",
      "Evaluating model:  31%|███       | 952/3071 [00:01<00:04, 487.22it/s]\u001b[A\n",
      "Evaluating model:  34%|███▎      | 1032/3071 [00:01<00:03, 565.67it/s]\u001b[A\n",
      "Evaluating model:  39%|███▉      | 1191/3071 [00:01<00:02, 840.36it/s]\u001b[A\n",
      "Evaluating model:  42%|████▏     | 1280/3071 [00:02<00:02, 665.71it/s]\u001b[A\n",
      "Evaluating model:  44%|████▍     | 1356/3071 [00:02<00:02, 587.76it/s]\u001b[A\n",
      "Evaluating model:  46%|████▋     | 1422/3071 [00:02<00:03, 544.07it/s]\u001b[A\n",
      "Evaluating model:  48%|████▊     | 1482/3071 [00:02<00:03, 513.62it/s]\u001b[A\n",
      "Evaluating model:  50%|█████     | 1537/3071 [00:02<00:03, 507.07it/s]\u001b[A\n",
      "Evaluating model:  52%|█████▏    | 1602/3071 [00:02<00:02, 538.15it/s]\u001b[A\n",
      "Evaluating model:  56%|█████▌    | 1724/3071 [00:02<00:01, 710.99it/s]\u001b[A\n",
      "Evaluating model:  59%|█████▊    | 1800/3071 [00:03<00:01, 653.39it/s]\u001b[A\n",
      "Evaluating model:  61%|██████    | 1870/3071 [00:03<00:02, 572.91it/s]\u001b[A\n",
      "Evaluating model:  63%|██████▎   | 1932/3071 [00:03<00:02, 536.17it/s]\u001b[A\n",
      "Evaluating model:  65%|██████▍   | 1989/3071 [00:03<00:02, 506.94it/s]\u001b[A\n",
      "Evaluating model:  67%|██████▋   | 2061/3071 [00:03<00:01, 556.68it/s]\u001b[A\n",
      "Evaluating model:  69%|██████▉   | 2120/3071 [00:03<00:01, 521.80it/s]\u001b[A\n",
      "Evaluating model:  71%|███████   | 2175/3071 [00:03<00:01, 499.74it/s]\u001b[A\n",
      "Evaluating model:  73%|███████▎  | 2227/3071 [00:03<00:01, 503.39it/s]\u001b[A\n",
      "Evaluating model:  74%|███████▍  | 2279/3071 [00:04<00:01, 481.54it/s]\u001b[A\n",
      "Evaluating model:  76%|███████▌  | 2328/3071 [00:04<00:01, 474.03it/s]\u001b[A\n",
      "Evaluating model:  77%|███████▋  | 2376/3071 [00:04<00:01, 461.49it/s]\u001b[A\n",
      "Evaluating model:  79%|███████▉  | 2423/3071 [00:04<00:01, 456.59it/s]\u001b[A\n",
      "Evaluating model:  80%|████████  | 2469/3071 [00:04<00:01, 451.22it/s]\u001b[A\n",
      "Evaluating model:  84%|████████▍ | 2582/3071 [00:04<00:00, 641.22it/s]\u001b[A\n",
      "Evaluating model:  86%|████████▌ | 2648/3071 [00:04<00:00, 608.94it/s]\u001b[A\n",
      "Evaluating model:  88%|████████▊ | 2711/3071 [00:04<00:00, 549.57it/s]\u001b[A\n",
      "Evaluating model:  90%|█████████ | 2768/3071 [00:05<00:00, 516.30it/s]\u001b[A\n",
      "Evaluating model:  92%|█████████▏| 2821/3071 [00:05<00:00, 511.60it/s]\u001b[A\n",
      "Evaluating model: 100%|██████████| 3071/3071 [00:05<00:00, 571.08it/s]\u001b[A\n",
      "Evaluations:  60%|██████    | 3/5 [00:18<00:12,  6.13s/it]\n",
      "Evaluating model:   0%|          | 0/3071 [00:00<?, ?it/s]\u001b[A\n",
      "Evaluating model:   0%|          | 15/3071 [00:00<00:34, 88.35it/s]\u001b[A\n",
      "Evaluating model:   1%|          | 24/3071 [00:00<00:35, 86.86it/s]\u001b[A\n",
      "Evaluating model:   5%|▍         | 152/3071 [00:00<00:05, 550.71it/s]\u001b[A\n",
      "Evaluating model:  10%|█         | 310/3071 [00:00<00:03, 913.16it/s]\u001b[A\n",
      "Evaluating model:  13%|█▎        | 410/3071 [00:00<00:02, 890.38it/s]\u001b[A\n",
      "Evaluating model:  16%|█▋        | 505/3071 [00:00<00:03, 728.09it/s]\u001b[A\n",
      "Evaluating model:  19%|█▉        | 586/3071 [00:00<00:03, 630.09it/s]\u001b[A\n",
      "Evaluating model:  21%|██▏       | 656/3071 [00:01<00:04, 574.32it/s]\u001b[A\n",
      "Evaluating model:  23%|██▎       | 718/3071 [00:01<00:04, 531.76it/s]\u001b[A\n",
      "Evaluating model:  25%|██▌       | 775/3071 [00:01<00:04, 503.85it/s]\u001b[A\n",
      "Evaluating model:  27%|██▋       | 828/3071 [00:01<00:04, 487.39it/s]\u001b[A\n",
      "Evaluating model:  29%|██▊       | 878/3071 [00:01<00:04, 471.45it/s]\u001b[A\n",
      "Evaluating model:  30%|███       | 926/3071 [00:01<00:04, 459.28it/s]\u001b[A\n",
      "Evaluating model:  32%|███▏      | 973/3071 [00:01<00:04, 430.19it/s]\u001b[A\n",
      "Evaluating model:  33%|███▎      | 1017/3071 [00:01<00:04, 431.57it/s]\u001b[A\n",
      "Evaluating model:  35%|███▍      | 1061/3071 [00:02<00:04, 431.57it/s]\u001b[A\n",
      "Evaluating model:  40%|████      | 1232/3071 [00:02<00:02, 782.39it/s]\u001b[A\n",
      "Evaluating model:  43%|████▎     | 1331/3071 [00:02<00:02, 835.47it/s]\u001b[A\n",
      "Evaluating model:  46%|████▌     | 1418/3071 [00:02<00:02, 664.25it/s]\u001b[A\n",
      "Evaluating model:  49%|████▊     | 1492/3071 [00:02<00:02, 589.37it/s]\u001b[A\n",
      "Evaluating model:  51%|█████     | 1557/3071 [00:02<00:02, 527.89it/s]\u001b[A\n",
      "Evaluating model:  53%|█████▎    | 1615/3071 [00:02<00:02, 503.12it/s]\u001b[A\n",
      "Evaluating model:  54%|█████▍    | 1669/3071 [00:03<00:02, 486.69it/s]\u001b[A\n",
      "Evaluating model:  56%|█████▌    | 1720/3071 [00:03<00:02, 472.71it/s]\u001b[A\n",
      "Evaluating model:  58%|█████▊    | 1769/3071 [00:03<00:02, 461.35it/s]\u001b[A\n",
      "Evaluating model:  59%|█████▉    | 1816/3071 [00:03<00:02, 459.68it/s]\u001b[A\n",
      "Evaluating model:  61%|██████    | 1863/3071 [00:03<00:02, 452.26it/s]\u001b[A\n",
      "Evaluating model:  62%|██████▏   | 1909/3071 [00:03<00:02, 435.81it/s]\u001b[A\n",
      "Evaluating model:  64%|██████▎   | 1954/3071 [00:03<00:02, 437.25it/s]\u001b[A\n",
      "Evaluating model:  65%|██████▌   | 1998/3071 [00:03<00:02, 435.18it/s]\u001b[A\n",
      "Evaluating model:  66%|██████▋   | 2042/3071 [00:03<00:02, 430.58it/s]\u001b[A\n",
      "Evaluating model:  68%|██████▊   | 2087/3071 [00:04<00:02, 436.00it/s]\u001b[A\n",
      "Evaluating model:  69%|██████▉   | 2131/3071 [00:04<00:02, 433.64it/s]\u001b[A\n",
      "Evaluating model:  71%|███████   | 2175/3071 [00:04<00:02, 417.69it/s]\u001b[A\n",
      "Evaluating model:  72%|███████▏  | 2217/3071 [00:04<00:02, 398.59it/s]\u001b[A\n",
      "Evaluating model:  74%|███████▎  | 2262/3071 [00:04<00:01, 410.84it/s]\u001b[A\n",
      "Evaluating model:  75%|███████▌  | 2308/3071 [00:04<00:01, 422.68it/s]\u001b[A\n",
      "Evaluating model:  77%|███████▋  | 2351/3071 [00:04<00:01, 423.47it/s]\u001b[A\n",
      "Evaluating model:  78%|███████▊  | 2398/3071 [00:04<00:01, 434.16it/s]\u001b[A\n",
      "Evaluating model:  80%|███████▉  | 2442/3071 [00:04<00:01, 435.09it/s]\u001b[A\n",
      "Evaluating model:  81%|████████  | 2486/3071 [00:04<00:01, 435.15it/s]\u001b[A\n",
      "Evaluating model:  82%|████████▏ | 2531/3071 [00:05<00:01, 438.00it/s]\u001b[A\n",
      "Evaluating model:  84%|████████▍ | 2576/3071 [00:05<00:01, 441.27it/s]\u001b[A\n",
      "Evaluating model:  91%|█████████ | 2801/3071 [00:05<00:00, 977.93it/s]\u001b[A\n",
      "Evaluating model: 100%|██████████| 3071/3071 [00:05<00:00, 568.99it/s] \u001b[A\n",
      "Evaluations:  80%|████████  | 4/5 [00:24<00:06,  6.07s/it]\n",
      "Evaluating model:   0%|          | 0/3071 [00:00<?, ?it/s]\u001b[A\n",
      "Evaluating model:   1%|          | 31/3071 [00:00<00:10, 295.87it/s]\u001b[A\n",
      "Evaluating model:   2%|▏         | 61/3071 [00:00<00:10, 294.38it/s]\u001b[A\n",
      "Evaluating model:  10%|▉         | 306/3071 [00:00<00:02, 1261.18it/s]\u001b[A\n",
      "Evaluating model:  18%|█▊        | 550/3071 [00:00<00:01, 1720.95it/s]\u001b[A\n",
      "Evaluating model:  25%|██▌       | 779/3071 [00:00<00:01, 1923.74it/s]\u001b[A\n",
      "Evaluating model:  32%|███▏      | 973/3071 [00:00<00:01, 1299.23it/s]\u001b[A\n",
      "Evaluating model:  37%|███▋      | 1128/3071 [00:01<00:01, 973.33it/s]\u001b[A\n",
      "Evaluating model:  41%|████      | 1252/3071 [00:01<00:02, 712.21it/s]\u001b[A\n",
      "Evaluating model:  47%|████▋     | 1454/3071 [00:01<00:01, 928.50it/s]\u001b[A\n",
      "Evaluating model:  54%|█████▍    | 1667/3071 [00:01<00:01, 1157.59it/s]\u001b[A\n",
      "Evaluating model:  61%|██████▏   | 1882/3071 [00:01<00:00, 1370.04it/s]\u001b[A\n",
      "Evaluating model:  68%|██████▊   | 2088/3071 [00:01<00:00, 1530.92it/s]\u001b[A\n",
      "Evaluating model:  75%|███████▍  | 2294/3071 [00:01<00:00, 1662.38it/s]\u001b[A\n",
      "Evaluating model:  81%|████████▏ | 2501/3071 [00:01<00:00, 1768.87it/s]\u001b[A\n",
      "Evaluating model:  88%|████████▊ | 2705/3071 [00:02<00:00, 1842.28it/s]\u001b[A\n",
      "Evaluating model: 100%|██████████| 3071/3071 [00:02<00:00, 1324.18it/s]\u001b[A\n",
      "Evaluations: 100%|██████████| 5/5 [00:27<00:00,  5.47s/it]\n"
     ]
    },
    {
     "name": "stdout",
     "output_type": "stream",
     "text": [
      "CB-emfd-mask:\n",
      "Accuracy: 0.7241200354122783, Precision: 0.6519582154211648, Recall: 0.521111421390673, F1-Score: 0.5792373473220245\n"
     ]
    },
    {
     "name": "stderr",
     "output_type": "stream",
     "text": [
      "Generating embeddings: 100%|██████████| 16700/16700 [17:45<00:00, 15.67it/s]\n",
      "Epoch 1/50: 100%|██████████| 16700/16700 [00:23<00:00, 699.45it/s] \n"
     ]
    },
    {
     "name": "stdout",
     "output_type": "stream",
     "text": [
      "Average Loss: 0.5557266532768033\n"
     ]
    },
    {
     "name": "stderr",
     "output_type": "stream",
     "text": [
      "Epoch 2/50: 100%|██████████| 16700/16700 [00:17<00:00, 970.21it/s] \n"
     ]
    },
    {
     "name": "stdout",
     "output_type": "stream",
     "text": [
      "Average Loss: 0.4809767727107702\n"
     ]
    },
    {
     "name": "stderr",
     "output_type": "stream",
     "text": [
      "Epoch 3/50: 100%|██████████| 16700/16700 [00:17<00:00, 928.30it/s] \n"
     ]
    },
    {
     "name": "stdout",
     "output_type": "stream",
     "text": [
      "Average Loss: 0.4654332369842572\n"
     ]
    },
    {
     "name": "stderr",
     "output_type": "stream",
     "text": [
      "Epoch 4/50: 100%|██████████| 16700/16700 [00:16<00:00, 994.43it/s] \n"
     ]
    },
    {
     "name": "stdout",
     "output_type": "stream",
     "text": [
      "Average Loss: 0.4614642230434689\n"
     ]
    },
    {
     "name": "stderr",
     "output_type": "stream",
     "text": [
      "Epoch 5/50: 100%|██████████| 16700/16700 [00:16<00:00, 998.91it/s] \n"
     ]
    },
    {
     "name": "stdout",
     "output_type": "stream",
     "text": [
      "Average Loss: 0.45936536847385107\n"
     ]
    },
    {
     "name": "stderr",
     "output_type": "stream",
     "text": [
      "Epoch 6/50: 100%|██████████| 16700/16700 [00:17<00:00, 966.76it/s] \n"
     ]
    },
    {
     "name": "stdout",
     "output_type": "stream",
     "text": [
      "Average Loss: 0.45792265366919027\n"
     ]
    },
    {
     "name": "stderr",
     "output_type": "stream",
     "text": [
      "Epoch 7/50: 100%|██████████| 16700/16700 [00:17<00:00, 982.32it/s] \n"
     ]
    },
    {
     "name": "stdout",
     "output_type": "stream",
     "text": [
      "Average Loss: 0.45684486419140935\n"
     ]
    },
    {
     "name": "stderr",
     "output_type": "stream",
     "text": [
      "Epoch 8/50: 100%|██████████| 16700/16700 [00:18<00:00, 897.88it/s]\n"
     ]
    },
    {
     "name": "stdout",
     "output_type": "stream",
     "text": [
      "Average Loss: 0.4559312030833638\n"
     ]
    },
    {
     "name": "stderr",
     "output_type": "stream",
     "text": [
      "Epoch 9/50: 100%|██████████| 16700/16700 [00:17<00:00, 938.20it/s] \n"
     ]
    },
    {
     "name": "stdout",
     "output_type": "stream",
     "text": [
      "Average Loss: 0.4552013138614729\n"
     ]
    },
    {
     "name": "stderr",
     "output_type": "stream",
     "text": [
      "Epoch 10/50: 100%|██████████| 16700/16700 [00:16<00:00, 993.70it/s] \n"
     ]
    },
    {
     "name": "stdout",
     "output_type": "stream",
     "text": [
      "Average Loss: 0.4545818490985625\n"
     ]
    },
    {
     "name": "stderr",
     "output_type": "stream",
     "text": [
      "Epoch 11/50: 100%|██████████| 16700/16700 [00:18<00:00, 898.62it/s]\n"
     ]
    },
    {
     "name": "stdout",
     "output_type": "stream",
     "text": [
      "Average Loss: 0.4540558992549331\n"
     ]
    },
    {
     "name": "stderr",
     "output_type": "stream",
     "text": [
      "Epoch 12/50: 100%|██████████| 16700/16700 [00:18<00:00, 879.08it/s]\n"
     ]
    },
    {
     "name": "stdout",
     "output_type": "stream",
     "text": [
      "Average Loss: 0.45365014944872456\n"
     ]
    },
    {
     "name": "stderr",
     "output_type": "stream",
     "text": [
      "Epoch 13/50: 100%|██████████| 16700/16700 [00:18<00:00, 906.80it/s]\n"
     ]
    },
    {
     "name": "stdout",
     "output_type": "stream",
     "text": [
      "Average Loss: 0.4532459876092965\n"
     ]
    },
    {
     "name": "stderr",
     "output_type": "stream",
     "text": [
      "Epoch 14/50: 100%|██████████| 16700/16700 [00:17<00:00, 943.63it/s] \n"
     ]
    },
    {
     "name": "stdout",
     "output_type": "stream",
     "text": [
      "Average Loss: 0.45292289218502846\n"
     ]
    },
    {
     "name": "stderr",
     "output_type": "stream",
     "text": [
      "Epoch 15/50: 100%|██████████| 16700/16700 [00:16<00:00, 1005.30it/s]\n"
     ]
    },
    {
     "name": "stdout",
     "output_type": "stream",
     "text": [
      "Average Loss: 0.45265965851748774\n"
     ]
    },
    {
     "name": "stderr",
     "output_type": "stream",
     "text": [
      "Epoch 16/50: 100%|██████████| 16700/16700 [00:16<00:00, 988.00it/s] \n"
     ]
    },
    {
     "name": "stdout",
     "output_type": "stream",
     "text": [
      "Average Loss: 0.45237538470479544\n"
     ]
    },
    {
     "name": "stderr",
     "output_type": "stream",
     "text": [
      "Epoch 17/50: 100%|██████████| 16700/16700 [00:16<00:00, 982.60it/s] \n"
     ]
    },
    {
     "name": "stdout",
     "output_type": "stream",
     "text": [
      "Average Loss: 0.45215975887761145\n"
     ]
    },
    {
     "name": "stderr",
     "output_type": "stream",
     "text": [
      "Epoch 18/50: 100%|██████████| 16700/16700 [00:19<00:00, 848.38it/s]\n"
     ]
    },
    {
     "name": "stdout",
     "output_type": "stream",
     "text": [
      "Average Loss: 0.4519627883013137\n"
     ]
    },
    {
     "name": "stderr",
     "output_type": "stream",
     "text": [
      "Epoch 19/50: 100%|██████████| 16700/16700 [00:17<00:00, 982.06it/s] \n"
     ]
    },
    {
     "name": "stdout",
     "output_type": "stream",
     "text": [
      "Average Loss: 0.4518276735194429\n"
     ]
    },
    {
     "name": "stderr",
     "output_type": "stream",
     "text": [
      "Epoch 20/50: 100%|██████████| 16700/16700 [00:16<00:00, 1031.67it/s]\n"
     ]
    },
    {
     "name": "stdout",
     "output_type": "stream",
     "text": [
      "Average Loss: 0.4516510492134951\n"
     ]
    },
    {
     "name": "stderr",
     "output_type": "stream",
     "text": [
      "Epoch 21/50: 100%|██████████| 16700/16700 [00:16<00:00, 992.39it/s] \n"
     ]
    },
    {
     "name": "stdout",
     "output_type": "stream",
     "text": [
      "Average Loss: 0.45152545967591023\n"
     ]
    },
    {
     "name": "stderr",
     "output_type": "stream",
     "text": [
      "Epoch 22/50: 100%|██████████| 16700/16700 [00:18<00:00, 894.46it/s]\n"
     ]
    },
    {
     "name": "stdout",
     "output_type": "stream",
     "text": [
      "Average Loss: 0.45139642162861937\n"
     ]
    },
    {
     "name": "stderr",
     "output_type": "stream",
     "text": [
      "Epoch 23/50: 100%|██████████| 16700/16700 [00:16<00:00, 1030.83it/s]\n"
     ]
    },
    {
     "name": "stdout",
     "output_type": "stream",
     "text": [
      "Average Loss: 0.4512706354537053\n"
     ]
    },
    {
     "name": "stderr",
     "output_type": "stream",
     "text": [
      "Epoch 24/50: 100%|██████████| 16700/16700 [00:16<00:00, 999.57it/s] \n"
     ]
    },
    {
     "name": "stdout",
     "output_type": "stream",
     "text": [
      "Average Loss: 0.4511847720094427\n"
     ]
    },
    {
     "name": "stderr",
     "output_type": "stream",
     "text": [
      "Epoch 25/50: 100%|██████████| 16700/16700 [00:16<00:00, 1005.21it/s]\n"
     ]
    },
    {
     "name": "stdout",
     "output_type": "stream",
     "text": [
      "Average Loss: 0.45105680522358343\n"
     ]
    },
    {
     "name": "stderr",
     "output_type": "stream",
     "text": [
      "Epoch 26/50: 100%|██████████| 16700/16700 [00:16<00:00, 988.93it/s] \n"
     ]
    },
    {
     "name": "stdout",
     "output_type": "stream",
     "text": [
      "Average Loss: 0.45101936344258087\n"
     ]
    },
    {
     "name": "stderr",
     "output_type": "stream",
     "text": [
      "Epoch 27/50: 100%|██████████| 16700/16700 [00:16<00:00, 1011.57it/s]\n"
     ]
    },
    {
     "name": "stdout",
     "output_type": "stream",
     "text": [
      "Average Loss: 0.45096474891918864\n"
     ]
    },
    {
     "name": "stderr",
     "output_type": "stream",
     "text": [
      "Epoch 28/50: 100%|██████████| 16700/16700 [00:18<00:00, 897.95it/s]\n"
     ]
    },
    {
     "name": "stdout",
     "output_type": "stream",
     "text": [
      "Average Loss: 0.45086225966493526\n"
     ]
    },
    {
     "name": "stderr",
     "output_type": "stream",
     "text": [
      "Epoch 29/50: 100%|██████████| 16700/16700 [00:16<00:00, 988.45it/s] \n"
     ]
    },
    {
     "name": "stdout",
     "output_type": "stream",
     "text": [
      "Average Loss: 0.4508041424505011\n"
     ]
    },
    {
     "name": "stderr",
     "output_type": "stream",
     "text": [
      "Epoch 30/50: 100%|██████████| 16700/16700 [00:19<00:00, 856.16it/s]\n"
     ]
    },
    {
     "name": "stdout",
     "output_type": "stream",
     "text": [
      "Average Loss: 0.450729383163288\n"
     ]
    },
    {
     "name": "stderr",
     "output_type": "stream",
     "text": [
      "Epoch 31/50: 100%|██████████| 16700/16700 [00:16<00:00, 982.58it/s] \n"
     ]
    },
    {
     "name": "stdout",
     "output_type": "stream",
     "text": [
      "Average Loss: 0.450700190047661\n"
     ]
    },
    {
     "name": "stderr",
     "output_type": "stream",
     "text": [
      "Epoch 32/50: 100%|██████████| 16700/16700 [00:16<00:00, 987.03it/s] \n"
     ]
    },
    {
     "name": "stdout",
     "output_type": "stream",
     "text": [
      "Average Loss: 0.45065437167079864\n"
     ]
    },
    {
     "name": "stderr",
     "output_type": "stream",
     "text": [
      "Epoch 33/50: 100%|██████████| 16700/16700 [00:16<00:00, 989.63it/s] \n"
     ]
    },
    {
     "name": "stdout",
     "output_type": "stream",
     "text": [
      "Average Loss: 0.45060958165876164\n"
     ]
    },
    {
     "name": "stderr",
     "output_type": "stream",
     "text": [
      "Epoch 34/50: 100%|██████████| 16700/16700 [00:17<00:00, 971.00it/s] \n"
     ]
    },
    {
     "name": "stdout",
     "output_type": "stream",
     "text": [
      "Average Loss: 0.45057881794646826\n"
     ]
    },
    {
     "name": "stderr",
     "output_type": "stream",
     "text": [
      "Epoch 35/50: 100%|██████████| 16700/16700 [00:17<00:00, 981.78it/s] \n"
     ]
    },
    {
     "name": "stdout",
     "output_type": "stream",
     "text": [
      "Average Loss: 0.4505295702047691\n"
     ]
    },
    {
     "name": "stderr",
     "output_type": "stream",
     "text": [
      "Epoch 36/50: 100%|██████████| 16700/16700 [00:16<00:00, 998.90it/s] \n"
     ]
    },
    {
     "name": "stdout",
     "output_type": "stream",
     "text": [
      "Average Loss: 0.4504866952632002\n"
     ]
    },
    {
     "name": "stderr",
     "output_type": "stream",
     "text": [
      "Epoch 37/50: 100%|██████████| 16700/16700 [00:16<00:00, 999.59it/s] \n"
     ]
    },
    {
     "name": "stdout",
     "output_type": "stream",
     "text": [
      "Average Loss: 0.4504655065088572\n"
     ]
    },
    {
     "name": "stderr",
     "output_type": "stream",
     "text": [
      "Epoch 38/50: 100%|██████████| 16700/16700 [00:16<00:00, 982.64it/s] \n"
     ]
    },
    {
     "name": "stdout",
     "output_type": "stream",
     "text": [
      "Average Loss: 0.45045141715221776\n"
     ]
    },
    {
     "name": "stderr",
     "output_type": "stream",
     "text": [
      "Epoch 39/50: 100%|██████████| 16700/16700 [00:17<00:00, 970.51it/s] \n"
     ]
    },
    {
     "name": "stdout",
     "output_type": "stream",
     "text": [
      "Average Loss: 0.45043016806690994\n"
     ]
    },
    {
     "name": "stderr",
     "output_type": "stream",
     "text": [
      "Epoch 40/50: 100%|██████████| 16700/16700 [00:18<00:00, 923.50it/s] \n"
     ]
    },
    {
     "name": "stdout",
     "output_type": "stream",
     "text": [
      "Average Loss: 0.45042728306647545\n"
     ]
    },
    {
     "name": "stderr",
     "output_type": "stream",
     "text": [
      "Epoch 41/50: 100%|██████████| 16700/16700 [00:16<00:00, 987.91it/s] \n"
     ]
    },
    {
     "name": "stdout",
     "output_type": "stream",
     "text": [
      "Average Loss: 0.45036280866154654\n"
     ]
    },
    {
     "name": "stderr",
     "output_type": "stream",
     "text": [
      "Epoch 42/50: 100%|██████████| 16700/16700 [00:17<00:00, 943.17it/s] \n"
     ]
    },
    {
     "name": "stdout",
     "output_type": "stream",
     "text": [
      "Average Loss: 0.45036032014532\n"
     ]
    },
    {
     "name": "stderr",
     "output_type": "stream",
     "text": [
      "Epoch 43/50: 100%|██████████| 16700/16700 [00:18<00:00, 907.97it/s] \n"
     ]
    },
    {
     "name": "stdout",
     "output_type": "stream",
     "text": [
      "Average Loss: 0.4503324497397431\n"
     ]
    },
    {
     "name": "stderr",
     "output_type": "stream",
     "text": [
      "Epoch 44/50: 100%|██████████| 16700/16700 [00:17<00:00, 958.74it/s] \n"
     ]
    },
    {
     "name": "stdout",
     "output_type": "stream",
     "text": [
      "Average Loss: 0.4503290280333893\n"
     ]
    },
    {
     "name": "stderr",
     "output_type": "stream",
     "text": [
      "Epoch 45/50: 100%|██████████| 16700/16700 [00:16<00:00, 996.12it/s] \n"
     ]
    },
    {
     "name": "stdout",
     "output_type": "stream",
     "text": [
      "Average Loss: 0.45029560220455694\n"
     ]
    },
    {
     "name": "stderr",
     "output_type": "stream",
     "text": [
      "Epoch 46/50: 100%|██████████| 16700/16700 [00:16<00:00, 987.43it/s] \n"
     ]
    },
    {
     "name": "stdout",
     "output_type": "stream",
     "text": [
      "Average Loss: 0.45028348362731363\n"
     ]
    },
    {
     "name": "stderr",
     "output_type": "stream",
     "text": [
      "Epoch 47/50: 100%|██████████| 16700/16700 [00:19<00:00, 843.79it/s]\n"
     ]
    },
    {
     "name": "stdout",
     "output_type": "stream",
     "text": [
      "Average Loss: 0.45028881413404814\n"
     ]
    },
    {
     "name": "stderr",
     "output_type": "stream",
     "text": [
      "Epoch 48/50: 100%|██████████| 16700/16700 [00:17<00:00, 928.27it/s] \n"
     ]
    },
    {
     "name": "stdout",
     "output_type": "stream",
     "text": [
      "Average Loss: 0.4502353549886963\n"
     ]
    },
    {
     "name": "stderr",
     "output_type": "stream",
     "text": [
      "Epoch 49/50: 100%|██████████| 16700/16700 [00:16<00:00, 999.47it/s] \n"
     ]
    },
    {
     "name": "stdout",
     "output_type": "stream",
     "text": [
      "Average Loss: 0.4502139671182561\n"
     ]
    },
    {
     "name": "stderr",
     "output_type": "stream",
     "text": [
      "Epoch 50/50: 100%|██████████| 16700/16700 [00:17<00:00, 960.34it/s] \n"
     ]
    },
    {
     "name": "stdout",
     "output_type": "stream",
     "text": [
      "Average Loss: 0.45016244088104385\n"
     ]
    },
    {
     "name": "stderr",
     "output_type": "stream",
     "text": [
      "Generating embeddings: 100%|██████████| 15961/15961 [17:00<00:00, 15.64it/s]\n",
      "Evaluations:   0%|          | 0/5 [00:00<?, ?it/s]\n",
      "Evaluating model:   0%|          | 0/15961 [00:00<?, ?it/s]\u001b[A\n",
      "Evaluating model:   0%|          | 1/15961 [00:00<50:45,  5.24it/s]\u001b[A\n",
      "Evaluating model:   0%|          | 47/15961 [00:00<01:19, 199.29it/s]\u001b[A\n",
      "Evaluating model:   1%|          | 92/15961 [00:00<00:54, 292.34it/s]\u001b[A\n",
      "Evaluating model:   1%|          | 134/15961 [00:00<00:47, 335.28it/s]\u001b[A\n",
      "Evaluating model:   1%|          | 179/15961 [00:00<00:42, 372.49it/s]\u001b[A\n",
      "Evaluating model:   1%|▏         | 223/15961 [00:00<00:40, 391.78it/s]\u001b[A\n",
      "Evaluating model:   2%|▏         | 268/15961 [00:00<00:38, 409.77it/s]\u001b[A\n",
      "Evaluating model:   2%|▏         | 311/15961 [00:00<00:38, 403.26it/s]\u001b[A\n",
      "Evaluating model:   2%|▏         | 355/15961 [00:01<00:37, 411.41it/s]\u001b[A\n",
      "Evaluating model:   2%|▏         | 399/15961 [00:01<00:37, 418.01it/s]\u001b[A\n",
      "Evaluating model:   3%|▎         | 442/15961 [00:01<00:38, 405.98it/s]\u001b[A\n",
      "Evaluating model:   3%|▎         | 486/15961 [00:01<00:37, 413.57it/s]\u001b[A\n",
      "Evaluating model:   3%|▎         | 530/15961 [00:01<00:36, 419.99it/s]\u001b[A\n",
      "Evaluating model:   4%|▎         | 575/15961 [00:01<00:36, 427.04it/s]\u001b[A\n",
      "Evaluating model:   4%|▍         | 620/15961 [00:01<00:35, 430.91it/s]\u001b[A\n",
      "Evaluating model:   4%|▍         | 665/15961 [00:01<00:35, 434.40it/s]\u001b[A\n",
      "Evaluating model:   4%|▍         | 709/15961 [00:01<00:36, 422.20it/s]\u001b[A\n",
      "Evaluating model:   5%|▍         | 754/15961 [00:01<00:35, 428.35it/s]\u001b[A\n",
      "Evaluating model:   5%|▌         | 799/15961 [00:02<00:35, 432.18it/s]\u001b[A\n",
      "Evaluating model:   5%|▌         | 844/15961 [00:02<00:34, 435.79it/s]\u001b[A\n",
      "Evaluating model:   6%|▌         | 888/15961 [00:02<00:34, 436.70it/s]\u001b[A\n",
      "Evaluating model:   6%|▌         | 932/15961 [00:02<00:34, 435.36it/s]\u001b[A\n",
      "Evaluating model:   6%|▌         | 976/15961 [00:02<00:35, 418.80it/s]\u001b[A\n",
      "Evaluating model:   6%|▋         | 1021/15961 [00:02<00:35, 425.07it/s]\u001b[A\n",
      "Evaluating model:   7%|▋         | 1065/15961 [00:02<00:34, 429.11it/s]\u001b[A\n",
      "Evaluating model:   7%|▋         | 1109/15961 [00:02<00:34, 430.90it/s]\u001b[A\n",
      "Evaluating model:   7%|▋         | 1153/15961 [00:02<00:34, 429.61it/s]\u001b[A\n",
      "Evaluating model:   8%|▊         | 1313/15961 [00:02<00:18, 773.52it/s]\u001b[A\n",
      "Evaluating model:  10%|▉         | 1518/15961 [00:03<00:12, 1151.04it/s]\u001b[A\n",
      "Evaluating model:  11%|█         | 1758/15961 [00:03<00:09, 1520.57it/s]\u001b[A\n",
      "Evaluating model:  13%|█▎        | 2003/15961 [00:03<00:07, 1797.20it/s]\u001b[A\n",
      "Evaluating model:  14%|█▍        | 2252/15961 [00:03<00:06, 2002.10it/s]\u001b[A\n",
      "Evaluating model:  16%|█▌        | 2502/15961 [00:03<00:06, 2148.08it/s]\u001b[A\n",
      "Evaluating model:  17%|█▋        | 2749/15961 [00:03<00:05, 2241.98it/s]\u001b[A\n",
      "Evaluating model:  19%|█▊        | 2980/15961 [00:03<00:05, 2261.35it/s]\u001b[A\n",
      "Evaluating model:  20%|██        | 3226/15961 [00:03<00:05, 2318.60it/s]\u001b[A\n",
      "Evaluating model:  22%|██▏       | 3459/15961 [00:03<00:05, 2273.60it/s]\u001b[A\n",
      "Evaluating model:  23%|██▎       | 3687/15961 [00:03<00:05, 2233.75it/s]\u001b[A\n",
      "Evaluating model:  25%|██▍       | 3911/15961 [00:04<00:05, 2211.13it/s]\u001b[A\n",
      "Evaluating model:  26%|██▌       | 4133/15961 [00:04<00:05, 2132.81it/s]\u001b[A\n",
      "Evaluating model:  27%|██▋       | 4383/15961 [00:04<00:05, 2236.65it/s]\u001b[A\n",
      "Evaluating model:  29%|██▉       | 4631/15961 [00:04<00:04, 2305.06it/s]\u001b[A\n",
      "Evaluating model:  30%|███       | 4863/15961 [00:04<00:04, 2251.34it/s]\u001b[A\n",
      "Evaluating model:  32%|███▏      | 5097/15961 [00:04<00:04, 2274.54it/s]\u001b[A\n",
      "Evaluating model:  34%|███▎      | 5349/15961 [00:04<00:04, 2346.02it/s]\u001b[A\n",
      "Evaluating model:  35%|███▍      | 5585/15961 [00:04<00:04, 2313.88it/s]\u001b[A\n",
      "Evaluating model:  37%|███▋      | 5840/15961 [00:04<00:04, 2381.68it/s]\u001b[A\n",
      "Evaluating model:  38%|███▊      | 6091/15961 [00:05<00:04, 2417.43it/s]\u001b[A\n",
      "Evaluating model:  40%|███▉      | 6343/15961 [00:05<00:03, 2445.79it/s]\u001b[A\n",
      "Evaluating model:  41%|████▏     | 6596/15961 [00:05<00:03, 2470.03it/s]\u001b[A\n",
      "Evaluating model:  43%|████▎     | 6844/15961 [00:05<00:03, 2389.73it/s]\u001b[A\n",
      "Evaluating model:  44%|████▍     | 7097/15961 [00:05<00:03, 2428.04it/s]\u001b[A\n",
      "Evaluating model:  46%|████▌     | 7350/15961 [00:05<00:03, 2457.42it/s]\u001b[A\n",
      "Evaluating model:  48%|████▊     | 7602/15961 [00:05<00:03, 2474.41it/s]\u001b[A\n",
      "Evaluating model:  49%|████▉     | 7853/15961 [00:05<00:03, 2482.19it/s]\u001b[A\n",
      "Evaluating model:  51%|█████     | 8105/15961 [00:05<00:03, 2490.79it/s]\u001b[A\n",
      "Evaluating model:  52%|█████▏    | 8357/15961 [00:05<00:03, 2497.51it/s]\u001b[A\n",
      "Evaluating model:  54%|█████▍    | 8607/15961 [00:06<00:03, 2418.85it/s]\u001b[A\n",
      "Evaluating model:  55%|█████▌    | 8857/15961 [00:06<00:02, 2442.42it/s]\u001b[A\n",
      "Evaluating model:  57%|█████▋    | 9107/15961 [00:06<00:02, 2459.32it/s]\u001b[A\n",
      "Evaluating model:  59%|█████▊    | 9358/15961 [00:06<00:02, 2471.59it/s]\u001b[A\n",
      "Evaluating model:  60%|██████    | 9609/15961 [00:06<00:02, 2480.29it/s]\u001b[A\n",
      "Evaluating model:  62%|██████▏   | 9859/15961 [00:06<00:02, 2483.45it/s]\u001b[A\n",
      "Evaluating model:  63%|██████▎   | 10108/15961 [00:06<00:02, 2409.20it/s]\u001b[A\n",
      "Evaluating model:  65%|██████▍   | 10358/15961 [00:06<00:02, 2435.33it/s]\u001b[A\n",
      "Evaluating model:  66%|██████▋   | 10608/15961 [00:06<00:02, 2452.47it/s]\u001b[A\n",
      "Evaluating model:  68%|██████▊   | 10857/15961 [00:06<00:02, 2463.36it/s]\u001b[A\n",
      "Evaluating model:  70%|██████▉   | 11106/15961 [00:07<00:01, 2470.35it/s]\u001b[A\n",
      "Evaluating model:  71%|███████   | 11354/15961 [00:07<00:03, 1426.70it/s]\u001b[A\n",
      "Evaluating model:  72%|███████▏  | 11549/15961 [00:07<00:03, 1405.66it/s]\u001b[A\n",
      "Evaluating model:  74%|███████▍  | 11801/15961 [00:07<00:02, 1633.78it/s]\u001b[A\n",
      "Evaluating model:  76%|███████▌  | 12054/15961 [00:07<00:02, 1836.95it/s]\u001b[A\n",
      "Evaluating model:  77%|███████▋  | 12307/15961 [00:07<00:01, 2004.88it/s]\u001b[A\n",
      "Evaluating model:  79%|███████▊  | 12534/15961 [00:08<00:01, 1826.48it/s]\u001b[A\n",
      "Evaluating model:  80%|███████▉  | 12738/15961 [00:08<00:02, 1396.46it/s]\u001b[A\n",
      "Evaluating model:  81%|████████  | 12906/15961 [00:08<00:02, 1060.14it/s]\u001b[A\n",
      "Evaluating model:  82%|████████▏ | 13042/15961 [00:08<00:03, 843.84it/s] \u001b[A\n",
      "Evaluating model:  83%|████████▎ | 13257/15961 [00:08<00:02, 1053.78it/s]\u001b[A\n",
      "Evaluating model:  84%|████████▍ | 13479/15961 [00:09<00:01, 1271.24it/s]\u001b[A\n",
      "Evaluating model:  86%|████████▌ | 13691/15961 [00:09<00:01, 1448.96it/s]\u001b[A\n",
      "Evaluating model:  87%|████████▋ | 13894/15961 [00:09<00:01, 1582.38it/s]\u001b[A\n",
      "Evaluating model:  88%|████████▊ | 14108/15961 [00:09<00:01, 1719.45it/s]\u001b[A\n",
      "Evaluating model:  90%|████████▉ | 14303/15961 [00:09<00:00, 1761.40it/s]\u001b[A\n",
      "Evaluating model:  91%|█████████ | 14512/15961 [00:09<00:00, 1849.79it/s]\u001b[A\n",
      "Evaluating model:  92%|█████████▏| 14722/15961 [00:09<00:00, 1917.60it/s]\u001b[A\n",
      "Evaluating model:  94%|█████████▎| 14938/15961 [00:09<00:00, 1986.13it/s]\u001b[A\n",
      "Evaluating model:  95%|█████████▍| 15144/15961 [00:09<00:00, 2004.28it/s]\u001b[A\n",
      "Evaluating model:  96%|█████████▌| 15350/15961 [00:09<00:00, 1954.53it/s]\u001b[A\n",
      "Evaluating model:  97%|█████████▋| 15559/15961 [00:10<00:00, 1991.83it/s]\u001b[A\n",
      "Evaluating model: 100%|██████████| 15961/15961 [00:10<00:00, 1535.44it/s]\u001b[A\n",
      "Evaluations:  20%|██        | 1/5 [00:12<00:48, 12.20s/it]\n",
      "Evaluating model:   0%|          | 0/15961 [00:00<?, ?it/s]\u001b[A\n",
      "Evaluating model:   0%|          | 3/15961 [00:00<08:52, 29.94it/s]\u001b[A\n",
      "Evaluating model:   0%|          | 24/15961 [00:00<01:57, 135.63it/s]\u001b[A\n",
      "Evaluating model:   0%|          | 44/15961 [00:00<01:36, 164.86it/s]\u001b[A\n",
      "Evaluating model:   2%|▏         | 242/15961 [00:00<00:17, 879.28it/s]\u001b[A\n",
      "Evaluating model:   3%|▎         | 448/15961 [00:00<00:11, 1303.52it/s]\u001b[A\n",
      "Evaluating model:   4%|▍         | 621/15961 [00:00<00:10, 1446.85it/s]\u001b[A\n",
      "Evaluating model:   5%|▌         | 820/15961 [00:00<00:09, 1623.40it/s]\u001b[A\n",
      "Evaluating model:   6%|▋         | 1023/15961 [00:00<00:08, 1752.03it/s]\u001b[A\n",
      "Evaluating model:   8%|▊         | 1229/15961 [00:00<00:07, 1846.93it/s]\u001b[A\n",
      "Evaluating model:   9%|▉         | 1434/15961 [00:01<00:07, 1907.96it/s]\u001b[A\n",
      "Evaluating model:  10%|█         | 1642/15961 [00:01<00:07, 1958.61it/s]\u001b[A\n",
      "Evaluating model:  12%|█▏        | 1838/15961 [00:01<00:07, 1918.76it/s]\u001b[A\n",
      "Evaluating model:  13%|█▎        | 2046/15961 [00:01<00:07, 1965.48it/s]\u001b[A\n",
      "Evaluating model:  14%|█▍        | 2252/15961 [00:01<00:06, 1992.75it/s]\u001b[A\n",
      "Evaluating model:  15%|█▌        | 2458/15961 [00:01<00:06, 2011.41it/s]\u001b[A\n",
      "Evaluating model:  17%|█▋        | 2663/15961 [00:01<00:06, 2021.59it/s]\u001b[A\n",
      "Evaluating model:  18%|█▊        | 2868/15961 [00:01<00:06, 2027.59it/s]\u001b[A\n",
      "Evaluating model:  19%|█▉        | 3071/15961 [00:01<00:06, 1961.80it/s]\u001b[A\n",
      "Evaluating model:  21%|██        | 3278/15961 [00:01<00:06, 1991.36it/s]\u001b[A\n",
      "Evaluating model:  22%|██▏       | 3484/15961 [00:02<00:06, 2010.09it/s]\u001b[A\n",
      "Evaluating model:  23%|██▎       | 3691/15961 [00:02<00:06, 2025.35it/s]\u001b[A\n",
      "Evaluating model:  24%|██▍       | 3898/15961 [00:02<00:05, 2036.37it/s]\u001b[A\n",
      "Evaluating model:  26%|██▌       | 4102/15961 [00:02<00:05, 1977.99it/s]\u001b[A\n",
      "Evaluating model:  27%|██▋       | 4312/15961 [00:02<00:05, 2012.49it/s]\u001b[A\n",
      "Evaluating model:  28%|██▊       | 4518/15961 [00:02<00:05, 2023.88it/s]\u001b[A\n",
      "Evaluating model:  30%|██▉       | 4722/15961 [00:02<00:05, 2027.48it/s]\u001b[A\n",
      "Evaluating model:  31%|███       | 4926/15961 [00:02<00:05, 2029.22it/s]\u001b[A\n",
      "Evaluating model:  32%|███▏      | 5130/15961 [00:02<00:05, 1958.28it/s]\u001b[A\n",
      "Evaluating model:  33%|███▎      | 5336/15961 [00:02<00:05, 1987.39it/s]\u001b[A\n",
      "Evaluating model:  35%|███▍      | 5548/15961 [00:03<00:05, 2025.44it/s]\u001b[A\n",
      "Evaluating model:  36%|███▌      | 5755/15961 [00:03<00:05, 2038.11it/s]\u001b[A\n",
      "Evaluating model:  37%|███▋      | 5964/15961 [00:03<00:04, 2052.11it/s]\u001b[A\n",
      "Evaluating model:  39%|███▊      | 6170/15961 [00:03<00:04, 2050.53it/s]\u001b[A\n",
      "Evaluating model:  40%|███▉      | 6377/15961 [00:03<00:04, 2055.02it/s]\u001b[A\n",
      "Evaluating model:  41%|████      | 6583/15961 [00:03<00:04, 1995.34it/s]\u001b[A\n",
      "Evaluating model:  43%|████▎     | 6792/15961 [00:03<00:04, 2022.86it/s]\u001b[A\n",
      "Evaluating model:  44%|████▍     | 6997/15961 [00:03<00:04, 2030.35it/s]\u001b[A\n",
      "Evaluating model:  45%|████▌     | 7206/15961 [00:03<00:04, 2045.30it/s]\u001b[A\n",
      "Evaluating model:  46%|████▋     | 7413/15961 [00:03<00:04, 2050.31it/s]\u001b[A\n",
      "Evaluating model:  48%|████▊     | 7623/15961 [00:04<00:04, 2063.08it/s]\u001b[A\n",
      "Evaluating model:  49%|████▉     | 7830/15961 [00:04<00:04, 1993.65it/s]\u001b[A\n",
      "Evaluating model:  50%|█████     | 8037/15961 [00:04<00:03, 2014.51it/s]\u001b[A\n",
      "Evaluating model:  52%|█████▏    | 8246/15961 [00:04<00:03, 2033.89it/s]\u001b[A\n",
      "Evaluating model:  53%|█████▎    | 8456/15961 [00:04<00:03, 2052.24it/s]\u001b[A\n",
      "Evaluating model:  54%|█████▍    | 8666/15961 [00:04<00:03, 2064.62it/s]\u001b[A\n",
      "Evaluating model:  56%|█████▌    | 8873/15961 [00:04<00:05, 1259.30it/s]\u001b[A\n",
      "Evaluating model:  57%|█████▋    | 9095/15961 [00:04<00:04, 1456.21it/s]\u001b[A\n",
      "Evaluating model:  59%|█████▊    | 9348/15961 [00:05<00:03, 1699.08it/s]\u001b[A\n",
      "Evaluating model:  60%|██████    | 9600/15961 [00:05<00:03, 1898.68it/s]\u001b[A\n",
      "Evaluating model:  62%|██████▏   | 9851/15961 [00:05<00:02, 2056.41it/s]\u001b[A\n",
      "Evaluating model:  63%|██████▎   | 10104/15961 [00:05<00:02, 2183.73it/s]\u001b[A\n",
      "Evaluating model:  65%|██████▍   | 10339/15961 [00:05<00:02, 2197.77it/s]\u001b[A\n",
      "Evaluating model:  66%|██████▋   | 10592/15961 [00:05<00:02, 2289.74it/s]\u001b[A\n",
      "Evaluating model:  68%|██████▊   | 10845/15961 [00:05<00:02, 2356.41it/s]\u001b[A\n",
      "Evaluating model:  70%|██████▉   | 11097/15961 [00:05<00:02, 2402.19it/s]\u001b[A\n",
      "Evaluating model:  71%|███████   | 11351/15961 [00:05<00:01, 2440.45it/s]\u001b[A\n",
      "Evaluating model:  73%|███████▎  | 11599/15961 [00:06<00:01, 2376.43it/s]\u001b[A\n",
      "Evaluating model:  74%|███████▍  | 11852/15961 [00:06<00:01, 2420.89it/s]\u001b[A\n",
      "Evaluating model:  76%|███████▌  | 12106/15961 [00:06<00:01, 2453.44it/s]\u001b[A\n",
      "Evaluating model:  77%|███████▋  | 12359/15961 [00:06<00:01, 2474.82it/s]\u001b[A\n",
      "Evaluating model:  79%|███████▉  | 12612/15961 [00:06<00:01, 2490.79it/s]\u001b[A\n",
      "Evaluating model:  81%|████████  | 12865/15961 [00:06<00:01, 2499.67it/s]\u001b[A\n",
      "Evaluating model:  82%|████████▏ | 13116/15961 [00:06<00:01, 2392.30it/s]\u001b[A\n",
      "Evaluating model:  84%|████████▎ | 13357/15961 [00:06<00:01, 1382.16it/s]\u001b[A\n",
      "Evaluating model:  85%|████████▍ | 13564/15961 [00:07<00:01, 1514.34it/s]\u001b[A\n",
      "Evaluating model:  86%|████████▋ | 13774/15961 [00:07<00:01, 1639.68it/s]\u001b[A\n",
      "Evaluating model:  88%|████████▊ | 13980/15961 [00:07<00:01, 1737.46it/s]\u001b[A\n",
      "Evaluating model:  89%|████████▉ | 14186/15961 [00:07<00:00, 1817.59it/s]\u001b[A\n",
      "Evaluating model:  90%|█████████ | 14389/15961 [00:07<00:00, 1820.19it/s]\u001b[A\n",
      "Evaluating model:  91%|█████████▏| 14600/15961 [00:07<00:00, 1896.91it/s]\u001b[A\n",
      "Evaluating model:  93%|█████████▎| 14811/15961 [00:07<00:00, 1954.24it/s]\u001b[A\n",
      "Evaluating model:  94%|█████████▍| 15019/15961 [00:07<00:00, 1989.51it/s]\u001b[A\n",
      "Evaluating model:  95%|█████████▌| 15229/15961 [00:07<00:00, 2018.98it/s]\u001b[A\n",
      "Evaluating model:  97%|█████████▋| 15440/15961 [00:07<00:00, 2043.38it/s]\u001b[A\n",
      "Evaluating model:  98%|█████████▊| 15648/15961 [00:08<00:00, 1991.90it/s]\u001b[A\n",
      "Evaluating model: 100%|██████████| 15961/15961 [00:08<00:00, 1881.13it/s]\u001b[A\n",
      "Evaluations:  40%|████      | 2/5 [00:22<00:33, 11.03s/it]\n",
      "Evaluating model:   0%|          | 0/15961 [00:00<?, ?it/s]\u001b[A\n",
      "Evaluating model:   0%|          | 1/15961 [00:00<50:15,  5.29it/s]\u001b[A\n",
      "Evaluating model:   0%|          | 38/15961 [00:00<01:38, 162.08it/s]\u001b[A\n",
      "Evaluating model:   2%|▏         | 249/15961 [00:00<00:17, 903.04it/s]\u001b[A\n",
      "Evaluating model:   3%|▎         | 460/15961 [00:00<00:11, 1325.84it/s]\u001b[A\n",
      "Evaluating model:   4%|▍         | 643/15961 [00:00<00:10, 1494.30it/s]\u001b[A\n",
      "Evaluating model:   5%|▌         | 851/15961 [00:00<00:08, 1681.75it/s]\u001b[A\n",
      "Evaluating model:   7%|▋         | 1060/15961 [00:00<00:08, 1809.31it/s]\u001b[A\n",
      "Evaluating model:   8%|▊         | 1269/15961 [00:00<00:07, 1895.48it/s]\u001b[A\n",
      "Evaluating model:   9%|▉         | 1478/15961 [00:00<00:07, 1952.71it/s]\u001b[A\n",
      "Evaluating model:  11%|█         | 1677/15961 [00:01<00:07, 1930.31it/s]\u001b[A\n",
      "Evaluating model:  12%|█▏        | 1885/15961 [00:01<00:07, 1973.13it/s]\u001b[A\n",
      "Evaluating model:  13%|█▎        | 2094/15961 [00:01<00:06, 2005.37it/s]\u001b[A\n",
      "Evaluating model:  14%|█▍        | 2304/15961 [00:01<00:06, 2031.82it/s]\u001b[A\n",
      "Evaluating model:  16%|█▌        | 2512/15961 [00:01<00:06, 2044.34it/s]\u001b[A\n",
      "Evaluating model:  17%|█▋        | 2718/15961 [00:01<00:06, 1983.41it/s]\u001b[A\n",
      "Evaluating model:  18%|█▊        | 2927/15961 [00:01<00:06, 2014.50it/s]\u001b[A\n",
      "Evaluating model:  20%|█▉        | 3136/15961 [00:01<00:06, 2036.00it/s]\u001b[A\n",
      "Evaluating model:  21%|██        | 3343/15961 [00:01<00:06, 2044.96it/s]\u001b[A\n",
      "Evaluating model:  22%|██▏       | 3550/15961 [00:02<00:06, 2051.65it/s]\u001b[A\n",
      "Evaluating model:  24%|██▎       | 3756/15961 [00:02<00:06, 1997.01it/s]\u001b[A\n",
      "Evaluating model:  25%|██▍       | 3964/15961 [00:02<00:05, 2019.42it/s]\u001b[A\n",
      "Evaluating model:  26%|██▌       | 4174/15961 [00:02<00:05, 2042.37it/s]\u001b[A\n",
      "Evaluating model:  27%|██▋       | 4382/15961 [00:02<00:05, 2051.95it/s]\u001b[A\n",
      "Evaluating model:  29%|██▉       | 4593/15961 [00:02<00:05, 2067.07it/s]\u001b[A\n",
      "Evaluating model:  30%|███       | 4800/15961 [00:02<00:05, 1973.80it/s]\u001b[A\n",
      "Evaluating model:  31%|███▏      | 5010/15961 [00:02<00:05, 2007.67it/s]\u001b[A\n",
      "Evaluating model:  33%|███▎      | 5222/15961 [00:02<00:05, 2038.65it/s]\u001b[A\n",
      "Evaluating model:  34%|███▍      | 5430/15961 [00:02<00:05, 2048.92it/s]\u001b[A\n",
      "Evaluating model:  35%|███▌      | 5638/15961 [00:03<00:05, 2055.98it/s]\u001b[A\n",
      "Evaluating model:  37%|███▋      | 5846/15961 [00:03<00:04, 2062.23it/s]\u001b[A\n",
      "Evaluating model:  38%|███▊      | 6053/15961 [00:03<00:05, 1974.18it/s]\u001b[A\n",
      "Evaluating model:  39%|███▉      | 6260/15961 [00:03<00:04, 2000.07it/s]\u001b[A\n",
      "Evaluating model:  41%|████      | 6468/15961 [00:03<00:04, 2022.85it/s]\u001b[A\n",
      "Evaluating model:  42%|████▏     | 6679/15961 [00:03<00:04, 2047.23it/s]\u001b[A\n",
      "Evaluating model:  43%|████▎     | 6889/15961 [00:03<00:04, 2061.20it/s]\u001b[A\n",
      "Evaluating model:  44%|████▍     | 7099/15961 [00:03<00:04, 2071.65it/s]\u001b[A\n",
      "Evaluating model:  46%|████▌     | 7307/15961 [00:03<00:04, 1999.47it/s]\u001b[A\n",
      "Evaluating model:  47%|████▋     | 7520/15961 [00:03<00:04, 2035.11it/s]\u001b[A\n",
      "Evaluating model:  48%|████▊     | 7727/15961 [00:04<00:04, 2042.75it/s]\u001b[A\n",
      "Evaluating model:  50%|████▉     | 7935/15961 [00:04<00:03, 2053.32it/s]\u001b[A\n",
      "Evaluating model:  51%|█████     | 8144/15961 [00:04<00:03, 2061.59it/s]\u001b[A\n",
      "Evaluating model:  52%|█████▏    | 8352/15961 [00:04<00:03, 2065.07it/s]\u001b[A\n",
      "Evaluating model:  54%|█████▎    | 8559/15961 [00:04<00:03, 1992.90it/s]\u001b[A\n",
      "Evaluating model:  55%|█████▍    | 8759/15961 [00:04<00:05, 1417.95it/s]\u001b[A\n",
      "Evaluating model:  56%|█████▋    | 8981/15961 [00:04<00:04, 1599.73it/s]\u001b[A\n",
      "Evaluating model:  58%|█████▊    | 9234/15961 [00:04<00:03, 1827.08it/s]\u001b[A\n",
      "Evaluating model:  59%|█████▉    | 9487/15961 [00:05<00:03, 2008.61it/s]\u001b[A\n",
      "Evaluating model:  61%|██████    | 9740/15961 [00:05<00:02, 2149.17it/s]\u001b[A\n",
      "Evaluating model:  63%|██████▎   | 9992/15961 [00:05<00:02, 2251.89it/s]\u001b[A\n",
      "Evaluating model:  64%|██████▍   | 10228/15961 [00:05<00:02, 2210.91it/s]\u001b[A\n",
      "Evaluating model:  66%|██████▌   | 10481/15961 [00:05<00:02, 2299.91it/s]\u001b[A\n",
      "Evaluating model:  67%|██████▋   | 10735/15961 [00:05<00:02, 2366.76it/s]\u001b[A\n",
      "Evaluating model:  69%|██████▉   | 10987/15961 [00:05<00:02, 2409.09it/s]\u001b[A\n",
      "Evaluating model:  70%|███████   | 11241/15961 [00:05<00:01, 2446.34it/s]\u001b[A\n",
      "Evaluating model:  72%|███████▏  | 11496/15961 [00:05<00:01, 2474.14it/s]\u001b[A\n",
      "Evaluating model:  74%|███████▎  | 11751/15961 [00:05<00:01, 2494.77it/s]\u001b[A\n",
      "Evaluating model:  75%|███████▌  | 12002/15961 [00:06<00:01, 2427.71it/s]\u001b[A\n",
      "Evaluating model:  77%|███████▋  | 12256/15961 [00:06<00:01, 2457.70it/s]\u001b[A\n",
      "Evaluating model:  78%|███████▊  | 12510/15961 [00:06<00:01, 2480.86it/s]\u001b[A\n",
      "Evaluating model:  80%|███████▉  | 12764/15961 [00:06<00:01, 2496.79it/s]\u001b[A\n",
      "Evaluating model:  82%|████████▏ | 13015/15961 [00:06<00:01, 2262.40it/s]\u001b[A\n",
      "Evaluating model:  83%|████████▎ | 13246/15961 [00:06<00:01, 1538.27it/s]\u001b[A\n",
      "Evaluating model:  84%|████████▍ | 13458/15961 [00:06<00:01, 1660.01it/s]\u001b[A\n",
      "Evaluating model:  86%|████████▌ | 13668/15961 [00:06<00:01, 1761.53it/s]\u001b[A\n",
      "Evaluating model:  87%|████████▋ | 13877/15961 [00:07<00:01, 1843.04it/s]\u001b[A\n",
      "Evaluating model:  88%|████████▊ | 14083/15961 [00:07<00:00, 1899.40it/s]\u001b[A\n",
      "Evaluating model:  90%|████████▉ | 14287/15961 [00:07<00:00, 1867.89it/s]\u001b[A\n",
      "Evaluating model:  91%|█████████ | 14495/15961 [00:07<00:00, 1924.77it/s]\u001b[A\n",
      "Evaluating model:  92%|█████████▏| 14704/15961 [00:07<00:00, 1970.48it/s]\u001b[A\n",
      "Evaluating model:  93%|█████████▎| 14915/15961 [00:07<00:00, 2009.45it/s]\u001b[A\n",
      "Evaluating model:  95%|█████████▍| 15127/15961 [00:07<00:00, 2040.75it/s]\u001b[A\n",
      "Evaluating model:  96%|█████████▌| 15335/15961 [00:07<00:00, 2052.14it/s]\u001b[A\n",
      "Evaluating model:  97%|█████████▋| 15543/15961 [00:07<00:00, 1958.82it/s]\u001b[A\n",
      "Evaluating model:  99%|█████████▊| 15752/15961 [00:07<00:00, 1994.59it/s]\u001b[A\n",
      "Evaluating model: 100%|██████████| 15961/15961 [00:08<00:00, 1904.24it/s]\u001b[A\n",
      "Evaluations:  60%|██████    | 3/5 [00:32<00:21, 10.61s/it]\n",
      "Evaluating model:   0%|          | 0/15961 [00:00<?, ?it/s]\u001b[A\n",
      "Evaluating model:   0%|          | 18/15961 [00:00<02:26, 109.10it/s]\u001b[A\n",
      "Evaluating model:   0%|          | 41/15961 [00:00<01:36, 164.96it/s]\u001b[A\n",
      "Evaluating model:   2%|▏         | 250/15961 [00:00<00:16, 930.44it/s]\u001b[A\n",
      "Evaluating model:   3%|▎         | 429/15961 [00:00<00:12, 1240.65it/s]\u001b[A\n",
      "Evaluating model:   4%|▍         | 637/15961 [00:00<00:10, 1525.44it/s]\u001b[A\n",
      "Evaluating model:   5%|▌         | 850/15961 [00:00<00:08, 1722.35it/s]\u001b[A\n",
      "Evaluating model:   7%|▋         | 1063/15961 [00:00<00:08, 1851.81it/s]\u001b[A\n",
      "Evaluating model:   8%|▊         | 1276/15961 [00:00<00:07, 1936.30it/s]\u001b[A\n",
      "Evaluating model:   9%|▉         | 1485/15961 [00:00<00:07, 1982.82it/s]\u001b[A\n",
      "Evaluating model:  11%|█         | 1686/15961 [00:01<00:07, 1931.33it/s]\u001b[A\n",
      "Evaluating model:  12%|█▏        | 1895/15961 [00:01<00:07, 1976.27it/s]\u001b[A\n",
      "Evaluating model:  13%|█▎        | 2103/15961 [00:01<00:06, 2006.55it/s]\u001b[A\n",
      "Evaluating model:  14%|█▍        | 2313/15961 [00:01<00:06, 2033.61it/s]\u001b[A\n",
      "Evaluating model:  16%|█▌        | 2521/15961 [00:01<00:06, 2045.49it/s]\u001b[A\n",
      "Evaluating model:  17%|█▋        | 2732/15961 [00:01<00:06, 2063.00it/s]\u001b[A\n",
      "Evaluating model:  18%|█▊        | 2943/15961 [00:01<00:06, 2074.79it/s]\u001b[A\n",
      "Evaluating model:  20%|█▉        | 3151/15961 [00:01<00:06, 1981.76it/s]\u001b[A\n",
      "Evaluating model:  21%|██        | 3360/15961 [00:01<00:06, 2012.23it/s]\u001b[A\n",
      "Evaluating model:  22%|██▏       | 3570/15961 [00:01<00:06, 2036.55it/s]\u001b[A\n",
      "Evaluating model:  24%|██▎       | 3778/15961 [00:02<00:05, 2048.37it/s]\u001b[A\n",
      "Evaluating model:  25%|██▍       | 3987/15961 [00:02<00:05, 2059.55it/s]\u001b[A\n",
      "Evaluating model:  26%|██▋       | 4195/15961 [00:02<00:05, 2062.72it/s]\u001b[A\n",
      "Evaluating model:  28%|██▊       | 4402/15961 [00:02<00:05, 2009.64it/s]\u001b[A\n",
      "Evaluating model:  29%|██▉       | 4613/15961 [00:02<00:05, 2036.67it/s]\u001b[A\n",
      "Evaluating model:  30%|███       | 4822/15961 [00:02<00:05, 2049.74it/s]\u001b[A\n",
      "Evaluating model:  32%|███▏      | 5031/15961 [00:02<00:05, 2060.23it/s]\u001b[A\n",
      "Evaluating model:  33%|███▎      | 5239/15961 [00:02<00:05, 2065.88it/s]\u001b[A\n",
      "Evaluating model:  34%|███▍      | 5447/15961 [00:02<00:05, 2070.05it/s]\u001b[A\n",
      "Evaluating model:  35%|███▌      | 5655/15961 [00:03<00:05, 1984.88it/s]\u001b[A\n",
      "Evaluating model:  37%|███▋      | 5864/15961 [00:03<00:05, 2013.42it/s]\u001b[A\n",
      "Evaluating model:  38%|███▊      | 6072/15961 [00:03<00:04, 2031.74it/s]\u001b[A\n",
      "Evaluating model:  39%|███▉      | 6280/15961 [00:03<00:04, 2043.42it/s]\u001b[A\n",
      "Evaluating model:  41%|████      | 6492/15961 [00:03<00:04, 2065.70it/s]\u001b[A\n",
      "Evaluating model:  42%|████▏     | 6700/15961 [00:03<00:04, 2067.15it/s]\u001b[A\n",
      "Evaluating model:  43%|████▎     | 6907/15961 [00:03<00:04, 2001.76it/s]\u001b[A\n",
      "Evaluating model:  45%|████▍     | 7118/15961 [00:03<00:04, 2031.92it/s]\u001b[A\n",
      "Evaluating model:  46%|████▌     | 7329/15961 [00:03<00:04, 2052.24it/s]\u001b[A\n",
      "Evaluating model:  47%|████▋     | 7539/15961 [00:03<00:04, 2063.50it/s]\u001b[A\n",
      "Evaluating model:  49%|████▊     | 7746/15961 [00:04<00:04, 2045.47it/s]\u001b[A\n",
      "Evaluating model:  50%|████▉     | 7951/15961 [00:04<00:04, 1993.10it/s]\u001b[A\n",
      "Evaluating model:  51%|█████     | 8161/15961 [00:04<00:03, 2023.06it/s]\u001b[A\n",
      "Evaluating model:  53%|█████▎    | 8382/15961 [00:04<00:03, 2075.48it/s]\u001b[A\n",
      "Evaluating model:  54%|█████▍    | 8590/15961 [00:04<00:05, 1456.07it/s]\u001b[A\n",
      "Evaluating model:  55%|█████▌    | 8840/15961 [00:04<00:04, 1693.74it/s]\u001b[A\n",
      "Evaluating model:  57%|█████▋    | 9051/15961 [00:04<00:03, 1795.42it/s]\u001b[A\n",
      "Evaluating model:  58%|█████▊    | 9303/15961 [00:04<00:03, 1983.44it/s]\u001b[A\n",
      "Evaluating model:  60%|█████▉    | 9555/15961 [00:04<00:03, 2127.35it/s]\u001b[A\n",
      "Evaluating model:  61%|██████▏   | 9805/15961 [00:05<00:02, 2230.87it/s]\u001b[A\n",
      "Evaluating model:  63%|██████▎   | 10057/15961 [00:05<00:02, 2311.31it/s]\u001b[A\n",
      "Evaluating model:  65%|██████▍   | 10309/15961 [00:05<00:02, 2370.72it/s]\u001b[A\n",
      "Evaluating model:  66%|██████▌   | 10561/15961 [00:05<00:02, 2412.40it/s]\u001b[A\n",
      "Evaluating model:  68%|██████▊   | 10807/15961 [00:05<00:02, 2338.92it/s]\u001b[A\n",
      "Evaluating model:  69%|██████▉   | 11057/15961 [00:05<00:02, 2385.06it/s]\u001b[A\n",
      "Evaluating model:  71%|███████   | 11309/15961 [00:05<00:01, 2424.35it/s]\u001b[A\n",
      "Evaluating model:  72%|███████▏  | 11561/15961 [00:05<00:01, 2449.85it/s]\u001b[A\n",
      "Evaluating model:  74%|███████▍  | 11814/15961 [00:05<00:01, 2470.47it/s]\u001b[A\n",
      "Evaluating model:  76%|███████▌  | 12062/15961 [00:06<00:01, 2449.13it/s]\u001b[A\n",
      "Evaluating model:  77%|███████▋  | 12308/15961 [00:06<00:01, 2372.63it/s]\u001b[A\n",
      "Evaluating model:  79%|███████▊  | 12561/15961 [00:06<00:01, 2417.30it/s]\u001b[A\n",
      "Evaluating model:  80%|████████  | 12804/15961 [00:06<00:01, 2137.49it/s]\u001b[A\n",
      "Evaluating model:  82%|████████▏ | 13024/15961 [00:06<00:01, 1539.60it/s]\u001b[A\n",
      "Evaluating model:  83%|████████▎ | 13235/15961 [00:06<00:01, 1662.21it/s]\u001b[A\n",
      "Evaluating model:  84%|████████▍ | 13448/15961 [00:06<00:01, 1772.04it/s]\u001b[A\n",
      "Evaluating model:  85%|████████▌ | 13645/15961 [00:06<00:01, 1780.81it/s]\u001b[A\n",
      "Evaluating model:  87%|████████▋ | 13854/15961 [00:07<00:01, 1859.97it/s]\u001b[A\n",
      "Evaluating model:  88%|████████▊ | 14062/15961 [00:07<00:00, 1919.12it/s]\u001b[A\n",
      "Evaluating model:  89%|████████▉ | 14270/15961 [00:07<00:00, 1963.78it/s]\u001b[A\n",
      "Evaluating model:  91%|█████████ | 14478/15961 [00:07<00:00, 1994.58it/s]\u001b[A\n",
      "Evaluating model:  92%|█████████▏| 14682/15961 [00:07<00:00, 1922.81it/s]\u001b[A\n",
      "Evaluating model:  93%|█████████▎| 14891/15961 [00:07<00:00, 1969.80it/s]\u001b[A\n",
      "Evaluating model:  95%|█████████▍| 15104/15961 [00:07<00:00, 2013.68it/s]\u001b[A\n",
      "Evaluating model:  96%|█████████▌| 15313/15961 [00:07<00:00, 2033.14it/s]\u001b[A\n",
      "Evaluating model:  97%|█████████▋| 15523/15961 [00:07<00:00, 2052.55it/s]\u001b[A\n",
      "Evaluating model:  99%|█████████▊| 15730/15961 [00:07<00:00, 2055.11it/s]\u001b[A\n",
      "Evaluating model: 100%|██████████| 15961/15961 [00:08<00:00, 1951.02it/s]\u001b[A\n",
      "Evaluations:  80%|████████  | 4/5 [00:42<00:10, 10.37s/it]\n",
      "Evaluating model:   0%|          | 0/15961 [00:00<?, ?it/s]\u001b[A\n",
      "Evaluating model:   0%|          | 1/15961 [00:00<44:01,  6.04it/s]\u001b[A\n",
      "Evaluating model:   0%|          | 24/15961 [00:00<02:25, 109.68it/s]\u001b[A\n",
      "Evaluating model:   1%|▏         | 226/15961 [00:00<00:18, 869.18it/s]\u001b[A\n",
      "Evaluating model:   3%|▎         | 438/15961 [00:00<00:11, 1320.86it/s]\u001b[A\n",
      "Evaluating model:   4%|▍         | 648/15961 [00:00<00:09, 1585.65it/s]\u001b[A\n",
      "Evaluating model:   5%|▌         | 852/15961 [00:00<00:08, 1732.40it/s]\u001b[A\n",
      "Evaluating model:   7%|▋         | 1062/15961 [00:00<00:08, 1848.76it/s]\u001b[A\n",
      "Evaluating model:   8%|▊         | 1275/15961 [00:00<00:07, 1935.54it/s]\u001b[A\n",
      "Evaluating model:   9%|▉         | 1481/15961 [00:00<00:07, 1973.59it/s]\u001b[A\n",
      "Evaluating model:  11%|█         | 1689/15961 [00:01<00:07, 2005.35it/s]\u001b[A\n",
      "Evaluating model:  12%|█▏        | 1899/15961 [00:01<00:06, 2032.47it/s]\u001b[A\n",
      "Evaluating model:  13%|█▎        | 2108/15961 [00:01<00:06, 2048.83it/s]\u001b[A\n",
      "Evaluating model:  15%|█▍        | 2316/15961 [00:01<00:06, 2056.14it/s]\u001b[A\n",
      "Evaluating model:  16%|█▌        | 2527/15961 [00:01<00:06, 2071.38it/s]\u001b[A\n",
      "Evaluating model:  17%|█▋        | 2737/15961 [00:01<00:06, 2079.45it/s]\u001b[A\n",
      "Evaluating model:  18%|█▊        | 2946/15961 [00:01<00:06, 2071.60it/s]\u001b[A\n",
      "Evaluating model:  20%|█▉        | 3157/15961 [00:01<00:06, 2082.87it/s]\u001b[A\n",
      "Evaluating model:  21%|██        | 3368/15961 [00:01<00:06, 2089.06it/s]\u001b[A\n",
      "Evaluating model:  22%|██▏       | 3578/15961 [00:01<00:05, 2076.71it/s]\u001b[A\n",
      "Evaluating model:  24%|██▎       | 3786/15961 [00:02<00:05, 2072.76it/s]\u001b[A\n",
      "Evaluating model:  25%|██▌       | 3994/15961 [00:02<00:05, 2043.07it/s]\u001b[A\n",
      "Evaluating model:  26%|██▋       | 4201/15961 [00:02<00:05, 2049.39it/s]\u001b[A\n",
      "Evaluating model:  28%|██▊       | 4411/15961 [00:02<00:05, 2061.74it/s]\u001b[A\n",
      "Evaluating model:  29%|██▉       | 4620/15961 [00:02<00:05, 2067.94it/s]\u001b[A\n",
      "Evaluating model:  30%|███       | 4827/15961 [00:02<00:05, 2067.72it/s]\u001b[A\n",
      "Evaluating model:  32%|███▏      | 5036/15961 [00:02<00:05, 2072.00it/s]\u001b[A\n",
      "Evaluating model:  33%|███▎      | 5244/15961 [00:02<00:05, 2067.29it/s]\u001b[A\n",
      "Evaluating model:  34%|███▍      | 5455/15961 [00:02<00:05, 2079.66it/s]\u001b[A\n",
      "Evaluating model:  35%|███▌      | 5664/15961 [00:02<00:04, 2080.63it/s]\u001b[A\n",
      "Evaluating model:  37%|███▋      | 5873/15961 [00:03<00:04, 2076.50it/s]\u001b[A\n",
      "Evaluating model:  38%|███▊      | 6084/15961 [00:03<00:04, 2084.29it/s]\u001b[A\n",
      "Evaluating model:  39%|███▉      | 6293/15961 [00:03<00:04, 2078.40it/s]\u001b[A\n",
      "Evaluating model:  41%|████      | 6502/15961 [00:03<00:04, 2079.03it/s]\u001b[A\n",
      "Evaluating model:  42%|████▏     | 6710/15961 [00:03<00:04, 2071.27it/s]\u001b[A\n",
      "Evaluating model:  43%|████▎     | 6919/15961 [00:03<00:04, 2074.93it/s]\u001b[A\n",
      "Evaluating model:  45%|████▍     | 7128/15961 [00:03<00:04, 2076.55it/s]\u001b[A\n",
      "Evaluating model:  46%|████▌     | 7336/15961 [00:03<00:04, 2058.64it/s]\u001b[A\n",
      "Evaluating model:  47%|████▋     | 7545/15961 [00:03<00:04, 2066.43it/s]\u001b[A\n",
      "Evaluating model:  49%|████▊     | 7753/15961 [00:03<00:03, 2070.29it/s]\u001b[A\n",
      "Evaluating model:  50%|████▉     | 7961/15961 [00:04<00:03, 2069.63it/s]\u001b[A\n",
      "Evaluating model:  51%|█████     | 8168/15961 [00:04<00:03, 2059.60it/s]\u001b[A\n",
      "Evaluating model:  52%|█████▏    | 8374/15961 [00:04<00:03, 2044.77it/s]\u001b[A\n",
      "Evaluating model:  54%|█████▎    | 8579/15961 [00:04<00:05, 1321.32it/s]\u001b[A\n",
      "Evaluating model:  55%|█████▌    | 8813/15961 [00:04<00:04, 1540.26it/s]\u001b[A\n",
      "Evaluating model:  57%|█████▋    | 9065/15961 [00:04<00:03, 1769.58it/s]\u001b[A\n",
      "Evaluating model:  58%|█████▊    | 9310/15961 [00:04<00:03, 1940.24it/s]\u001b[A\n",
      "Evaluating model:  60%|█████▉    | 9554/15961 [00:04<00:03, 2072.03it/s]\u001b[A\n",
      "Evaluating model:  61%|██████▏   | 9797/15961 [00:05<00:02, 2168.85it/s]\u001b[A\n",
      "Evaluating model:  63%|██████▎   | 10045/15961 [00:05<00:02, 2255.57it/s]\u001b[A\n",
      "Evaluating model:  64%|██████▍   | 10294/15961 [00:05<00:02, 2322.40it/s]\u001b[A\n",
      "Evaluating model:  66%|██████▌   | 10543/15961 [00:05<00:02, 2369.12it/s]\u001b[A\n",
      "Evaluating model:  68%|██████▊   | 10796/15961 [00:05<00:02, 2414.11it/s]\u001b[A\n",
      "Evaluating model:  69%|██████▉   | 11046/15961 [00:05<00:02, 2437.24it/s]\u001b[A\n",
      "Evaluating model:  71%|███████   | 11293/15961 [00:05<00:01, 2342.65it/s]\u001b[A\n",
      "Evaluating model:  72%|███████▏  | 11546/15961 [00:05<00:01, 2394.96it/s]\u001b[A\n",
      "Evaluating model:  74%|███████▍  | 11800/15961 [00:05<00:01, 2434.76it/s]\u001b[A\n",
      "Evaluating model:  76%|███████▌  | 12054/15961 [00:05<00:01, 2465.37it/s]\u001b[A\n",
      "Evaluating model:  77%|███████▋  | 12308/15961 [00:06<00:01, 2486.09it/s]\u001b[A\n",
      "Evaluating model:  79%|███████▊  | 12562/15961 [00:06<00:01, 2500.43it/s]\u001b[A\n",
      "Evaluating model:  80%|████████  | 12813/15961 [00:06<00:01, 2450.55it/s]\u001b[A\n",
      "Evaluating model:  82%|████████▏ | 13059/15961 [00:06<00:01, 1472.50it/s]\u001b[A\n",
      "Evaluating model:  83%|████████▎ | 13262/15961 [00:06<00:01, 1584.07it/s]"
     ]
    }
   ],
   "source": [
    "targets = ['trump', 'mask', 'racial']\n",
    "modes = ['emfd']\n",
    "\n",
    "for target in targets:\n",
    "    none_data_path = f'./tweet_level/{target}_train.csv'  # Path for the 'none' mode\n",
    "    none_data = pd.read_csv(none_data_path)\n",
    "\n",
    "    for mode in modes:\n",
    "        # Adjust the data path based on mode\n",
    "        if mode == 'none':\n",
    "            data = none_data  # Use the data loaded for 'none' mode\n",
    "        elif mode == 'emfd':\n",
    "            emfd_path = f'./tweet_level/{target}_train_emfd.csv'\n",
    "            emfd_data = pd.read_csv(emfd_path)\n",
    "            input_dim = 768 + (emfd_data.shape[1] - 3)  # Correct calculation for input_dim\n",
    "        elif mode == 'frameaxis':\n",
    "            frameaxis_path = f'./tweet_level/{target}_train_frameaxis.csv'\n",
    "            frameaxis_data = pd.read_csv(frameaxis_path)\n",
    "            input_dim = 768 + (frameaxis_data.shape[1] - 3)\n",
    "\n",
    "        # Prepare DataLoader for training\n",
    "        dataloader = prepare_data(none_data, tokenizer, model_bertweet, version=mode, batch_size=32, device=device, emfd_embeddings=emfd_data if mode == 'emfd' else None, frameaxis_embeddings=frameaxis_data if mode == 'frameaxis' else None)\n",
    "        \n",
    "        # Train model\n",
    "        model = train_model(dataloader, input_dim=input_dim, learning_rate=2e-5, epochs=50, patience=5)\n",
    "        \n",
    "        # Load and prepare test data\n",
    "        test_data_path = f'./tweet_level/{target}_test.csv' if mode == 'none' else f'./tweet_level/{target}_test_{mode}.csv'\n",
    "        test_data = pd.read_csv(test_data_path)\n",
    "        test_dataloader = prepare_data(test_data, tokenizer, model_bertweet, version=mode, batch_size=32, device=device, emfd_embeddings=emfd_data if mode == 'emfd' else None, frameaxis_embeddings=frameaxis_data if mode == 'frameaxis' else None)\n",
    "        \n",
    "        # Evaluate model\n",
    "                # Prepare DataLoader for testing\n",
    "        # test_dataloader = prepare_data(test_data, tokenizer, model_bertweet, version=mode, batch_size=32)\n",
    "        \n",
    "        # Evaluate model\n",
    "        # iterations = 5\n",
    "        accuracy, precision, recall, f1 = evaluate_multiple_times(model, test_dataloader, target, mode, device=device)\n",
    "        # accuracy, precision, recall, f1 = evaluate_multiple_times(model, test_dataloader, device=device)\n",
    "        \n",
    "        print(f'CB-{mode}-{target}:')\n",
    "        print(f\"Accuracy: {accuracy}, Precision: {precision}, Recall: {recall}, F1-Score: {f1}\")"
   ]
  }
 ],
 "metadata": {
  "kernelspec": {
   "display_name": "Python 3 (ipykernel)",
   "language": "python",
   "name": "python3"
  },
  "language_info": {
   "codemirror_mode": {
    "name": "ipython",
    "version": 3
   },
   "file_extension": ".py",
   "mimetype": "text/x-python",
   "name": "python",
   "nbconvert_exporter": "python",
   "pygments_lexer": "ipython3",
   "version": "3.10.13"
  }
 },
 "nbformat": 4,
 "nbformat_minor": 5
}
