{
 "cells": [
  {
   "cell_type": "code",
   "execution_count": 11,
   "id": "4fb9676b-8f77-4b72-bd1a-78bc62acb897",
   "metadata": {},
   "outputs": [
    {
     "name": "stdout",
     "output_type": "stream",
     "text": [
      "Requirement already satisfied: pandas in /opt/conda/lib/python3.10/site-packages (2.2.0)\n",
      "Requirement already satisfied: numpy<2,>=1.22.4 in /opt/conda/lib/python3.10/site-packages (from pandas) (1.26.3)\n",
      "Requirement already satisfied: python-dateutil>=2.8.2 in /opt/conda/lib/python3.10/site-packages (from pandas) (2.8.2)\n",
      "Requirement already satisfied: pytz>=2020.1 in /opt/conda/lib/python3.10/site-packages (from pandas) (2023.3.post1)\n",
      "Requirement already satisfied: tzdata>=2022.7 in /opt/conda/lib/python3.10/site-packages (from pandas) (2024.1)\n",
      "Requirement already satisfied: six>=1.5 in /opt/conda/lib/python3.10/site-packages (from python-dateutil>=2.8.2->pandas) (1.16.0)\n",
      "Requirement already satisfied: transformers in /opt/conda/lib/python3.10/site-packages (4.37.2)\n",
      "Requirement already satisfied: filelock in /opt/conda/lib/python3.10/site-packages (from transformers) (3.13.1)\n",
      "Requirement already satisfied: huggingface-hub<1.0,>=0.19.3 in /opt/conda/lib/python3.10/site-packages (from transformers) (0.20.3)\n",
      "Requirement already satisfied: numpy>=1.17 in /opt/conda/lib/python3.10/site-packages (from transformers) (1.26.3)\n",
      "Requirement already satisfied: packaging>=20.0 in /opt/conda/lib/python3.10/site-packages (from transformers) (23.1)\n",
      "Requirement already satisfied: pyyaml>=5.1 in /opt/conda/lib/python3.10/site-packages (from transformers) (6.0.1)\n",
      "Requirement already satisfied: regex!=2019.12.17 in /opt/conda/lib/python3.10/site-packages (from transformers) (2023.12.25)\n",
      "Requirement already satisfied: requests in /opt/conda/lib/python3.10/site-packages (from transformers) (2.31.0)\n",
      "Requirement already satisfied: tokenizers<0.19,>=0.14 in /opt/conda/lib/python3.10/site-packages (from transformers) (0.15.2)\n",
      "Requirement already satisfied: safetensors>=0.4.1 in /opt/conda/lib/python3.10/site-packages (from transformers) (0.4.2)\n",
      "Requirement already satisfied: tqdm>=4.27 in /opt/conda/lib/python3.10/site-packages (from transformers) (4.65.0)\n",
      "Requirement already satisfied: fsspec>=2023.5.0 in /opt/conda/lib/python3.10/site-packages (from huggingface-hub<1.0,>=0.19.3->transformers) (2023.10.0)\n",
      "Requirement already satisfied: typing-extensions>=3.7.4.3 in /opt/conda/lib/python3.10/site-packages (from huggingface-hub<1.0,>=0.19.3->transformers) (4.9.0)\n",
      "Requirement already satisfied: charset-normalizer<4,>=2 in /opt/conda/lib/python3.10/site-packages (from requests->transformers) (2.0.4)\n",
      "Requirement already satisfied: idna<4,>=2.5 in /opt/conda/lib/python3.10/site-packages (from requests->transformers) (3.4)\n",
      "Requirement already satisfied: urllib3<3,>=1.21.1 in /opt/conda/lib/python3.10/site-packages (from requests->transformers) (1.26.18)\n",
      "Requirement already satisfied: certifi>=2017.4.17 in /opt/conda/lib/python3.10/site-packages (from requests->transformers) (2023.11.17)\n",
      "Requirement already satisfied: numpy in /opt/conda/lib/python3.10/site-packages (1.26.3)\n",
      "Requirement already satisfied: torch in /opt/conda/lib/python3.10/site-packages (2.2.0)\n",
      "Requirement already satisfied: filelock in /opt/conda/lib/python3.10/site-packages (from torch) (3.13.1)\n",
      "Requirement already satisfied: typing-extensions>=4.8.0 in /opt/conda/lib/python3.10/site-packages (from torch) (4.9.0)\n",
      "Requirement already satisfied: sympy in /opt/conda/lib/python3.10/site-packages (from torch) (1.12)\n",
      "Requirement already satisfied: networkx in /opt/conda/lib/python3.10/site-packages (from torch) (3.1)\n",
      "Requirement already satisfied: jinja2 in /opt/conda/lib/python3.10/site-packages (from torch) (3.1.2)\n",
      "Requirement already satisfied: fsspec in /opt/conda/lib/python3.10/site-packages (from torch) (2023.10.0)\n",
      "Requirement already satisfied: MarkupSafe>=2.0 in /opt/conda/lib/python3.10/site-packages (from jinja2->torch) (2.1.3)\n",
      "Requirement already satisfied: mpmath>=0.19 in /opt/conda/lib/python3.10/site-packages (from sympy->torch) (1.3.0)\n",
      "Requirement already satisfied: tqdm in /opt/conda/lib/python3.10/site-packages (4.65.0)\n",
      "Requirement already satisfied: scikit-learn in /opt/conda/lib/python3.10/site-packages (1.4.0)\n",
      "Requirement already satisfied: numpy<2.0,>=1.19.5 in /opt/conda/lib/python3.10/site-packages (from scikit-learn) (1.26.3)\n",
      "Requirement already satisfied: scipy>=1.6.0 in /opt/conda/lib/python3.10/site-packages (from scikit-learn) (1.12.0)\n",
      "Requirement already satisfied: joblib>=1.2.0 in /opt/conda/lib/python3.10/site-packages (from scikit-learn) (1.3.2)\n",
      "Requirement already satisfied: threadpoolctl>=2.0.0 in /opt/conda/lib/python3.10/site-packages (from scikit-learn) (3.2.0)\n",
      "Requirement already satisfied: gdown in /opt/conda/lib/python3.10/site-packages (5.1.0)\n",
      "Requirement already satisfied: beautifulsoup4 in /opt/conda/lib/python3.10/site-packages (from gdown) (4.12.2)\n",
      "Requirement already satisfied: filelock in /opt/conda/lib/python3.10/site-packages (from gdown) (3.13.1)\n",
      "Requirement already satisfied: requests[socks] in /opt/conda/lib/python3.10/site-packages (from gdown) (2.31.0)\n",
      "Requirement already satisfied: tqdm in /opt/conda/lib/python3.10/site-packages (from gdown) (4.65.0)\n",
      "Requirement already satisfied: soupsieve>1.2 in /opt/conda/lib/python3.10/site-packages (from beautifulsoup4->gdown) (2.5)\n",
      "Requirement already satisfied: charset-normalizer<4,>=2 in /opt/conda/lib/python3.10/site-packages (from requests[socks]->gdown) (2.0.4)\n",
      "Requirement already satisfied: idna<4,>=2.5 in /opt/conda/lib/python3.10/site-packages (from requests[socks]->gdown) (3.4)\n",
      "Requirement already satisfied: urllib3<3,>=1.21.1 in /opt/conda/lib/python3.10/site-packages (from requests[socks]->gdown) (1.26.18)\n",
      "Requirement already satisfied: certifi>=2017.4.17 in /opt/conda/lib/python3.10/site-packages (from requests[socks]->gdown) (2023.11.17)\n",
      "Requirement already satisfied: PySocks!=1.5.7,>=1.5.6 in /opt/conda/lib/python3.10/site-packages (from requests[socks]->gdown) (1.7.1)\n"
     ]
    }
   ],
   "source": [
    "!pip install --root-user-action=ignore pandas\n",
    "!pip install --root-user-action=ignore transformers\n",
    "!pip install --root-user-action=ignore numpy\n",
    "!pip install --root-user-action=ignore torch\n",
    "!pip install --root-user-action=ignore tqdm\n",
    "!pip install --root-user-action=ignore scikit-learn\n",
    "!pip install --root-user-action=ignore gdown"
   ]
  },
  {
   "cell_type": "code",
   "execution_count": 26,
   "id": "88335971-cf0b-4a41-922d-32cd864455a9",
   "metadata": {},
   "outputs": [],
   "source": [
    "import pandas as pd\n",
    "import torch\n",
    "from tqdm import tqdm\n",
    "from torch import nn, optim\n",
    "from torch.utils.data import DataLoader, TensorDataset\n",
    "from transformers import AutoTokenizer, AutoModel\n",
    "from sklearn.model_selection import train_test_split\n",
    "from sklearn.metrics import accuracy_score, precision_recall_fscore_support\n",
    "from sklearn.preprocessing import StandardScaler"
   ]
  },
  {
   "cell_type": "code",
   "execution_count": 13,
   "id": "06701596-5185-4d3b-a9b7-bcab149056da",
   "metadata": {},
   "outputs": [],
   "source": [
    "# !mkdir ./prediction"
   ]
  },
  {
   "cell_type": "code",
   "execution_count": 27,
   "id": "85e493d1-780f-4a6f-b4f4-d2ee298b0d79",
   "metadata": {},
   "outputs": [
    {
     "name": "stderr",
     "output_type": "stream",
     "text": [
      "emoji is not installed, thus not converting emoticons or emojis into text. Install emoji: pip3 install emoji==0.6.0\n"
     ]
    }
   ],
   "source": [
    "device = torch.device(\"cuda\" if torch.cuda.is_available() else \"cpu\")\n",
    "tokenizer = AutoTokenizer.from_pretrained(\"vinai/bertweet-base\", use_fast=False)\n",
    "model_bertweet = AutoModel.from_pretrained(\"vinai/bertweet-base\").to(device)"
   ]
  },
  {
   "cell_type": "code",
   "execution_count": 43,
   "id": "6140f3f9-183d-4f5f-adfe-f64f8bff270a",
   "metadata": {},
   "outputs": [],
   "source": [
    "# class UserStanceClassifier(nn.Module):\n",
    "#     def __init__(self, input_dim):\n",
    "#         super(UserStanceClassifier, self).__init__()\n",
    "#         self.linear = nn.Linear(input_dim, 2)  # Assuming binary classification\n",
    "\n",
    "#     def forward(self, x):\n",
    "#         return self.linear(x)\n",
    "\n",
    "class UserStanceClassifier(nn.Module):\n",
    "    def __init__(self, input_dim, hidden_dim=256, dropout_rate=0.5):\n",
    "        super(UserStanceClassifier, self).__init__()\n",
    "        self.linear1 = nn.Linear(input_dim, hidden_dim)\n",
    "        self.dropout = nn.Dropout(dropout_rate)\n",
    "        self.relu = nn.ReLU()\n",
    "        self.linear2 = nn.Linear(hidden_dim, 2)  # Assuming binary classification\n",
    "    \n",
    "    def forward(self, x):\n",
    "        x = self.relu(self.linear1(x))\n",
    "        x = self.dropout(x)\n",
    "        return self.linear2(x)\n",
    "\n",
    "def tokenize_and_embed(tweets, tokenizer, model, batch_size=32):\n",
    "    model.to(device)  # Ensure the model is on the correct device\n",
    "    all_embeddings = torch.empty((0, model.config.hidden_size), device=device)\n",
    "    \n",
    "    num_batches = len(tweets) // batch_size + (0 if len(tweets) % batch_size == 0 else 1)\n",
    "    \n",
    "    for i in tqdm(range(num_batches), desc=\"Generating embeddings\"):\n",
    "        batch_tweets = tweets[i*batch_size:(i+1)*batch_size]\n",
    "        inputs = tokenizer(batch_tweets, return_tensors=\"pt\", padding=True, truncation=True, max_length=128).to(device)\n",
    "        with torch.no_grad():\n",
    "            outputs = model(**inputs)\n",
    "        batch_embeddings = outputs.last_hidden_state.mean(1)\n",
    "        all_embeddings = torch.cat((all_embeddings, batch_embeddings), dim=0)\n",
    "    \n",
    "    return all_embeddings.cpu()  # Move embeddings back to CPU for further processing or storage\n",
    "\n",
    "\n",
    "def ensure_numeric(df, start_col=3, fillna_value=0):\n",
    "    for col in df.columns[start_col:]:\n",
    "        df[col] = pd.to_numeric(df[col], errors='coerce').fillna(fillna_value)\n",
    "    return df\n",
    "\n",
    "def prepare_data(data, tokenizer, model, version='none', batch_size=32, device=None, emfd_embeddings=None, frameaxis_embeddings=None):\n",
    "    if device is None:\n",
    "        device = torch.device(\"cuda\" if torch.cuda.is_available() else \"cpu\")\n",
    "    \n",
    "    tweets = data['tweet'].tolist()\n",
    "    bertweet_embeddings = tokenize_and_embed(tweets, tokenizer, model, batch_size).to(device)\n",
    "    \n",
    "    final_embeddings = bertweet_embeddings\n",
    "\n",
    "    if version == 'emfd' and emfd_embeddings is not None:\n",
    "        emfd_embeddings_processed = ensure_numeric(emfd_embeddings)\n",
    "        emfd_values = emfd_embeddings_processed.iloc[:bertweet_embeddings.size(0), 3:].values\n",
    "        emfd_tensor = torch.tensor(emfd_values, dtype=torch.float).to(device)\n",
    "        final_embeddings = torch.cat((bertweet_embeddings, emfd_tensor), dim=1)\n",
    "    elif version == 'frameaxis' and frameaxis_embeddings is not None:\n",
    "        frameaxis_embeddings_processed = ensure_numeric(frameaxis_embeddings)\n",
    "        frameaxis_values = frameaxis_embeddings_processed.iloc[:bertweet_embeddings.size(0), 3:].values\n",
    "        frameaxis_tensor = torch.tensor(frameaxis_values, dtype=torch.float).to(device)\n",
    "        final_embeddings = torch.cat((bertweet_embeddings, frameaxis_tensor), dim=1)\n",
    "\n",
    "    labels = torch.tensor(data['stance'].iloc[:final_embeddings.size(0)].values, dtype=torch.long).to(device)\n",
    "    \n",
    "    dataset = TensorDataset(final_embeddings, labels)\n",
    "    dataloader = DataLoader(dataset, batch_size=batch_size, shuffle=True)\n",
    "    \n",
    "    return dataloader"
   ]
  },
  {
   "cell_type": "code",
   "execution_count": 44,
   "id": "41480427-54d9-4a57-a2ab-405625044ecc",
   "metadata": {},
   "outputs": [],
   "source": [
    "def train_model(dataloader, input_dim, learning_rate=1e-3, epochs=50, patience=5):\n",
    "    device = torch.device(\"cuda\" if torch.cuda.is_available() else \"cpu\")\n",
    "    model = UserStanceClassifier(input_dim=input_dim).to(device)\n",
    "    optimizer = optim.Adam(model.parameters(), lr=learning_rate)\n",
    "    loss_fn = nn.CrossEntropyLoss()\n",
    "    # print(input_dim)\n",
    "    best_loss = float('inf')\n",
    "    no_improvement = 0\n",
    "\n",
    "    for epoch in range(epochs):\n",
    "        model.train()\n",
    "        epoch_loss = 0\n",
    "        for batch in tqdm(dataloader, desc=f\"Epoch {epoch+1}/{epochs}\"):\n",
    "            inputs, labels = [b.to(device) for b in batch]\n",
    "            # print(f\"Input shape: {inputs.shape}\")\n",
    "            optimizer.zero_grad()\n",
    "            outputs = model(inputs)\n",
    "            loss = loss_fn(outputs, labels)\n",
    "            loss.backward()\n",
    "            optimizer.step()\n",
    "            epoch_loss += loss.item()\n",
    "\n",
    "        avg_loss = epoch_loss / len(dataloader)\n",
    "        print(f\"Average Loss: {avg_loss}\")\n",
    "\n",
    "        if avg_loss < best_loss:\n",
    "            best_loss = avg_loss\n",
    "            no_improvement = 0\n",
    "        else:\n",
    "            no_improvement += 1\n",
    "        \n",
    "        if no_improvement >= patience:\n",
    "            print(\"Early stopping triggered.\")\n",
    "            break\n",
    "\n",
    "    return model\n",
    "\n",
    "def predict(model, dataloader):\n",
    "    device = torch.device(\"cuda\" if torch.cuda.is_available() else \"cpu\")\n",
    "    model = model.to(device)\n",
    "    model.eval()\n",
    "    predictions = []\n",
    "    with torch.no_grad():\n",
    "        for inputs in tqdm(dataloader):\n",
    "            inputs = inputs[0].to(device)  # Assuming inputs are the first element\n",
    "            outputs = model(inputs)\n",
    "            _, predicted = torch.max(outputs, dim=1)\n",
    "            predictions.extend(predicted.cpu().tolist())  # Move predictions to CPU\n",
    "    return predictions"
   ]
  },
  {
   "cell_type": "code",
   "execution_count": 45,
   "id": "bc5ea44a-a03d-4e17-89f4-f3894f68305b",
   "metadata": {},
   "outputs": [],
   "source": [
    "def evaluate_model(model, dataloader, device=None, save_predictions_to=None):\n",
    "    if device is None:\n",
    "        device = torch.device(\"cuda\" if torch.cuda.is_available() else \"cpu\")\n",
    "    model = model.to(device)\n",
    "    model.eval()  # Set the model to evaluation mode\n",
    "    true_labels = []\n",
    "    predictions = []\n",
    "\n",
    "    with torch.no_grad():\n",
    "        for batch in tqdm(dataloader, desc=\"Evaluating model\"):\n",
    "            inputs, labels = [b.to(device) for b in batch]\n",
    "            outputs = model(inputs)\n",
    "            _, preds = torch.max(outputs, dim=1)\n",
    "            true_labels.extend(labels.cpu().numpy())\n",
    "            predictions.extend(preds.cpu().tolist())\n",
    "\n",
    "    # Compute evaluation metrics\n",
    "    accuracy = accuracy_score(true_labels, predictions)\n",
    "    precision, recall, f1, _ = precision_recall_fscore_support(true_labels, predictions, average='binary')\n",
    "\n",
    "    # Save predictions to CSV if a filename is provided\n",
    "    if save_predictions_to:\n",
    "        prediction_df = pd.DataFrame({'True Labels': true_labels, 'Predictions': predictions})\n",
    "        prediction_df.to_csv(save_predictions_to, index=False)\n",
    "\n",
    "    return accuracy, precision, recall, f1\n",
    "\n",
    "def evaluate_multiple_times(model, dataloader, target, mode, device=None, iterations=5):\n",
    "    accuracies = []\n",
    "    precisions = []\n",
    "    recalls = []\n",
    "    f1_scores = []\n",
    "\n",
    "    for i in tqdm(range(iterations), desc=\"Evaluations\"):\n",
    "        # Generate a unique filename for this iteration's predictions\n",
    "        predictions_filename = f'./prediction/{target}_{mode}_predictions_iteration_{i+1}.csv'\n",
    "        accuracy, precision, recall, f1 = evaluate_model(model, dataloader, device, save_predictions_to=predictions_filename)\n",
    "        accuracies.append(accuracy)\n",
    "        precisions.append(precision)\n",
    "        recalls.append(recall)\n",
    "        f1_scores.append(f1)\n",
    "\n",
    "    # Calculate the average of each metric\n",
    "    avg_accuracy = sum(accuracies) / len(accuracies)\n",
    "    avg_precision = sum(precisions) / len(precisions)\n",
    "    avg_recall = sum(recalls) / len(recalls)\n",
    "    avg_f1_score = sum(f1_scores) / len(f1_scores)\n",
    "\n",
    "    return avg_accuracy, avg_precision, avg_recall, avg_f1_score"
   ]
  },
  {
   "cell_type": "code",
   "execution_count": null,
   "id": "16efce7a-aff8-4323-99d7-db800898da60",
   "metadata": {
    "scrolled": true
   },
   "outputs": [
    {
     "name": "stderr",
     "output_type": "stream",
     "text": [
      "Generating embeddings: 100%|██████████| 6896/6896 [03:14<00:00, 35.38it/s]\n",
      "Epoch 1/50: 100%|██████████| 6896/6896 [00:08<00:00, 785.19it/s]\n"
     ]
    },
    {
     "name": "stdout",
     "output_type": "stream",
     "text": [
      "Average Loss: 0.502409828459442\n"
     ]
    },
    {
     "name": "stderr",
     "output_type": "stream",
     "text": [
      "Epoch 2/50: 100%|██████████| 6896/6896 [00:08<00:00, 849.65it/s]\n"
     ]
    },
    {
     "name": "stdout",
     "output_type": "stream",
     "text": [
      "Average Loss: 0.4468032372467168\n"
     ]
    },
    {
     "name": "stderr",
     "output_type": "stream",
     "text": [
      "Epoch 3/50: 100%|██████████| 6896/6896 [00:08<00:00, 819.86it/s]\n"
     ]
    },
    {
     "name": "stdout",
     "output_type": "stream",
     "text": [
      "Average Loss: 0.4287545582076444\n"
     ]
    },
    {
     "name": "stderr",
     "output_type": "stream",
     "text": [
      "Epoch 4/50: 100%|██████████| 6896/6896 [00:08<00:00, 832.24it/s]\n"
     ]
    },
    {
     "name": "stdout",
     "output_type": "stream",
     "text": [
      "Average Loss: 0.4148011691976347\n"
     ]
    },
    {
     "name": "stderr",
     "output_type": "stream",
     "text": [
      "Epoch 5/50: 100%|██████████| 6896/6896 [00:08<00:00, 782.87it/s]\n"
     ]
    },
    {
     "name": "stdout",
     "output_type": "stream",
     "text": [
      "Average Loss: 0.40206228007115163\n"
     ]
    },
    {
     "name": "stderr",
     "output_type": "stream",
     "text": [
      "Epoch 6/50: 100%|██████████| 6896/6896 [00:08<00:00, 811.12it/s]\n"
     ]
    },
    {
     "name": "stdout",
     "output_type": "stream",
     "text": [
      "Average Loss: 0.39123710768249775\n"
     ]
    },
    {
     "name": "stderr",
     "output_type": "stream",
     "text": [
      "Epoch 7/50: 100%|██████████| 6896/6896 [00:08<00:00, 822.20it/s]\n"
     ]
    },
    {
     "name": "stdout",
     "output_type": "stream",
     "text": [
      "Average Loss: 0.38223750014592767\n"
     ]
    },
    {
     "name": "stderr",
     "output_type": "stream",
     "text": [
      "Epoch 8/50: 100%|██████████| 6896/6896 [00:08<00:00, 782.78it/s]\n"
     ]
    },
    {
     "name": "stdout",
     "output_type": "stream",
     "text": [
      "Average Loss: 0.37502475993884965\n"
     ]
    },
    {
     "name": "stderr",
     "output_type": "stream",
     "text": [
      "Epoch 9/50: 100%|██████████| 6896/6896 [00:08<00:00, 792.72it/s]\n"
     ]
    },
    {
     "name": "stdout",
     "output_type": "stream",
     "text": [
      "Average Loss: 0.3689205372865958\n"
     ]
    },
    {
     "name": "stderr",
     "output_type": "stream",
     "text": [
      "Epoch 10/50: 100%|██████████| 6896/6896 [00:09<00:00, 765.08it/s]\n"
     ]
    },
    {
     "name": "stdout",
     "output_type": "stream",
     "text": [
      "Average Loss: 0.3632423561725446\n"
     ]
    },
    {
     "name": "stderr",
     "output_type": "stream",
     "text": [
      "Epoch 11/50: 100%|██████████| 6896/6896 [00:08<00:00, 841.46it/s]\n"
     ]
    },
    {
     "name": "stdout",
     "output_type": "stream",
     "text": [
      "Average Loss: 0.3594567343871392\n"
     ]
    },
    {
     "name": "stderr",
     "output_type": "stream",
     "text": [
      "Epoch 12/50: 100%|██████████| 6896/6896 [00:08<00:00, 803.30it/s]\n"
     ]
    },
    {
     "name": "stdout",
     "output_type": "stream",
     "text": [
      "Average Loss: 0.35516724317159565\n"
     ]
    },
    {
     "name": "stderr",
     "output_type": "stream",
     "text": [
      "Epoch 13/50: 100%|██████████| 6896/6896 [00:08<00:00, 774.10it/s]\n"
     ]
    },
    {
     "name": "stdout",
     "output_type": "stream",
     "text": [
      "Average Loss: 0.35171678906151044\n"
     ]
    },
    {
     "name": "stderr",
     "output_type": "stream",
     "text": [
      "Epoch 14/50: 100%|██████████| 6896/6896 [00:08<00:00, 852.77it/s]\n"
     ]
    },
    {
     "name": "stdout",
     "output_type": "stream",
     "text": [
      "Average Loss: 0.3487034688126771\n"
     ]
    },
    {
     "name": "stderr",
     "output_type": "stream",
     "text": [
      "Epoch 15/50: 100%|██████████| 6896/6896 [00:08<00:00, 860.01it/s]\n"
     ]
    },
    {
     "name": "stdout",
     "output_type": "stream",
     "text": [
      "Average Loss: 0.34579763907653965\n"
     ]
    },
    {
     "name": "stderr",
     "output_type": "stream",
     "text": [
      "Epoch 16/50: 100%|██████████| 6896/6896 [00:08<00:00, 850.20it/s]\n"
     ]
    },
    {
     "name": "stdout",
     "output_type": "stream",
     "text": [
      "Average Loss: 0.3432138872790969\n"
     ]
    },
    {
     "name": "stderr",
     "output_type": "stream",
     "text": [
      "Epoch 17/50: 100%|██████████| 6896/6896 [00:08<00:00, 842.02it/s]\n"
     ]
    },
    {
     "name": "stdout",
     "output_type": "stream",
     "text": [
      "Average Loss: 0.3409344323861073\n"
     ]
    },
    {
     "name": "stderr",
     "output_type": "stream",
     "text": [
      "Epoch 18/50: 100%|██████████| 6896/6896 [00:08<00:00, 837.51it/s]\n"
     ]
    },
    {
     "name": "stdout",
     "output_type": "stream",
     "text": [
      "Average Loss: 0.338338623158288\n"
     ]
    },
    {
     "name": "stderr",
     "output_type": "stream",
     "text": [
      "Epoch 19/50: 100%|██████████| 6896/6896 [00:08<00:00, 810.12it/s]\n"
     ]
    },
    {
     "name": "stdout",
     "output_type": "stream",
     "text": [
      "Average Loss: 0.3359341504778324\n"
     ]
    },
    {
     "name": "stderr",
     "output_type": "stream",
     "text": [
      "Epoch 20/50: 100%|██████████| 6896/6896 [00:08<00:00, 851.69it/s]\n"
     ]
    },
    {
     "name": "stdout",
     "output_type": "stream",
     "text": [
      "Average Loss: 0.33389828946839006\n"
     ]
    },
    {
     "name": "stderr",
     "output_type": "stream",
     "text": [
      "Epoch 21/50: 100%|██████████| 6896/6896 [00:08<00:00, 855.54it/s]\n"
     ]
    },
    {
     "name": "stdout",
     "output_type": "stream",
     "text": [
      "Average Loss: 0.33179137586419344\n"
     ]
    },
    {
     "name": "stderr",
     "output_type": "stream",
     "text": [
      "Epoch 22/50: 100%|██████████| 6896/6896 [00:09<00:00, 725.98it/s]\n"
     ]
    },
    {
     "name": "stdout",
     "output_type": "stream",
     "text": [
      "Average Loss: 0.32977597178619034\n"
     ]
    },
    {
     "name": "stderr",
     "output_type": "stream",
     "text": [
      "Epoch 23/50: 100%|██████████| 6896/6896 [00:08<00:00, 793.14it/s]\n"
     ]
    },
    {
     "name": "stdout",
     "output_type": "stream",
     "text": [
      "Average Loss: 0.32783088150483897\n"
     ]
    },
    {
     "name": "stderr",
     "output_type": "stream",
     "text": [
      "Epoch 24/50: 100%|██████████| 6896/6896 [00:08<00:00, 791.57it/s]\n"
     ]
    },
    {
     "name": "stdout",
     "output_type": "stream",
     "text": [
      "Average Loss: 0.32624410569296153\n"
     ]
    },
    {
     "name": "stderr",
     "output_type": "stream",
     "text": [
      "Epoch 25/50: 100%|██████████| 6896/6896 [00:08<00:00, 775.05it/s]\n"
     ]
    },
    {
     "name": "stdout",
     "output_type": "stream",
     "text": [
      "Average Loss: 0.3245029135924827\n"
     ]
    },
    {
     "name": "stderr",
     "output_type": "stream",
     "text": [
      "Epoch 26/50: 100%|██████████| 6896/6896 [00:08<00:00, 812.32it/s]\n"
     ]
    },
    {
     "name": "stdout",
     "output_type": "stream",
     "text": [
      "Average Loss: 0.3225583588453809\n"
     ]
    },
    {
     "name": "stderr",
     "output_type": "stream",
     "text": [
      "Epoch 27/50: 100%|██████████| 6896/6896 [00:08<00:00, 801.60it/s]\n"
     ]
    },
    {
     "name": "stdout",
     "output_type": "stream",
     "text": [
      "Average Loss: 0.321414447648844\n"
     ]
    },
    {
     "name": "stderr",
     "output_type": "stream",
     "text": [
      "Epoch 28/50: 100%|██████████| 6896/6896 [00:08<00:00, 831.91it/s]\n"
     ]
    },
    {
     "name": "stdout",
     "output_type": "stream",
     "text": [
      "Average Loss: 0.31902141361486536\n"
     ]
    },
    {
     "name": "stderr",
     "output_type": "stream",
     "text": [
      "Epoch 29/50: 100%|██████████| 6896/6896 [00:08<00:00, 821.26it/s]\n"
     ]
    },
    {
     "name": "stdout",
     "output_type": "stream",
     "text": [
      "Average Loss: 0.3176672597396298\n"
     ]
    },
    {
     "name": "stderr",
     "output_type": "stream",
     "text": [
      "Epoch 30/50: 100%|██████████| 6896/6896 [00:08<00:00, 861.25it/s]\n"
     ]
    },
    {
     "name": "stdout",
     "output_type": "stream",
     "text": [
      "Average Loss: 0.3170582553795312\n"
     ]
    },
    {
     "name": "stderr",
     "output_type": "stream",
     "text": [
      "Epoch 31/50: 100%|██████████| 6896/6896 [00:08<00:00, 850.91it/s]\n"
     ]
    },
    {
     "name": "stdout",
     "output_type": "stream",
     "text": [
      "Average Loss: 0.31530302105117114\n"
     ]
    },
    {
     "name": "stderr",
     "output_type": "stream",
     "text": [
      "Epoch 32/50: 100%|██████████| 6896/6896 [00:08<00:00, 843.15it/s]\n"
     ]
    },
    {
     "name": "stdout",
     "output_type": "stream",
     "text": [
      "Average Loss: 0.3131623154650864\n"
     ]
    },
    {
     "name": "stderr",
     "output_type": "stream",
     "text": [
      "Epoch 33/50: 100%|██████████| 6896/6896 [00:08<00:00, 809.76it/s]\n"
     ]
    },
    {
     "name": "stdout",
     "output_type": "stream",
     "text": [
      "Average Loss: 0.3123294601147765\n"
     ]
    },
    {
     "name": "stderr",
     "output_type": "stream",
     "text": [
      "Epoch 34/50: 100%|██████████| 6896/6896 [00:08<00:00, 851.86it/s]\n"
     ]
    },
    {
     "name": "stdout",
     "output_type": "stream",
     "text": [
      "Average Loss: 0.31074630653079416\n"
     ]
    },
    {
     "name": "stderr",
     "output_type": "stream",
     "text": [
      "Epoch 35/50: 100%|██████████| 6896/6896 [00:08<00:00, 857.30it/s]\n"
     ]
    },
    {
     "name": "stdout",
     "output_type": "stream",
     "text": [
      "Average Loss: 0.3093319447006676\n"
     ]
    },
    {
     "name": "stderr",
     "output_type": "stream",
     "text": [
      "Epoch 36/50: 100%|██████████| 6896/6896 [00:08<00:00, 830.73it/s]\n"
     ]
    },
    {
     "name": "stdout",
     "output_type": "stream",
     "text": [
      "Average Loss: 0.3084785453564641\n"
     ]
    },
    {
     "name": "stderr",
     "output_type": "stream",
     "text": [
      "Epoch 37/50: 100%|██████████| 6896/6896 [00:08<00:00, 766.52it/s]\n"
     ]
    },
    {
     "name": "stdout",
     "output_type": "stream",
     "text": [
      "Average Loss: 0.30724967620713667\n"
     ]
    },
    {
     "name": "stderr",
     "output_type": "stream",
     "text": [
      "Epoch 38/50: 100%|██████████| 6896/6896 [00:08<00:00, 831.10it/s]\n"
     ]
    },
    {
     "name": "stdout",
     "output_type": "stream",
     "text": [
      "Average Loss: 0.3060701793846253\n"
     ]
    },
    {
     "name": "stderr",
     "output_type": "stream",
     "text": [
      "Epoch 39/50: 100%|██████████| 6896/6896 [00:08<00:00, 859.03it/s]\n"
     ]
    },
    {
     "name": "stdout",
     "output_type": "stream",
     "text": [
      "Average Loss: 0.304703936019692\n"
     ]
    },
    {
     "name": "stderr",
     "output_type": "stream",
     "text": [
      "Epoch 40/50: 100%|██████████| 6896/6896 [00:08<00:00, 851.22it/s]\n"
     ]
    },
    {
     "name": "stdout",
     "output_type": "stream",
     "text": [
      "Average Loss: 0.30389241259566696\n"
     ]
    },
    {
     "name": "stderr",
     "output_type": "stream",
     "text": [
      "Epoch 41/50: 100%|██████████| 6896/6896 [00:08<00:00, 841.36it/s]\n"
     ]
    },
    {
     "name": "stdout",
     "output_type": "stream",
     "text": [
      "Average Loss: 0.3029311652297452\n"
     ]
    },
    {
     "name": "stderr",
     "output_type": "stream",
     "text": [
      "Epoch 42/50: 100%|██████████| 6896/6896 [00:08<00:00, 856.10it/s]\n"
     ]
    },
    {
     "name": "stdout",
     "output_type": "stream",
     "text": [
      "Average Loss: 0.3015685952743926\n"
     ]
    },
    {
     "name": "stderr",
     "output_type": "stream",
     "text": [
      "Epoch 43/50: 100%|██████████| 6896/6896 [00:08<00:00, 855.85it/s]\n"
     ]
    },
    {
     "name": "stdout",
     "output_type": "stream",
     "text": [
      "Average Loss: 0.3005536926506204\n"
     ]
    },
    {
     "name": "stderr",
     "output_type": "stream",
     "text": [
      "Epoch 44/50: 100%|██████████| 6896/6896 [00:08<00:00, 783.77it/s]\n"
     ]
    },
    {
     "name": "stdout",
     "output_type": "stream",
     "text": [
      "Average Loss: 0.29917034026334743\n"
     ]
    },
    {
     "name": "stderr",
     "output_type": "stream",
     "text": [
      "Epoch 45/50: 100%|██████████| 6896/6896 [00:08<00:00, 849.23it/s]\n"
     ]
    },
    {
     "name": "stdout",
     "output_type": "stream",
     "text": [
      "Average Loss: 0.29852871062113034\n"
     ]
    },
    {
     "name": "stderr",
     "output_type": "stream",
     "text": [
      "Epoch 46/50: 100%|██████████| 6896/6896 [00:08<00:00, 853.74it/s]\n"
     ]
    },
    {
     "name": "stdout",
     "output_type": "stream",
     "text": [
      "Average Loss: 0.2977425738717505\n"
     ]
    },
    {
     "name": "stderr",
     "output_type": "stream",
     "text": [
      "Epoch 47/50: 100%|██████████| 6896/6896 [00:08<00:00, 852.30it/s]\n"
     ]
    },
    {
     "name": "stdout",
     "output_type": "stream",
     "text": [
      "Average Loss: 0.29597523132892295\n"
     ]
    },
    {
     "name": "stderr",
     "output_type": "stream",
     "text": [
      "Epoch 48/50: 100%|██████████| 6896/6896 [00:08<00:00, 813.13it/s]\n"
     ]
    },
    {
     "name": "stdout",
     "output_type": "stream",
     "text": [
      "Average Loss: 0.2951397493280678\n"
     ]
    },
    {
     "name": "stderr",
     "output_type": "stream",
     "text": [
      "Epoch 49/50: 100%|██████████| 6896/6896 [00:08<00:00, 851.40it/s]\n"
     ]
    },
    {
     "name": "stdout",
     "output_type": "stream",
     "text": [
      "Average Loss: 0.2940845693204457\n"
     ]
    },
    {
     "name": "stderr",
     "output_type": "stream",
     "text": [
      "Epoch 50/50: 100%|██████████| 6896/6896 [00:08<00:00, 858.95it/s]\n"
     ]
    },
    {
     "name": "stdout",
     "output_type": "stream",
     "text": [
      "Average Loss: 0.2937318672276947\n"
     ]
    },
    {
     "name": "stderr",
     "output_type": "stream",
     "text": [
      "Generating embeddings: 100%|██████████| 6307/6307 [02:57<00:00, 35.55it/s]\n",
      "Evaluations:   0%|          | 0/5 [00:00<?, ?it/s]\n",
      "Evaluating model:   0%|          | 0/6307 [00:00<?, ?it/s]\u001b[A\n",
      "Evaluating model:   0%|          | 1/6307 [00:00<10:39,  9.86it/s]\u001b[A\n",
      "Evaluating model:   0%|          | 24/6307 [00:00<00:45, 138.44it/s]\u001b[A\n",
      "Evaluating model:   4%|▎         | 236/6307 [00:00<00:05, 1037.99it/s]\u001b[A\n",
      "Evaluating model:   7%|▋         | 448/6307 [00:00<00:04, 1461.75it/s]\u001b[A\n",
      "Evaluating model:  10%|█         | 661/6307 [00:00<00:03, 1700.29it/s]\u001b[A\n",
      "Evaluating model:  14%|█▍        | 879/6307 [00:00<00:02, 1860.21it/s]\u001b[A\n",
      "Evaluating model:  17%|█▋        | 1092/6307 [00:00<00:02, 1945.33it/s]\u001b[A\n",
      "Evaluating model:  21%|██        | 1306/6307 [00:00<00:02, 2005.61it/s]\u001b[A\n",
      "Evaluating model:  24%|██▍       | 1521/6307 [00:00<00:02, 2048.09it/s]\u001b[A\n",
      "Evaluating model:  28%|██▊       | 1735/6307 [00:01<00:02, 2073.57it/s]\u001b[A\n",
      "Evaluating model:  31%|███       | 1947/6307 [00:01<00:02, 2086.57it/s]\u001b[A\n",
      "Evaluating model:  34%|███▍      | 2160/6307 [00:01<00:01, 2096.92it/s]\u001b[A\n",
      "Evaluating model:  38%|███▊      | 2375/6307 [00:01<00:01, 2110.64it/s]\u001b[A\n",
      "Evaluating model:  41%|████      | 2588/6307 [00:01<00:01, 2114.41it/s]\u001b[A\n",
      "Evaluating model:  44%|████▍     | 2801/6307 [00:01<00:01, 2116.71it/s]\u001b[A\n",
      "Evaluating model:  48%|████▊     | 3017/6307 [00:01<00:01, 2127.41it/s]\u001b[A\n",
      "Evaluating model:  51%|█████     | 3231/6307 [00:01<00:01, 2130.15it/s]\u001b[A\n",
      "Evaluating model:  55%|█████▍    | 3445/6307 [00:01<00:01, 2129.32it/s]\u001b[A\n",
      "Evaluating model:  58%|█████▊    | 3659/6307 [00:01<00:01, 2130.22it/s]\u001b[A\n",
      "Evaluating model:  61%|██████▏   | 3875/6307 [00:02<00:01, 2136.22it/s]\u001b[A\n",
      "Evaluating model:  65%|██████▍   | 4089/6307 [00:02<00:01, 2131.30it/s]\u001b[A\n",
      "Evaluating model:  68%|██████▊   | 4303/6307 [00:02<00:00, 2130.28it/s]\u001b[A\n",
      "Evaluating model:  72%|███████▏  | 4519/6307 [00:02<00:00, 2137.86it/s]\u001b[A\n",
      "Evaluating model:  75%|███████▌  | 4733/6307 [00:02<00:00, 2134.77it/s]\u001b[A\n",
      "Evaluating model:  78%|███████▊  | 4947/6307 [00:02<00:00, 2132.61it/s]\u001b[A\n",
      "Evaluating model:  82%|████████▏ | 5161/6307 [00:02<00:00, 2134.11it/s]\u001b[A\n",
      "Evaluating model:  85%|████████▌ | 5377/6307 [00:02<00:00, 2139.11it/s]\u001b[A\n",
      "Evaluating model:  89%|████████▊ | 5591/6307 [00:02<00:00, 2126.76it/s]\u001b[A\n",
      "Evaluating model:  92%|█████████▏| 5804/6307 [00:02<00:00, 2124.57it/s]\u001b[A\n",
      "Evaluating model:  95%|█████████▌| 6021/6307 [00:03<00:00, 2136.81it/s]\u001b[A\n",
      "Evaluating model: 100%|██████████| 6307/6307 [00:03<00:00, 1990.33it/s]\u001b[A\n",
      "Evaluations:  20%|██        | 1/5 [00:04<00:16,  4.03s/it]\n",
      "Evaluating model:   0%|          | 0/6307 [00:00<?, ?it/s]\u001b[A\n",
      "Evaluating model:   1%|          | 58/6307 [00:00<00:16, 378.35it/s]\u001b[A\n",
      "Evaluating model:   2%|▏         | 99/6307 [00:00<00:15, 393.02it/s]\u001b[A\n",
      "Evaluating model:   5%|▍         | 314/6307 [00:00<00:05, 1108.25it/s]\u001b[A\n",
      "Evaluating model:   8%|▊         | 527/6307 [00:00<00:03, 1482.12it/s]\u001b[A\n",
      "Evaluating model:  12%|█▏        | 740/6307 [00:00<00:03, 1703.35it/s]\u001b[A\n",
      "Evaluating model:  15%|█▌        | 954/6307 [00:00<00:02, 1846.12it/s]\u001b[A\n",
      "Evaluating model:  19%|█▊        | 1169/6307 [00:00<00:02, 1942.34it/s]\u001b[A\n",
      "Evaluating model:  22%|██▏       | 1381/6307 [00:00<00:02, 1997.62it/s]\u001b[A\n",
      "Evaluating model:  25%|██▌       | 1593/6307 [00:00<00:02, 2035.05it/s]\u001b[A\n",
      "Evaluating model:  29%|██▊       | 1810/6307 [00:01<00:02, 2075.53it/s]\u001b[A\n",
      "Evaluating model:  32%|███▏      | 2022/6307 [00:01<00:02, 2088.55it/s]\u001b[A\n",
      "Evaluating model:  35%|███▌      | 2235/6307 [00:01<00:01, 2100.51it/s]\u001b[A\n",
      "Evaluating model:  39%|███▉      | 2451/6307 [00:01<00:01, 2115.71it/s]\u001b[A\n",
      "Evaluating model:  42%|████▏     | 2665/6307 [00:01<00:01, 2121.13it/s]\u001b[A\n",
      "Evaluating model:  46%|████▌     | 2879/6307 [00:01<00:01, 2124.98it/s]\u001b[A\n",
      "Evaluating model:  49%|████▉     | 3092/6307 [00:01<00:01, 2125.88it/s]\u001b[A\n",
      "Evaluating model:  52%|█████▏    | 3311/6307 [00:01<00:01, 2142.61it/s]\u001b[A\n",
      "Evaluating model:  56%|█████▌    | 3526/6307 [00:01<00:01, 2139.25it/s]\u001b[A\n",
      "Evaluating model:  59%|█████▉    | 3741/6307 [00:01<00:01, 2141.45it/s]\u001b[A\n",
      "Evaluating model:  63%|██████▎   | 3959/6307 [00:02<00:01, 2150.98it/s]\u001b[A\n",
      "Evaluating model:  66%|██████▌   | 4175/6307 [00:02<00:00, 2148.04it/s]\u001b[A\n",
      "Evaluating model:  70%|██████▉   | 4390/6307 [00:02<00:00, 2144.88it/s]\u001b[A\n",
      "Evaluating model:  73%|███████▎  | 4605/6307 [00:02<00:00, 2144.79it/s]\u001b[A\n",
      "Evaluating model:  76%|███████▋  | 4823/6307 [00:02<00:00, 2153.33it/s]\u001b[A\n",
      "Evaluating model:  80%|███████▉  | 5039/6307 [00:02<00:00, 2152.39it/s]\u001b[A\n",
      "Evaluating model:  83%|████████▎ | 5255/6307 [00:02<00:00, 2150.06it/s]\u001b[A\n",
      "Evaluating model:  87%|████████▋ | 5471/6307 [00:02<00:00, 2150.47it/s]\u001b[A\n",
      "Evaluating model:  90%|█████████ | 5687/6307 [00:02<00:00, 2143.97it/s]\u001b[A\n",
      "Evaluating model:  94%|█████████▎| 5902/6307 [00:02<00:00, 2139.98it/s]\u001b[A\n",
      "Evaluating model: 100%|██████████| 6307/6307 [00:03<00:00, 1992.24it/s]\u001b[A\n",
      "Evaluations:  40%|████      | 2/5 [00:08<00:12,  4.02s/it]\n",
      "Evaluating model:   0%|          | 0/6307 [00:00<?, ?it/s]\u001b[A\n",
      "Evaluating model:   1%|          | 56/6307 [00:00<00:16, 390.62it/s]\u001b[A\n",
      "Evaluating model:   2%|▏         | 96/6307 [00:00<00:15, 394.87it/s]\u001b[A\n",
      "Evaluating model:   5%|▍         | 308/6307 [00:00<00:05, 1110.72it/s]\u001b[A\n",
      "Evaluating model:   8%|▊         | 522/6307 [00:00<00:03, 1491.98it/s]\u001b[A\n",
      "Evaluating model:  12%|█▏        | 738/6307 [00:00<00:03, 1720.95it/s]\u001b[A\n",
      "Evaluating model:  15%|█▌        | 951/6307 [00:00<00:02, 1855.39it/s]\u001b[A\n",
      "Evaluating model:  18%|█▊        | 1165/6307 [00:00<00:02, 1945.23it/s]\u001b[A\n",
      "Evaluating model:  22%|██▏       | 1381/6307 [00:00<00:02, 2012.24it/s]\u001b[A\n",
      "Evaluating model:  25%|██▌       | 1594/6307 [00:00<00:02, 2046.95it/s]\u001b[A\n",
      "Evaluating model:  29%|██▊       | 1807/6307 [00:01<00:02, 2070.60it/s]\u001b[A\n",
      "Evaluating model:  32%|███▏      | 2021/6307 [00:01<00:02, 2090.09it/s]\u001b[A\n",
      "Evaluating model:  35%|███▌      | 2236/6307 [00:01<00:01, 2107.01it/s]\u001b[A\n",
      "Evaluating model:  39%|███▉      | 2449/6307 [00:01<00:01, 2113.16it/s]\u001b[A\n",
      "Evaluating model:  42%|████▏     | 2661/6307 [00:01<00:01, 2115.02it/s]\u001b[A\n",
      "Evaluating model:  46%|████▌     | 2878/6307 [00:01<00:01, 2130.94it/s]\u001b[A\n",
      "Evaluating model:  49%|████▉     | 3092/6307 [00:01<00:01, 2126.96it/s]\u001b[A\n",
      "Evaluating model:  52%|█████▏    | 3305/6307 [00:01<00:01, 2126.18it/s]\u001b[A\n",
      "Evaluating model:  56%|█████▌    | 3520/6307 [00:01<00:01, 2131.66it/s]\u001b[A\n",
      "Evaluating model:  59%|█████▉    | 3734/6307 [00:01<00:01, 2106.51it/s]\u001b[A\n",
      "Evaluating model:  63%|██████▎   | 3947/6307 [00:02<00:01, 2111.23it/s]\u001b[A\n",
      "Evaluating model:  66%|██████▌   | 4159/6307 [00:02<00:01, 2112.42it/s]\u001b[A\n",
      "Evaluating model:  69%|██████▉   | 4375/6307 [00:02<00:00, 2126.41it/s]\u001b[A\n",
      "Evaluating model:  73%|███████▎  | 4588/6307 [00:02<00:00, 2125.79it/s]\u001b[A\n",
      "Evaluating model:  76%|███████▌  | 4801/6307 [00:02<00:00, 2125.44it/s]\u001b[A\n",
      "Evaluating model:  80%|███████▉  | 5015/6307 [00:02<00:00, 2129.71it/s]\u001b[A\n",
      "Evaluating model:  83%|████████▎ | 5228/6307 [00:02<00:00, 2129.75it/s]\u001b[A\n",
      "Evaluating model:  86%|████████▋ | 5441/6307 [00:02<00:00, 2129.16it/s]\u001b[A\n",
      "Evaluating model:  90%|████████▉ | 5654/6307 [00:02<00:00, 2128.56it/s]\u001b[A\n",
      "Evaluating model:  93%|█████████▎| 5870/6307 [00:02<00:00, 2135.99it/s]\u001b[A\n",
      "Evaluating model:  96%|█████████▋| 6084/6307 [00:03<00:00, 2133.77it/s]\u001b[A\n",
      "Evaluating model: 100%|██████████| 6307/6307 [00:03<00:00, 1982.35it/s]\u001b[A\n",
      "Evaluations:  60%|██████    | 3/5 [00:12<00:08,  4.01s/it]\n",
      "Evaluating model:   0%|          | 0/6307 [00:00<?, ?it/s]\u001b[A\n",
      "Evaluating model:   1%|          | 43/6307 [00:00<00:20, 309.64it/s]\u001b[A\n",
      "Evaluating model:   1%|▏         | 83/6307 [00:00<00:17, 355.37it/s]\u001b[A\n",
      "Evaluating model:   5%|▍         | 297/6307 [00:00<00:05, 1104.73it/s]\u001b[A\n",
      "Evaluating model:   8%|▊         | 509/6307 [00:00<00:03, 1484.27it/s]\u001b[A\n",
      "Evaluating model:  11%|█▏        | 722/6307 [00:00<00:03, 1708.40it/s]\u001b[A\n",
      "Evaluating model:  15%|█▍        | 938/6307 [00:00<00:02, 1858.36it/s]\u001b[A\n",
      "Evaluating model:  18%|█▊        | 1151/6307 [00:00<00:02, 1944.53it/s]\u001b[A\n",
      "Evaluating model:  22%|██▏       | 1364/6307 [00:00<00:02, 2002.32it/s]\u001b[A\n",
      "Evaluating model:  25%|██▌       | 1578/6307 [00:00<00:02, 2044.64it/s]\u001b[A\n",
      "Evaluating model:  28%|██▊       | 1793/6307 [00:01<00:02, 2074.93it/s]\u001b[A\n",
      "Evaluating model:  32%|███▏      | 2005/6307 [00:01<00:02, 2088.49it/s]\u001b[A\n",
      "Evaluating model:  35%|███▌      | 2217/6307 [00:01<00:01, 2097.12it/s]\u001b[A\n",
      "Evaluating model:  39%|███▊      | 2433/6307 [00:01<00:01, 2115.62it/s]\u001b[A\n",
      "Evaluating model:  42%|████▏     | 2646/6307 [00:01<00:01, 2117.32it/s]\u001b[A\n",
      "Evaluating model:  45%|████▌     | 2859/6307 [00:01<00:01, 2120.60it/s]\u001b[A\n",
      "Evaluating model:  49%|████▊     | 3074/6307 [00:01<00:01, 2127.39it/s]\u001b[A\n",
      "Evaluating model:  52%|█████▏    | 3288/6307 [00:01<00:01, 2130.49it/s]\u001b[A\n",
      "Evaluating model:  56%|█████▌    | 3502/6307 [00:01<00:01, 2114.04it/s]\u001b[A\n",
      "Evaluating model:  59%|█████▉    | 3714/6307 [00:01<00:01, 2112.87it/s]\u001b[A\n",
      "Evaluating model:  62%|██████▏   | 3931/6307 [00:02<00:01, 2127.27it/s]\u001b[A\n",
      "Evaluating model:  66%|██████▌   | 4144/6307 [00:02<00:01, 2126.35it/s]\u001b[A\n",
      "Evaluating model:  69%|██████▉   | 4357/6307 [00:02<00:00, 2126.23it/s]\u001b[A\n",
      "Evaluating model:  72%|███████▏  | 4572/6307 [00:02<00:00, 2133.12it/s]\u001b[A\n",
      "Evaluating model:  76%|███████▌  | 4786/6307 [00:02<00:00, 2132.57it/s]\u001b[A\n",
      "Evaluating model:  79%|███████▉  | 5000/6307 [00:02<00:00, 2105.34it/s]\u001b[A\n",
      "Evaluating model:  83%|████████▎ | 5214/6307 [00:02<00:00, 2112.82it/s]\u001b[A\n",
      "Evaluating model:  86%|████████▌ | 5428/6307 [00:02<00:00, 2120.66it/s]\u001b[A\n",
      "Evaluating model:  89%|████████▉ | 5642/6307 [00:02<00:00, 2124.64it/s]\u001b[A\n",
      "Evaluating model:  93%|█████████▎| 5855/6307 [00:02<00:00, 2124.40it/s]\u001b[A\n",
      "Evaluating model:  96%|█████████▋| 6072/6307 [00:03<00:00, 2136.86it/s]\u001b[A\n",
      "Evaluating model: 100%|██████████| 6307/6307 [00:03<00:00, 1980.66it/s]\u001b[A\n",
      "Evaluations:  80%|████████  | 4/5 [00:16<00:04,  4.04s/it]\n",
      "Evaluating model:   0%|          | 0/6307 [00:00<?, ?it/s]\u001b[A\n",
      "Evaluating model:   1%|          | 63/6307 [00:00<00:16, 381.32it/s]\u001b[A\n",
      "Evaluating model:   2%|▏         | 104/6307 [00:00<00:15, 394.36it/s]\u001b[A\n",
      "Evaluating model:   5%|▌         | 319/6307 [00:00<00:05, 1091.76it/s]\u001b[A\n",
      "Evaluating model:   8%|▊         | 531/6307 [00:00<00:03, 1464.19it/s]\u001b[A\n",
      "Evaluating model:  12%|█▏        | 745/6307 [00:00<00:03, 1693.52it/s]\u001b[A\n",
      "Evaluating model:  15%|█▌        | 960/6307 [00:00<00:02, 1842.54it/s]\u001b[A\n",
      "Evaluating model:  19%|█▊        | 1176/6307 [00:00<00:02, 1942.77it/s]\u001b[A\n",
      "Evaluating model:  22%|██▏       | 1390/6307 [00:00<00:02, 2004.14it/s]\u001b[A\n",
      "Evaluating model:  25%|██▌       | 1603/6307 [00:00<00:02, 2041.58it/s]\u001b[A\n",
      "Evaluating model:  29%|██▉       | 1821/6307 [00:01<00:02, 2081.62it/s]\u001b[A\n",
      "Evaluating model:  32%|███▏      | 2034/6307 [00:01<00:02, 2096.23it/s]\u001b[A\n",
      "Evaluating model:  36%|███▌      | 2248/6307 [00:01<00:01, 2108.24it/s]\u001b[A\n",
      "Evaluating model:  39%|███▉      | 2464/6307 [00:01<00:01, 2120.81it/s]\u001b[A\n",
      "Evaluating model:  42%|████▏     | 2679/6307 [00:01<00:01, 2126.72it/s]\u001b[A\n",
      "Evaluating model:  46%|████▌     | 2893/6307 [00:01<00:01, 2129.81it/s]\u001b[A\n",
      "Evaluating model:  49%|████▉     | 3107/6307 [00:01<00:01, 2130.64it/s]\u001b[A\n",
      "Evaluating model:  53%|█████▎    | 3324/6307 [00:01<00:01, 2140.92it/s]\u001b[A\n",
      "Evaluating model:  56%|█████▌    | 3539/6307 [00:01<00:01, 2135.62it/s]\u001b[A\n",
      "Evaluating model:  60%|█████▉    | 3753/6307 [00:01<00:01, 2134.29it/s]\u001b[A\n",
      "Evaluating model:  63%|██████▎   | 3969/6307 [00:02<00:01, 2139.12it/s]\u001b[A\n",
      "Evaluating model:  66%|██████▋   | 4183/6307 [00:02<00:00, 2138.30it/s]\u001b[A\n",
      "Evaluating model:  70%|██████▉   | 4397/6307 [00:02<00:00, 2137.10it/s]\u001b[A\n",
      "Evaluating model:  73%|███████▎  | 4611/6307 [00:02<00:00, 2136.58it/s]\u001b[A\n",
      "Evaluating model:  77%|███████▋  | 4827/6307 [00:02<00:00, 2141.58it/s]\u001b[A\n",
      "Evaluating model:  80%|███████▉  | 5042/6307 [00:02<00:00, 2139.65it/s]\u001b[A\n",
      "Evaluating model:  83%|████████▎ | 5256/6307 [00:02<00:00, 2136.50it/s]\u001b[A\n",
      "Evaluating model:  87%|████████▋ | 5472/6307 [00:02<00:00, 2143.45it/s]\u001b[A\n",
      "Evaluating model:  90%|█████████ | 5687/6307 [00:02<00:00, 2139.18it/s]\u001b[A\n",
      "Evaluating model:  94%|█████████▎| 5901/6307 [00:02<00:00, 2137.84it/s]\u001b[A\n",
      "Evaluating model: 100%|██████████| 6307/6307 [00:03<00:00, 1985.80it/s]\u001b[A\n",
      "Evaluations: 100%|██████████| 5/5 [00:20<00:00,  4.03s/it]\n"
     ]
    },
    {
     "name": "stdout",
     "output_type": "stream",
     "text": [
      "CB-frameaxis-trump:\n",
      "Accuracy: 0.8618369217809271, Precision: 0.8776294094134107, Recall: 0.94429734960486, F1-Score: 0.9097436229444517\n"
     ]
    },
    {
     "name": "stderr",
     "output_type": "stream",
     "text": [
      "Generating embeddings: 100%|██████████| 3582/3582 [01:53<00:00, 31.51it/s]\n",
      "Epoch 1/50: 100%|██████████| 3582/3582 [00:04<00:00, 824.07it/s]\n"
     ]
    },
    {
     "name": "stdout",
     "output_type": "stream",
     "text": [
      "Average Loss: 0.6234507451404878\n"
     ]
    },
    {
     "name": "stderr",
     "output_type": "stream",
     "text": [
      "Epoch 2/50: 100%|██████████| 3582/3582 [00:04<00:00, 800.26it/s]\n"
     ]
    },
    {
     "name": "stdout",
     "output_type": "stream",
     "text": [
      "Average Loss: 0.5823767844323404\n"
     ]
    },
    {
     "name": "stderr",
     "output_type": "stream",
     "text": [
      "Epoch 3/50: 100%|██████████| 3582/3582 [00:04<00:00, 746.25it/s]\n"
     ]
    },
    {
     "name": "stdout",
     "output_type": "stream",
     "text": [
      "Average Loss: 0.570219105304053\n"
     ]
    },
    {
     "name": "stderr",
     "output_type": "stream",
     "text": [
      "Epoch 4/50: 100%|██████████| 3582/3582 [00:04<00:00, 820.52it/s]\n"
     ]
    },
    {
     "name": "stdout",
     "output_type": "stream",
     "text": [
      "Average Loss: 0.5632454252472675\n"
     ]
    },
    {
     "name": "stderr",
     "output_type": "stream",
     "text": [
      "Epoch 5/50: 100%|██████████| 3582/3582 [00:04<00:00, 826.79it/s]\n"
     ]
    },
    {
     "name": "stdout",
     "output_type": "stream",
     "text": [
      "Average Loss: 0.5585303550106663\n"
     ]
    },
    {
     "name": "stderr",
     "output_type": "stream",
     "text": [
      "Epoch 6/50: 100%|██████████| 3582/3582 [00:04<00:00, 843.11it/s]\n"
     ]
    },
    {
     "name": "stdout",
     "output_type": "stream",
     "text": [
      "Average Loss: 0.5549420076731795\n"
     ]
    },
    {
     "name": "stderr",
     "output_type": "stream",
     "text": [
      "Epoch 7/50: 100%|██████████| 3582/3582 [00:04<00:00, 758.84it/s]\n"
     ]
    },
    {
     "name": "stdout",
     "output_type": "stream",
     "text": [
      "Average Loss: 0.5518123088752938\n"
     ]
    },
    {
     "name": "stderr",
     "output_type": "stream",
     "text": [
      "Epoch 8/50: 100%|██████████| 3582/3582 [00:04<00:00, 845.75it/s]\n"
     ]
    },
    {
     "name": "stdout",
     "output_type": "stream",
     "text": [
      "Average Loss: 0.5485109927216966\n"
     ]
    },
    {
     "name": "stderr",
     "output_type": "stream",
     "text": [
      "Epoch 9/50: 100%|██████████| 3582/3582 [00:04<00:00, 785.91it/s]\n"
     ]
    },
    {
     "name": "stdout",
     "output_type": "stream",
     "text": [
      "Average Loss: 0.5463805699285218\n"
     ]
    },
    {
     "name": "stderr",
     "output_type": "stream",
     "text": [
      "Epoch 10/50: 100%|██████████| 3582/3582 [00:04<00:00, 850.92it/s]\n"
     ]
    },
    {
     "name": "stdout",
     "output_type": "stream",
     "text": [
      "Average Loss: 0.5442691102316098\n"
     ]
    },
    {
     "name": "stderr",
     "output_type": "stream",
     "text": [
      "Epoch 11/50: 100%|██████████| 3582/3582 [00:04<00:00, 845.52it/s]\n"
     ]
    },
    {
     "name": "stdout",
     "output_type": "stream",
     "text": [
      "Average Loss: 0.5423031700083425\n"
     ]
    },
    {
     "name": "stderr",
     "output_type": "stream",
     "text": [
      "Epoch 12/50: 100%|██████████| 3582/3582 [00:04<00:00, 831.12it/s]\n"
     ]
    },
    {
     "name": "stdout",
     "output_type": "stream",
     "text": [
      "Average Loss: 0.541008338273936\n"
     ]
    },
    {
     "name": "stderr",
     "output_type": "stream",
     "text": [
      "Epoch 13/50: 100%|██████████| 3582/3582 [00:04<00:00, 837.13it/s]\n"
     ]
    },
    {
     "name": "stdout",
     "output_type": "stream",
     "text": [
      "Average Loss: 0.5391734472487906\n"
     ]
    },
    {
     "name": "stderr",
     "output_type": "stream",
     "text": [
      "Epoch 14/50: 100%|██████████| 3582/3582 [00:04<00:00, 845.03it/s]\n"
     ]
    },
    {
     "name": "stdout",
     "output_type": "stream",
     "text": [
      "Average Loss: 0.537416075849786\n"
     ]
    },
    {
     "name": "stderr",
     "output_type": "stream",
     "text": [
      "Epoch 15/50: 100%|██████████| 3582/3582 [00:04<00:00, 821.92it/s]\n"
     ]
    },
    {
     "name": "stdout",
     "output_type": "stream",
     "text": [
      "Average Loss: 0.5364610542221352\n"
     ]
    },
    {
     "name": "stderr",
     "output_type": "stream",
     "text": [
      "Epoch 16/50: 100%|██████████| 3582/3582 [00:05<00:00, 700.96it/s]\n"
     ]
    },
    {
     "name": "stdout",
     "output_type": "stream",
     "text": [
      "Average Loss: 0.5348852204750664\n"
     ]
    },
    {
     "name": "stderr",
     "output_type": "stream",
     "text": [
      "Epoch 17/50: 100%|██████████| 3582/3582 [00:04<00:00, 797.95it/s]\n"
     ]
    },
    {
     "name": "stdout",
     "output_type": "stream",
     "text": [
      "Average Loss: 0.5336302694313889\n"
     ]
    },
    {
     "name": "stderr",
     "output_type": "stream",
     "text": [
      "Epoch 18/50: 100%|██████████| 3582/3582 [00:04<00:00, 779.34it/s]\n"
     ]
    },
    {
     "name": "stdout",
     "output_type": "stream",
     "text": [
      "Average Loss: 0.5327420438603939\n"
     ]
    },
    {
     "name": "stderr",
     "output_type": "stream",
     "text": [
      "Epoch 19/50: 100%|██████████| 3582/3582 [00:04<00:00, 845.85it/s]\n"
     ]
    },
    {
     "name": "stdout",
     "output_type": "stream",
     "text": [
      "Average Loss: 0.531358883317325\n"
     ]
    },
    {
     "name": "stderr",
     "output_type": "stream",
     "text": [
      "Epoch 20/50: 100%|██████████| 3582/3582 [00:04<00:00, 837.22it/s]\n"
     ]
    },
    {
     "name": "stdout",
     "output_type": "stream",
     "text": [
      "Average Loss: 0.5304530152540378\n"
     ]
    },
    {
     "name": "stderr",
     "output_type": "stream",
     "text": [
      "Epoch 21/50: 100%|██████████| 3582/3582 [00:04<00:00, 834.07it/s]\n"
     ]
    },
    {
     "name": "stdout",
     "output_type": "stream",
     "text": [
      "Average Loss: 0.5291176312948858\n"
     ]
    },
    {
     "name": "stderr",
     "output_type": "stream",
     "text": [
      "Epoch 22/50: 100%|██████████| 3582/3582 [00:04<00:00, 806.46it/s]\n"
     ]
    },
    {
     "name": "stdout",
     "output_type": "stream",
     "text": [
      "Average Loss: 0.528030549444878\n"
     ]
    },
    {
     "name": "stderr",
     "output_type": "stream",
     "text": [
      "Epoch 23/50: 100%|██████████| 3582/3582 [00:04<00:00, 775.55it/s]\n"
     ]
    },
    {
     "name": "stdout",
     "output_type": "stream",
     "text": [
      "Average Loss: 0.5273187265657034\n"
     ]
    },
    {
     "name": "stderr",
     "output_type": "stream",
     "text": [
      "Epoch 24/50: 100%|██████████| 3582/3582 [00:04<00:00, 835.10it/s]\n"
     ]
    },
    {
     "name": "stdout",
     "output_type": "stream",
     "text": [
      "Average Loss: 0.5257739754095216\n"
     ]
    },
    {
     "name": "stderr",
     "output_type": "stream",
     "text": [
      "Epoch 25/50: 100%|██████████| 3582/3582 [00:04<00:00, 770.36it/s]\n"
     ]
    },
    {
     "name": "stdout",
     "output_type": "stream",
     "text": [
      "Average Loss: 0.5253172108725687\n"
     ]
    },
    {
     "name": "stderr",
     "output_type": "stream",
     "text": [
      "Epoch 26/50: 100%|██████████| 3582/3582 [00:04<00:00, 819.48it/s]\n"
     ]
    },
    {
     "name": "stdout",
     "output_type": "stream",
     "text": [
      "Average Loss: 0.5239470466380676\n"
     ]
    },
    {
     "name": "stderr",
     "output_type": "stream",
     "text": [
      "Epoch 27/50: 100%|██████████| 3582/3582 [00:04<00:00, 815.14it/s]\n"
     ]
    },
    {
     "name": "stdout",
     "output_type": "stream",
     "text": [
      "Average Loss: 0.5231605686085108\n"
     ]
    },
    {
     "name": "stderr",
     "output_type": "stream",
     "text": [
      "Epoch 28/50: 100%|██████████| 3582/3582 [00:04<00:00, 851.47it/s]\n"
     ]
    },
    {
     "name": "stdout",
     "output_type": "stream",
     "text": [
      "Average Loss: 0.5224535508670999\n"
     ]
    },
    {
     "name": "stderr",
     "output_type": "stream",
     "text": [
      "Epoch 29/50: 100%|██████████| 3582/3582 [00:04<00:00, 850.05it/s]\n"
     ]
    },
    {
     "name": "stdout",
     "output_type": "stream",
     "text": [
      "Average Loss: 0.5217229579161958\n"
     ]
    },
    {
     "name": "stderr",
     "output_type": "stream",
     "text": [
      "Epoch 30/50: 100%|██████████| 3582/3582 [00:04<00:00, 783.07it/s]\n"
     ]
    },
    {
     "name": "stdout",
     "output_type": "stream",
     "text": [
      "Average Loss: 0.5206257252054864\n"
     ]
    },
    {
     "name": "stderr",
     "output_type": "stream",
     "text": [
      "Epoch 31/50: 100%|██████████| 3582/3582 [00:04<00:00, 811.17it/s]\n"
     ]
    },
    {
     "name": "stdout",
     "output_type": "stream",
     "text": [
      "Average Loss: 0.5192531605777895\n"
     ]
    },
    {
     "name": "stderr",
     "output_type": "stream",
     "text": [
      "Epoch 32/50: 100%|██████████| 3582/3582 [00:04<00:00, 778.07it/s]\n"
     ]
    },
    {
     "name": "stdout",
     "output_type": "stream",
     "text": [
      "Average Loss: 0.5189155114722079\n"
     ]
    },
    {
     "name": "stderr",
     "output_type": "stream",
     "text": [
      "Epoch 33/50: 100%|██████████| 3582/3582 [00:04<00:00, 843.41it/s]\n"
     ]
    },
    {
     "name": "stdout",
     "output_type": "stream",
     "text": [
      "Average Loss: 0.517898795226644\n"
     ]
    },
    {
     "name": "stderr",
     "output_type": "stream",
     "text": [
      "Epoch 34/50: 100%|██████████| 3582/3582 [00:04<00:00, 840.53it/s]\n"
     ]
    },
    {
     "name": "stdout",
     "output_type": "stream",
     "text": [
      "Average Loss: 0.5169404946363285\n"
     ]
    },
    {
     "name": "stderr",
     "output_type": "stream",
     "text": [
      "Epoch 35/50: 100%|██████████| 3582/3582 [00:04<00:00, 835.71it/s]\n"
     ]
    },
    {
     "name": "stdout",
     "output_type": "stream",
     "text": [
      "Average Loss: 0.5166057844956716\n"
     ]
    },
    {
     "name": "stderr",
     "output_type": "stream",
     "text": [
      "Epoch 36/50: 100%|██████████| 3582/3582 [00:04<00:00, 781.06it/s]\n"
     ]
    },
    {
     "name": "stdout",
     "output_type": "stream",
     "text": [
      "Average Loss: 0.5159807182028932\n"
     ]
    },
    {
     "name": "stderr",
     "output_type": "stream",
     "text": [
      "Epoch 37/50: 100%|██████████| 3582/3582 [00:04<00:00, 834.50it/s]\n"
     ]
    },
    {
     "name": "stdout",
     "output_type": "stream",
     "text": [
      "Average Loss: 0.5147897829928257\n"
     ]
    },
    {
     "name": "stderr",
     "output_type": "stream",
     "text": [
      "Epoch 38/50: 100%|██████████| 3582/3582 [00:04<00:00, 761.18it/s]\n"
     ]
    },
    {
     "name": "stdout",
     "output_type": "stream",
     "text": [
      "Average Loss: 0.5138830651806294\n"
     ]
    },
    {
     "name": "stderr",
     "output_type": "stream",
     "text": [
      "Epoch 39/50: 100%|██████████| 3582/3582 [00:04<00:00, 762.17it/s]\n"
     ]
    },
    {
     "name": "stdout",
     "output_type": "stream",
     "text": [
      "Average Loss: 0.5126289804759869\n"
     ]
    },
    {
     "name": "stderr",
     "output_type": "stream",
     "text": [
      "Epoch 40/50: 100%|██████████| 3582/3582 [00:04<00:00, 778.05it/s]\n"
     ]
    },
    {
     "name": "stdout",
     "output_type": "stream",
     "text": [
      "Average Loss: 0.511968542699505\n"
     ]
    },
    {
     "name": "stderr",
     "output_type": "stream",
     "text": [
      "Epoch 41/50: 100%|██████████| 3582/3582 [00:04<00:00, 761.79it/s]\n"
     ]
    },
    {
     "name": "stdout",
     "output_type": "stream",
     "text": [
      "Average Loss: 0.51162191414254\n"
     ]
    },
    {
     "name": "stderr",
     "output_type": "stream",
     "text": [
      "Epoch 42/50: 100%|██████████| 3582/3582 [00:04<00:00, 823.52it/s]\n"
     ]
    },
    {
     "name": "stdout",
     "output_type": "stream",
     "text": [
      "Average Loss: 0.5106551828978781\n"
     ]
    },
    {
     "name": "stderr",
     "output_type": "stream",
     "text": [
      "Epoch 43/50: 100%|██████████| 3582/3582 [00:04<00:00, 848.07it/s]\n"
     ]
    },
    {
     "name": "stdout",
     "output_type": "stream",
     "text": [
      "Average Loss: 0.5094205060113681\n"
     ]
    },
    {
     "name": "stderr",
     "output_type": "stream",
     "text": [
      "Epoch 44/50: 100%|██████████| 3582/3582 [00:04<00:00, 824.94it/s]\n"
     ]
    },
    {
     "name": "stdout",
     "output_type": "stream",
     "text": [
      "Average Loss: 0.5091493914890796\n"
     ]
    },
    {
     "name": "stderr",
     "output_type": "stream",
     "text": [
      "Epoch 45/50: 100%|██████████| 3582/3582 [00:05<00:00, 620.07it/s]\n"
     ]
    },
    {
     "name": "stdout",
     "output_type": "stream",
     "text": [
      "Average Loss: 0.5077535377192404\n"
     ]
    },
    {
     "name": "stderr",
     "output_type": "stream",
     "text": [
      "Epoch 46/50: 100%|██████████| 3582/3582 [00:04<00:00, 828.27it/s]\n"
     ]
    },
    {
     "name": "stdout",
     "output_type": "stream",
     "text": [
      "Average Loss: 0.5077463929161288\n"
     ]
    },
    {
     "name": "stderr",
     "output_type": "stream",
     "text": [
      "Epoch 47/50: 100%|██████████| 3582/3582 [00:04<00:00, 838.44it/s]\n"
     ]
    },
    {
     "name": "stdout",
     "output_type": "stream",
     "text": [
      "Average Loss: 0.5068711658834679\n"
     ]
    },
    {
     "name": "stderr",
     "output_type": "stream",
     "text": [
      "Epoch 48/50: 100%|██████████| 3582/3582 [00:04<00:00, 832.89it/s]\n"
     ]
    },
    {
     "name": "stdout",
     "output_type": "stream",
     "text": [
      "Average Loss: 0.5058843372738075\n"
     ]
    },
    {
     "name": "stderr",
     "output_type": "stream",
     "text": [
      "Epoch 49/50: 100%|██████████| 3582/3582 [00:04<00:00, 843.87it/s]\n"
     ]
    },
    {
     "name": "stdout",
     "output_type": "stream",
     "text": [
      "Average Loss: 0.5052475511262299\n"
     ]
    },
    {
     "name": "stderr",
     "output_type": "stream",
     "text": [
      "Epoch 50/50: 100%|██████████| 3582/3582 [00:04<00:00, 786.40it/s]\n"
     ]
    },
    {
     "name": "stdout",
     "output_type": "stream",
     "text": [
      "Average Loss: 0.5042928692051181\n"
     ]
    },
    {
     "name": "stderr",
     "output_type": "stream",
     "text": [
      "Generating embeddings: 100%|██████████| 3071/3071 [01:34<00:00, 32.46it/s]\n",
      "Evaluations:   0%|          | 0/5 [00:00<?, ?it/s]\n",
      "Evaluating model:   0%|          | 0/3071 [00:00<?, ?it/s]\u001b[A\n",
      "Evaluating model:   1%|          | 36/3071 [00:00<00:08, 358.70it/s]\u001b[A\n",
      "Evaluating model:   3%|▎         | 80/3071 [00:00<00:07, 405.66it/s]\u001b[A\n",
      "Evaluating model:  10%|▉         | 294/3071 [00:00<00:02, 1195.29it/s]\u001b[A\n",
      "Evaluating model:  16%|█▋        | 506/3071 [00:00<00:01, 1558.72it/s]\u001b[A\n",
      "Evaluating model:  23%|██▎       | 719/3071 [00:00<00:01, 1761.85it/s]\u001b[A\n",
      "Evaluating model:  30%|███       | 932/3071 [00:00<00:01, 1884.61it/s]\u001b[A\n",
      "Evaluating model:  37%|███▋      | 1147/3071 [00:00<00:00, 1968.95it/s]\u001b[A\n",
      "Evaluating model:  44%|████▍     | 1361/3071 [00:00<00:00, 2021.25it/s]\u001b[A\n",
      "Evaluating model:  51%|█████▏    | 1575/3071 [00:00<00:00, 2056.79it/s]\u001b[A\n",
      "Evaluating model:  58%|█████▊    | 1792/3071 [00:01<00:00, 2090.48it/s]\u001b[A\n",
      "Evaluating model:  65%|██████▌   | 2004/3071 [00:01<00:00, 2098.92it/s]\u001b[A\n",
      "Evaluating model:  72%|███████▏  | 2216/3071 [00:01<00:00, 2104.95it/s]\u001b[A\n",
      "Evaluating model:  79%|███████▉  | 2429/3071 [00:01<00:00, 2111.83it/s]\u001b[A\n",
      "Evaluating model:  86%|████████▌ | 2645/3071 [00:01<00:00, 2123.46it/s]\u001b[A\n",
      "Evaluating model:  93%|█████████▎| 2858/3071 [00:01<00:00, 2121.64it/s]\u001b[A\n",
      "Evaluating model: 100%|██████████| 3071/3071 [00:01<00:00, 1809.44it/s]\u001b[A\n",
      "Evaluations:  20%|██        | 1/5 [00:02<00:08,  2.12s/it]\n",
      "Evaluating model:   0%|          | 0/3071 [00:00<?, ?it/s]\u001b[A\n",
      "Evaluating model:   0%|          | 1/3071 [00:00<14:15,  3.59it/s]\u001b[A\n",
      "Evaluating model:   7%|▋         | 206/3071 [00:00<00:04, 696.20it/s]\u001b[A\n",
      "Evaluating model:  14%|█▎        | 418/3071 [00:00<00:02, 1158.71it/s]\u001b[A\n",
      "Evaluating model:  21%|██        | 632/3071 [00:00<00:01, 1469.07it/s]\u001b[A\n",
      "Evaluating model:  28%|██▊       | 847/3071 [00:00<00:01, 1679.83it/s]\u001b[A\n",
      "Evaluating model:  35%|███▍      | 1060/3071 [00:00<00:01, 1816.49it/s]\u001b[A\n",
      "Evaluating model:  41%|████▏     | 1273/3071 [00:00<00:00, 1910.94it/s]\u001b[A\n",
      "Evaluating model:  49%|████▊     | 1490/3071 [00:00<00:00, 1988.87it/s]\u001b[A\n",
      "Evaluating model:  55%|█████▌    | 1704/3071 [00:01<00:00, 2032.10it/s]\u001b[A\n",
      "Evaluating model:  62%|██████▏   | 1918/3071 [00:01<00:00, 2062.30it/s]\u001b[A\n",
      "Evaluating model:  69%|██████▉   | 2133/3071 [00:01<00:00, 2087.52it/s]\u001b[A\n",
      "Evaluating model:  76%|███████▋  | 2349/3071 [00:01<00:00, 2106.97it/s]\u001b[A\n",
      "Evaluating model:  83%|████████▎ | 2563/3071 [00:01<00:00, 2113.96it/s]\u001b[A\n",
      "Evaluating model:  90%|█████████ | 2776/3071 [00:01<00:00, 2114.12it/s]\u001b[A\n",
      "Evaluating model: 100%|██████████| 3071/3071 [00:01<00:00, 1555.07it/s]\u001b[A\n",
      "Evaluations:  40%|████      | 2/5 [00:04<00:06,  2.23s/it]\n",
      "Evaluating model:   0%|          | 0/3071 [00:00<?, ?it/s]\u001b[A\n",
      "Evaluating model:   0%|          | 4/3071 [00:00<02:05, 24.39it/s]\u001b[A\n",
      "Evaluating model:   1%|▏         | 44/3071 [00:00<00:15, 198.85it/s]\u001b[A\n",
      "Evaluating model:   8%|▊         | 257/3071 [00:00<00:02, 967.88it/s]\u001b[A\n",
      "Evaluating model:  15%|█▌        | 471/3071 [00:00<00:01, 1391.95it/s]\u001b[A\n",
      "Evaluating model:  22%|██▏       | 684/3071 [00:00<00:01, 1641.23it/s]\u001b[A\n",
      "Evaluating model:  29%|██▉       | 897/3071 [00:00<00:01, 1799.82it/s]\u001b[A\n",
      "Evaluating model:  36%|███▋      | 1115/3071 [00:00<00:01, 1918.64it/s]\u001b[A\n",
      "Evaluating model:  43%|████▎     | 1327/3071 [00:00<00:00, 1980.30it/s]\u001b[A\n",
      "Evaluating model:  50%|█████     | 1541/3071 [00:00<00:00, 2026.84it/s]\u001b[A\n",
      "Evaluating model:  57%|█████▋    | 1755/3071 [00:01<00:00, 2058.57it/s]\u001b[A\n",
      "Evaluating model:  64%|██████▍   | 1970/3071 [00:01<00:00, 2085.72it/s]\u001b[A\n",
      "Evaluating model:  71%|███████   | 2184/3071 [00:01<00:00, 2099.86it/s]\u001b[A\n",
      "Evaluating model:  78%|███████▊  | 2396/3071 [00:01<00:00, 2104.56it/s]\u001b[A\n",
      "Evaluating model:  85%|████████▌ | 2614/3071 [00:01<00:00, 2125.51it/s]\u001b[A\n",
      "Evaluating model:  92%|█████████▏| 2827/3071 [00:01<00:00, 2124.84it/s]\u001b[A\n",
      "Evaluating model: 100%|██████████| 3071/3071 [00:01<00:00, 1797.27it/s]\u001b[A\n",
      "Evaluations:  60%|██████    | 3/5 [00:06<00:04,  2.21s/it]\n",
      "Evaluating model:   0%|          | 0/3071 [00:00<?, ?it/s]\u001b[A\n",
      "Evaluating model:   1%|▏         | 40/3071 [00:00<00:07, 399.17it/s]\u001b[A\n",
      "Evaluating model:   3%|▎         | 80/3071 [00:00<00:10, 274.97it/s]\u001b[A\n",
      "Evaluating model:  10%|▉         | 295/3071 [00:00<00:02, 960.10it/s]\u001b[A\n",
      "Evaluating model:  17%|█▋        | 508/3071 [00:00<00:01, 1360.83it/s]\u001b[A\n",
      "Evaluating model:  24%|██▎       | 722/3071 [00:00<00:01, 1616.05it/s]\u001b[A\n",
      "Evaluating model:  31%|███       | 938/3071 [00:00<00:01, 1789.08it/s]\u001b[A\n",
      "Evaluating model:  38%|███▊      | 1152/3071 [00:00<00:01, 1898.68it/s]\u001b[A\n",
      "Evaluating model:  44%|████▍     | 1366/3071 [00:00<00:00, 1972.52it/s]\u001b[A\n",
      "Evaluating model:  51%|█████▏    | 1580/3071 [00:00<00:00, 2021.34it/s]\u001b[A\n",
      "Evaluating model:  59%|█████▊    | 1797/3071 [00:01<00:00, 2064.04it/s]\u001b[A\n",
      "Evaluating model:  65%|██████▌   | 2011/3071 [00:01<00:00, 2085.75it/s]\u001b[A\n",
      "Evaluating model:  72%|███████▏  | 2226/3071 [00:01<00:00, 2102.27it/s]\u001b[A\n",
      "Evaluating model:  80%|███████▉  | 2444/3071 [00:01<00:00, 2123.37it/s]\u001b[A\n",
      "Evaluating model:  87%|████████▋ | 2659/3071 [00:01<00:00, 2128.86it/s]\u001b[A\n",
      "Evaluating model: 100%|██████████| 3071/3071 [00:01<00:00, 1825.55it/s]\u001b[A\n",
      "Evaluations:  80%|████████  | 4/5 [00:08<00:02,  2.20s/it]\n",
      "Evaluating model:   0%|          | 0/3071 [00:00<?, ?it/s]\u001b[A\n",
      "Evaluating model:   1%|          | 25/3071 [00:00<00:12, 248.55it/s]\u001b[A\n",
      "Evaluating model:   2%|▏         | 61/3071 [00:00<00:09, 313.64it/s]\u001b[A\n",
      "Evaluating model:   9%|▉         | 275/3071 [00:00<00:02, 1144.65it/s]\u001b[A\n",
      "Evaluating model:  16%|█▌        | 487/3071 [00:00<00:01, 1527.89it/s]\u001b[A\n",
      "Evaluating model:  23%|██▎       | 700/3071 [00:00<00:01, 1742.73it/s]\u001b[A\n",
      "Evaluating model:  30%|██▉       | 916/3071 [00:00<00:01, 1883.66it/s]\u001b[A\n",
      "Evaluating model:  37%|███▋      | 1129/3071 [00:00<00:00, 1961.82it/s]\u001b[A\n",
      "Evaluating model:  44%|████▎     | 1343/3071 [00:00<00:00, 2016.38it/s]\u001b[A\n",
      "Evaluating model:  51%|█████     | 1556/3071 [00:00<00:00, 2050.43it/s]\u001b[A\n",
      "Evaluating model:  58%|█████▊    | 1773/3071 [00:01<00:00, 2085.47it/s]\u001b[A\n",
      "Evaluating model:  65%|██████▍   | 1986/3071 [00:01<00:00, 2099.01it/s]\u001b[A\n",
      "Evaluating model:  72%|███████▏  | 2199/3071 [00:01<00:00, 2106.82it/s]\u001b[A\n",
      "Evaluating model:  79%|███████▊  | 2415/3071 [00:01<00:00, 2121.21it/s]\u001b[A\n",
      "Evaluating model:  86%|████████▌ | 2629/3071 [00:01<00:00, 2126.84it/s]\u001b[A\n",
      "Evaluating model:  93%|█████████▎| 2842/3071 [00:01<00:00, 2127.59it/s]\u001b[A\n",
      "Evaluating model: 100%|██████████| 3071/3071 [00:01<00:00, 1889.58it/s]\u001b[A\n",
      "Evaluations: 100%|██████████| 5/5 [00:10<00:00,  2.18s/it]\n"
     ]
    },
    {
     "name": "stdout",
     "output_type": "stream",
     "text": [
      "CB-frameaxis-mask:\n",
      "Accuracy: 0.7410019232530451, Precision: 0.7003326628500697, Recall: 0.5055850321139347, F1-Score: 0.5872336284908047\n"
     ]
    },
    {
     "name": "stderr",
     "output_type": "stream",
     "text": [
      "Generating embeddings: 100%|██████████| 16700/16700 [08:33<00:00, 32.54it/s]\n",
      "Epoch 1/50: 100%|██████████| 16700/16700 [00:21<00:00, 791.80it/s]\n"
     ]
    },
    {
     "name": "stdout",
     "output_type": "stream",
     "text": [
      "Average Loss: 0.5032382407614928\n"
     ]
    },
    {
     "name": "stderr",
     "output_type": "stream",
     "text": [
      "Epoch 2/50: 100%|██████████| 16700/16700 [00:20<00:00, 818.92it/s]\n"
     ]
    },
    {
     "name": "stdout",
     "output_type": "stream",
     "text": [
      "Average Loss: 0.4729670801223395\n"
     ]
    },
    {
     "name": "stderr",
     "output_type": "stream",
     "text": [
      "Epoch 3/50: 100%|██████████| 16700/16700 [00:20<00:00, 807.28it/s]\n"
     ]
    },
    {
     "name": "stdout",
     "output_type": "stream",
     "text": [
      "Average Loss: 0.46444239902639106\n"
     ]
    },
    {
     "name": "stderr",
     "output_type": "stream",
     "text": [
      "Epoch 4/50: 100%|██████████| 16700/16700 [00:20<00:00, 814.08it/s]\n"
     ]
    },
    {
     "name": "stdout",
     "output_type": "stream",
     "text": [
      "Average Loss: 0.45878320706550946\n"
     ]
    },
    {
     "name": "stderr",
     "output_type": "stream",
     "text": [
      "Epoch 5/50: 100%|██████████| 16700/16700 [00:20<00:00, 799.37it/s]\n"
     ]
    },
    {
     "name": "stdout",
     "output_type": "stream",
     "text": [
      "Average Loss: 0.4546208846827824\n"
     ]
    },
    {
     "name": "stderr",
     "output_type": "stream",
     "text": [
      "Epoch 6/50: 100%|██████████| 16700/16700 [00:21<00:00, 784.15it/s]\n"
     ]
    },
    {
     "name": "stdout",
     "output_type": "stream",
     "text": [
      "Average Loss: 0.45111680127189546\n"
     ]
    },
    {
     "name": "stderr",
     "output_type": "stream",
     "text": [
      "Epoch 7/50: 100%|██████████| 16700/16700 [00:24<00:00, 668.26it/s]\n"
     ]
    },
    {
     "name": "stdout",
     "output_type": "stream",
     "text": [
      "Average Loss: 0.4479867406296516\n"
     ]
    },
    {
     "name": "stderr",
     "output_type": "stream",
     "text": [
      "Epoch 8/50: 100%|██████████| 16700/16700 [00:20<00:00, 802.70it/s]\n"
     ]
    },
    {
     "name": "stdout",
     "output_type": "stream",
     "text": [
      "Average Loss: 0.4452595839707437\n"
     ]
    },
    {
     "name": "stderr",
     "output_type": "stream",
     "text": [
      "Epoch 9/50: 100%|██████████| 16700/16700 [00:26<00:00, 639.77it/s]\n"
     ]
    },
    {
     "name": "stdout",
     "output_type": "stream",
     "text": [
      "Average Loss: 0.44259394532103025\n"
     ]
    },
    {
     "name": "stderr",
     "output_type": "stream",
     "text": [
      "Epoch 10/50: 100%|██████████| 16700/16700 [00:21<00:00, 780.90it/s]\n"
     ]
    },
    {
     "name": "stdout",
     "output_type": "stream",
     "text": [
      "Average Loss: 0.4399423106639328\n"
     ]
    },
    {
     "name": "stderr",
     "output_type": "stream",
     "text": [
      "Epoch 11/50: 100%|██████████| 16700/16700 [00:25<00:00, 655.00it/s]\n"
     ]
    },
    {
     "name": "stdout",
     "output_type": "stream",
     "text": [
      "Average Loss: 0.43755472250505834\n"
     ]
    },
    {
     "name": "stderr",
     "output_type": "stream",
     "text": [
      "Epoch 12/50: 100%|██████████| 16700/16700 [00:23<00:00, 713.36it/s]\n"
     ]
    },
    {
     "name": "stdout",
     "output_type": "stream",
     "text": [
      "Average Loss: 0.4356973066283557\n"
     ]
    },
    {
     "name": "stderr",
     "output_type": "stream",
     "text": [
      "Epoch 13/50: 100%|██████████| 16700/16700 [00:21<00:00, 784.57it/s]\n"
     ]
    },
    {
     "name": "stdout",
     "output_type": "stream",
     "text": [
      "Average Loss: 0.4333736812738244\n"
     ]
    },
    {
     "name": "stderr",
     "output_type": "stream",
     "text": [
      "Epoch 14/50: 100%|██████████| 16700/16700 [00:19<00:00, 860.62it/s]\n"
     ]
    },
    {
     "name": "stdout",
     "output_type": "stream",
     "text": [
      "Average Loss: 0.43150809717660177\n"
     ]
    },
    {
     "name": "stderr",
     "output_type": "stream",
     "text": [
      "Epoch 15/50: 100%|██████████| 16700/16700 [00:21<00:00, 788.11it/s]\n"
     ]
    },
    {
     "name": "stdout",
     "output_type": "stream",
     "text": [
      "Average Loss: 0.42974503826327665\n"
     ]
    },
    {
     "name": "stderr",
     "output_type": "stream",
     "text": [
      "Epoch 16/50: 100%|██████████| 16700/16700 [00:19<00:00, 842.82it/s]\n"
     ]
    },
    {
     "name": "stdout",
     "output_type": "stream",
     "text": [
      "Average Loss: 0.4280834356218041\n"
     ]
    },
    {
     "name": "stderr",
     "output_type": "stream",
     "text": [
      "Epoch 17/50: 100%|██████████| 16700/16700 [00:23<00:00, 720.01it/s]\n"
     ]
    },
    {
     "name": "stdout",
     "output_type": "stream",
     "text": [
      "Average Loss: 0.4260798140467998\n"
     ]
    },
    {
     "name": "stderr",
     "output_type": "stream",
     "text": [
      "Epoch 18/50: 100%|██████████| 16700/16700 [00:20<00:00, 818.27it/s]\n"
     ]
    },
    {
     "name": "stdout",
     "output_type": "stream",
     "text": [
      "Average Loss: 0.42487920131958173\n"
     ]
    },
    {
     "name": "stderr",
     "output_type": "stream",
     "text": [
      "Epoch 19/50: 100%|██████████| 16700/16700 [00:20<00:00, 807.31it/s]\n"
     ]
    },
    {
     "name": "stdout",
     "output_type": "stream",
     "text": [
      "Average Loss: 0.4230643202953353\n"
     ]
    },
    {
     "name": "stderr",
     "output_type": "stream",
     "text": [
      "Epoch 20/50: 100%|██████████| 16700/16700 [00:20<00:00, 826.34it/s]\n"
     ]
    },
    {
     "name": "stdout",
     "output_type": "stream",
     "text": [
      "Average Loss: 0.4217049376006255\n"
     ]
    },
    {
     "name": "stderr",
     "output_type": "stream",
     "text": [
      "Epoch 21/50: 100%|██████████| 16700/16700 [00:20<00:00, 823.39it/s]\n"
     ]
    },
    {
     "name": "stdout",
     "output_type": "stream",
     "text": [
      "Average Loss: 0.4204396953045608\n"
     ]
    },
    {
     "name": "stderr",
     "output_type": "stream",
     "text": [
      "Epoch 22/50: 100%|██████████| 16700/16700 [00:20<00:00, 802.63it/s]\n"
     ]
    },
    {
     "name": "stdout",
     "output_type": "stream",
     "text": [
      "Average Loss: 0.4191073147158423\n"
     ]
    },
    {
     "name": "stderr",
     "output_type": "stream",
     "text": [
      "Epoch 23/50: 100%|██████████| 16700/16700 [00:22<00:00, 742.27it/s]\n"
     ]
    },
    {
     "name": "stdout",
     "output_type": "stream",
     "text": [
      "Average Loss: 0.41787616834758284\n"
     ]
    },
    {
     "name": "stderr",
     "output_type": "stream",
     "text": [
      "Epoch 24/50: 100%|██████████| 16700/16700 [00:20<00:00, 802.87it/s]\n"
     ]
    },
    {
     "name": "stdout",
     "output_type": "stream",
     "text": [
      "Average Loss: 0.41641983878915895\n"
     ]
    },
    {
     "name": "stderr",
     "output_type": "stream",
     "text": [
      "Epoch 25/50: 100%|██████████| 16700/16700 [00:20<00:00, 798.48it/s]\n"
     ]
    },
    {
     "name": "stdout",
     "output_type": "stream",
     "text": [
      "Average Loss: 0.4154069256604075\n"
     ]
    },
    {
     "name": "stderr",
     "output_type": "stream",
     "text": [
      "Epoch 26/50: 100%|██████████| 16700/16700 [00:20<00:00, 807.34it/s]\n"
     ]
    },
    {
     "name": "stdout",
     "output_type": "stream",
     "text": [
      "Average Loss: 0.41436224340634076\n"
     ]
    },
    {
     "name": "stderr",
     "output_type": "stream",
     "text": [
      "Epoch 27/50: 100%|██████████| 16700/16700 [00:21<00:00, 787.38it/s]\n"
     ]
    },
    {
     "name": "stdout",
     "output_type": "stream",
     "text": [
      "Average Loss: 0.41327099317294397\n"
     ]
    },
    {
     "name": "stderr",
     "output_type": "stream",
     "text": [
      "Epoch 28/50: 100%|██████████| 16700/16700 [00:22<00:00, 728.93it/s]\n"
     ]
    },
    {
     "name": "stdout",
     "output_type": "stream",
     "text": [
      "Average Loss: 0.4120909495134197\n"
     ]
    },
    {
     "name": "stderr",
     "output_type": "stream",
     "text": [
      "Epoch 29/50: 100%|██████████| 16700/16700 [00:26<00:00, 633.00it/s]\n"
     ]
    },
    {
     "name": "stdout",
     "output_type": "stream",
     "text": [
      "Average Loss: 0.41108977574431255\n"
     ]
    },
    {
     "name": "stderr",
     "output_type": "stream",
     "text": [
      "Epoch 30/50: 100%|██████████| 16700/16700 [00:19<00:00, 835.69it/s]\n"
     ]
    },
    {
     "name": "stdout",
     "output_type": "stream",
     "text": [
      "Average Loss: 0.41031735715930334\n"
     ]
    },
    {
     "name": "stderr",
     "output_type": "stream",
     "text": [
      "Epoch 31/50: 100%|██████████| 16700/16700 [00:21<00:00, 795.04it/s]\n"
     ]
    },
    {
     "name": "stdout",
     "output_type": "stream",
     "text": [
      "Average Loss: 0.4096762584167683\n"
     ]
    },
    {
     "name": "stderr",
     "output_type": "stream",
     "text": [
      "Epoch 32/50: 100%|██████████| 16700/16700 [00:21<00:00, 773.07it/s]\n"
     ]
    },
    {
     "name": "stdout",
     "output_type": "stream",
     "text": [
      "Average Loss: 0.4083763329399203\n"
     ]
    },
    {
     "name": "stderr",
     "output_type": "stream",
     "text": [
      "Epoch 33/50: 100%|██████████| 16700/16700 [00:20<00:00, 795.28it/s]\n"
     ]
    },
    {
     "name": "stdout",
     "output_type": "stream",
     "text": [
      "Average Loss: 0.40748453301048565\n"
     ]
    },
    {
     "name": "stderr",
     "output_type": "stream",
     "text": [
      "Epoch 34/50: 100%|██████████| 16700/16700 [00:21<00:00, 787.78it/s]\n"
     ]
    },
    {
     "name": "stdout",
     "output_type": "stream",
     "text": [
      "Average Loss: 0.40634057129036166\n"
     ]
    },
    {
     "name": "stderr",
     "output_type": "stream",
     "text": [
      "Epoch 35/50: 100%|██████████| 16700/16700 [00:21<00:00, 790.94it/s]\n"
     ]
    },
    {
     "name": "stdout",
     "output_type": "stream",
     "text": [
      "Average Loss: 0.40592842752169706\n"
     ]
    },
    {
     "name": "stderr",
     "output_type": "stream",
     "text": [
      "Epoch 36/50: 100%|██████████| 16700/16700 [00:20<00:00, 798.55it/s]\n"
     ]
    },
    {
     "name": "stdout",
     "output_type": "stream",
     "text": [
      "Average Loss: 0.4051023565527208\n"
     ]
    },
    {
     "name": "stderr",
     "output_type": "stream",
     "text": [
      "Epoch 37/50: 100%|██████████| 16700/16700 [00:20<00:00, 813.21it/s]\n"
     ]
    },
    {
     "name": "stdout",
     "output_type": "stream",
     "text": [
      "Average Loss: 0.40420278667243653\n"
     ]
    },
    {
     "name": "stderr",
     "output_type": "stream",
     "text": [
      "Epoch 38/50: 100%|██████████| 16700/16700 [00:23<00:00, 724.42it/s]\n"
     ]
    },
    {
     "name": "stdout",
     "output_type": "stream",
     "text": [
      "Average Loss: 0.4034254220275286\n"
     ]
    },
    {
     "name": "stderr",
     "output_type": "stream",
     "text": [
      "Epoch 39/50: 100%|██████████| 16700/16700 [00:30<00:00, 554.99it/s]\n"
     ]
    },
    {
     "name": "stdout",
     "output_type": "stream",
     "text": [
      "Average Loss: 0.4023396437075324\n"
     ]
    },
    {
     "name": "stderr",
     "output_type": "stream",
     "text": [
      "Epoch 40/50: 100%|██████████| 16700/16700 [00:27<00:00, 618.31it/s]\n"
     ]
    },
    {
     "name": "stdout",
     "output_type": "stream",
     "text": [
      "Average Loss: 0.4020199657816016\n"
     ]
    },
    {
     "name": "stderr",
     "output_type": "stream",
     "text": [
      "Epoch 41/50: 100%|██████████| 16700/16700 [00:23<00:00, 722.67it/s]\n"
     ]
    },
    {
     "name": "stdout",
     "output_type": "stream",
     "text": [
      "Average Loss: 0.4008380693308786\n"
     ]
    },
    {
     "name": "stderr",
     "output_type": "stream",
     "text": [
      "Epoch 42/50: 100%|██████████| 16700/16700 [00:20<00:00, 834.49it/s]\n"
     ]
    },
    {
     "name": "stdout",
     "output_type": "stream",
     "text": [
      "Average Loss: 0.4004995609837735\n"
     ]
    },
    {
     "name": "stderr",
     "output_type": "stream",
     "text": [
      "Epoch 43/50: 100%|██████████| 16700/16700 [00:24<00:00, 690.52it/s]\n"
     ]
    },
    {
     "name": "stdout",
     "output_type": "stream",
     "text": [
      "Average Loss: 0.39954174237247714\n"
     ]
    },
    {
     "name": "stderr",
     "output_type": "stream",
     "text": [
      "Epoch 44/50: 100%|██████████| 16700/16700 [00:21<00:00, 762.92it/s]\n"
     ]
    },
    {
     "name": "stdout",
     "output_type": "stream",
     "text": [
      "Average Loss: 0.39896781499960465\n"
     ]
    },
    {
     "name": "stderr",
     "output_type": "stream",
     "text": [
      "Epoch 45/50: 100%|██████████| 16700/16700 [00:20<00:00, 822.66it/s]\n"
     ]
    },
    {
     "name": "stdout",
     "output_type": "stream",
     "text": [
      "Average Loss: 0.398270777013309\n"
     ]
    },
    {
     "name": "stderr",
     "output_type": "stream",
     "text": [
      "Epoch 46/50: 100%|██████████| 16700/16700 [00:21<00:00, 787.56it/s]\n"
     ]
    },
    {
     "name": "stdout",
     "output_type": "stream",
     "text": [
      "Average Loss: 0.3976235836235706\n"
     ]
    },
    {
     "name": "stderr",
     "output_type": "stream",
     "text": [
      "Epoch 47/50: 100%|██████████| 16700/16700 [00:21<00:00, 791.74it/s]\n"
     ]
    },
    {
     "name": "stdout",
     "output_type": "stream",
     "text": [
      "Average Loss: 0.39686192047988583\n"
     ]
    },
    {
     "name": "stderr",
     "output_type": "stream",
     "text": [
      "Epoch 48/50: 100%|██████████| 16700/16700 [00:20<00:00, 818.59it/s]\n"
     ]
    },
    {
     "name": "stdout",
     "output_type": "stream",
     "text": [
      "Average Loss: 0.3965367836487329\n"
     ]
    },
    {
     "name": "stderr",
     "output_type": "stream",
     "text": [
      "Epoch 49/50: 100%|██████████| 16700/16700 [00:21<00:00, 791.32it/s]\n"
     ]
    },
    {
     "name": "stdout",
     "output_type": "stream",
     "text": [
      "Average Loss: 0.39601509116099265\n"
     ]
    },
    {
     "name": "stderr",
     "output_type": "stream",
     "text": [
      "Epoch 50/50: 100%|██████████| 16700/16700 [00:21<00:00, 792.15it/s]\n"
     ]
    },
    {
     "name": "stdout",
     "output_type": "stream",
     "text": [
      "Average Loss: 0.39519358734170834\n"
     ]
    },
    {
     "name": "stderr",
     "output_type": "stream",
     "text": [
      "Generating embeddings: 100%|██████████| 15961/15961 [08:06<00:00, 32.79it/s]\n",
      "Evaluations:   0%|          | 0/5 [00:00<?, ?it/s]\n",
      "Evaluating model:   0%|          | 0/15961 [00:00<?, ?it/s]\u001b[A\n",
      "Evaluating model:   0%|          | 1/15961 [00:00<1:10:29,  3.77it/s]\u001b[A\n",
      "Evaluating model:   1%|▏         | 211/15961 [00:00<00:21, 737.44it/s]\u001b[A\n",
      "Evaluating model:   3%|▎         | 423/15961 [00:00<00:12, 1197.87it/s]\u001b[A\n",
      "Evaluating model:   4%|▍         | 635/15961 [00:00<00:10, 1495.20it/s]\u001b[A\n",
      "Evaluating model:   5%|▌         | 848/15961 [00:00<00:08, 1693.99it/s]\u001b[A\n",
      "Evaluating model:   7%|▋         | 1065/15961 [00:00<00:08, 1838.92it/s]\u001b[A\n",
      "Evaluating model:   8%|▊         | 1279/15961 [00:00<00:07, 1930.46it/s]\u001b[A\n",
      "Evaluating model:   9%|▉         | 1492/15961 [00:00<00:07, 1990.15it/s]\u001b[A\n",
      "Evaluating model:  11%|█         | 1705/15961 [00:01<00:07, 2031.67it/s]\u001b[A\n",
      "Evaluating model:  12%|█▏        | 1918/15961 [00:01<00:06, 2059.51it/s]\u001b[A\n",
      "Evaluating model:  13%|█▎        | 2129/15961 [00:01<00:06, 2074.25it/s]\u001b[A\n",
      "Evaluating model:  15%|█▍        | 2341/15961 [00:01<00:06, 2086.67it/s]\u001b[A\n",
      "Evaluating model:  16%|█▌        | 2556/15961 [00:01<00:06, 2105.17it/s]\u001b[A\n",
      "Evaluating model:  17%|█▋        | 2769/15961 [00:01<00:06, 2110.68it/s]\u001b[A\n",
      "Evaluating model:  19%|█▊        | 2983/15961 [00:01<00:06, 2119.11it/s]\u001b[A\n",
      "Evaluating model:  20%|██        | 3196/15961 [00:01<00:06, 2120.63it/s]\u001b[A\n",
      "Evaluating model:  21%|██▏       | 3410/15961 [00:01<00:05, 2126.30it/s]\u001b[A\n",
      "Evaluating model:  23%|██▎       | 3623/15961 [00:01<00:05, 2123.10it/s]\u001b[A\n",
      "Evaluating model:  24%|██▍       | 3836/15961 [00:02<00:05, 2116.88it/s]\u001b[A\n",
      "Evaluating model:  25%|██▌       | 4051/15961 [00:02<00:05, 2124.39it/s]\u001b[A\n",
      "Evaluating model:  27%|██▋       | 4264/15961 [00:02<00:05, 2118.91it/s]\u001b[A\n",
      "Evaluating model:  28%|██▊       | 4476/15961 [00:02<00:05, 2098.18it/s]\u001b[A\n",
      "Evaluating model:  29%|██▉       | 4686/15961 [00:02<00:05, 2096.84it/s]\u001b[A\n",
      "Evaluating model:  31%|███       | 4898/15961 [00:02<00:05, 2103.41it/s]\u001b[A\n",
      "Evaluating model:  32%|███▏      | 5109/15961 [00:02<00:05, 2103.94it/s]\u001b[A\n",
      "Evaluating model:  33%|███▎      | 5321/15961 [00:02<00:05, 2107.10it/s]\u001b[A\n",
      "Evaluating model:  35%|███▍      | 5535/15961 [00:02<00:04, 2116.27it/s]\u001b[A\n",
      "Evaluating model:  36%|███▌      | 5747/15961 [00:02<00:04, 2114.46it/s]\u001b[A\n",
      "Evaluating model:  37%|███▋      | 5959/15961 [00:03<00:04, 2113.24it/s]\u001b[A\n",
      "Evaluating model:  39%|███▊      | 6171/15961 [00:03<00:04, 2110.05it/s]\u001b[A\n",
      "Evaluating model:  40%|████      | 6386/15961 [00:03<00:04, 2121.62it/s]\u001b[A\n",
      "Evaluating model:  41%|████▏     | 6599/15961 [00:03<00:04, 2116.38it/s]\u001b[A\n",
      "Evaluating model:  43%|████▎     | 6811/15961 [00:03<00:04, 2112.13it/s]\u001b[A\n",
      "Evaluating model:  44%|████▍     | 7024/15961 [00:03<00:04, 2115.62it/s]\u001b[A\n",
      "Evaluating model:  45%|████▌     | 7236/15961 [00:03<00:04, 2116.32it/s]\u001b[A\n",
      "Evaluating model:  47%|████▋     | 7448/15961 [00:03<00:04, 2115.71it/s]\u001b[A\n",
      "Evaluating model:  48%|████▊     | 7660/15961 [00:03<00:03, 2110.58it/s]\u001b[A\n",
      "Evaluating model:  49%|████▉     | 7873/15961 [00:03<00:03, 2116.26it/s]\u001b[A\n",
      "Evaluating model:  51%|█████     | 8085/15961 [00:04<00:03, 2111.24it/s]\u001b[A\n",
      "Evaluating model:  52%|█████▏    | 8297/15961 [00:04<00:03, 2111.50it/s]\u001b[A\n",
      "Evaluating model:  53%|█████▎    | 8510/15961 [00:04<00:03, 2114.57it/s]\u001b[A\n",
      "Evaluating model:  55%|█████▍    | 8722/15961 [00:04<00:03, 2109.92it/s]\u001b[A\n",
      "Evaluating model:  56%|█████▌    | 8933/15961 [00:04<00:03, 2108.13it/s]\u001b[A\n",
      "Evaluating model:  57%|█████▋    | 9145/15961 [00:04<00:03, 2111.23it/s]\u001b[A\n",
      "Evaluating model:  59%|█████▊    | 9357/15961 [00:04<00:03, 2110.92it/s]\u001b[A\n",
      "Evaluating model:  60%|█████▉    | 9569/15961 [00:04<00:03, 2106.61it/s]\u001b[A\n",
      "Evaluating model:  61%|██████▏   | 9780/15961 [00:04<00:02, 2061.19it/s]\u001b[A\n",
      "Evaluating model:  63%|██████▎   | 9987/15961 [00:04<00:02, 2044.17it/s]\u001b[A\n",
      "Evaluating model:  64%|██████▍   | 10201/15961 [00:05<00:02, 2071.46it/s]\u001b[A\n",
      "Evaluating model:  65%|██████▌   | 10413/15961 [00:05<00:02, 2085.74it/s]\u001b[A\n",
      "Evaluating model:  67%|██████▋   | 10623/15961 [00:05<00:02, 2089.46it/s]\u001b[A\n",
      "Evaluating model:  68%|██████▊   | 10833/15961 [00:05<00:02, 2069.79it/s]\u001b[A\n",
      "Evaluating model:  69%|██████▉   | 11041/15961 [00:05<00:02, 2050.12it/s]\u001b[A\n",
      "Evaluating model:  70%|███████   | 11251/15961 [00:05<00:02, 2062.32it/s]\u001b[A\n",
      "Evaluating model:  72%|███████▏  | 11461/15961 [00:05<00:02, 2073.12it/s]\u001b[A\n",
      "Evaluating model:  73%|███████▎  | 11676/15961 [00:05<00:02, 2094.55it/s]\u001b[A\n",
      "Evaluating model:  74%|███████▍  | 11887/15961 [00:05<00:01, 2097.98it/s]\u001b[A\n",
      "Evaluating model:  76%|███████▌  | 12097/15961 [00:06<00:01, 2095.76it/s]\u001b[A\n",
      "Evaluating model:  77%|███████▋  | 12307/15961 [00:06<00:01, 2072.76it/s]\u001b[A\n",
      "Evaluating model:  78%|███████▊  | 12515/15961 [00:06<00:01, 2045.11it/s]\u001b[A\n",
      "Evaluating model:  80%|███████▉  | 12724/15961 [00:06<00:01, 2056.26it/s]\u001b[A\n",
      "Evaluating model:  81%|████████  | 12934/15961 [00:06<00:01, 2067.56it/s]\u001b[A\n",
      "Evaluating model:  82%|████████▏ | 13141/15961 [00:06<00:01, 2055.22it/s]\u001b[A\n",
      "Evaluating model:  84%|████████▎ | 13351/15961 [00:06<00:01, 2065.49it/s]\u001b[A\n",
      "Evaluating model:  85%|████████▍ | 13561/15961 [00:06<00:01, 2073.24it/s]\u001b[A\n",
      "Evaluating model:  86%|████████▋ | 13769/15961 [00:06<00:01, 2054.80it/s]\u001b[A\n",
      "Evaluating model:  88%|████████▊ | 13975/15961 [00:06<00:00, 2036.71it/s]\u001b[A\n",
      "Evaluating model:  89%|████████▉ | 14185/15961 [00:07<00:00, 2054.58it/s]\u001b[A\n",
      "Evaluating model:  90%|█████████ | 14391/15961 [00:07<00:00, 2039.36it/s]\u001b[A\n",
      "Evaluating model:  92%|█████████▏| 14606/15961 [00:07<00:00, 2069.60it/s]\u001b[A\n",
      "Evaluating model:  93%|█████████▎| 14814/15961 [00:07<00:00, 2045.67it/s]\u001b[A\n",
      "Evaluating model:  94%|█████████▍| 15024/15961 [00:07<00:00, 2060.25it/s]\u001b[A\n",
      "Evaluating model:  95%|█████████▌| 15236/15961 [00:07<00:00, 2075.17it/s]\u001b[A\n",
      "Evaluating model:  97%|█████████▋| 15448/15961 [00:07<00:00, 2085.56it/s]\u001b[A\n",
      "Evaluating model:  98%|█████████▊| 15657/15961 [00:07<00:00, 2038.80it/s]\u001b[A\n",
      "Evaluating model: 100%|██████████| 15961/15961 [00:08<00:00, 1954.18it/s]\u001b[A\n",
      "Evaluations:  20%|██        | 1/5 [00:09<00:39,  9.88s/it]\n",
      "Evaluating model:   0%|          | 0/15961 [00:00<?, ?it/s]\u001b[A\n",
      "Evaluating model:   0%|          | 1/15961 [00:00<1:16:45,  3.47it/s]\u001b[A\n",
      "Evaluating model:   1%|▏         | 210/15961 [00:00<00:22, 693.71it/s]\u001b[A\n",
      "Evaluating model:   3%|▎         | 422/15961 [00:00<00:13, 1150.66it/s]\u001b[A\n",
      "Evaluating model:   4%|▍         | 639/15961 [00:00<00:10, 1470.24it/s]\u001b[A\n",
      "Evaluating model:   5%|▌         | 852/15961 [00:00<00:09, 1672.85it/s]\u001b[A\n",
      "Evaluating model:   7%|▋         | 1066/15961 [00:00<00:08, 1814.20it/s]\u001b[A\n",
      "Evaluating model:   8%|▊         | 1282/15961 [00:00<00:07, 1917.95it/s]\u001b[A\n",
      "Evaluating model:   9%|▉         | 1498/15961 [00:00<00:07, 1990.53it/s]\u001b[A\n",
      "Evaluating model:  11%|█         | 1712/15961 [00:01<00:07, 2035.07it/s]\u001b[A\n",
      "Evaluating model:  12%|█▏        | 1927/15961 [00:01<00:06, 2067.88it/s]\u001b[A\n",
      "Evaluating model:  13%|█▎        | 2145/15961 [00:01<00:06, 2099.61it/s]\u001b[A\n",
      "Evaluating model:  15%|█▍        | 2360/15961 [00:01<00:06, 2113.89it/s]\u001b[A\n",
      "Evaluating model:  16%|█▌        | 2575/15961 [00:01<00:06, 2123.22it/s]\u001b[A\n",
      "Evaluating model:  17%|█▋        | 2789/15961 [00:01<00:06, 2126.90it/s]\u001b[A\n",
      "Evaluating model:  19%|█▉        | 3006/15961 [00:01<00:06, 2138.24it/s]\u001b[A\n",
      "Evaluating model:  20%|██        | 3221/15961 [00:01<00:05, 2136.73it/s]\u001b[A\n",
      "Evaluating model:  22%|██▏       | 3436/15961 [00:01<00:05, 2137.03it/s]\u001b[A\n",
      "Evaluating model:  23%|██▎       | 3654/15961 [00:01<00:05, 2147.82it/s]\u001b[A\n",
      "Evaluating model:  24%|██▍       | 3870/15961 [00:02<00:05, 2145.84it/s]\u001b[A\n",
      "Evaluating model:  26%|██▌       | 4085/15961 [00:02<00:05, 2142.34it/s]\u001b[A\n",
      "Evaluating model:  27%|██▋       | 4300/15961 [00:02<00:05, 2140.03it/s]\u001b[A\n",
      "Evaluating model:  28%|██▊       | 4518/15961 [00:02<00:05, 2149.84it/s]\u001b[A\n",
      "Evaluating model:  30%|██▉       | 4734/15961 [00:02<00:05, 2145.18it/s]\u001b[A\n",
      "Evaluating model:  31%|███       | 4949/15961 [00:02<00:05, 2142.45it/s]\u001b[A\n",
      "Evaluating model:  32%|███▏      | 5166/15961 [00:02<00:05, 2148.28it/s]\u001b[A\n",
      "Evaluating model:  34%|███▎      | 5382/15961 [00:02<00:04, 2148.84it/s]\u001b[A\n"
     ]
    }
   ],
   "source": [
    "targets = ['trump', 'mask', 'racial']\n",
    "modes = ['frameaxis']\n",
    "\n",
    "for target in targets:\n",
    "    none_data_path = f'./tweet_level/{target}_train.csv'  # Path for the 'none' mode\n",
    "    none_data = pd.read_csv(none_data_path)\n",
    "\n",
    "    for mode in modes:\n",
    "        # Adjust the data path based on mode\n",
    "        if mode == 'none':\n",
    "            data = none_data  # Use the data loaded for 'none' mode\n",
    "        elif mode == 'emfd':\n",
    "            emfd_path = f'./tweet_level/{target}_train_emfd.csv'\n",
    "            emfd_data = pd.read_csv(emfd_path)\n",
    "            input_dim = 768 + (emfd_data.shape[1] - 3)  # Correct calculation for input_dim\n",
    "        elif mode == 'frameaxis':\n",
    "            frameaxis_path = f'./tweet_level/{target}_train_frameaxis.csv'\n",
    "            frameaxis_data = pd.read_csv(frameaxis_path)\n",
    "            input_dim = 768 + (frameaxis_data.shape[1] - 3)\n",
    "\n",
    "        # Prepare DataLoader for training\n",
    "        dataloader = prepare_data(none_data, tokenizer, model_bertweet, version=mode, batch_size=32, device=device, emfd_embeddings=emfd_data if mode == 'emfd' else None, frameaxis_embeddings=frameaxis_data if mode == 'frameaxis' else None)\n",
    "        \n",
    "        # Train model\n",
    "        model = train_model(dataloader, input_dim=input_dim, learning_rate=2e-5, epochs=50, patience=5)\n",
    "        \n",
    "        # Load and prepare test data\n",
    "        test_data_path = f'./tweet_level/{target}_test.csv' if mode == 'none' else f'./tweet_level/{target}_test_{mode}.csv'\n",
    "        test_data = pd.read_csv(test_data_path)\n",
    "        test_dataloader = prepare_data(test_data, tokenizer, model_bertweet, version=mode, batch_size=32, device=device, emfd_embeddings=emfd_data if mode == 'emfd' else None, frameaxis_embeddings=frameaxis_data if mode == 'frameaxis' else None)\n",
    "        \n",
    "        # Evaluate model\n",
    "                # Prepare DataLoader for testing\n",
    "        # test_dataloader = prepare_data(test_data, tokenizer, model_bertweet, version=mode, batch_size=32)\n",
    "        \n",
    "        # Evaluate model\n",
    "        # iterations = 5\n",
    "        accuracy, precision, recall, f1 = evaluate_multiple_times(model, test_dataloader, target, mode, device=device)\n",
    "        # accuracy, precision, recall, f1 = evaluate_multiple_times(model, test_dataloader, device=device)\n",
    "        \n",
    "        print(f'CB-{mode}-{target}:')\n",
    "        print(f\"Accuracy: {accuracy}, Precision: {precision}, Recall: {recall}, F1-Score: {f1}\")"
   ]
  },
  {
   "cell_type": "code",
   "execution_count": null,
   "id": "e6987adc-e2d0-438e-8f7a-6ea1f1b7a2e7",
   "metadata": {},
   "outputs": [],
   "source": []
  }
 ],
 "metadata": {
  "kernelspec": {
   "display_name": "Python 3 (ipykernel)",
   "language": "python",
   "name": "python3"
  },
  "language_info": {
   "codemirror_mode": {
    "name": "ipython",
    "version": 3
   },
   "file_extension": ".py",
   "mimetype": "text/x-python",
   "name": "python",
   "nbconvert_exporter": "python",
   "pygments_lexer": "ipython3",
   "version": "3.10.13"
  }
 },
 "nbformat": 4,
 "nbformat_minor": 5
}
