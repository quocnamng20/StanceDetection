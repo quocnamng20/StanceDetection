{
 "cells": [
  {
   "cell_type": "code",
   "execution_count": 1,
   "id": "4fb9676b-8f77-4b72-bd1a-78bc62acb897",
   "metadata": {},
   "outputs": [
    {
     "name": "stdout",
     "output_type": "stream",
     "text": [
      "Requirement already satisfied: pandas in /opt/conda/lib/python3.10/site-packages (2.2.0)\n",
      "Requirement already satisfied: numpy<2,>=1.22.4 in /opt/conda/lib/python3.10/site-packages (from pandas) (1.26.3)\n",
      "Requirement already satisfied: python-dateutil>=2.8.2 in /opt/conda/lib/python3.10/site-packages (from pandas) (2.8.2)\n",
      "Requirement already satisfied: pytz>=2020.1 in /opt/conda/lib/python3.10/site-packages (from pandas) (2023.3.post1)\n",
      "Requirement already satisfied: tzdata>=2022.7 in /opt/conda/lib/python3.10/site-packages (from pandas) (2024.1)\n",
      "Requirement already satisfied: six>=1.5 in /opt/conda/lib/python3.10/site-packages (from python-dateutil>=2.8.2->pandas) (1.16.0)\n",
      "Requirement already satisfied: transformers in /opt/conda/lib/python3.10/site-packages (4.37.2)\n",
      "Requirement already satisfied: filelock in /opt/conda/lib/python3.10/site-packages (from transformers) (3.13.1)\n",
      "Requirement already satisfied: huggingface-hub<1.0,>=0.19.3 in /opt/conda/lib/python3.10/site-packages (from transformers) (0.20.3)\n",
      "Requirement already satisfied: numpy>=1.17 in /opt/conda/lib/python3.10/site-packages (from transformers) (1.26.3)\n",
      "Requirement already satisfied: packaging>=20.0 in /opt/conda/lib/python3.10/site-packages (from transformers) (23.1)\n",
      "Requirement already satisfied: pyyaml>=5.1 in /opt/conda/lib/python3.10/site-packages (from transformers) (6.0.1)\n",
      "Requirement already satisfied: regex!=2019.12.17 in /opt/conda/lib/python3.10/site-packages (from transformers) (2023.12.25)\n",
      "Requirement already satisfied: requests in /opt/conda/lib/python3.10/site-packages (from transformers) (2.31.0)\n",
      "Requirement already satisfied: tokenizers<0.19,>=0.14 in /opt/conda/lib/python3.10/site-packages (from transformers) (0.15.2)\n",
      "Requirement already satisfied: safetensors>=0.4.1 in /opt/conda/lib/python3.10/site-packages (from transformers) (0.4.2)\n",
      "Requirement already satisfied: tqdm>=4.27 in /opt/conda/lib/python3.10/site-packages (from transformers) (4.65.0)\n",
      "Requirement already satisfied: fsspec>=2023.5.0 in /opt/conda/lib/python3.10/site-packages (from huggingface-hub<1.0,>=0.19.3->transformers) (2023.12.2)\n",
      "Requirement already satisfied: typing-extensions>=3.7.4.3 in /opt/conda/lib/python3.10/site-packages (from huggingface-hub<1.0,>=0.19.3->transformers) (4.9.0)\n",
      "Requirement already satisfied: charset-normalizer<4,>=2 in /opt/conda/lib/python3.10/site-packages (from requests->transformers) (2.0.4)\n",
      "Requirement already satisfied: idna<4,>=2.5 in /opt/conda/lib/python3.10/site-packages (from requests->transformers) (3.4)\n",
      "Requirement already satisfied: urllib3<3,>=1.21.1 in /opt/conda/lib/python3.10/site-packages (from requests->transformers) (1.26.18)\n",
      "Requirement already satisfied: certifi>=2017.4.17 in /opt/conda/lib/python3.10/site-packages (from requests->transformers) (2023.11.17)\n",
      "Requirement already satisfied: numpy in /opt/conda/lib/python3.10/site-packages (1.26.3)\n",
      "Requirement already satisfied: torch in /opt/conda/lib/python3.10/site-packages (2.2.0)\n",
      "Requirement already satisfied: filelock in /opt/conda/lib/python3.10/site-packages (from torch) (3.13.1)\n",
      "Requirement already satisfied: typing-extensions>=4.8.0 in /opt/conda/lib/python3.10/site-packages (from torch) (4.9.0)\n",
      "Requirement already satisfied: sympy in /opt/conda/lib/python3.10/site-packages (from torch) (1.12)\n",
      "Requirement already satisfied: networkx in /opt/conda/lib/python3.10/site-packages (from torch) (3.1)\n",
      "Requirement already satisfied: jinja2 in /opt/conda/lib/python3.10/site-packages (from torch) (3.1.2)\n",
      "Requirement already satisfied: fsspec in /opt/conda/lib/python3.10/site-packages (from torch) (2023.12.2)\n",
      "Requirement already satisfied: MarkupSafe>=2.0 in /opt/conda/lib/python3.10/site-packages (from jinja2->torch) (2.1.3)\n",
      "Requirement already satisfied: mpmath>=0.19 in /opt/conda/lib/python3.10/site-packages (from sympy->torch) (1.3.0)\n",
      "Requirement already satisfied: tqdm in /opt/conda/lib/python3.10/site-packages (4.65.0)\n",
      "Requirement already satisfied: scikit-learn in /opt/conda/lib/python3.10/site-packages (1.4.0)\n",
      "Requirement already satisfied: numpy<2.0,>=1.19.5 in /opt/conda/lib/python3.10/site-packages (from scikit-learn) (1.26.3)\n",
      "Requirement already satisfied: scipy>=1.6.0 in /opt/conda/lib/python3.10/site-packages (from scikit-learn) (1.12.0)\n",
      "Requirement already satisfied: joblib>=1.2.0 in /opt/conda/lib/python3.10/site-packages (from scikit-learn) (1.3.2)\n",
      "Requirement already satisfied: threadpoolctl>=2.0.0 in /opt/conda/lib/python3.10/site-packages (from scikit-learn) (3.2.0)\n",
      "Requirement already satisfied: gdown in /opt/conda/lib/python3.10/site-packages (5.1.0)\n",
      "Requirement already satisfied: beautifulsoup4 in /opt/conda/lib/python3.10/site-packages (from gdown) (4.12.2)\n",
      "Requirement already satisfied: filelock in /opt/conda/lib/python3.10/site-packages (from gdown) (3.13.1)\n",
      "Requirement already satisfied: requests[socks] in /opt/conda/lib/python3.10/site-packages (from gdown) (2.31.0)\n",
      "Requirement already satisfied: tqdm in /opt/conda/lib/python3.10/site-packages (from gdown) (4.65.0)\n",
      "Requirement already satisfied: soupsieve>1.2 in /opt/conda/lib/python3.10/site-packages (from beautifulsoup4->gdown) (2.5)\n",
      "Requirement already satisfied: charset-normalizer<4,>=2 in /opt/conda/lib/python3.10/site-packages (from requests[socks]->gdown) (2.0.4)\n",
      "Requirement already satisfied: idna<4,>=2.5 in /opt/conda/lib/python3.10/site-packages (from requests[socks]->gdown) (3.4)\n",
      "Requirement already satisfied: urllib3<3,>=1.21.1 in /opt/conda/lib/python3.10/site-packages (from requests[socks]->gdown) (1.26.18)\n",
      "Requirement already satisfied: certifi>=2017.4.17 in /opt/conda/lib/python3.10/site-packages (from requests[socks]->gdown) (2023.11.17)\n",
      "Requirement already satisfied: PySocks!=1.5.7,>=1.5.6 in /opt/conda/lib/python3.10/site-packages (from requests[socks]->gdown) (1.7.1)\n"
     ]
    }
   ],
   "source": [
    "!pip install --root-user-action=ignore pandas\n",
    "!pip install --root-user-action=ignore transformers\n",
    "!pip install --root-user-action=ignore numpy\n",
    "!pip install --root-user-action=ignore torch\n",
    "!pip install --root-user-action=ignore tqdm\n",
    "!pip install --root-user-action=ignore scikit-learn\n",
    "!pip install --root-user-action=ignore gdown"
   ]
  },
  {
   "cell_type": "code",
   "execution_count": 2,
   "id": "88335971-cf0b-4a41-922d-32cd864455a9",
   "metadata": {},
   "outputs": [
    {
     "name": "stderr",
     "output_type": "stream",
     "text": [
      "/tmp/ipykernel_6239/1766541545.py:1: DeprecationWarning: \n",
      "Pyarrow will become a required dependency of pandas in the next major release of pandas (pandas 3.0),\n",
      "(to allow more performant data types, such as the Arrow string type, and better interoperability with other libraries)\n",
      "but was not found to be installed on your system.\n",
      "If this would cause problems for you,\n",
      "please provide us feedback at https://github.com/pandas-dev/pandas/issues/54466\n",
      "        \n",
      "  import pandas as pd\n"
     ]
    }
   ],
   "source": [
    "import pandas as pd\n",
    "import torch\n",
    "from tqdm import tqdm\n",
    "from torch import nn, optim\n",
    "from torch.utils.data import DataLoader, TensorDataset\n",
    "from transformers import AutoTokenizer, AutoModel\n",
    "from sklearn.model_selection import train_test_split\n",
    "from sklearn.metrics import accuracy_score, precision_recall_fscore_support"
   ]
  },
  {
   "cell_type": "code",
   "execution_count": 3,
   "id": "06701596-5185-4d3b-a9b7-bcab149056da",
   "metadata": {},
   "outputs": [],
   "source": [
    "# !mkdir ./prediction"
   ]
  },
  {
   "cell_type": "code",
   "execution_count": 4,
   "id": "85e493d1-780f-4a6f-b4f4-d2ee298b0d79",
   "metadata": {},
   "outputs": [
    {
     "name": "stderr",
     "output_type": "stream",
     "text": [
      "emoji is not installed, thus not converting emoticons or emojis into text. Install emoji: pip3 install emoji==0.6.0\n"
     ]
    }
   ],
   "source": [
    "device = torch.device(\"cuda\" if torch.cuda.is_available() else \"cpu\")\n",
    "tokenizer = AutoTokenizer.from_pretrained(\"vinai/bertweet-base\", use_fast=False)\n",
    "model_bertweet = AutoModel.from_pretrained(\"vinai/bertweet-base\").to(device)"
   ]
  },
  {
   "cell_type": "code",
   "execution_count": 5,
   "id": "6140f3f9-183d-4f5f-adfe-f64f8bff270a",
   "metadata": {},
   "outputs": [],
   "source": [
    "class UserStanceClassifier(nn.Module):\n",
    "    def __init__(self, input_dim):\n",
    "        super(UserStanceClassifier, self).__init__()\n",
    "        self.linear = nn.Linear(input_dim, 2)  # Assuming binary classification\n",
    "\n",
    "    def forward(self, x):\n",
    "        return self.linear(x)\n",
    "\n",
    "def tokenize_and_embed(tweets, tokenizer, model, batch_size=32):\n",
    "    model.to(device)  # Ensure the model is on the correct device\n",
    "    all_embeddings = torch.empty((0, model.config.hidden_size), device=device)\n",
    "    \n",
    "    num_batches = len(tweets) // batch_size + (0 if len(tweets) % batch_size == 0 else 1)\n",
    "    \n",
    "    for i in tqdm(range(num_batches), desc=\"Generating embeddings\"):\n",
    "        batch_tweets = tweets[i*batch_size:(i+1)*batch_size]\n",
    "        inputs = tokenizer(batch_tweets, return_tensors=\"pt\", padding=True, truncation=True, max_length=128).to(device)\n",
    "        with torch.no_grad():\n",
    "            outputs = model(**inputs)\n",
    "        batch_embeddings = outputs.last_hidden_state.mean(1)\n",
    "        all_embeddings = torch.cat((all_embeddings, batch_embeddings), dim=0)\n",
    "    \n",
    "    return all_embeddings.cpu()  # Move embeddings back to CPU for further processing or storage\n",
    "\n",
    "\n",
    "def ensure_numeric(df, start_col=3, fillna_value=0):\n",
    "    for col in df.columns[start_col:]:\n",
    "        df[col] = pd.to_numeric(df[col], errors='coerce').fillna(fillna_value)\n",
    "    return df\n",
    "\n",
    "def prepare_data(data, tokenizer, model, version='none', batch_size=32, device=None, emfd_embeddings=None, frameaxis_embeddings=None):\n",
    "    if device is None:\n",
    "        device = torch.device(\"cuda\" if torch.cuda.is_available() else \"cpu\")\n",
    "    \n",
    "    tweets = data['tweet'].tolist()\n",
    "    bertweet_embeddings = tokenize_and_embed(tweets, tokenizer, model, batch_size).to(device)\n",
    "    \n",
    "    final_embeddings = bertweet_embeddings\n",
    "\n",
    "    if version == 'emfd' and emfd_embeddings is not None:\n",
    "        emfd_embeddings_processed = ensure_numeric(emfd_embeddings)\n",
    "        emfd_values = emfd_embeddings_processed.iloc[:bertweet_embeddings.size(0), 3:].values\n",
    "        emfd_tensor = torch.tensor(emfd_values, dtype=torch.float).to(device)\n",
    "        final_embeddings = torch.cat((bertweet_embeddings, emfd_tensor), dim=1)\n",
    "    elif version == 'frameaxis' and frameaxis_embeddings is not None:\n",
    "        frameaxis_embeddings_processed = ensure_numeric(frameaxis_embeddings)\n",
    "        frameaxis_values = frameaxis_embeddings_processed.iloc[:bertweet_embeddings.size(0), 3:].values\n",
    "        frameaxis_tensor = torch.tensor(frameaxis_values, dtype=torch.float).to(device)\n",
    "        final_embeddings = torch.cat((bertweet_embeddings, frameaxis_tensor), dim=1)\n",
    "\n",
    "    labels = torch.tensor(data['stance'].iloc[:final_embeddings.size(0)].values, dtype=torch.long).to(device)\n",
    "    \n",
    "    dataset = TensorDataset(final_embeddings, labels)\n",
    "    dataloader = DataLoader(dataset, batch_size=batch_size, shuffle=True)\n",
    "    \n",
    "    return dataloader"
   ]
  },
  {
   "cell_type": "code",
   "execution_count": 9,
   "id": "41480427-54d9-4a57-a2ab-405625044ecc",
   "metadata": {},
   "outputs": [],
   "source": [
    "def train_model(dataloader, input_dim, learning_rate=2e-5, epochs=30, patience=5):\n",
    "    device = torch.device(\"cuda\" if torch.cuda.is_available() else \"cpu\")\n",
    "    model = UserStanceClassifier(input_dim=input_dim).to(device)\n",
    "    optimizer = optim.Adam(model.parameters(), lr=learning_rate)\n",
    "    loss_fn = nn.CrossEntropyLoss()\n",
    "\n",
    "    best_loss = float('inf')\n",
    "    no_improvement = 0\n",
    "\n",
    "    for epoch in range(epochs):\n",
    "        model.train()\n",
    "        epoch_loss = 0\n",
    "        for batch in tqdm(dataloader, desc=f\"Epoch {epoch+1}/{epochs}\"):\n",
    "            inputs, labels = [b.to(device) for b in batch]\n",
    "            # print(f\"Input shape: {inputs.shape}\")\n",
    "            optimizer.zero_grad()\n",
    "            outputs = model(inputs)\n",
    "            loss = loss_fn(outputs, labels)\n",
    "            loss.backward()\n",
    "            optimizer.step()\n",
    "            epoch_loss += loss.item()\n",
    "\n",
    "        avg_loss = epoch_loss / len(dataloader)\n",
    "        print(f\"Average Loss: {avg_loss}\")\n",
    "\n",
    "        if avg_loss < best_loss:\n",
    "            best_loss = avg_loss\n",
    "            no_improvement = 0\n",
    "        else:\n",
    "            no_improvement += 1\n",
    "        \n",
    "        if no_improvement >= patience:\n",
    "            print(\"Early stopping triggered.\")\n",
    "            break\n",
    "\n",
    "    return model\n",
    "\n",
    "def predict(model, dataloader):\n",
    "    device = torch.device(\"cuda\" if torch.cuda.is_available() else \"cpu\")\n",
    "    model = model.to(device)\n",
    "    model.eval()\n",
    "    predictions = []\n",
    "    with torch.no_grad():\n",
    "        for inputs in tqdm(dataloader):\n",
    "            inputs = inputs[0].to(device)  # Assuming inputs are the first element\n",
    "            outputs = model(inputs)\n",
    "            _, predicted = torch.max(outputs, dim=1)\n",
    "            predictions.extend(predicted.cpu().tolist())  # Move predictions to CPU\n",
    "    return predictions"
   ]
  },
  {
   "cell_type": "code",
   "execution_count": 7,
   "id": "bc5ea44a-a03d-4e17-89f4-f3894f68305b",
   "metadata": {},
   "outputs": [],
   "source": [
    "def evaluate_model(model, dataloader, device=None, save_predictions_to=None):\n",
    "    if device is None:\n",
    "        device = torch.device(\"cuda\" if torch.cuda.is_available() else \"cpu\")\n",
    "    model = model.to(device)\n",
    "    model.eval()  # Set the model to evaluation mode\n",
    "    true_labels = []\n",
    "    predictions = []\n",
    "\n",
    "    with torch.no_grad():\n",
    "        for batch in tqdm(dataloader, desc=\"Evaluating model\"):\n",
    "            inputs, labels = [b.to(device) for b in batch]\n",
    "            outputs = model(inputs)\n",
    "            _, preds = torch.max(outputs, dim=1)\n",
    "            true_labels.extend(labels.cpu().numpy())\n",
    "            predictions.extend(preds.cpu().tolist())\n",
    "\n",
    "    # Compute evaluation metrics\n",
    "    accuracy = accuracy_score(true_labels, predictions)\n",
    "    precision, recall, f1, _ = precision_recall_fscore_support(true_labels, predictions, average='binary')\n",
    "\n",
    "    # Save predictions to CSV if a filename is provided\n",
    "    if save_predictions_to:\n",
    "        prediction_df = pd.DataFrame({'True Labels': true_labels, 'Predictions': predictions})\n",
    "        prediction_df.to_csv(save_predictions_to, index=False)\n",
    "\n",
    "    return accuracy, precision, recall, f1\n",
    "\n",
    "def evaluate_multiple_times(model, dataloader, target, mode, device=None, iterations=5):\n",
    "    accuracies = []\n",
    "    precisions = []\n",
    "    recalls = []\n",
    "    f1_scores = []\n",
    "\n",
    "    for i in tqdm(range(iterations), desc=\"Evaluations\"):\n",
    "        # Generate a unique filename for this iteration's predictions\n",
    "        predictions_filename = f'./prediction/{target}_{mode}_predictions_iteration_{i+1}.csv'\n",
    "        accuracy, precision, recall, f1 = evaluate_model(model, dataloader, device, save_predictions_to=predictions_filename)\n",
    "        accuracies.append(accuracy)\n",
    "        precisions.append(precision)\n",
    "        recalls.append(recall)\n",
    "        f1_scores.append(f1)\n",
    "\n",
    "    # Calculate the average of each metric\n",
    "    avg_accuracy = sum(accuracies) / len(accuracies)\n",
    "    avg_precision = sum(precisions) / len(precisions)\n",
    "    avg_recall = sum(recalls) / len(recalls)\n",
    "    avg_f1_score = sum(f1_scores) / len(f1_scores)\n",
    "\n",
    "    return avg_accuracy, avg_precision, avg_recall, avg_f1_score"
   ]
  },
  {
   "cell_type": "code",
   "execution_count": 10,
   "id": "16efce7a-aff8-4323-99d7-db800898da60",
   "metadata": {},
   "outputs": [
    {
     "name": "stderr",
     "output_type": "stream",
     "text": [
      "Generating embeddings: 100%|██████████| 6896/6896 [04:07<00:00, 27.82it/s]\n",
      "Epoch 1/30: 100%|██████████| 6896/6896 [00:07<00:00, 945.46it/s]\n"
     ]
    },
    {
     "name": "stdout",
     "output_type": "stream",
     "text": [
      "Average Loss: 0.5541245060780554\n"
     ]
    },
    {
     "name": "stderr",
     "output_type": "stream",
     "text": [
      "Epoch 2/30: 100%|██████████| 6896/6896 [00:06<00:00, 1029.51it/s]\n"
     ]
    },
    {
     "name": "stdout",
     "output_type": "stream",
     "text": [
      "Average Loss: 0.5120407187848799\n"
     ]
    },
    {
     "name": "stderr",
     "output_type": "stream",
     "text": [
      "Epoch 3/30: 100%|██████████| 6896/6896 [00:06<00:00, 1095.21it/s]\n"
     ]
    },
    {
     "name": "stdout",
     "output_type": "stream",
     "text": [
      "Average Loss: 0.493028597033252\n"
     ]
    },
    {
     "name": "stderr",
     "output_type": "stream",
     "text": [
      "Epoch 4/30: 100%|██████████| 6896/6896 [00:06<00:00, 998.82it/s] \n"
     ]
    },
    {
     "name": "stdout",
     "output_type": "stream",
     "text": [
      "Average Loss: 0.4814298914101519\n"
     ]
    },
    {
     "name": "stderr",
     "output_type": "stream",
     "text": [
      "Epoch 5/30: 100%|██████████| 6896/6896 [00:06<00:00, 1048.04it/s]\n"
     ]
    },
    {
     "name": "stdout",
     "output_type": "stream",
     "text": [
      "Average Loss: 0.47346288019147315\n"
     ]
    },
    {
     "name": "stderr",
     "output_type": "stream",
     "text": [
      "Epoch 6/30: 100%|██████████| 6896/6896 [00:06<00:00, 1044.13it/s]\n"
     ]
    },
    {
     "name": "stdout",
     "output_type": "stream",
     "text": [
      "Average Loss: 0.46753618048110723\n"
     ]
    },
    {
     "name": "stderr",
     "output_type": "stream",
     "text": [
      "Epoch 7/30: 100%|██████████| 6896/6896 [00:07<00:00, 957.20it/s] \n"
     ]
    },
    {
     "name": "stdout",
     "output_type": "stream",
     "text": [
      "Average Loss: 0.4629527594431751\n"
     ]
    },
    {
     "name": "stderr",
     "output_type": "stream",
     "text": [
      "Epoch 8/30: 100%|██████████| 6896/6896 [00:06<00:00, 1062.18it/s]\n"
     ]
    },
    {
     "name": "stdout",
     "output_type": "stream",
     "text": [
      "Average Loss: 0.4592818220960638\n"
     ]
    },
    {
     "name": "stderr",
     "output_type": "stream",
     "text": [
      "Epoch 9/30: 100%|██████████| 6896/6896 [00:06<00:00, 1062.85it/s]\n"
     ]
    },
    {
     "name": "stdout",
     "output_type": "stream",
     "text": [
      "Average Loss: 0.4562054447713038\n"
     ]
    },
    {
     "name": "stderr",
     "output_type": "stream",
     "text": [
      "Epoch 10/30: 100%|██████████| 6896/6896 [00:06<00:00, 1013.15it/s]\n"
     ]
    },
    {
     "name": "stdout",
     "output_type": "stream",
     "text": [
      "Average Loss: 0.4536527059972286\n"
     ]
    },
    {
     "name": "stderr",
     "output_type": "stream",
     "text": [
      "Epoch 11/30: 100%|██████████| 6896/6896 [00:06<00:00, 1077.30it/s]\n"
     ]
    },
    {
     "name": "stdout",
     "output_type": "stream",
     "text": [
      "Average Loss: 0.4514454276238302\n"
     ]
    },
    {
     "name": "stderr",
     "output_type": "stream",
     "text": [
      "Epoch 12/30: 100%|██████████| 6896/6896 [00:06<00:00, 1095.01it/s]\n"
     ]
    },
    {
     "name": "stdout",
     "output_type": "stream",
     "text": [
      "Average Loss: 0.44949494966083225\n"
     ]
    },
    {
     "name": "stderr",
     "output_type": "stream",
     "text": [
      "Epoch 13/30: 100%|██████████| 6896/6896 [00:06<00:00, 1016.22it/s]\n"
     ]
    },
    {
     "name": "stdout",
     "output_type": "stream",
     "text": [
      "Average Loss: 0.4477729382957148\n"
     ]
    },
    {
     "name": "stderr",
     "output_type": "stream",
     "text": [
      "Epoch 14/30: 100%|██████████| 6896/6896 [00:06<00:00, 1060.02it/s]\n"
     ]
    },
    {
     "name": "stdout",
     "output_type": "stream",
     "text": [
      "Average Loss: 0.44622060177705125\n"
     ]
    },
    {
     "name": "stderr",
     "output_type": "stream",
     "text": [
      "Epoch 15/30: 100%|██████████| 6896/6896 [00:06<00:00, 1030.73it/s]\n"
     ]
    },
    {
     "name": "stdout",
     "output_type": "stream",
     "text": [
      "Average Loss: 0.44484398704186395\n"
     ]
    },
    {
     "name": "stderr",
     "output_type": "stream",
     "text": [
      "Epoch 16/30: 100%|██████████| 6896/6896 [00:08<00:00, 811.06it/s]\n"
     ]
    },
    {
     "name": "stdout",
     "output_type": "stream",
     "text": [
      "Average Loss: 0.4435437133410414\n"
     ]
    },
    {
     "name": "stderr",
     "output_type": "stream",
     "text": [
      "Epoch 17/30: 100%|██████████| 6896/6896 [00:06<00:00, 1076.46it/s]\n"
     ]
    },
    {
     "name": "stdout",
     "output_type": "stream",
     "text": [
      "Average Loss: 0.44234920223729723\n"
     ]
    },
    {
     "name": "stderr",
     "output_type": "stream",
     "text": [
      "Epoch 18/30: 100%|██████████| 6896/6896 [00:06<00:00, 1060.27it/s]\n"
     ]
    },
    {
     "name": "stdout",
     "output_type": "stream",
     "text": [
      "Average Loss: 0.4413046992239121\n"
     ]
    },
    {
     "name": "stderr",
     "output_type": "stream",
     "text": [
      "Epoch 19/30: 100%|██████████| 6896/6896 [00:06<00:00, 1042.67it/s]\n"
     ]
    },
    {
     "name": "stdout",
     "output_type": "stream",
     "text": [
      "Average Loss: 0.44026839880709234\n"
     ]
    },
    {
     "name": "stderr",
     "output_type": "stream",
     "text": [
      "Epoch 20/30: 100%|██████████| 6896/6896 [00:06<00:00, 1063.96it/s]\n"
     ]
    },
    {
     "name": "stdout",
     "output_type": "stream",
     "text": [
      "Average Loss: 0.4393369801744404\n"
     ]
    },
    {
     "name": "stderr",
     "output_type": "stream",
     "text": [
      "Epoch 21/30: 100%|██████████| 6896/6896 [00:06<00:00, 1060.18it/s]\n"
     ]
    },
    {
     "name": "stdout",
     "output_type": "stream",
     "text": [
      "Average Loss: 0.43844124597006773\n"
     ]
    },
    {
     "name": "stderr",
     "output_type": "stream",
     "text": [
      "Epoch 22/30: 100%|██████████| 6896/6896 [00:07<00:00, 895.46it/s]\n"
     ]
    },
    {
     "name": "stdout",
     "output_type": "stream",
     "text": [
      "Average Loss: 0.4375865404124603\n"
     ]
    },
    {
     "name": "stderr",
     "output_type": "stream",
     "text": [
      "Epoch 23/30: 100%|██████████| 6896/6896 [00:06<00:00, 1045.34it/s]\n"
     ]
    },
    {
     "name": "stdout",
     "output_type": "stream",
     "text": [
      "Average Loss: 0.4368148127272552\n"
     ]
    },
    {
     "name": "stderr",
     "output_type": "stream",
     "text": [
      "Epoch 24/30: 100%|██████████| 6896/6896 [00:06<00:00, 1061.40it/s]\n"
     ]
    },
    {
     "name": "stdout",
     "output_type": "stream",
     "text": [
      "Average Loss: 0.4360640378076834\n"
     ]
    },
    {
     "name": "stderr",
     "output_type": "stream",
     "text": [
      "Epoch 25/30: 100%|██████████| 6896/6896 [00:07<00:00, 933.63it/s] \n"
     ]
    },
    {
     "name": "stdout",
     "output_type": "stream",
     "text": [
      "Average Loss: 0.43536181404987856\n"
     ]
    },
    {
     "name": "stderr",
     "output_type": "stream",
     "text": [
      "Epoch 26/30: 100%|██████████| 6896/6896 [00:06<00:00, 1059.05it/s]\n"
     ]
    },
    {
     "name": "stdout",
     "output_type": "stream",
     "text": [
      "Average Loss: 0.4346852477795494\n"
     ]
    },
    {
     "name": "stderr",
     "output_type": "stream",
     "text": [
      "Epoch 27/30: 100%|██████████| 6896/6896 [00:06<00:00, 1073.39it/s]\n"
     ]
    },
    {
     "name": "stdout",
     "output_type": "stream",
     "text": [
      "Average Loss: 0.4340264902033102\n"
     ]
    },
    {
     "name": "stderr",
     "output_type": "stream",
     "text": [
      "Epoch 28/30: 100%|██████████| 6896/6896 [00:06<00:00, 1044.92it/s]\n"
     ]
    },
    {
     "name": "stdout",
     "output_type": "stream",
     "text": [
      "Average Loss: 0.4334441440832518\n"
     ]
    },
    {
     "name": "stderr",
     "output_type": "stream",
     "text": [
      "Epoch 29/30: 100%|██████████| 6896/6896 [00:06<00:00, 1106.62it/s]\n"
     ]
    },
    {
     "name": "stdout",
     "output_type": "stream",
     "text": [
      "Average Loss: 0.4328492780058297\n"
     ]
    },
    {
     "name": "stderr",
     "output_type": "stream",
     "text": [
      "Epoch 30/30: 100%|██████████| 6896/6896 [00:06<00:00, 1066.97it/s]\n"
     ]
    },
    {
     "name": "stdout",
     "output_type": "stream",
     "text": [
      "Average Loss: 0.43230156041681767\n"
     ]
    },
    {
     "name": "stderr",
     "output_type": "stream",
     "text": [
      "Generating embeddings: 100%|██████████| 6307/6307 [02:58<00:00, 35.42it/s]\n",
      "Evaluations:   0%|          | 0/5 [00:00<?, ?it/s]\n",
      "Evaluating model:   0%|          | 0/6307 [00:00<?, ?it/s]\u001b[A\n",
      "Evaluating model:   0%|          | 21/6307 [00:00<00:30, 209.03it/s]\u001b[A\n",
      "Evaluating model:   1%|          | 60/6307 [00:00<00:19, 314.81it/s]\u001b[A\n",
      "Evaluating model:   5%|▍         | 312/6307 [00:00<00:04, 1317.88it/s]\u001b[A\n",
      "Evaluating model:   9%|▉         | 567/6307 [00:00<00:03, 1802.03it/s]\u001b[A\n",
      "Evaluating model:  13%|█▎        | 822/6307 [00:00<00:02, 2068.91it/s]\u001b[A\n",
      "Evaluating model:  17%|█▋        | 1077/6307 [00:00<00:02, 2230.50it/s]\u001b[A\n",
      "Evaluating model:  21%|██        | 1331/6307 [00:00<00:02, 2330.03it/s]\u001b[A\n",
      "Evaluating model:  25%|██▌       | 1589/6307 [00:00<00:01, 2408.47it/s]\u001b[A\n",
      "Evaluating model:  29%|██▉       | 1845/6307 [00:00<00:01, 2453.11it/s]\u001b[A\n",
      "Evaluating model:  33%|███▎      | 2100/6307 [00:01<00:01, 2480.09it/s]\u001b[A\n",
      "Evaluating model:  37%|███▋      | 2353/6307 [00:01<00:01, 2495.29it/s]\u001b[A\n",
      "Evaluating model:  41%|████▏     | 2607/6307 [00:01<00:01, 2507.80it/s]\u001b[A\n",
      "Evaluating model:  45%|████▌     | 2861/6307 [00:01<00:01, 2515.71it/s]\u001b[A\n",
      "Evaluating model:  49%|████▉     | 3115/6307 [00:01<00:01, 2521.78it/s]\u001b[A\n",
      "Evaluating model:  53%|█████▎    | 3369/6307 [00:01<00:01, 2526.52it/s]\u001b[A\n",
      "Evaluating model:  57%|█████▋    | 3623/6307 [00:01<00:01, 2529.04it/s]\u001b[A\n",
      "Evaluating model:  61%|██████▏   | 3877/6307 [00:01<00:00, 2531.99it/s]\u001b[A\n",
      "Evaluating model:  65%|██████▌   | 4131/6307 [00:01<00:00, 2532.48it/s]\u001b[A\n",
      "Evaluating model:  70%|██████▉   | 4385/6307 [00:01<00:00, 2533.73it/s]\u001b[A\n",
      "Evaluating model:  74%|███████▎  | 4639/6307 [00:02<00:00, 2524.70it/s]\u001b[A\n",
      "Evaluating model:  78%|███████▊  | 4892/6307 [00:02<00:00, 2525.31it/s]\u001b[A\n",
      "Evaluating model:  82%|████████▏ | 5145/6307 [00:02<00:00, 2524.06it/s]\u001b[A\n",
      "Evaluating model:  86%|████████▌ | 5398/6307 [00:02<00:00, 2524.83it/s]\u001b[A\n",
      "Evaluating model:  90%|████████▉ | 5651/6307 [00:02<00:00, 2523.32it/s]\u001b[A\n",
      "Evaluating model:  94%|█████████▎| 5904/6307 [00:02<00:00, 2512.24it/s]\u001b[A\n",
      "Evaluating model: 100%|██████████| 6307/6307 [00:02<00:00, 2321.39it/s]\u001b[A\n",
      "Evaluations:  20%|██        | 1/5 [00:03<00:14,  3.63s/it]\n",
      "Evaluating model:   0%|          | 0/6307 [00:00<?, ?it/s]\u001b[A\n",
      "Evaluating model:   1%|          | 76/6307 [00:00<00:12, 509.33it/s]\u001b[A\n",
      "Evaluating model:   2%|▏         | 127/6307 [00:00<00:12, 499.55it/s]\u001b[A\n",
      "Evaluating model:   6%|▌         | 379/6307 [00:00<00:04, 1319.93it/s]\u001b[A\n",
      "Evaluating model:  10%|█         | 634/6307 [00:00<00:03, 1770.17it/s]\u001b[A\n",
      "Evaluating model:  14%|█▍        | 888/6307 [00:00<00:02, 2033.65it/s]\u001b[A\n",
      "Evaluating model:  18%|█▊        | 1143/6307 [00:00<00:02, 2202.35it/s]\u001b[A\n",
      "Evaluating model:  22%|██▏       | 1397/6307 [00:00<00:02, 2309.55it/s]\u001b[A\n",
      "Evaluating model:  26%|██▌       | 1652/6307 [00:00<00:01, 2382.36it/s]\u001b[A\n",
      "Evaluating model:  30%|███       | 1906/6307 [00:00<00:01, 2430.46it/s]\u001b[A\n",
      "Evaluating model:  34%|███▍      | 2161/6307 [00:01<00:01, 2465.30it/s]\u001b[A\n",
      "Evaluating model:  38%|███▊      | 2415/6307 [00:01<00:01, 2487.75it/s]\u001b[A\n",
      "Evaluating model:  42%|████▏     | 2669/6307 [00:01<00:01, 2501.01it/s]\u001b[A\n",
      "Evaluating model:  46%|████▋     | 2923/6307 [00:01<00:01, 2510.43it/s]\u001b[A\n",
      "Evaluating model:  50%|█████     | 3178/6307 [00:01<00:01, 2519.87it/s]\u001b[A\n",
      "Evaluating model:  54%|█████▍    | 3432/6307 [00:01<00:01, 2523.69it/s]\u001b[A\n",
      "Evaluating model:  58%|█████▊    | 3686/6307 [00:01<00:01, 2525.65it/s]\u001b[A\n",
      "Evaluating model:  62%|██████▏   | 3940/6307 [00:01<00:00, 2526.99it/s]\u001b[A\n",
      "Evaluating model:  66%|██████▋   | 4194/6307 [00:01<00:00, 2529.34it/s]\u001b[A\n",
      "Evaluating model:  71%|███████   | 4449/6307 [00:01<00:00, 2532.79it/s]\u001b[A\n",
      "Evaluating model:  75%|███████▍  | 4703/6307 [00:02<00:00, 2531.91it/s]\u001b[A\n",
      "Evaluating model:  79%|███████▊  | 4957/6307 [00:02<00:00, 2533.58it/s]\u001b[A\n",
      "Evaluating model:  83%|████████▎ | 5211/6307 [00:02<00:00, 2534.84it/s]\u001b[A\n",
      "Evaluating model:  87%|████████▋ | 5466/6307 [00:02<00:00, 2536.98it/s]\u001b[A\n",
      "Evaluating model:  91%|█████████ | 5720/6307 [00:02<00:00, 2535.66it/s]\u001b[A\n",
      "Evaluating model:  95%|█████████▍| 5975/6307 [00:02<00:00, 2537.20it/s]\u001b[A\n",
      "Evaluating model: 100%|██████████| 6307/6307 [00:02<00:00, 2329.78it/s]\u001b[A\n",
      "Evaluations:  40%|████      | 2/5 [00:07<00:10,  3.60s/it]\n",
      "Evaluating model:   0%|          | 0/6307 [00:00<?, ?it/s]\u001b[A\n",
      "Evaluating model:   0%|          | 17/6307 [00:00<01:06, 94.99it/s]\u001b[A\n",
      "Evaluating model:   1%|          | 51/6307 [00:00<00:30, 203.66it/s]\u001b[A\n",
      "Evaluating model:   5%|▍         | 305/6307 [00:00<00:05, 1109.89it/s]\u001b[A\n",
      "Evaluating model:   9%|▉         | 561/6307 [00:00<00:03, 1625.89it/s]\u001b[A\n",
      "Evaluating model:  13%|█▎        | 818/6307 [00:00<00:02, 1941.88it/s]\u001b[A\n",
      "Evaluating model:  17%|█▋        | 1075/6307 [00:00<00:02, 2144.52it/s]\u001b[A\n",
      "Evaluating model:  21%|██        | 1332/6307 [00:00<00:02, 2278.77it/s]\u001b[A\n",
      "Evaluating model:  25%|██▌       | 1589/6307 [00:00<00:01, 2368.09it/s]\u001b[A\n",
      "Evaluating model:  29%|██▉       | 1847/6307 [00:00<00:01, 2431.54it/s]\u001b[A\n",
      "Evaluating model:  33%|███▎      | 2104/6307 [00:01<00:01, 2472.60it/s]\u001b[A\n",
      "Evaluating model:  37%|███▋      | 2360/6307 [00:01<00:01, 2498.45it/s]\u001b[A\n",
      "Evaluating model:  41%|████▏     | 2615/6307 [00:01<00:01, 2512.62it/s]\u001b[A\n",
      "Evaluating model:  46%|████▌     | 2871/6307 [00:01<00:01, 2524.83it/s]\u001b[A\n",
      "Evaluating model:  50%|████▉     | 3127/6307 [00:01<00:01, 2532.74it/s]\u001b[A\n",
      "Evaluating model:  54%|█████▎    | 3382/6307 [00:01<00:01, 2537.42it/s]\u001b[A\n",
      "Evaluating model:  58%|█████▊    | 3638/6307 [00:01<00:01, 2541.85it/s]\u001b[A\n",
      "Evaluating model:  62%|██████▏   | 3894/6307 [00:01<00:00, 2544.50it/s]\u001b[A\n",
      "Evaluating model:  66%|██████▌   | 4149/6307 [00:01<00:00, 2544.44it/s]\u001b[A\n",
      "Evaluating model:  70%|██████▉   | 4404/6307 [00:01<00:00, 2545.38it/s]\u001b[A\n",
      "Evaluating model:  74%|███████▍  | 4660/6307 [00:02<00:00, 2549.63it/s]\u001b[A\n",
      "Evaluating model:  78%|███████▊  | 4916/6307 [00:02<00:00, 2549.28it/s]\u001b[A\n",
      "Evaluating model:  82%|████████▏ | 5171/6307 [00:02<00:00, 2549.23it/s]\u001b[A\n",
      "Evaluating model:  86%|████████▌ | 5426/6307 [00:02<00:00, 2549.29it/s]\u001b[A\n",
      "Evaluating model:  90%|█████████ | 5681/6307 [00:02<00:00, 2549.32it/s]\u001b[A\n",
      "Evaluating model:  94%|█████████▍| 5937/6307 [00:02<00:00, 2550.30it/s]\u001b[A\n",
      "Evaluating model: 100%|██████████| 6307/6307 [00:02<00:00, 2191.64it/s]\u001b[A\n",
      "Evaluations:  60%|██████    | 3/5 [00:10<00:07,  3.62s/it]\n",
      "Evaluating model:   0%|          | 0/6307 [00:00<?, ?it/s]\u001b[A\n",
      "Evaluating model:   0%|          | 31/6307 [00:00<00:26, 236.70it/s]\u001b[A\n",
      "Evaluating model:   1%|          | 55/6307 [00:00<00:26, 236.84it/s]\u001b[A\n",
      "Evaluating model:   5%|▍         | 303/6307 [00:00<00:05, 1188.43it/s]\u001b[A\n",
      "Evaluating model:   9%|▉         | 554/6307 [00:00<00:03, 1683.73it/s]\u001b[A\n",
      "Evaluating model:  13%|█▎        | 805/6307 [00:00<00:02, 1971.94it/s]\u001b[A\n",
      "Evaluating model:  17%|█▋        | 1056/6307 [00:00<00:02, 2148.79it/s]\u001b[A\n",
      "Evaluating model:  21%|██        | 1305/6307 [00:00<00:02, 2256.12it/s]\u001b[A\n",
      "Evaluating model:  25%|██▍       | 1553/6307 [00:00<00:02, 2326.14it/s]\u001b[A\n",
      "Evaluating model:  28%|██▊       | 1790/6307 [00:00<00:01, 2337.26it/s]\u001b[A\n",
      "Evaluating model:  32%|███▏      | 2027/6307 [00:01<00:01, 2346.97it/s]\u001b[A\n",
      "Evaluating model:  36%|███▌      | 2269/6307 [00:01<00:01, 2366.96it/s]\u001b[A\n",
      "Evaluating model:  40%|███▉      | 2509/6307 [00:01<00:01, 2375.23it/s]\u001b[A\n",
      "Evaluating model:  44%|████▎     | 2758/6307 [00:01<00:01, 2407.45it/s]\u001b[A\n",
      "Evaluating model:  48%|████▊     | 3000/6307 [00:01<00:01, 2402.09it/s]\u001b[A\n",
      "Evaluating model:  52%|█████▏    | 3249/6307 [00:01<00:01, 2426.81it/s]\u001b[A\n",
      "Evaluating model:  55%|█████▌    | 3498/6307 [00:01<00:01, 2443.12it/s]\u001b[A\n",
      "Evaluating model:  59%|█████▉    | 3746/6307 [00:01<00:01, 2453.73it/s]\u001b[A\n",
      "Evaluating model:  63%|██████▎   | 3992/6307 [00:01<00:00, 2423.12it/s]\u001b[A\n",
      "Evaluating model:  67%|██████▋   | 4235/6307 [00:01<00:00, 2413.13it/s]\u001b[A\n",
      "Evaluating model:  71%|███████   | 4483/6307 [00:02<00:00, 2432.41it/s]\u001b[A\n",
      "Evaluating model:  75%|███████▍  | 4727/6307 [00:02<00:00, 2406.33it/s]\u001b[A\n",
      "Evaluating model:  79%|███████▉  | 4968/6307 [00:02<00:00, 2387.10it/s]\u001b[A\n",
      "Evaluating model:  83%|████████▎ | 5216/6307 [00:02<00:00, 2413.77it/s]\u001b[A\n",
      "Evaluating model:  87%|████████▋ | 5458/6307 [00:02<00:00, 2401.57it/s]\u001b[A\n",
      "Evaluating model:  90%|█████████ | 5706/6307 [00:02<00:00, 2422.46it/s]\u001b[A\n",
      "Evaluating model:  94%|█████████▍| 5949/6307 [00:02<00:00, 2423.72it/s]\u001b[A\n",
      "Evaluating model: 100%|██████████| 6307/6307 [00:02<00:00, 2242.00it/s]\u001b[A\n",
      "Evaluations:  80%|████████  | 4/5 [00:14<00:03,  3.64s/it]\n",
      "Evaluating model:   0%|          | 0/6307 [00:00<?, ?it/s]\u001b[A\n",
      "Evaluating model:   1%|          | 45/6307 [00:00<00:20, 307.46it/s]\u001b[A\n",
      "Evaluating model:   1%|          | 77/6307 [00:00<00:20, 311.16it/s]\u001b[A\n",
      "Evaluating model:   5%|▌         | 323/6307 [00:00<00:05, 1194.20it/s]\u001b[A\n",
      "Evaluating model:   9%|▉         | 577/6307 [00:00<00:03, 1690.60it/s]\u001b[A\n",
      "Evaluating model:  13%|█▎        | 831/6307 [00:00<00:02, 1981.82it/s]\u001b[A\n",
      "Evaluating model:  17%|█▋        | 1085/6307 [00:00<00:02, 2164.62it/s]\u001b[A\n",
      "Evaluating model:  21%|██        | 1339/6307 [00:00<00:02, 2282.90it/s]\u001b[A\n",
      "Evaluating model:  25%|██▌       | 1593/6307 [00:00<00:01, 2360.97it/s]\u001b[A\n",
      "Evaluating model:  29%|██▉       | 1846/6307 [00:00<00:01, 2412.81it/s]\u001b[A\n",
      "Evaluating model:  33%|███▎      | 2103/6307 [00:01<00:01, 2459.95it/s]\u001b[A\n",
      "Evaluating model:  37%|███▋      | 2359/6307 [00:01<00:01, 2489.23it/s]\u001b[A\n",
      "Evaluating model:  41%|████▏     | 2613/6307 [00:01<00:01, 2503.41it/s]\u001b[A\n",
      "Evaluating model:  45%|████▌     | 2867/6307 [00:01<00:01, 2511.78it/s]\u001b[A\n",
      "Evaluating model:  49%|████▉     | 3121/6307 [00:01<00:01, 2517.87it/s]\u001b[A\n",
      "Evaluating model:  54%|█████▎    | 3375/6307 [00:01<00:01, 2523.70it/s]\u001b[A\n",
      "Evaluating model:  58%|█████▊    | 3629/6307 [00:01<00:01, 2527.57it/s]\u001b[A\n",
      "Evaluating model:  62%|██████▏   | 3883/6307 [00:01<00:00, 2529.27it/s]\u001b[A\n",
      "Evaluating model:  66%|██████▌   | 4137/6307 [00:01<00:00, 2525.55it/s]\u001b[A\n",
      "Evaluating model:  70%|██████▉   | 4390/6307 [00:01<00:00, 2526.45it/s]\u001b[A\n",
      "Evaluating model:  74%|███████▎  | 4643/6307 [00:02<00:00, 2525.07it/s]\u001b[A\n",
      "Evaluating model:  78%|███████▊  | 4896/6307 [00:02<00:00, 2516.51it/s]\u001b[A\n",
      "Evaluating model:  82%|████████▏ | 5148/6307 [00:02<00:00, 2508.90it/s]\u001b[A\n",
      "Evaluating model:  86%|████████▌ | 5400/6307 [00:02<00:00, 2510.50it/s]\u001b[A\n",
      "Evaluating model:  90%|████████▉ | 5652/6307 [00:02<00:00, 2476.95it/s]\u001b[A\n",
      "Evaluating model:  94%|█████████▎| 5904/6307 [00:02<00:00, 2488.79it/s]\u001b[A\n",
      "Evaluating model: 100%|██████████| 6307/6307 [00:02<00:00, 2302.54it/s]\u001b[A\n",
      "Evaluations: 100%|██████████| 5/5 [00:18<00:00,  3.62s/it]\n"
     ]
    },
    {
     "name": "stdout",
     "output_type": "stream",
     "text": [
      "CB-none-trump:\n",
      "Accuracy: 0.8048016649736132, Precision: 0.8201020432045312, Recall: 0.9418982850384389, F1-Score: 0.8767906517033868\n"
     ]
    },
    {
     "name": "stderr",
     "output_type": "stream",
     "text": [
      "Generating embeddings: 100%|██████████| 3582/3582 [02:35<00:00, 23.06it/s]\n",
      "Epoch 1/30: 100%|██████████| 3582/3582 [00:04<00:00, 893.40it/s]\n"
     ]
    },
    {
     "name": "stdout",
     "output_type": "stream",
     "text": [
      "Average Loss: 0.6539969122206812\n"
     ]
    },
    {
     "name": "stderr",
     "output_type": "stream",
     "text": [
      "Epoch 2/30: 100%|██████████| 3582/3582 [00:03<00:00, 1023.71it/s]\n"
     ]
    },
    {
     "name": "stdout",
     "output_type": "stream",
     "text": [
      "Average Loss: 0.6280648254403051\n"
     ]
    },
    {
     "name": "stderr",
     "output_type": "stream",
     "text": [
      "Epoch 3/30: 100%|██████████| 3582/3582 [00:03<00:00, 1051.70it/s]\n"
     ]
    },
    {
     "name": "stdout",
     "output_type": "stream",
     "text": [
      "Average Loss: 0.6129031505733146\n"
     ]
    },
    {
     "name": "stderr",
     "output_type": "stream",
     "text": [
      "Epoch 4/30: 100%|██████████| 3582/3582 [00:03<00:00, 999.14it/s] \n"
     ]
    },
    {
     "name": "stdout",
     "output_type": "stream",
     "text": [
      "Average Loss: 0.6030263263775875\n"
     ]
    },
    {
     "name": "stderr",
     "output_type": "stream",
     "text": [
      "Epoch 5/30: 100%|██████████| 3582/3582 [00:03<00:00, 1053.62it/s]\n"
     ]
    },
    {
     "name": "stdout",
     "output_type": "stream",
     "text": [
      "Average Loss: 0.5962422587963404\n"
     ]
    },
    {
     "name": "stderr",
     "output_type": "stream",
     "text": [
      "Epoch 6/30: 100%|██████████| 3582/3582 [00:03<00:00, 1053.39it/s]\n"
     ]
    },
    {
     "name": "stdout",
     "output_type": "stream",
     "text": [
      "Average Loss: 0.5913049747396754\n"
     ]
    },
    {
     "name": "stderr",
     "output_type": "stream",
     "text": [
      "Epoch 7/30: 100%|██████████| 3582/3582 [00:03<00:00, 1055.17it/s]\n"
     ]
    },
    {
     "name": "stdout",
     "output_type": "stream",
     "text": [
      "Average Loss: 0.5875520958855857\n"
     ]
    },
    {
     "name": "stderr",
     "output_type": "stream",
     "text": [
      "Epoch 8/30: 100%|██████████| 3582/3582 [00:03<00:00, 1022.18it/s]\n"
     ]
    },
    {
     "name": "stdout",
     "output_type": "stream",
     "text": [
      "Average Loss: 0.5846002218794516\n"
     ]
    },
    {
     "name": "stderr",
     "output_type": "stream",
     "text": [
      "Epoch 9/30: 100%|██████████| 3582/3582 [00:03<00:00, 1058.02it/s]\n"
     ]
    },
    {
     "name": "stdout",
     "output_type": "stream",
     "text": [
      "Average Loss: 0.5821864179297574\n"
     ]
    },
    {
     "name": "stderr",
     "output_type": "stream",
     "text": [
      "Epoch 10/30: 100%|██████████| 3582/3582 [00:03<00:00, 1055.66it/s]\n"
     ]
    },
    {
     "name": "stdout",
     "output_type": "stream",
     "text": [
      "Average Loss: 0.5801980518499344\n"
     ]
    },
    {
     "name": "stderr",
     "output_type": "stream",
     "text": [
      "Epoch 11/30: 100%|██████████| 3582/3582 [00:03<00:00, 1062.48it/s]\n"
     ]
    },
    {
     "name": "stdout",
     "output_type": "stream",
     "text": [
      "Average Loss: 0.5784943137819177\n"
     ]
    },
    {
     "name": "stderr",
     "output_type": "stream",
     "text": [
      "Epoch 12/30: 100%|██████████| 3582/3582 [00:03<00:00, 1011.26it/s]\n"
     ]
    },
    {
     "name": "stdout",
     "output_type": "stream",
     "text": [
      "Average Loss: 0.5770232123928587\n"
     ]
    },
    {
     "name": "stderr",
     "output_type": "stream",
     "text": [
      "Epoch 13/30: 100%|██████████| 3582/3582 [00:03<00:00, 1054.70it/s]\n"
     ]
    },
    {
     "name": "stdout",
     "output_type": "stream",
     "text": [
      "Average Loss: 0.5757306894398747\n"
     ]
    },
    {
     "name": "stderr",
     "output_type": "stream",
     "text": [
      "Epoch 14/30: 100%|██████████| 3582/3582 [00:03<00:00, 1050.40it/s]\n"
     ]
    },
    {
     "name": "stdout",
     "output_type": "stream",
     "text": [
      "Average Loss: 0.5746222603577332\n"
     ]
    },
    {
     "name": "stderr",
     "output_type": "stream",
     "text": [
      "Epoch 15/30: 100%|██████████| 3582/3582 [00:03<00:00, 969.33it/s] \n"
     ]
    },
    {
     "name": "stdout",
     "output_type": "stream",
     "text": [
      "Average Loss: 0.5736254034413099\n"
     ]
    },
    {
     "name": "stderr",
     "output_type": "stream",
     "text": [
      "Epoch 16/30: 100%|██████████| 3582/3582 [00:03<00:00, 922.75it/s] \n"
     ]
    },
    {
     "name": "stdout",
     "output_type": "stream",
     "text": [
      "Average Loss: 0.5726774680604487\n"
     ]
    },
    {
     "name": "stderr",
     "output_type": "stream",
     "text": [
      "Epoch 17/30: 100%|██████████| 3582/3582 [00:03<00:00, 1017.89it/s]\n"
     ]
    },
    {
     "name": "stdout",
     "output_type": "stream",
     "text": [
      "Average Loss: 0.5718766068992902\n"
     ]
    },
    {
     "name": "stderr",
     "output_type": "stream",
     "text": [
      "Epoch 18/30: 100%|██████████| 3582/3582 [00:03<00:00, 1064.47it/s]\n"
     ]
    },
    {
     "name": "stdout",
     "output_type": "stream",
     "text": [
      "Average Loss: 0.5711409333513011\n"
     ]
    },
    {
     "name": "stderr",
     "output_type": "stream",
     "text": [
      "Epoch 19/30: 100%|██████████| 3582/3582 [00:03<00:00, 1048.94it/s]\n"
     ]
    },
    {
     "name": "stdout",
     "output_type": "stream",
     "text": [
      "Average Loss: 0.5704385149269248\n"
     ]
    },
    {
     "name": "stderr",
     "output_type": "stream",
     "text": [
      "Epoch 20/30: 100%|██████████| 3582/3582 [00:03<00:00, 1050.72it/s]\n"
     ]
    },
    {
     "name": "stdout",
     "output_type": "stream",
     "text": [
      "Average Loss: 0.569821015249944\n"
     ]
    },
    {
     "name": "stderr",
     "output_type": "stream",
     "text": [
      "Epoch 21/30: 100%|██████████| 3582/3582 [00:03<00:00, 1063.09it/s]\n"
     ]
    },
    {
     "name": "stdout",
     "output_type": "stream",
     "text": [
      "Average Loss: 0.5692370433520498\n"
     ]
    },
    {
     "name": "stderr",
     "output_type": "stream",
     "text": [
      "Epoch 22/30: 100%|██████████| 3582/3582 [00:03<00:00, 1016.15it/s]\n"
     ]
    },
    {
     "name": "stdout",
     "output_type": "stream",
     "text": [
      "Average Loss: 0.5686554830045024\n"
     ]
    },
    {
     "name": "stderr",
     "output_type": "stream",
     "text": [
      "Epoch 23/30: 100%|██████████| 3582/3582 [00:03<00:00, 1052.44it/s]\n"
     ]
    },
    {
     "name": "stdout",
     "output_type": "stream",
     "text": [
      "Average Loss: 0.5681584007260122\n"
     ]
    },
    {
     "name": "stderr",
     "output_type": "stream",
     "text": [
      "Epoch 24/30: 100%|██████████| 3582/3582 [00:03<00:00, 996.58it/s] \n"
     ]
    },
    {
     "name": "stdout",
     "output_type": "stream",
     "text": [
      "Average Loss: 0.5676791697224713\n"
     ]
    },
    {
     "name": "stderr",
     "output_type": "stream",
     "text": [
      "Epoch 25/30: 100%|██████████| 3582/3582 [00:03<00:00, 1050.45it/s]\n"
     ]
    },
    {
     "name": "stdout",
     "output_type": "stream",
     "text": [
      "Average Loss: 0.5672539891160313\n"
     ]
    },
    {
     "name": "stderr",
     "output_type": "stream",
     "text": [
      "Epoch 26/30: 100%|██████████| 3582/3582 [00:03<00:00, 1045.44it/s]\n"
     ]
    },
    {
     "name": "stdout",
     "output_type": "stream",
     "text": [
      "Average Loss: 0.566831563369047\n"
     ]
    },
    {
     "name": "stderr",
     "output_type": "stream",
     "text": [
      "Epoch 27/30: 100%|██████████| 3582/3582 [00:03<00:00, 1054.80it/s]\n"
     ]
    },
    {
     "name": "stdout",
     "output_type": "stream",
     "text": [
      "Average Loss: 0.5663745367929697\n"
     ]
    },
    {
     "name": "stderr",
     "output_type": "stream",
     "text": [
      "Epoch 28/30: 100%|██████████| 3582/3582 [00:03<00:00, 1021.22it/s]\n"
     ]
    },
    {
     "name": "stdout",
     "output_type": "stream",
     "text": [
      "Average Loss: 0.5660383940275523\n"
     ]
    },
    {
     "name": "stderr",
     "output_type": "stream",
     "text": [
      "Epoch 29/30: 100%|██████████| 3582/3582 [00:03<00:00, 1074.83it/s]\n"
     ]
    },
    {
     "name": "stdout",
     "output_type": "stream",
     "text": [
      "Average Loss: 0.5656898225372161\n"
     ]
    },
    {
     "name": "stderr",
     "output_type": "stream",
     "text": [
      "Epoch 30/30: 100%|██████████| 3582/3582 [00:03<00:00, 1036.36it/s]\n"
     ]
    },
    {
     "name": "stdout",
     "output_type": "stream",
     "text": [
      "Average Loss: 0.5653185037961558\n"
     ]
    },
    {
     "name": "stderr",
     "output_type": "stream",
     "text": [
      "Generating embeddings: 100%|██████████| 3071/3071 [01:37<00:00, 31.44it/s]\n",
      "Evaluations:   0%|          | 0/5 [00:00<?, ?it/s]\n",
      "Evaluating model:   0%|          | 0/3071 [00:00<?, ?it/s]\u001b[A\n",
      "Evaluating model:   0%|          | 1/3071 [00:00<05:24,  9.45it/s]\u001b[A\n",
      "Evaluating model:   1%|▏         | 40/3071 [00:00<00:13, 227.65it/s]\u001b[A\n",
      "Evaluating model:  10%|▉         | 292/3071 [00:00<00:02, 1258.78it/s]\u001b[A\n",
      "Evaluating model:  18%|█▊        | 545/3071 [00:00<00:01, 1755.12it/s]\u001b[A\n",
      "Evaluating model:  26%|██▌       | 800/3071 [00:00<00:01, 2038.85it/s]\u001b[A\n",
      "Evaluating model:  34%|███▍      | 1056/3071 [00:00<00:00, 2213.09it/s]\u001b[A\n",
      "Evaluating model:  43%|████▎     | 1312/3071 [00:00<00:00, 2325.86it/s]\u001b[A\n",
      "Evaluating model:  51%|█████     | 1567/3071 [00:00<00:00, 2396.85it/s]\u001b[A\n",
      "Evaluating model:  59%|█████▉    | 1823/3071 [00:00<00:00, 2446.62it/s]\u001b[A\n",
      "Evaluating model:  68%|██████▊   | 2079/3071 [00:01<00:00, 2479.40it/s]\u001b[A\n",
      "Evaluating model:  76%|███████▌  | 2334/3071 [00:01<00:00, 2498.67it/s]\u001b[A\n",
      "Evaluating model:  84%|████████▍ | 2586/3071 [00:01<00:00, 2502.65it/s]\u001b[A\n",
      "Evaluating model: 100%|██████████| 3071/3071 [00:01<00:00, 2039.64it/s]\u001b[A\n",
      "Evaluations:  20%|██        | 1/5 [00:01<00:07,  1.92s/it]\n",
      "Evaluating model:   0%|          | 0/3071 [00:00<?, ?it/s]\u001b[A\n",
      "Evaluating model:   0%|          | 10/3071 [00:00<00:52, 58.19it/s]\u001b[A\n",
      "Evaluating model:   2%|▏         | 50/3071 [00:00<00:14, 213.17it/s]\u001b[A\n",
      "Evaluating model:  10%|▉         | 301/3071 [00:00<00:02, 1114.85it/s]\u001b[A\n",
      "Evaluating model:  18%|█▊        | 553/3071 [00:00<00:01, 1618.81it/s]\u001b[A\n",
      "Evaluating model:  26%|██▌       | 805/3071 [00:00<00:01, 1924.36it/s]\u001b[A\n",
      "Evaluating model:  34%|███▍      | 1057/3071 [00:00<00:00, 2116.41it/s]\u001b[A\n",
      "Evaluating model:  43%|████▎     | 1309/3071 [00:00<00:00, 2242.65it/s]\u001b[A\n",
      "Evaluating model:  51%|█████     | 1555/3071 [00:00<00:00, 2310.07it/s]\u001b[A\n",
      "Evaluating model:  59%|█████▉    | 1807/3071 [00:00<00:00, 2372.72it/s]\u001b[A\n",
      "Evaluating model:  67%|██████▋   | 2059/3071 [00:01<00:00, 2417.71it/s]\u001b[A\n",
      "Evaluating model:  75%|███████▌  | 2313/3071 [00:01<00:00, 2452.07it/s]\u001b[A\n",
      "Evaluating model:  84%|████████▎ | 2565/3071 [00:01<00:00, 2471.54it/s]\u001b[A\n",
      "Evaluating model:  92%|█████████▏| 2816/3071 [00:01<00:00, 2480.62it/s]\u001b[A\n",
      "Evaluating model: 100%|██████████| 3071/3071 [00:01<00:00, 1935.33it/s]\u001b[A\n",
      "Evaluations:  40%|████      | 2/5 [00:03<00:05,  1.96s/it]\n",
      "Evaluating model:   0%|          | 0/3071 [00:00<?, ?it/s]\u001b[A\n",
      "Evaluating model:   0%|          | 10/3071 [00:00<00:53, 57.18it/s]\u001b[A\n",
      "Evaluating model:   2%|▏         | 63/3071 [00:00<00:11, 269.17it/s]\u001b[A\n",
      "Evaluating model:  10%|█         | 312/3071 [00:00<00:02, 1135.09it/s]\u001b[A\n",
      "Evaluating model:  18%|█▊        | 563/3071 [00:00<00:01, 1625.44it/s]\u001b[A\n",
      "Evaluating model:  27%|██▋       | 815/3071 [00:00<00:01, 1926.55it/s]\u001b[A\n",
      "Evaluating model:  35%|███▍      | 1066/3071 [00:00<00:00, 2116.23it/s]\u001b[A\n",
      "Evaluating model:  43%|████▎     | 1319/3071 [00:00<00:00, 2246.40it/s]\u001b[A\n",
      "Evaluating model:  51%|█████     | 1573/3071 [00:00<00:00, 2336.36it/s]\u001b[A\n",
      "Evaluating model:  59%|█████▉    | 1812/3071 [00:00<00:00, 2255.71it/s]\u001b[A\n",
      "Evaluating model:  67%|██████▋   | 2063/3071 [00:01<00:00, 2330.16it/s]\u001b[A\n",
      "Evaluating model:  75%|███████▌  | 2316/3071 [00:01<00:00, 2388.64it/s]\u001b[A\n",
      "Evaluating model:  84%|████████▎ | 2570/3071 [00:01<00:00, 2431.57it/s]\u001b[A\n",
      "Evaluating model: 100%|██████████| 3071/3071 [00:01<00:00, 1949.42it/s]\u001b[A\n",
      "Evaluations:  60%|██████    | 3/5 [00:05<00:04,  2.01s/it]\n",
      "Evaluating model:   0%|          | 0/3071 [00:00<?, ?it/s]\u001b[A\n",
      "Evaluating model:   0%|          | 1/3071 [00:00<05:25,  9.45it/s]\u001b[A\n",
      "Evaluating model:   1%|          | 36/3071 [00:00<00:14, 204.80it/s]\u001b[A\n",
      "Evaluating model:   9%|▉         | 285/3071 [00:00<00:02, 1233.56it/s]\u001b[A\n",
      "Evaluating model:  17%|█▋        | 536/3071 [00:00<00:01, 1732.21it/s]\u001b[A\n",
      "Evaluating model:  26%|██▌       | 788/3071 [00:00<00:01, 2013.31it/s]\u001b[A\n",
      "Evaluating model:  34%|███▍      | 1041/3071 [00:00<00:00, 2187.66it/s]\u001b[A\n",
      "Evaluating model:  42%|████▏     | 1294/3071 [00:00<00:00, 2296.44it/s]\u001b[A\n",
      "Evaluating model:  50%|█████     | 1548/3071 [00:00<00:00, 2371.44it/s]\u001b[A\n",
      "Evaluating model:  59%|█████▊    | 1800/3071 [00:00<00:00, 2416.36it/s]\u001b[A\n",
      "Evaluating model:  67%|██████▋   | 2053/3071 [00:01<00:00, 2450.09it/s]\u001b[A\n",
      "Evaluating model:  75%|███████▌  | 2306/3071 [00:01<00:00, 2472.45it/s]\u001b[A\n",
      "Evaluating model:  83%|████████▎ | 2558/3071 [00:01<00:00, 2486.42it/s]\u001b[A\n",
      "Evaluating model:  91%|█████████▏| 2808/3071 [00:01<00:00, 2490.44it/s]\u001b[A\n",
      "Evaluating model: 100%|██████████| 3071/3071 [00:01<00:00, 1909.98it/s]\u001b[A\n",
      "Evaluations:  80%|████████  | 4/5 [00:08<00:02,  2.01s/it]\n",
      "Evaluating model:   0%|          | 0/3071 [00:00<?, ?it/s]\u001b[A\n",
      "Evaluating model:   0%|          | 6/3071 [00:00<00:51, 59.96it/s]\u001b[A\n",
      "Evaluating model:   1%|          | 32/3071 [00:00<00:17, 177.08it/s]\u001b[A\n",
      "Evaluating model:   2%|▏         | 69/3071 [00:00<00:11, 264.76it/s]\u001b[A\n",
      "Evaluating model:  10%|█         | 319/3071 [00:00<00:02, 1145.07it/s]\u001b[A\n",
      "Evaluating model:  19%|█▊        | 573/3071 [00:00<00:01, 1645.16it/s]\u001b[A\n",
      "Evaluating model:  27%|██▋       | 827/3071 [00:00<00:01, 1946.37it/s]\u001b[A\n",
      "Evaluating model:  35%|███▌      | 1079/3071 [00:00<00:00, 2131.89it/s]\u001b[A\n",
      "Evaluating model:  43%|████▎     | 1331/3071 [00:00<00:00, 2254.36it/s]\u001b[A\n",
      "Evaluating model:  52%|█████▏    | 1582/3071 [00:00<00:00, 2333.86it/s]\u001b[A\n",
      "Evaluating model:  60%|█████▉    | 1834/3071 [00:01<00:00, 2389.22it/s]\u001b[A\n",
      "Evaluating model:  68%|██████▊   | 2087/3071 [00:01<00:00, 2429.72it/s]\u001b[A\n",
      "Evaluating model:  76%|███████▌  | 2338/3071 [00:01<00:00, 2454.00it/s]\u001b[A\n",
      "Evaluating model:  84%|████████▍ | 2588/3071 [00:01<00:00, 2466.00it/s]\u001b[A\n",
      "Evaluating model: 100%|██████████| 3071/3071 [00:01<00:00, 2026.88it/s]\u001b[A\n",
      "Evaluations: 100%|██████████| 5/5 [00:10<00:00,  2.00s/it]\n"
     ]
    },
    {
     "name": "stdout",
     "output_type": "stream",
     "text": [
      "CB-none-mask:\n",
      "Accuracy: 0.7226241719327167, Precision: 0.6623139993926511, Recall: 0.48723820161965936, F1-Score: 0.5614441548412009\n"
     ]
    },
    {
     "name": "stderr",
     "output_type": "stream",
     "text": [
      "Generating embeddings: 100%|██████████| 16700/16700 [13:23<00:00, 20.78it/s]\n",
      "Epoch 1/30: 100%|██████████| 16700/16700 [00:15<00:00, 1092.08it/s]\n"
     ]
    },
    {
     "name": "stdout",
     "output_type": "stream",
     "text": [
      "Average Loss: 0.5463424841194096\n"
     ]
    },
    {
     "name": "stderr",
     "output_type": "stream",
     "text": [
      "Epoch 2/30: 100%|██████████| 16700/16700 [00:15<00:00, 1097.55it/s]\n"
     ]
    },
    {
     "name": "stdout",
     "output_type": "stream",
     "text": [
      "Average Loss: 0.5054591786067286\n"
     ]
    },
    {
     "name": "stderr",
     "output_type": "stream",
     "text": [
      "Epoch 3/30: 100%|██████████| 16700/16700 [00:38<00:00, 432.85it/s]\n"
     ]
    },
    {
     "name": "stdout",
     "output_type": "stream",
     "text": [
      "Average Loss: 0.4938563024480186\n"
     ]
    },
    {
     "name": "stderr",
     "output_type": "stream",
     "text": [
      "Epoch 4/30: 100%|██████████| 16700/16700 [00:40<00:00, 416.31it/s]\n"
     ]
    },
    {
     "name": "stdout",
     "output_type": "stream",
     "text": [
      "Average Loss: 0.488552928924739\n"
     ]
    },
    {
     "name": "stderr",
     "output_type": "stream",
     "text": [
      "Epoch 5/30: 100%|██████████| 16700/16700 [00:40<00:00, 415.63it/s]\n"
     ]
    },
    {
     "name": "stdout",
     "output_type": "stream",
     "text": [
      "Average Loss: 0.4854428980120285\n"
     ]
    },
    {
     "name": "stderr",
     "output_type": "stream",
     "text": [
      "Epoch 6/30: 100%|██████████| 16700/16700 [00:40<00:00, 413.19it/s]\n"
     ]
    },
    {
     "name": "stdout",
     "output_type": "stream",
     "text": [
      "Average Loss: 0.4833023683682173\n"
     ]
    },
    {
     "name": "stderr",
     "output_type": "stream",
     "text": [
      "Epoch 7/30: 100%|██████████| 16700/16700 [00:41<00:00, 407.20it/s]\n"
     ]
    },
    {
     "name": "stdout",
     "output_type": "stream",
     "text": [
      "Average Loss: 0.48172198486988416\n"
     ]
    },
    {
     "name": "stderr",
     "output_type": "stream",
     "text": [
      "Epoch 8/30: 100%|██████████| 16700/16700 [00:22<00:00, 736.26it/s] \n"
     ]
    },
    {
     "name": "stdout",
     "output_type": "stream",
     "text": [
      "Average Loss: 0.4804683723867296\n"
     ]
    },
    {
     "name": "stderr",
     "output_type": "stream",
     "text": [
      "Epoch 9/30: 100%|██████████| 16700/16700 [00:17<00:00, 937.48it/s] \n"
     ]
    },
    {
     "name": "stdout",
     "output_type": "stream",
     "text": [
      "Average Loss: 0.4794526096107717\n"
     ]
    },
    {
     "name": "stderr",
     "output_type": "stream",
     "text": [
      "Epoch 10/30: 100%|██████████| 16700/16700 [00:16<00:00, 1006.99it/s]\n"
     ]
    },
    {
     "name": "stdout",
     "output_type": "stream",
     "text": [
      "Average Loss: 0.47856811632563967\n"
     ]
    },
    {
     "name": "stderr",
     "output_type": "stream",
     "text": [
      "Epoch 11/30: 100%|██████████| 16700/16700 [00:20<00:00, 798.53it/s]\n"
     ]
    },
    {
     "name": "stdout",
     "output_type": "stream",
     "text": [
      "Average Loss: 0.47780810347038827\n"
     ]
    },
    {
     "name": "stderr",
     "output_type": "stream",
     "text": [
      "Epoch 12/30: 100%|██████████| 16700/16700 [00:18<00:00, 922.62it/s] \n"
     ]
    },
    {
     "name": "stdout",
     "output_type": "stream",
     "text": [
      "Average Loss: 0.477143308188387\n"
     ]
    },
    {
     "name": "stderr",
     "output_type": "stream",
     "text": [
      "Epoch 13/30: 100%|██████████| 16700/16700 [00:17<00:00, 932.50it/s] \n"
     ]
    },
    {
     "name": "stdout",
     "output_type": "stream",
     "text": [
      "Average Loss: 0.4765380910217405\n"
     ]
    },
    {
     "name": "stderr",
     "output_type": "stream",
     "text": [
      "Epoch 14/30: 100%|██████████| 16700/16700 [00:16<00:00, 1005.99it/s]\n"
     ]
    },
    {
     "name": "stdout",
     "output_type": "stream",
     "text": [
      "Average Loss: 0.47602594572002305\n"
     ]
    },
    {
     "name": "stderr",
     "output_type": "stream",
     "text": [
      "Epoch 15/30: 100%|██████████| 16700/16700 [00:17<00:00, 977.68it/s] \n"
     ]
    },
    {
     "name": "stdout",
     "output_type": "stream",
     "text": [
      "Average Loss: 0.4755203026934655\n"
     ]
    },
    {
     "name": "stderr",
     "output_type": "stream",
     "text": [
      "Epoch 16/30: 100%|██████████| 16700/16700 [00:16<00:00, 982.93it/s] \n"
     ]
    },
    {
     "name": "stdout",
     "output_type": "stream",
     "text": [
      "Average Loss: 0.47508233230895625\n"
     ]
    },
    {
     "name": "stderr",
     "output_type": "stream",
     "text": [
      "Epoch 17/30: 100%|██████████| 16700/16700 [00:16<00:00, 994.48it/s] \n"
     ]
    },
    {
     "name": "stdout",
     "output_type": "stream",
     "text": [
      "Average Loss: 0.47466435090421205\n"
     ]
    },
    {
     "name": "stderr",
     "output_type": "stream",
     "text": [
      "Epoch 18/30: 100%|██████████| 16700/16700 [00:16<00:00, 993.63it/s] \n"
     ]
    },
    {
     "name": "stdout",
     "output_type": "stream",
     "text": [
      "Average Loss: 0.4743084112898318\n"
     ]
    },
    {
     "name": "stderr",
     "output_type": "stream",
     "text": [
      "Epoch 19/30: 100%|██████████| 16700/16700 [00:17<00:00, 966.53it/s] \n"
     ]
    },
    {
     "name": "stdout",
     "output_type": "stream",
     "text": [
      "Average Loss: 0.4739492195853573\n"
     ]
    },
    {
     "name": "stderr",
     "output_type": "stream",
     "text": [
      "Epoch 20/30: 100%|██████████| 16700/16700 [00:16<00:00, 1037.03it/s]\n"
     ]
    },
    {
     "name": "stdout",
     "output_type": "stream",
     "text": [
      "Average Loss: 0.47363089145568316\n"
     ]
    },
    {
     "name": "stderr",
     "output_type": "stream",
     "text": [
      "Epoch 21/30: 100%|██████████| 16700/16700 [00:27<00:00, 607.21it/s]\n"
     ]
    },
    {
     "name": "stdout",
     "output_type": "stream",
     "text": [
      "Average Loss: 0.47331938930614265\n"
     ]
    },
    {
     "name": "stderr",
     "output_type": "stream",
     "text": [
      "Epoch 22/30: 100%|██████████| 16700/16700 [00:40<00:00, 412.16it/s]\n"
     ]
    },
    {
     "name": "stdout",
     "output_type": "stream",
     "text": [
      "Average Loss: 0.4730201048649357\n"
     ]
    },
    {
     "name": "stderr",
     "output_type": "stream",
     "text": [
      "Epoch 23/30: 100%|██████████| 16700/16700 [00:40<00:00, 407.44it/s]\n"
     ]
    },
    {
     "name": "stdout",
     "output_type": "stream",
     "text": [
      "Average Loss: 0.47273521591981726\n"
     ]
    },
    {
     "name": "stderr",
     "output_type": "stream",
     "text": [
      "Epoch 24/30: 100%|██████████| 16700/16700 [00:40<00:00, 410.39it/s]\n"
     ]
    },
    {
     "name": "stdout",
     "output_type": "stream",
     "text": [
      "Average Loss: 0.472491840843312\n"
     ]
    },
    {
     "name": "stderr",
     "output_type": "stream",
     "text": [
      "Epoch 25/30: 100%|██████████| 16700/16700 [00:41<00:00, 407.14it/s]\n"
     ]
    },
    {
     "name": "stdout",
     "output_type": "stream",
     "text": [
      "Average Loss: 0.4722622924623732\n"
     ]
    },
    {
     "name": "stderr",
     "output_type": "stream",
     "text": [
      "Epoch 26/30: 100%|██████████| 16700/16700 [00:20<00:00, 825.79it/s] \n"
     ]
    },
    {
     "name": "stdout",
     "output_type": "stream",
     "text": [
      "Average Loss: 0.47202152368462014\n"
     ]
    },
    {
     "name": "stderr",
     "output_type": "stream",
     "text": [
      "Epoch 27/30: 100%|██████████| 16700/16700 [00:16<00:00, 1000.04it/s]\n"
     ]
    },
    {
     "name": "stdout",
     "output_type": "stream",
     "text": [
      "Average Loss: 0.4717855320808416\n"
     ]
    },
    {
     "name": "stderr",
     "output_type": "stream",
     "text": [
      "Epoch 28/30: 100%|██████████| 16700/16700 [00:15<00:00, 1099.76it/s]\n"
     ]
    },
    {
     "name": "stdout",
     "output_type": "stream",
     "text": [
      "Average Loss: 0.47158907136249684\n"
     ]
    },
    {
     "name": "stderr",
     "output_type": "stream",
     "text": [
      "Epoch 29/30: 100%|██████████| 16700/16700 [00:15<00:00, 1106.04it/s]\n"
     ]
    },
    {
     "name": "stdout",
     "output_type": "stream",
     "text": [
      "Average Loss: 0.4713892254286897\n"
     ]
    },
    {
     "name": "stderr",
     "output_type": "stream",
     "text": [
      "Epoch 30/30: 100%|██████████| 16700/16700 [00:15<00:00, 1083.85it/s]\n"
     ]
    },
    {
     "name": "stdout",
     "output_type": "stream",
     "text": [
      "Average Loss: 0.47119165794845824\n"
     ]
    },
    {
     "name": "stderr",
     "output_type": "stream",
     "text": [
      "Generating embeddings: 100%|██████████| 15961/15961 [11:47<00:00, 22.57it/s]\n",
      "Evaluations:   0%|          | 0/5 [00:00<?, ?it/s]\n",
      "Evaluating model:   0%|          | 0/15961 [00:00<?, ?it/s]\u001b[A\n",
      "Evaluating model:   0%|          | 1/15961 [00:00<28:38,  9.29it/s]\u001b[A\n",
      "Evaluating model:   0%|          | 23/15961 [00:00<02:04, 127.89it/s]\u001b[A\n",
      "Evaluating model:   0%|          | 70/15961 [00:00<00:57, 278.44it/s]\u001b[A\n",
      "Evaluating model:   1%|          | 115/15961 [00:00<00:46, 342.45it/s]\u001b[A\n",
      "Evaluating model:   1%|          | 159/15961 [00:00<00:41, 376.87it/s]\u001b[A\n",
      "Evaluating model:   1%|▏         | 204/15961 [00:00<00:39, 399.85it/s]\u001b[A\n",
      "Evaluating model:   2%|▏         | 249/15961 [00:00<00:38, 413.08it/s]\u001b[A\n",
      "Evaluating model:   2%|▏         | 293/15961 [00:00<00:37, 420.80it/s]\u001b[A\n",
      "Evaluating model:   2%|▏         | 337/15961 [00:00<00:36, 426.33it/s]\u001b[A\n",
      "Evaluating model:   2%|▏         | 386/15961 [00:01<00:35, 444.71it/s]\u001b[A\n",
      "Evaluating model:   3%|▎         | 431/15961 [00:01<00:34, 444.61it/s]\u001b[A\n",
      "Evaluating model:   3%|▎         | 476/15961 [00:01<00:34, 443.70it/s]\u001b[A\n",
      "Evaluating model:   3%|▎         | 546/15961 [00:01<00:29, 520.46it/s]\u001b[A\n",
      "Evaluating model:   4%|▍         | 599/15961 [00:01<00:31, 494.10it/s]\u001b[A\n",
      "Evaluating model:   4%|▍         | 649/15961 [00:01<00:31, 479.68it/s]\u001b[A\n",
      "Evaluating model:   4%|▍         | 698/15961 [00:01<00:32, 467.07it/s]\u001b[A\n",
      "Evaluating model:   5%|▍         | 745/15961 [00:01<00:32, 461.73it/s]\u001b[A\n",
      "Evaluating model:   5%|▍         | 792/15961 [00:01<00:33, 456.51it/s]\u001b[A\n",
      "Evaluating model:   5%|▌         | 838/15961 [00:01<00:33, 452.66it/s]\u001b[A\n",
      "Evaluating model:   6%|▌         | 884/15961 [00:02<00:33, 452.03it/s]\u001b[A\n",
      "Evaluating model:   6%|▌         | 930/15961 [00:02<00:33, 449.58it/s]\u001b[A\n",
      "Evaluating model:   6%|▌         | 975/15961 [00:02<00:33, 446.09it/s]\u001b[A\n",
      "Evaluating model:   6%|▋         | 1020/15961 [00:02<00:33, 445.73it/s]\u001b[A\n",
      "Evaluating model:   7%|▋         | 1065/15961 [00:02<00:33, 444.80it/s]\u001b[A\n",
      "Evaluating model:   7%|▋         | 1110/15961 [00:02<00:33, 445.39it/s]\u001b[A\n",
      "Evaluating model:   7%|▋         | 1156/15961 [00:02<00:33, 447.33it/s]\u001b[A\n",
      "Evaluating model:   8%|▊         | 1216/15961 [00:02<00:30, 489.17it/s]\u001b[A\n",
      "Evaluating model:   8%|▊         | 1265/15961 [00:02<00:30, 479.48it/s]\u001b[A\n",
      "Evaluating model:   8%|▊         | 1313/15961 [00:03<00:31, 468.96it/s]\u001b[A\n",
      "Evaluating model:   9%|▊         | 1360/15961 [00:03<00:31, 464.53it/s]\u001b[A\n",
      "Evaluating model:   9%|▉         | 1410/15961 [00:03<00:30, 473.75it/s]\u001b[A\n",
      "Evaluating model:   9%|▉         | 1458/15961 [00:03<00:31, 464.64it/s]\u001b[A\n",
      "Evaluating model:   9%|▉         | 1505/15961 [00:03<00:31, 457.62it/s]\u001b[A\n",
      "Evaluating model:  10%|▉         | 1551/15961 [00:03<00:32, 447.15it/s]\u001b[A\n",
      "Evaluating model:  10%|█         | 1597/15961 [00:03<00:32, 447.91it/s]\u001b[A\n",
      "Evaluating model:  10%|█         | 1643/15961 [00:03<00:31, 449.66it/s]\u001b[A\n",
      "Evaluating model:  11%|█         | 1688/15961 [00:03<00:31, 447.25it/s]\u001b[A\n",
      "Evaluating model:  11%|█         | 1749/15961 [00:03<00:28, 494.64it/s]\u001b[A\n",
      "Evaluating model:  11%|█▏        | 1799/15961 [00:04<00:28, 492.92it/s]\u001b[A\n",
      "Evaluating model:  12%|█▏        | 1849/15961 [00:04<00:29, 485.56it/s]\u001b[A\n",
      "Evaluating model:  12%|█▏        | 1898/15961 [00:04<00:29, 468.79it/s]\u001b[A\n",
      "Evaluating model:  12%|█▏        | 1946/15961 [00:04<00:30, 463.01it/s]\u001b[A\n",
      "Evaluating model:  12%|█▏        | 1994/15961 [00:04<00:29, 466.21it/s]\u001b[A\n",
      "Evaluating model:  13%|█▎        | 2041/15961 [00:04<00:30, 459.88it/s]\u001b[A\n",
      "Evaluating model:  13%|█▎        | 2096/15961 [00:04<00:28, 483.60it/s]\u001b[A\n",
      "Evaluating model:  13%|█▎        | 2145/15961 [00:04<00:29, 473.90it/s]\u001b[A\n",
      "Evaluating model:  14%|█▎        | 2193/15961 [00:04<00:29, 471.85it/s]\u001b[A\n",
      "Evaluating model:  14%|█▍        | 2241/15961 [00:05<00:29, 462.68it/s]\u001b[A\n",
      "Evaluating model:  14%|█▍        | 2288/15961 [00:05<00:30, 455.38it/s]\u001b[A\n",
      "Evaluating model:  15%|█▍        | 2334/15961 [00:05<00:30, 452.61it/s]\u001b[A\n",
      "Evaluating model:  15%|█▍        | 2380/15961 [00:05<00:30, 445.19it/s]\u001b[A\n",
      "Evaluating model:  15%|█▌        | 2425/15961 [00:05<00:30, 446.37it/s]\u001b[A\n",
      "Evaluating model:  15%|█▌        | 2470/15961 [00:05<00:30, 447.33it/s]\u001b[A\n",
      "Evaluating model:  16%|█▌        | 2516/15961 [00:05<00:29, 449.07it/s]\u001b[A\n",
      "Evaluating model:  16%|█▌        | 2561/15961 [00:05<00:29, 447.05it/s]\u001b[A\n",
      "Evaluating model:  16%|█▋        | 2607/15961 [00:05<00:29, 447.73it/s]\u001b[A\n",
      "Evaluating model:  17%|█▋        | 2653/15961 [00:05<00:29, 449.14it/s]\u001b[A\n",
      "Evaluating model:  17%|█▋        | 2701/15961 [00:06<00:29, 455.51it/s]\u001b[A\n",
      "Evaluating model:  17%|█▋        | 2747/15961 [00:06<00:29, 453.20it/s]\u001b[A\n",
      "Evaluating model:  17%|█▋        | 2793/15961 [00:06<00:29, 449.74it/s]\u001b[A\n",
      "Evaluating model:  18%|█▊        | 2854/15961 [00:06<00:26, 494.65it/s]\u001b[A\n",
      "Evaluating model:  18%|█▊        | 2904/15961 [00:06<00:27, 479.85it/s]\u001b[A\n",
      "Evaluating model:  19%|█▊        | 2978/15961 [00:06<00:23, 553.64it/s]\u001b[A\n",
      "Evaluating model:  19%|█▉        | 3034/15961 [00:06<00:23, 551.12it/s]\u001b[A\n",
      "Evaluating model:  19%|█▉        | 3090/15961 [00:06<00:24, 516.56it/s]\u001b[A\n",
      "Evaluating model:  20%|█▉        | 3143/15961 [00:06<00:26, 492.34it/s]\u001b[A\n",
      "Evaluating model:  20%|██        | 3193/15961 [00:07<00:26, 479.38it/s]\u001b[A\n",
      "Evaluating model:  20%|██        | 3247/15961 [00:07<00:25, 493.58it/s]\u001b[A\n",
      "Evaluating model:  21%|██        | 3297/15961 [00:07<00:26, 476.66it/s]\u001b[A\n",
      "Evaluating model:  21%|██        | 3345/15961 [00:07<00:26, 470.96it/s]\u001b[A\n",
      "Evaluating model:  21%|██▏       | 3393/15961 [00:07<00:27, 462.19it/s]\u001b[A\n",
      "Evaluating model:  22%|██▏       | 3440/15961 [00:07<00:27, 460.64it/s]\u001b[A\n",
      "Evaluating model:  22%|██▏       | 3490/15961 [00:07<00:26, 470.97it/s]\u001b[A\n",
      "Evaluating model:  22%|██▏       | 3538/15961 [00:07<00:26, 462.39it/s]\u001b[A\n",
      "Evaluating model:  22%|██▏       | 3585/15961 [00:07<00:27, 456.15it/s]\u001b[A\n",
      "Evaluating model:  23%|██▎       | 3631/15961 [00:07<00:27, 455.57it/s]\u001b[A\n",
      "Evaluating model:  23%|██▎       | 3677/15961 [00:08<00:27, 451.65it/s]\u001b[A\n",
      "Evaluating model:  23%|██▎       | 3723/15961 [00:08<00:27, 452.78it/s]\u001b[A\n",
      "Evaluating model:  24%|██▎       | 3769/15961 [00:08<00:27, 449.35it/s]\u001b[A\n",
      "Evaluating model:  24%|██▍       | 3816/15961 [00:08<00:26, 452.90it/s]\u001b[A\n",
      "Evaluating model:  24%|██▍       | 3862/15961 [00:08<00:26, 452.01it/s]\u001b[A\n",
      "Evaluating model:  25%|██▍       | 3911/15961 [00:08<00:26, 460.91it/s]\u001b[A\n",
      "Evaluating model:  25%|██▍       | 3958/15961 [00:08<00:26, 457.80it/s]\u001b[A\n",
      "Evaluating model:  25%|██▌       | 4004/15961 [00:08<00:26, 453.87it/s]\u001b[A\n",
      "Evaluating model:  25%|██▌       | 4051/15961 [00:08<00:26, 457.44it/s]\u001b[A\n",
      "Evaluating model:  26%|██▌       | 4097/15961 [00:08<00:26, 452.00it/s]\u001b[A\n",
      "Evaluating model:  26%|██▌       | 4143/15961 [00:09<00:26, 450.88it/s]\u001b[A\n",
      "Evaluating model:  26%|██▋       | 4190/15961 [00:09<00:25, 455.41it/s]\u001b[A\n",
      "Evaluating model:  27%|██▋       | 4240/15961 [00:09<00:25, 467.30it/s]\u001b[A\n",
      "Evaluating model:  27%|██▋       | 4287/15961 [00:09<00:25, 465.05it/s]\u001b[A\n",
      "Evaluating model:  27%|██▋       | 4334/15961 [00:09<00:25, 460.68it/s]\u001b[A\n",
      "Evaluating model:  27%|██▋       | 4381/15961 [00:09<00:25, 455.61it/s]\u001b[A\n",
      "Evaluating model:  28%|██▊       | 4427/15961 [00:09<00:25, 451.33it/s]\u001b[A\n",
      "Evaluating model:  28%|██▊       | 4473/15961 [00:09<00:25, 451.20it/s]\u001b[A\n",
      "Evaluating model:  28%|██▊       | 4533/15961 [00:09<00:23, 493.50it/s]\u001b[A\n",
      "Evaluating model:  29%|██▊       | 4583/15961 [00:10<00:23, 481.32it/s]\u001b[A\n",
      "Evaluating model:  29%|██▉       | 4632/15961 [00:10<00:24, 464.74it/s]\u001b[A\n",
      "Evaluating model:  29%|██▉       | 4681/15961 [00:10<00:23, 470.41it/s]\u001b[A\n",
      "Evaluating model:  30%|██▉       | 4729/15961 [00:10<00:24, 462.95it/s]\u001b[A\n",
      "Evaluating model:  30%|██▉       | 4787/15961 [00:10<00:22, 494.88it/s]\u001b[A\n",
      "Evaluating model:  30%|███       | 4837/15961 [00:10<00:23, 483.44it/s]\u001b[A\n",
      "Evaluating model:  31%|███       | 4886/15961 [00:10<00:23, 480.68it/s]\u001b[A\n",
      "Evaluating model:  31%|███       | 4935/15961 [00:10<00:23, 469.98it/s]\u001b[A\n",
      "Evaluating model:  31%|███       | 4983/15961 [00:10<00:23, 462.21it/s]\u001b[A\n",
      "Evaluating model:  32%|███▏      | 5030/15961 [00:10<00:23, 459.14it/s]\u001b[A\n",
      "Evaluating model:  32%|███▏      | 5076/15961 [00:11<00:23, 456.47it/s]\u001b[A\n",
      "Evaluating model:  32%|███▏      | 5122/15961 [00:11<00:23, 452.65it/s]\u001b[A\n",
      "Evaluating model:  32%|███▏      | 5168/15961 [00:11<00:23, 449.80it/s]\u001b[A\n",
      "Evaluating model:  33%|███▎      | 5214/15961 [00:11<00:23, 450.33it/s]\u001b[A\n",
      "Evaluating model:  33%|███▎      | 5262/15961 [00:11<00:23, 455.91it/s]\u001b[A\n",
      "Evaluating model:  33%|███▎      | 5308/15961 [00:11<00:23, 452.11it/s]\u001b[A\n",
      "Evaluating model:  34%|███▎      | 5354/15961 [00:11<00:23, 453.18it/s]\u001b[A\n",
      "Evaluating model:  34%|███▍      | 5403/15961 [00:11<00:22, 461.95it/s]\u001b[A\n",
      "Evaluating model:  34%|███▍      | 5450/15961 [00:11<00:22, 458.25it/s]\u001b[A\n",
      "Evaluating model:  34%|███▍      | 5496/15961 [00:12<00:23, 452.68it/s]\u001b[A\n",
      "Evaluating model:  35%|███▍      | 5542/15961 [00:12<00:23, 447.24it/s]\u001b[A\n",
      "Evaluating model:  35%|███▌      | 5590/15961 [00:12<00:22, 453.88it/s]\u001b[A\n",
      "Evaluating model:  35%|███▌      | 5636/15961 [00:12<00:22, 450.49it/s]\u001b[A\n",
      "Evaluating model:  36%|███▌      | 5691/15961 [00:12<00:21, 476.42it/s]\u001b[A\n",
      "Evaluating model:  36%|███▌      | 5739/15961 [00:12<00:21, 465.00it/s]\u001b[A\n",
      "Evaluating model:  36%|███▋      | 5786/15961 [00:12<00:22, 461.36it/s]\u001b[A\n",
      "Evaluating model:  37%|███▋      | 5833/15961 [00:12<00:22, 456.98it/s]\u001b[A\n",
      "Evaluating model:  37%|███▋      | 5879/15961 [00:12<00:22, 456.58it/s]\u001b[A\n",
      "Evaluating model:  37%|███▋      | 5925/15961 [00:12<00:22, 454.62it/s]\u001b[A\n",
      "Evaluating model:  37%|███▋      | 5971/15961 [00:13<00:22, 454.04it/s]\u001b[A\n",
      "Evaluating model:  38%|███▊      | 6017/15961 [00:13<00:22, 450.19it/s]\u001b[A\n",
      "Evaluating model:  39%|███▊      | 6151/15961 [00:13<00:13, 711.01it/s]\u001b[A\n",
      "Evaluating model:  40%|████      | 6404/15961 [00:13<00:07, 1247.43it/s]\u001b[A\n",
      "Evaluating model:  42%|████▏     | 6658/15961 [00:13<00:05, 1629.43it/s]\u001b[A\n",
      "Evaluating model:  43%|████▎     | 6911/15961 [00:13<00:04, 1895.65it/s]\u001b[A\n",
      "Evaluating model:  45%|████▍     | 7167/15961 [00:13<00:04, 2091.24it/s]\u001b[A\n",
      "Evaluating model:  47%|████▋     | 7425/15961 [00:13<00:03, 2236.55it/s]\u001b[A\n",
      "Evaluating model:  48%|████▊     | 7650/15961 [00:13<00:05, 1557.99it/s]\u001b[A\n",
      "Evaluating model:  49%|████▉     | 7835/15961 [00:14<00:05, 1427.34it/s]\u001b[A\n",
      "Evaluating model:  50%|█████     | 8044/15961 [00:14<00:05, 1573.65it/s]\u001b[A\n",
      "Evaluating model:  52%|█████▏    | 8251/15961 [00:14<00:04, 1692.45it/s]\u001b[A\n",
      "Evaluating model:  53%|█████▎    | 8459/15961 [00:14<00:04, 1790.27it/s]\u001b[A\n",
      "Evaluating model:  54%|█████▍    | 8667/15961 [00:14<00:03, 1865.70it/s]\u001b[A\n",
      "Evaluating model:  56%|█████▌    | 8873/15961 [00:14<00:03, 1918.43it/s]\u001b[A\n",
      "Evaluating model:  57%|█████▋    | 9082/15961 [00:14<00:03, 1966.26it/s]\u001b[A\n",
      "Evaluating model:  58%|█████▊    | 9294/15961 [00:14<00:03, 2008.32it/s]\u001b[A\n",
      "Evaluating model:  60%|█████▉    | 9499/15961 [00:14<00:03, 2016.54it/s]\u001b[A\n",
      "Evaluating model:  61%|██████    | 9704/15961 [00:15<00:03, 2024.64it/s]\u001b[A\n",
      "Evaluating model:  62%|██████▏   | 9909/15961 [00:15<00:02, 2029.54it/s]\u001b[A\n",
      "Evaluating model:  63%|██████▎   | 10126/15961 [00:15<00:02, 2069.10it/s]\u001b[A\n",
      "Evaluating model:  65%|██████▍   | 10338/15961 [00:15<00:02, 2082.53it/s]\u001b[A\n",
      "Evaluating model:  66%|██████▌   | 10548/15961 [00:15<00:02, 2085.90it/s]\u001b[A\n",
      "Evaluating model:  67%|██████▋   | 10767/15961 [00:15<00:02, 2115.37it/s]\u001b[A\n",
      "Evaluating model:  69%|██████▉   | 10979/15961 [00:15<00:02, 2095.26it/s]\u001b[A\n",
      "Evaluating model:  70%|███████   | 11189/15961 [00:15<00:02, 2094.47it/s]\u001b[A\n",
      "Evaluating model:  71%|███████▏  | 11410/15961 [00:15<00:02, 2126.61it/s]\u001b[A\n",
      "Evaluating model:  73%|███████▎  | 11632/15961 [00:15<00:02, 2151.84it/s]\u001b[A\n",
      "Evaluating model:  74%|███████▍  | 11848/15961 [00:16<00:01, 2130.77it/s]\u001b[A\n",
      "Evaluating model:  76%|███████▌  | 12062/15961 [00:16<00:01, 2114.45it/s]\u001b[A\n",
      "Evaluating model:  77%|███████▋  | 12274/15961 [00:16<00:01, 2113.45it/s]\u001b[A\n",
      "Evaluating model:  78%|███████▊  | 12491/15961 [00:16<00:01, 2127.21it/s]\u001b[A\n",
      "Evaluating model:  80%|███████▉  | 12704/15961 [00:16<00:01, 2113.74it/s]\u001b[A\n",
      "Evaluating model:  81%|████████  | 12922/15961 [00:16<00:01, 2132.60it/s]\u001b[A\n",
      "Evaluating model:  82%|████████▏ | 13136/15961 [00:16<00:01, 2117.40it/s]\u001b[A\n",
      "Evaluating model:  84%|████████▎ | 13352/15961 [00:16<00:01, 2128.77it/s]\u001b[A\n",
      "Evaluating model:  85%|████████▌ | 13570/15961 [00:16<00:01, 2143.53it/s]\u001b[A\n",
      "Evaluating model:  86%|████████▋ | 13787/15961 [00:16<00:01, 2151.20it/s]\u001b[A\n",
      "Evaluating model:  88%|████████▊ | 14003/15961 [00:17<00:00, 2130.00it/s]\u001b[A\n",
      "Evaluating model:  89%|████████▉ | 14217/15961 [00:17<00:00, 2115.89it/s]\u001b[A\n",
      "Evaluating model:  90%|█████████ | 14429/15961 [00:17<00:00, 2107.78it/s]\u001b[A\n",
      "Evaluating model:  92%|█████████▏| 14645/15961 [00:17<00:00, 2121.93it/s]\u001b[A\n",
      "Evaluating model:  93%|█████████▎| 14868/15961 [00:17<00:00, 2153.66it/s]\u001b[A\n",
      "Evaluating model:  95%|█████████▍| 15084/15961 [00:17<00:00, 2152.54it/s]\u001b[A\n",
      "Evaluating model:  96%|█████████▌| 15300/15961 [00:17<00:00, 2133.09it/s]\u001b[A\n",
      "Evaluating model:  97%|█████████▋| 15517/15961 [00:17<00:00, 2141.04it/s]\u001b[A\n",
      "Evaluating model:  99%|█████████▊| 15732/15961 [00:17<00:00, 2131.35it/s]\u001b[A\n",
      "Evaluating model: 100%|██████████| 15961/15961 [00:18<00:00, 877.31it/s] \u001b[A\n",
      "Evaluations:  20%|██        | 1/5 [00:19<01:19, 19.95s/it]\n",
      "Evaluating model:   0%|          | 0/15961 [00:00<?, ?it/s]\u001b[A\n",
      "Evaluating model:   0%|          | 1/15961 [00:00<37:57,  7.01it/s]\u001b[A\n",
      "Evaluating model:   0%|          | 40/15961 [00:00<01:20, 198.55it/s]\u001b[A\n",
      "Evaluating model:   2%|▏         | 249/15961 [00:00<00:15, 985.71it/s]\u001b[A\n",
      "Evaluating model:   3%|▎         | 464/15961 [00:00<00:10, 1417.61it/s]\u001b[A\n",
      "Evaluating model:   4%|▍         | 667/15961 [00:00<00:09, 1627.79it/s]\u001b[A\n",
      "Evaluating model:   5%|▌         | 877/15961 [00:00<00:08, 1784.02it/s]\u001b[A\n",
      "Evaluating model:   7%|▋         | 1093/15961 [00:00<00:07, 1903.10it/s]\u001b[A\n",
      "Evaluating model:   8%|▊         | 1295/15961 [00:00<00:07, 1937.65it/s]\u001b[A\n",
      "Evaluating model:   9%|▉         | 1502/15961 [00:00<00:07, 1975.52it/s]\u001b[A\n",
      "Evaluating model:  11%|█         | 1710/15961 [00:01<00:07, 2006.37it/s]\u001b[A\n",
      "Evaluating model:  12%|█▏        | 1913/15961 [00:01<00:06, 2012.63it/s]\u001b[A\n",
      "Evaluating model:  13%|█▎        | 2127/15961 [00:01<00:06, 2049.72it/s]\u001b[A\n",
      "Evaluating model:  15%|█▍        | 2333/15961 [00:01<00:06, 2036.71it/s]\u001b[A\n",
      "Evaluating model:  16%|█▌        | 2545/15961 [00:01<00:06, 2059.64it/s]\u001b[A\n",
      "Evaluating model:  17%|█▋        | 2752/15961 [00:01<00:06, 2051.30it/s]\u001b[A\n",
      "Evaluating model:  19%|█▊        | 2958/15961 [00:01<00:06, 2048.05it/s]\u001b[A\n",
      "Evaluating model:  20%|█▉        | 3173/15961 [00:01<00:06, 2075.81it/s]\u001b[A\n",
      "Evaluating model:  21%|██        | 3381/15961 [00:01<00:06, 2052.08it/s]\u001b[A\n",
      "Evaluating model:  22%|██▏       | 3587/15961 [00:02<00:08, 1432.75it/s]\u001b[A\n",
      "Evaluating model:  24%|██▍       | 3804/15961 [00:02<00:07, 1600.39it/s]\u001b[A\n",
      "Evaluating model:  25%|██▌       | 4026/15961 [00:02<00:06, 1751.78it/s]\u001b[A\n",
      "Evaluating model:  27%|██▋       | 4249/15961 [00:02<00:06, 1874.24it/s]\u001b[A\n",
      "Evaluating model:  28%|██▊       | 4473/15961 [00:02<00:05, 1970.71it/s]\u001b[A\n",
      "Evaluating model:  29%|██▉       | 4682/15961 [00:02<00:05, 1992.52it/s]\u001b[A\n",
      "Evaluating model:  31%|███       | 4902/15961 [00:02<00:05, 2051.27it/s]\u001b[A\n",
      "Evaluating model:  32%|███▏      | 5116/15961 [00:02<00:05, 2074.52it/s]\u001b[A\n",
      "Evaluating model:  33%|███▎      | 5338/15961 [00:02<00:05, 2115.91it/s]\u001b[A\n",
      "Evaluating model:  35%|███▍      | 5553/15961 [00:03<00:04, 2120.70it/s]\u001b[A\n",
      "Evaluating model:  36%|███▌      | 5768/15961 [00:03<00:04, 2126.75it/s]\u001b[A\n",
      "Evaluating model:  37%|███▋      | 5983/15961 [00:03<00:04, 2110.39it/s]\u001b[A\n",
      "Evaluating model:  39%|███▉      | 6202/15961 [00:03<00:04, 2131.54it/s]\u001b[A\n",
      "Evaluating model:  40%|████      | 6424/15961 [00:03<00:04, 2154.50it/s]\u001b[A\n",
      "Evaluating model:  42%|████▏     | 6642/15961 [00:03<00:04, 2159.75it/s]\u001b[A\n",
      "Evaluating model:  43%|████▎     | 6859/15961 [00:03<00:04, 2159.05it/s]\u001b[A\n",
      "Evaluating model:  44%|████▍     | 7078/15961 [00:03<00:04, 2165.86it/s]\u001b[A\n",
      "Evaluating model:  46%|████▌     | 7297/15961 [00:03<00:03, 2170.81it/s]\u001b[A\n",
      "Evaluating model:  47%|████▋     | 7519/15961 [00:03<00:03, 2183.21it/s]\u001b[A\n",
      "Evaluating model:  49%|████▊     | 7744/15961 [00:04<00:03, 2202.99it/s]\u001b[A\n",
      "Evaluating model:  50%|████▉     | 7965/15961 [00:04<00:03, 2194.41it/s]\u001b[A\n",
      "Evaluating model:  51%|█████▏    | 8185/15961 [00:04<00:03, 2195.92it/s]\u001b[A\n",
      "Evaluating model:  53%|█████▎    | 8405/15961 [00:04<00:03, 2182.39it/s]\u001b[A\n",
      "Evaluating model:  54%|█████▍    | 8624/15961 [00:04<00:03, 2174.24it/s]\u001b[A\n",
      "Evaluating model:  55%|█████▌    | 8842/15961 [00:04<00:03, 2156.88it/s]\u001b[A\n",
      "Evaluating model:  57%|█████▋    | 9064/15961 [00:04<00:03, 2173.48it/s]\u001b[A\n",
      "Evaluating model:  58%|█████▊    | 9282/15961 [00:04<00:03, 2142.83it/s]\u001b[A\n",
      "Evaluating model:  60%|█████▉    | 9500/15961 [00:04<00:03, 2153.61it/s]\u001b[A\n",
      "Evaluating model:  61%|██████    | 9722/15961 [00:04<00:02, 2170.95it/s]\u001b[A\n",
      "Evaluating model:  62%|██████▏   | 9940/15961 [00:05<00:02, 2162.10it/s]\u001b[A\n",
      "Evaluating model:  64%|██████▎   | 10157/15961 [00:05<00:02, 2157.43it/s]\u001b[A\n",
      "Evaluating model:  65%|██████▍   | 10373/15961 [00:05<00:02, 2116.60it/s]\u001b[A\n",
      "Evaluating model:  66%|██████▋   | 10595/15961 [00:05<00:02, 2145.40it/s]\u001b[A\n",
      "Evaluating model:  68%|██████▊   | 10810/15961 [00:05<00:02, 2140.34it/s]\u001b[A\n",
      "Evaluating model:  69%|██████▉   | 11025/15961 [00:05<00:02, 2139.08it/s]\u001b[A\n",
      "Evaluating model:  70%|███████   | 11242/15961 [00:05<00:02, 2147.70it/s]\u001b[A\n",
      "Evaluating model:  72%|███████▏  | 11466/15961 [00:05<00:02, 2172.76it/s]\u001b[A\n",
      "Evaluating model:  73%|███████▎  | 11684/15961 [00:05<00:01, 2145.84it/s]\u001b[A\n",
      "Evaluating model:  75%|███████▍  | 11899/15961 [00:05<00:01, 2143.38it/s]\u001b[A\n",
      "Evaluating model:  76%|███████▌  | 12121/15961 [00:06<00:01, 2164.61it/s]\u001b[A\n",
      "Evaluating model:  77%|███████▋  | 12341/15961 [00:06<00:01, 2174.69it/s]\u001b[A\n",
      "Evaluating model:  79%|███████▊  | 12559/15961 [00:06<00:01, 2170.85it/s]\u001b[A\n",
      "Evaluating model:  80%|████████  | 12777/15961 [00:06<00:01, 2165.94it/s]\u001b[A\n",
      "Evaluating model:  81%|████████▏ | 12999/15961 [00:06<00:01, 2180.78it/s]\u001b[A\n",
      "Evaluating model:  83%|████████▎ | 13225/15961 [00:06<00:01, 2204.15it/s]\u001b[A\n",
      "Evaluating model:  84%|████████▍ | 13446/15961 [00:06<00:01, 2170.73it/s]\u001b[A\n",
      "Evaluating model:  86%|████████▌ | 13664/15961 [00:06<00:01, 2171.94it/s]\u001b[A\n",
      "Evaluating model:  87%|████████▋ | 13886/15961 [00:06<00:00, 2184.52it/s]\u001b[A\n",
      "Evaluating model:  88%|████████▊ | 14105/15961 [00:06<00:00, 2173.37it/s]\u001b[A\n",
      "Evaluating model:  90%|████████▉ | 14323/15961 [00:07<00:00, 2150.54it/s]\u001b[A\n",
      "Evaluating model:  91%|█████████ | 14539/15961 [00:07<00:00, 2126.18it/s]\u001b[A\n",
      "Evaluating model:  93%|█████████▎| 14764/15961 [00:07<00:00, 2161.65it/s]\u001b[A\n",
      "Evaluating model:  94%|█████████▍| 14982/15961 [00:07<00:00, 2165.88it/s]\u001b[A\n",
      "Evaluating model:  95%|█████████▌| 15199/15961 [00:07<00:00, 2160.79it/s]\u001b[A\n",
      "Evaluating model:  97%|█████████▋| 15421/15961 [00:07<00:00, 2175.57it/s]\u001b[A\n",
      "Evaluating model:  98%|█████████▊| 15642/15961 [00:07<00:00, 2184.89it/s]\u001b[A\n",
      "Evaluating model: 100%|██████████| 15961/15961 [00:07<00:00, 2004.54it/s]\u001b[A\n",
      "Evaluations:  40%|████      | 2/5 [00:29<00:42, 14.03s/it]\n",
      "Evaluating model:   0%|          | 0/15961 [00:00<?, ?it/s]\u001b[A\n",
      "Evaluating model:   0%|          | 1/15961 [00:00<41:03,  6.48it/s]\u001b[A\n",
      "Evaluating model:   0%|          | 49/15961 [00:00<01:08, 233.90it/s]\u001b[A\n",
      "Evaluating model:   2%|▏         | 257/15961 [00:00<00:15, 983.45it/s]\u001b[A\n",
      "Evaluating model:   3%|▎         | 466/15961 [00:00<00:11, 1387.95it/s]\u001b[A\n",
      "Evaluating model:   4%|▍         | 670/15961 [00:00<00:09, 1609.80it/s]\u001b[A\n",
      "Evaluating model:   6%|▌         | 879/15961 [00:00<00:08, 1767.32it/s]\u001b[A\n",
      "Evaluating model:   7%|▋         | 1085/15961 [00:00<00:08, 1859.37it/s]\u001b[A\n",
      "Evaluating model:   8%|▊         | 1296/15961 [00:00<00:07, 1935.37it/s]\u001b[A\n",
      "Evaluating model:   9%|▉         | 1500/15961 [00:00<00:07, 1966.94it/s]\u001b[A\n",
      "Evaluating model:  11%|█         | 1704/15961 [00:01<00:07, 1986.33it/s]\u001b[A\n",
      "Evaluating model:  12%|█▏        | 1916/15961 [00:01<00:06, 2025.02it/s]\u001b[A\n",
      "Evaluating model:  13%|█▎        | 2121/15961 [00:01<00:06, 2031.70it/s]\u001b[A\n",
      "Evaluating model:  15%|█▍        | 2342/15961 [00:01<00:06, 2083.05it/s]\u001b[A\n",
      "Evaluating model:  16%|█▌        | 2561/15961 [00:01<00:06, 2113.43it/s]\u001b[A\n",
      "Evaluating model:  17%|█▋        | 2773/15961 [00:01<00:06, 2114.61it/s]\u001b[A\n",
      "Evaluating model:  19%|█▊        | 2985/15961 [00:01<00:06, 2090.24it/s]\u001b[A\n",
      "Evaluating model:  20%|██        | 3195/15961 [00:01<00:06, 2075.02it/s]\u001b[A\n",
      "Evaluating model:  21%|██▏       | 3414/15961 [00:01<00:05, 2108.23it/s]\u001b[A\n",
      "Evaluating model:  23%|██▎       | 3625/15961 [00:01<00:05, 2095.74it/s]\u001b[A\n",
      "Evaluating model:  24%|██▍       | 3841/15961 [00:02<00:05, 2114.71it/s]\u001b[A\n",
      "Evaluating model:  25%|██▌       | 4053/15961 [00:02<00:05, 2087.32it/s]\u001b[A\n",
      "Evaluating model:  27%|██▋       | 4271/15961 [00:02<00:05, 2112.00it/s]\u001b[A\n",
      "Evaluating model:  28%|██▊       | 4494/15961 [00:02<00:05, 2146.81it/s]\u001b[A\n",
      "Evaluating model:  30%|██▉       | 4709/15961 [00:02<00:05, 2115.03it/s]\u001b[A\n",
      "Evaluating model:  31%|███       | 4921/15961 [00:02<00:05, 2111.21it/s]\u001b[A\n",
      "Evaluating model:  32%|███▏      | 5133/15961 [00:02<00:05, 2102.96it/s]\u001b[A\n",
      "Evaluating model:  33%|███▎      | 5344/15961 [00:02<00:05, 2099.22it/s]\u001b[A\n",
      "Evaluating model:  35%|███▍      | 5554/15961 [00:02<00:04, 2084.51it/s]\u001b[A\n",
      "Evaluating model:  36%|███▌      | 5763/15961 [00:02<00:04, 2082.55it/s]\u001b[A\n",
      "Evaluating model:  37%|███▋      | 5981/15961 [00:03<00:04, 2110.38it/s]\u001b[A\n",
      "Evaluating model:  39%|███▉      | 6193/15961 [00:03<00:04, 2094.34it/s]\u001b[A\n",
      "Evaluating model:  40%|████      | 6403/15961 [00:03<00:04, 2076.53it/s]\u001b[A\n",
      "Evaluating model:  41%|████▏     | 6621/15961 [00:03<00:04, 2104.57it/s]\u001b[A\n",
      "Evaluating model:  43%|████▎     | 6832/15961 [00:03<00:04, 2095.84it/s]\u001b[A\n",
      "Evaluating model:  44%|████▍     | 7044/15961 [00:03<00:04, 2101.08it/s]\u001b[A\n",
      "Evaluating model:  46%|████▌     | 7265/15961 [00:03<00:04, 2131.72it/s]\u001b[A\n",
      "Evaluating model:  47%|████▋     | 7480/15961 [00:03<00:03, 2136.14it/s]\u001b[A\n",
      "Evaluating model:  48%|████▊     | 7700/15961 [00:03<00:03, 2153.04it/s]\u001b[A\n",
      "Evaluating model:  50%|████▉     | 7916/15961 [00:03<00:03, 2137.36it/s]\u001b[A\n",
      "Evaluating model:  51%|█████     | 8131/15961 [00:04<00:03, 2138.98it/s]\u001b[A\n",
      "Evaluating model:  52%|█████▏    | 8345/15961 [00:04<00:03, 2125.99it/s]\u001b[A\n",
      "Evaluating model:  54%|█████▎    | 8566/15961 [00:04<00:03, 2150.15it/s]\u001b[A\n",
      "Evaluating model:  55%|█████▌    | 8787/15961 [00:04<00:03, 2165.36it/s]\u001b[A\n",
      "Evaluating model:  56%|█████▋    | 9007/15961 [00:04<00:03, 2175.34it/s]\u001b[A\n",
      "Evaluating model:  58%|█████▊    | 9227/15961 [00:04<00:03, 2182.27it/s]\u001b[A\n",
      "Evaluating model:  59%|█████▉    | 9446/15961 [00:04<00:02, 2179.66it/s]\u001b[A\n",
      "Evaluating model:  61%|██████    | 9669/15961 [00:04<00:02, 2193.50it/s]\u001b[A\n",
      "Evaluating model:  62%|██████▏   | 9889/15961 [00:04<00:02, 2182.40it/s]\u001b[A\n",
      "Evaluating model:  63%|██████▎   | 10108/15961 [00:05<00:02, 2162.35it/s]\u001b[A\n",
      "Evaluating model:  65%|██████▍   | 10333/15961 [00:05<00:02, 2187.67it/s]\u001b[A\n",
      "Evaluating model:  66%|██████▌   | 10554/15961 [00:05<00:02, 2192.77it/s]\u001b[A\n",
      "Evaluating model:  68%|██████▊   | 10774/15961 [00:05<00:02, 2189.42it/s]\u001b[A\n",
      "Evaluating model:  69%|██████▉   | 10993/15961 [00:05<00:02, 2167.23it/s]\u001b[A\n",
      "Evaluating model:  70%|███████   | 11210/15961 [00:05<00:02, 1819.45it/s]\u001b[A\n",
      "Evaluating model:  71%|███████▏  | 11402/15961 [00:05<00:02, 1564.87it/s]\u001b[A\n",
      "Evaluating model:  73%|███████▎  | 11613/15961 [00:05<00:02, 1695.37it/s]\u001b[A\n",
      "Evaluating model:  74%|███████▍  | 11820/15961 [00:05<00:02, 1790.74it/s]\u001b[A\n",
      "Evaluating model:  75%|███████▌  | 12030/15961 [00:06<00:02, 1873.35it/s]\u001b[A\n",
      "Evaluating model:  77%|███████▋  | 12235/15961 [00:06<00:01, 1921.06it/s]\u001b[A\n",
      "Evaluating model:  78%|███████▊  | 12445/15961 [00:06<00:01, 1970.60it/s]\u001b[A\n",
      "Evaluating model:  79%|███████▉  | 12655/15961 [00:06<00:01, 2007.52it/s]\u001b[A\n",
      "Evaluating model:  81%|████████  | 12859/15961 [00:06<00:01, 2008.29it/s]\u001b[A\n",
      "Evaluating model:  82%|████████▏ | 13072/15961 [00:06<00:01, 2041.50it/s]\u001b[A\n",
      "Evaluating model:  83%|████████▎ | 13285/15961 [00:06<00:01, 2064.70it/s]\u001b[A\n",
      "Evaluating model:  85%|████████▍ | 13493/15961 [00:06<00:01, 2061.97it/s]\u001b[A\n",
      "Evaluating model:  86%|████████▌ | 13702/15961 [00:06<00:01, 2067.54it/s]\u001b[A\n",
      "Evaluating model:  87%|████████▋ | 13910/15961 [00:06<00:00, 2056.75it/s]\u001b[A\n",
      "Evaluating model:  88%|████████▊ | 14124/15961 [00:07<00:00, 2080.54it/s]\u001b[A\n",
      "Evaluating model:  90%|████████▉ | 14334/15961 [00:07<00:00, 2085.11it/s]\u001b[A\n",
      "Evaluating model:  91%|█████████ | 14543/15961 [00:07<00:00, 2080.84it/s]\u001b[A\n",
      "Evaluating model:  92%|█████████▏| 14752/15961 [00:07<00:00, 2073.44it/s]\u001b[A\n",
      "Evaluating model:  94%|█████████▍| 14965/15961 [00:07<00:00, 2087.51it/s]\u001b[A\n",
      "Evaluating model:  95%|█████████▌| 15174/15961 [00:07<00:00, 2084.39it/s]\u001b[A\n",
      "Evaluating model:  96%|█████████▋| 15383/15961 [00:07<00:00, 2081.43it/s]\u001b[A\n",
      "Evaluating model:  98%|█████████▊| 15592/15961 [00:07<00:00, 2082.47it/s]\u001b[A\n",
      "Evaluating model: 100%|██████████| 15961/15961 [00:07<00:00, 2000.23it/s]\u001b[A\n",
      "Evaluations:  60%|██████    | 3/5 [00:39<00:24, 12.11s/it]\n",
      "Evaluating model:   0%|          | 0/15961 [00:00<?, ?it/s]\u001b[A\n",
      "Evaluating model:   0%|          | 25/15961 [00:00<01:22, 193.00it/s]\u001b[A\n",
      "Evaluating model:   0%|          | 74/15961 [00:00<00:45, 348.10it/s]\u001b[A\n",
      "Evaluating model:   2%|▏         | 290/15961 [00:00<00:13, 1122.26it/s]\u001b[A\n",
      "Evaluating model:   3%|▎         | 507/15961 [00:00<00:10, 1518.65it/s]\u001b[A\n",
      "Evaluating model:   5%|▍         | 727/15961 [00:00<00:08, 1755.59it/s]\u001b[A\n",
      "Evaluating model:   6%|▌         | 949/15961 [00:00<00:07, 1910.52it/s]\u001b[A\n",
      "Evaluating model:   7%|▋         | 1170/15961 [00:00<00:07, 2006.69it/s]\u001b[A\n",
      "Evaluating model:   9%|▊         | 1384/15961 [00:00<00:07, 2046.92it/s]\u001b[A\n",
      "Evaluating model:  10%|█         | 1602/15961 [00:00<00:06, 2088.16it/s]\u001b[A\n",
      "Evaluating model:  11%|█▏        | 1818/15961 [00:01<00:06, 2107.70it/s]\u001b[A\n",
      "Evaluating model:  13%|█▎        | 2043/15961 [00:01<00:06, 2148.03it/s]\u001b[A\n",
      "Evaluating model:  14%|█▍        | 2260/15961 [00:01<00:06, 2152.32it/s]\u001b[A\n",
      "Evaluating model:  16%|█▌        | 2476/15961 [00:01<00:06, 2149.80it/s]\u001b[A\n",
      "Evaluating model:  17%|█▋        | 2692/15961 [00:01<00:06, 2131.20it/s]\u001b[A\n",
      "Evaluating model:  18%|█▊        | 2906/15961 [00:01<00:06, 2110.24it/s]\u001b[A\n",
      "Evaluating model:  20%|█▉        | 3123/15961 [00:01<00:06, 2127.89it/s]\u001b[A\n",
      "Evaluating model:  21%|██        | 3342/15961 [00:01<00:05, 2146.05it/s]\u001b[A\n",
      "Evaluating model:  22%|██▏       | 3563/15961 [00:01<00:05, 2163.41it/s]\u001b[A\n",
      "Evaluating model:  24%|██▎       | 3780/15961 [00:01<00:05, 2160.63it/s]\u001b[A\n",
      "Evaluating model:  25%|██▌       | 3997/15961 [00:02<00:05, 2134.47it/s]\u001b[A\n",
      "Evaluating model:  26%|██▋       | 4211/15961 [00:02<00:05, 2126.12it/s]\u001b[A\n",
      "Evaluating model:  28%|██▊       | 4428/15961 [00:02<00:05, 2138.13it/s]\u001b[A\n",
      "Evaluating model:  29%|██▉       | 4649/15961 [00:02<00:05, 2158.88it/s]\u001b[A\n",
      "Evaluating model:  30%|███       | 4868/15961 [00:02<00:05, 2167.47it/s]\u001b[A\n",
      "Evaluating model:  32%|███▏      | 5085/15961 [00:02<00:05, 2159.52it/s]\u001b[A\n",
      "Evaluating model:  33%|███▎      | 5315/15961 [00:02<00:04, 2201.10it/s]\u001b[A\n",
      "Evaluating model:  35%|███▍      | 5536/15961 [00:03<00:08, 1185.81it/s]\u001b[A\n",
      "Evaluating model:  36%|███▌      | 5757/15961 [00:03<00:07, 1376.04it/s]\u001b[A\n",
      "Evaluating model:  37%|███▋      | 5977/15961 [00:03<00:06, 1547.34it/s]\u001b[A\n",
      "Evaluating model:  39%|███▉      | 6196/15961 [00:03<00:05, 1694.70it/s]\u001b[A\n",
      "Evaluating model:  40%|████      | 6416/15961 [00:03<00:05, 1818.98it/s]\u001b[A\n",
      "Evaluating model:  42%|████▏     | 6625/15961 [00:03<00:04, 1888.85it/s]\u001b[A\n",
      "Evaluating model:  43%|████▎     | 6833/15961 [00:03<00:04, 1939.12it/s]\u001b[A\n",
      "Evaluating model:  44%|████▍     | 7046/15961 [00:03<00:04, 1991.11it/s]\u001b[A\n",
      "Evaluating model:  45%|████▌     | 7256/15961 [00:03<00:04, 2011.84it/s]\u001b[A\n",
      "Evaluating model:  47%|████▋     | 7473/15961 [00:03<00:04, 2055.32it/s]\u001b[A\n",
      "Evaluating model:  48%|████▊     | 7694/15961 [00:04<00:03, 2099.66it/s]\u001b[A\n",
      "Evaluating model:  50%|████▉     | 7912/15961 [00:04<00:03, 2120.88it/s]\u001b[A\n",
      "Evaluating model:  51%|█████     | 8133/15961 [00:04<00:03, 2145.78it/s]\u001b[A\n",
      "Evaluating model:  52%|█████▏    | 8350/15961 [00:04<00:03, 2146.79it/s]\u001b[A\n",
      "Evaluating model:  54%|█████▎    | 8569/15961 [00:04<00:03, 2158.03it/s]\u001b[A\n",
      "Evaluating model:  55%|█████▌    | 8786/15961 [00:04<00:03, 2144.82it/s]\u001b[A\n",
      "Evaluating model:  56%|█████▋    | 9002/15961 [00:04<00:03, 2109.65it/s]\u001b[A\n",
      "Evaluating model:  58%|█████▊    | 9214/15961 [00:04<00:03, 2082.78it/s]\u001b[A\n",
      "Evaluating model:  59%|█████▉    | 9423/15961 [00:04<00:03, 2068.70it/s]\u001b[A\n",
      "Evaluating model:  60%|██████    | 9638/15961 [00:04<00:03, 2091.28it/s]\u001b[A\n",
      "Evaluating model:  62%|██████▏   | 9848/15961 [00:05<00:02, 2088.25it/s]\u001b[A\n",
      "Evaluating model:  63%|██████▎   | 10058/15961 [00:05<00:02, 2085.01it/s]\u001b[A\n",
      "Evaluating model:  64%|██████▍   | 10267/15961 [00:05<00:02, 2074.68it/s]\u001b[A\n",
      "Evaluating model:  66%|██████▌   | 10484/15961 [00:05<00:02, 2102.09it/s]\u001b[A\n",
      "Evaluating model:  67%|██████▋   | 10695/15961 [00:05<00:02, 2093.40it/s]\u001b[A\n",
      "Evaluating model:  68%|██████▊   | 10909/15961 [00:05<00:02, 2105.45it/s]\u001b[A\n",
      "Evaluating model:  70%|██████▉   | 11121/15961 [00:05<00:02, 2106.87it/s]\u001b[A\n",
      "Evaluating model:  71%|███████   | 11332/15961 [00:05<00:02, 2086.79it/s]\u001b[A\n",
      "Evaluating model:  72%|███████▏  | 11545/15961 [00:05<00:02, 2098.98it/s]\u001b[A\n",
      "Evaluating model:  74%|███████▎  | 11755/15961 [00:05<00:02, 2085.16it/s]\u001b[A\n",
      "Evaluating model:  75%|███████▌  | 11981/15961 [00:06<00:01, 2136.63it/s]\u001b[A\n",
      "Evaluating model:  76%|███████▋  | 12195/15961 [00:06<00:01, 2122.99it/s]\u001b[A\n",
      "Evaluating model:  78%|███████▊  | 12408/15961 [00:06<00:01, 2109.90it/s]\u001b[A\n",
      "Evaluating model:  79%|███████▉  | 12620/15961 [00:06<00:01, 2102.25it/s]\u001b[A\n",
      "Evaluating model:  80%|████████  | 12831/15961 [00:06<00:01, 2088.76it/s]\u001b[A\n",
      "Evaluating model:  82%|████████▏ | 13040/15961 [00:06<00:01, 2086.24it/s]\u001b[A\n",
      "Evaluating model:  83%|████████▎ | 13249/15961 [00:06<00:01, 2068.20it/s]\u001b[A\n",
      "Evaluating model:  84%|████████▍ | 13456/15961 [00:06<00:01, 2060.10it/s]\u001b[A\n",
      "Evaluating model:  86%|████████▌ | 13663/15961 [00:06<00:01, 2062.37it/s]\u001b[A\n",
      "Evaluating model:  87%|████████▋ | 13870/15961 [00:06<00:01, 2051.51it/s]\u001b[A\n",
      "Evaluating model:  88%|████████▊ | 14076/15961 [00:07<00:00, 2051.00it/s]\u001b[A\n",
      "Evaluating model:  89%|████████▉ | 14282/15961 [00:07<00:00, 2050.95it/s]\u001b[A\n",
      "Evaluating model:  91%|█████████ | 14496/15961 [00:07<00:00, 2075.30it/s]\u001b[A\n",
      "Evaluating model:  92%|█████████▏| 14708/15961 [00:07<00:00, 2086.57it/s]\u001b[A\n",
      "Evaluating model:  93%|█████████▎| 14917/15961 [00:07<00:00, 2070.95it/s]\u001b[A\n",
      "Evaluating model:  95%|█████████▍| 15130/15961 [00:07<00:00, 2087.21it/s]\u001b[A\n",
      "Evaluating model:  96%|█████████▌| 15339/15961 [00:07<00:00, 2071.12it/s]\u001b[A\n",
      "Evaluating model:  97%|█████████▋| 15547/15961 [00:07<00:00, 2063.21it/s]\u001b[A\n",
      "Evaluating model:  99%|█████████▊| 15754/15961 [00:07<00:00, 2059.15it/s]\u001b[A\n",
      "Evaluating model: 100%|██████████| 15961/15961 [00:08<00:00, 1939.25it/s]\u001b[A\n",
      "Evaluations:  80%|████████  | 4/5 [00:49<00:11, 11.34s/it]\n",
      "Evaluating model:   0%|          | 0/15961 [00:00<?, ?it/s]\u001b[A\n",
      "Evaluating model:   0%|          | 1/15961 [00:00<44:42,  5.95it/s]\u001b[A\n",
      "Evaluating model:   0%|          | 39/15961 [00:00<01:29, 177.60it/s]\u001b[A\n",
      "Evaluating model:   2%|▏         | 253/15961 [00:00<00:16, 954.06it/s]\u001b[A\n",
      "Evaluating model:   3%|▎         | 469/15961 [00:00<00:11, 1388.07it/s]\u001b[A\n",
      "Evaluating model:   4%|▍         | 679/15961 [00:00<00:09, 1628.78it/s]\u001b[A\n",
      "Evaluating model:   6%|▌         | 903/15961 [00:00<00:08, 1827.98it/s]\u001b[A\n",
      "Evaluating model:   7%|▋         | 1126/15961 [00:00<00:07, 1955.46it/s]\u001b[A\n",
      "Evaluating model:   8%|▊         | 1352/15961 [00:00<00:07, 2049.92it/s]\u001b[A\n",
      "Evaluating model:  10%|▉         | 1574/15961 [00:00<00:06, 2101.99it/s]\u001b[A\n",
      "Evaluating model:  11%|█         | 1787/15961 [00:01<00:06, 2104.17it/s]\u001b[A\n",
      "Evaluating model:  13%|█▎        | 2012/15961 [00:01<00:06, 2146.18it/s]\u001b[A\n",
      "Evaluating model:  14%|█▍        | 2237/15961 [00:01<00:06, 2174.78it/s]\u001b[A\n",
      "Evaluating model:  15%|█▌        | 2457/15961 [00:01<00:06, 2180.66it/s]\u001b[A\n",
      "Evaluating model:  17%|█▋        | 2676/15961 [00:01<00:06, 2132.90it/s]\u001b[A\n",
      "Evaluating model:  18%|█▊        | 2890/15961 [00:01<00:06, 2103.87it/s]\u001b[A\n",
      "Evaluating model:  19%|█▉        | 3102/15961 [00:01<00:06, 2107.09it/s]\u001b[A\n",
      "Evaluating model:  21%|██        | 3314/15961 [00:01<00:06, 2105.70it/s]\u001b[A\n",
      "Evaluating model:  22%|██▏       | 3525/15961 [00:01<00:05, 2088.66it/s]\u001b[A\n",
      "Evaluating model:  23%|██▎       | 3735/15961 [00:01<00:05, 2079.77it/s]\u001b[A\n",
      "Evaluating model:  25%|██▍       | 3954/15961 [00:02<00:05, 2111.64it/s]\u001b[A\n",
      "Evaluating model:  26%|██▌       | 4175/15961 [00:02<00:05, 2139.97it/s]\u001b[A\n",
      "Evaluating model:  28%|██▊       | 4390/15961 [00:02<00:05, 2131.12it/s]\u001b[A\n",
      "Evaluating model:  29%|██▉       | 4604/15961 [00:02<00:05, 2101.68it/s]\u001b[A\n",
      "Evaluating model:  30%|███       | 4815/15961 [00:02<00:05, 2087.39it/s]\u001b[A\n",
      "Evaluating model:  32%|███▏      | 5031/15961 [00:02<00:05, 2108.10it/s]\u001b[A\n",
      "Evaluating model:  33%|███▎      | 5254/15961 [00:02<00:04, 2141.70it/s]\u001b[A\n",
      "Evaluating model:  34%|███▍      | 5469/15961 [00:02<00:04, 2109.75it/s]\u001b[A\n",
      "Evaluating model:  36%|███▌      | 5681/15961 [00:02<00:04, 2112.66it/s]\u001b[A\n",
      "Evaluating model:  37%|███▋      | 5893/15961 [00:03<00:04, 2088.67it/s]\u001b[A\n",
      "Evaluating model:  38%|███▊      | 6108/15961 [00:03<00:04, 2104.48it/s]\u001b[A\n",
      "Evaluating model:  40%|███▉      | 6319/15961 [00:03<00:04, 2103.04it/s]\u001b[A\n",
      "Evaluating model:  41%|████      | 6530/15961 [00:03<00:04, 2099.32it/s]\u001b[A\n",
      "Evaluating model:  42%|████▏     | 6744/15961 [00:03<00:04, 2108.49it/s]\u001b[A\n",
      "Evaluating model:  44%|████▎     | 6955/15961 [00:03<00:04, 2096.35it/s]\u001b[A\n",
      "Evaluating model:  45%|████▍     | 7165/15961 [00:03<00:04, 2079.63it/s]\u001b[A\n",
      "Evaluating model:  46%|████▌     | 7374/15961 [00:03<00:04, 2073.03it/s]\u001b[A\n",
      "Evaluating model:  48%|████▊     | 7584/15961 [00:03<00:04, 2080.34it/s]\u001b[A\n",
      "Evaluating model:  49%|████▉     | 7793/15961 [00:03<00:03, 2080.64it/s]\u001b[A\n",
      "Evaluating model:  50%|█████     | 8017/15961 [00:04<00:03, 2126.42it/s]\u001b[A\n",
      "Evaluating model:  52%|█████▏    | 8230/15961 [00:04<00:03, 2098.36it/s]\u001b[A\n",
      "Evaluating model:  53%|█████▎    | 8440/15961 [00:04<00:03, 2087.30it/s]\u001b[A\n",
      "Evaluating model:  54%|█████▍    | 8651/15961 [00:04<00:03, 2091.14it/s]\u001b[A\n",
      "Evaluating model:  56%|█████▌    | 8862/15961 [00:04<00:03, 2094.41it/s]\u001b[A\n",
      "Evaluating model:  57%|█████▋    | 9072/15961 [00:04<00:03, 2071.17it/s]\u001b[A\n",
      "Evaluating model:  58%|█████▊    | 9290/15961 [00:04<00:03, 2103.01it/s]\u001b[A\n",
      "Evaluating model:  60%|█████▉    | 9501/15961 [00:04<00:03, 2080.69it/s]\u001b[A\n",
      "Evaluating model:  61%|██████    | 9728/15961 [00:04<00:02, 2133.85it/s]\u001b[A\n",
      "Evaluating model:  62%|██████▏   | 9944/15961 [00:04<00:02, 2139.21it/s]\u001b[A\n",
      "Evaluating model:  64%|██████▎   | 10159/15961 [00:05<00:02, 2116.62it/s]\u001b[A\n",
      "Evaluating model:  65%|██████▍   | 10373/15961 [00:05<00:02, 2123.00it/s]\u001b[A\n",
      "Evaluating model:  66%|██████▋   | 10593/15961 [00:05<00:02, 2145.39it/s]\u001b[A\n",
      "Evaluating model:  68%|██████▊   | 10808/15961 [00:05<00:02, 2109.61it/s]\u001b[A\n",
      "Evaluating model:  69%|██████▉   | 11020/15961 [00:05<00:02, 2098.58it/s]\u001b[A\n",
      "Evaluating model:  70%|███████   | 11231/15961 [00:05<00:02, 2099.94it/s]\u001b[A\n",
      "Evaluating model:  72%|███████▏  | 11442/15961 [00:05<00:02, 2082.26it/s]\u001b[A\n",
      "Evaluating model:  73%|███████▎  | 11665/15961 [00:05<00:02, 2123.97it/s]\u001b[A\n",
      "Evaluating model:  74%|███████▍  | 11878/15961 [00:05<00:01, 2118.01it/s]\u001b[A\n",
      "Evaluating model:  76%|███████▌  | 12090/15961 [00:05<00:01, 2094.84it/s]\u001b[A\n",
      "Evaluating model:  77%|███████▋  | 12313/15961 [00:06<00:01, 2134.01it/s]\u001b[A\n",
      "Evaluating model:  78%|███████▊  | 12527/15961 [00:06<00:01, 2105.90it/s]\u001b[A\n",
      "Evaluating model:  80%|███████▉  | 12738/15961 [00:06<00:01, 2092.20it/s]\u001b[A\n",
      "Evaluating model:  81%|████████  | 12948/15961 [00:06<00:01, 2077.26it/s]\u001b[A\n",
      "Evaluating model:  82%|████████▏ | 13156/15961 [00:06<00:01, 2052.99it/s]\u001b[A\n",
      "Evaluating model:  84%|████████▎ | 13362/15961 [00:06<00:01, 2046.31it/s]\u001b[A\n",
      "Evaluating model:  85%|████████▌ | 13596/15961 [00:06<00:01, 2130.84it/s]\u001b[A\n",
      "Evaluating model:  87%|████████▋ | 13810/15961 [00:06<00:01, 1317.24it/s]\u001b[A\n",
      "Evaluating model:  88%|████████▊ | 14029/15961 [00:07<00:01, 1497.73it/s]\u001b[A\n",
      "Evaluating model:  89%|████████▉ | 14250/15961 [00:07<00:01, 1658.69it/s]\u001b[A\n",
      "Evaluating model:  91%|█████████ | 14462/15961 [00:07<00:00, 1770.40it/s]\u001b[A\n",
      "Evaluating model:  92%|█████████▏| 14670/15961 [00:07<00:00, 1849.33it/s]\u001b[A\n",
      "Evaluating model:  93%|█████████▎| 14896/15961 [00:07<00:00, 1959.25it/s]\u001b[A\n",
      "Evaluating model:  95%|█████████▍| 15117/15961 [00:07<00:00, 2029.06it/s]\u001b[A\n",
      "Evaluating model:  96%|█████████▌| 15330/15961 [00:07<00:00, 2038.83it/s]\u001b[A\n",
      "Evaluating model:  97%|█████████▋| 15547/15961 [00:07<00:00, 2073.74it/s]\u001b[A\n",
      "Evaluating model: 100%|██████████| 15961/15961 [00:08<00:00, 1929.26it/s]\u001b[A\n",
      "Evaluations: 100%|██████████| 5/5 [00:59<00:00, 11.96s/it]"
     ]
    },
    {
     "name": "stdout",
     "output_type": "stream",
     "text": [
      "CB-none-racial:\n",
      "Accuracy: 0.78558100649446, Precision: 0.6981745722727377, Recall: 0.4230136758185717, F1-Score: 0.526829268292683\n"
     ]
    },
    {
     "name": "stderr",
     "output_type": "stream",
     "text": [
      "\n"
     ]
    }
   ],
   "source": [
    "targets = ['trump', 'mask', 'racial']\n",
    "modes = ['none']\n",
    "\n",
    "for target in targets:\n",
    "    for mode in modes:\n",
    "        # Load training data\n",
    "        data_path = f'./tweet_level/{target}_train.csv'\n",
    "        data = pd.read_csv(data_path)\n",
    "        \n",
    "        if mode != 'none':\n",
    "            emfd_path = f'./tweet_level/{target}_train_emfd.csv'\n",
    "            frameaxis_path = f'./tweet_level/{target}_train_frameaxis.csv'\n",
    "            emfd_embeddings = pd.read_csv(emfd_path)\n",
    "            frameaxis_embeddings = pd.read_csv(frameaxis_path)\n",
    "\n",
    "        # Prepare DataLoader for training\n",
    "        dataloader = prepare_data(data, tokenizer, model_bertweet, version=mode, batch_size=32)\n",
    "        \n",
    "        # Determine input_dim based on mode\n",
    "        input_dim = 768  # BERTweet's embedding size for 'none'\n",
    "        if mode == 'emfd':\n",
    "            input_dim += emfd_embeddings.shape[1] - 3  # Adjust based on actual embedding size\n",
    "        elif mode == 'frameaxis':\n",
    "            input_dim += frameaxis_embeddings.shape[1] - 3\n",
    "        # print(input_dim)\n",
    "        # Train model\n",
    "        model = train_model(dataloader, input_dim=input_dim, learning_rate=2e-5, epochs=30, patience=5)\n",
    "        \n",
    "        # Load test data\n",
    "        test_data_path = f'./tweet_level/{target}_test.csv' if mode == 'none' else f'./tweet_level/{target}_test_{mode}.csv'\n",
    "        test_data = pd.read_csv(test_data_path)\n",
    "        \n",
    "        # Prepare DataLoader for testing\n",
    "        test_dataloader = prepare_data(test_data, tokenizer, model_bertweet, version=mode, batch_size=32)\n",
    "        \n",
    "        # Evaluate model\n",
    "        # iterations = 5\n",
    "        accuracy, precision, recall, f1 = evaluate_multiple_times(model, test_dataloader, target, mode, device=device)\n",
    "        \n",
    "        print(f'CB-{mode}-{target}:')\n",
    "        print(f\"Accuracy: {accuracy}, Precision: {precision}, Recall: {recall}, F1-Score: {f1}\")"
   ]
  }
 ],
 "metadata": {
  "kernelspec": {
   "display_name": "Python 3 (ipykernel)",
   "language": "python",
   "name": "python3"
  },
  "language_info": {
   "codemirror_mode": {
    "name": "ipython",
    "version": 3
   },
   "file_extension": ".py",
   "mimetype": "text/x-python",
   "name": "python",
   "nbconvert_exporter": "python",
   "pygments_lexer": "ipython3",
   "version": "3.10.13"
  }
 },
 "nbformat": 4,
 "nbformat_minor": 5
}
